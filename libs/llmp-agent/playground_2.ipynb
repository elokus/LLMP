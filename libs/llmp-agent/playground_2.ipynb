{
 "cells": [
  {
   "cell_type": "raw",
   "source": [],
   "metadata": {
    "collapsed": false
   },
   "id": "da77fc63579c97ff"
  },
  {
   "cell_type": "code",
   "execution_count": 4,
   "id": "initial_id",
   "metadata": {
    "collapsed": true,
    "ExecuteTime": {
     "end_time": "2024-03-06T07:26:02.265204Z",
     "start_time": "2024-03-06T07:26:02.256060Z"
    }
   },
   "outputs": [
    {
     "name": "stdout",
     "output_type": "stream",
     "text": [
      "add_expense\n",
      "report_missing\n",
      "report_result\n",
      "get_current_date\n"
     ]
    }
   ],
   "source": [
    "from scripts.convert import convert_to_openai_function, convert_to_openai_tool\n",
    "from pydantic.v1 import BaseModel, Field\n",
    "from datetime import datetime\n",
    "from pprint import pp\n",
    "\n",
    "class AddExpense(BaseModel):\n",
    "    description: str = None\n",
    "    net_expense: float = None\n",
    "    gross_expense: float = None\n",
    "    tax_rate: float = None\n",
    "    date: datetime = None\n",
    "    \n",
    "\n",
    "class ReportMissing(BaseModel):\n",
    "    missing_fields: list[str]\n",
    "    \n",
    "class ReportResult(BaseModel):\n",
    "    result: str\n",
    "    \n",
    "class GetCurrentDate(BaseModel):\n",
    "    input: str\n",
    "    \n",
    "db_tool = convert_to_openai_tool(AddExpense)\n",
    "missing_info = convert_to_openai_tool(ReportMissing)\n",
    "report_tool = convert_to_openai_tool(ReportResult)\n",
    "get_current_date = convert_to_openai_tool(GetCurrentDate)"
   ]
  },
  {
   "cell_type": "code",
   "outputs": [
    {
     "data": {
      "text/plain": "{'type': 'function',\n 'function': {'name': 'get_current_date',\n  'description': '',\n  'parameters': {'type': 'object',\n   'properties': {'input': {'type': 'string'}},\n   'required': ['input']}}}"
     },
     "execution_count": 32,
     "metadata": {},
     "output_type": "execute_result"
    }
   ],
   "source": [
    "get_current_date"
   ],
   "metadata": {
    "collapsed": false,
    "ExecuteTime": {
     "end_time": "2024-03-06T09:23:43.827044Z",
     "start_time": "2024-03-06T09:23:43.820952Z"
    }
   },
   "id": "dca10a8945964ac9",
   "execution_count": 32
  },
  {
   "cell_type": "code",
   "outputs": [
    {
     "data": {
      "text/plain": "{'title': 'AddExpense',\n 'type': 'object',\n 'properties': {'description': {'title': 'Description', 'type': 'string'},\n  'net_expense': {'title': 'Net Expense', 'type': 'number'},\n  'gross_expense': {'title': 'Gross Expense', 'type': 'number'},\n  'tax_rate': {'title': 'Tax Rate', 'type': 'number'},\n  'date': {'title': 'Date', 'type': 'string', 'format': 'date-time'}}}"
     },
     "execution_count": 33,
     "metadata": {},
     "output_type": "execute_result"
    }
   ],
   "source": [
    "AddExpense.schema()"
   ],
   "metadata": {
    "collapsed": false,
    "ExecuteTime": {
     "end_time": "2024-03-06T09:33:58.999808Z",
     "start_time": "2024-03-06T09:33:58.992453Z"
    }
   },
   "id": "47be2b66fa9c5b78",
   "execution_count": 33
  },
  {
   "cell_type": "code",
   "outputs": [],
   "source": [
    "from openai import OpenAI\n",
    "import os\n",
    "\n",
    "model_name=\"gpt-3.5-turbo-0125\"\n",
    "\n",
    "client = OpenAI()"
   ],
   "metadata": {
    "collapsed": false,
    "ExecuteTime": {
     "end_time": "2024-03-06T11:10:49.662075Z",
     "start_time": "2024-03-06T11:10:49.005573Z"
    }
   },
   "id": "6ded3dcf8d80663c",
   "execution_count": 1
  },
  {
   "cell_type": "code",
   "outputs": [],
   "source": [
    "system_msg = \"\"\"You are in charge of completing tasks using a set of specialized tools. Each tool performs a specific function. Here's how to proceed:\n",
    "\n",
    "Identify the Task: Understand the task that needs to be done.\n",
    "Select the Tool: Choose the tool best suited for this task based on its unique capability.\n",
    "Prepare the Input: Think step by step if the tool parameters are known and rational. You may need the output of one tool as the input for another.\n",
    "\"\"\""
   ],
   "metadata": {
    "collapsed": false,
    "ExecuteTime": {
     "end_time": "2024-03-06T08:52:41.233521Z",
     "start_time": "2024-03-06T08:52:41.228406Z"
    }
   },
   "id": "7a68047ae793284e",
   "execution_count": 17
  },
  {
   "cell_type": "code",
   "outputs": [],
   "source": [
    "messages = [\n",
    "    {\"role\": \"system\", \"content\": system_msg},\n",
    "    {\"role\": \"user\", \"content\": \"I have spend 5.99 $ for a coffee today, please track my expense. The tax rate is 0.19.\"}\n",
    "]\n",
    "\n",
    "response = client.chat.completions.create(\n",
    "    model=model_name,\n",
    "    messages=messages,\n",
    "    tools=[db_tool, missing_info, report_tool, get_current_date],\n",
    "    tool_choice=\"auto\"\n",
    ")"
   ],
   "metadata": {
    "collapsed": false,
    "ExecuteTime": {
     "end_time": "2024-03-06T08:53:05.871829Z",
     "start_time": "2024-03-06T08:53:04.702684Z"
    }
   },
   "id": "6f1f69d94ba2c138",
   "execution_count": 21
  },
  {
   "cell_type": "code",
   "outputs": [],
   "source": [
    "response.choices[0].message\n",
    "\n",
    "response_message = response.choices[0].message\n",
    "tool_calls = response_message.tool_calls"
   ],
   "metadata": {
    "collapsed": false,
    "ExecuteTime": {
     "end_time": "2024-03-06T10:01:54.931041Z",
     "start_time": "2024-03-06T10:01:54.926993Z"
    }
   },
   "id": "bf170db4365dca86",
   "execution_count": 35
  },
  {
   "cell_type": "code",
   "outputs": [
    {
     "data": {
      "text/plain": "[ChatCompletionMessageToolCall(id='call_L3K2NkHaIyrcDcstnXWbMK41', function=Function(arguments='{\"description\":\"Coffee expense\",\"gross_expense\":5.99,\"tax_rate\":0.19}', name='add_expense'), type='function')]"
     },
     "execution_count": 25,
     "metadata": {},
     "output_type": "execute_result"
    }
   ],
   "source": [
    "tool_calls"
   ],
   "metadata": {
    "collapsed": false,
    "ExecuteTime": {
     "end_time": "2024-03-06T08:53:48.105579Z",
     "start_time": "2024-03-06T08:53:48.099909Z"
    }
   },
   "id": "bb7be12f0c6a2412",
   "execution_count": 25
  },
  {
   "cell_type": "code",
   "outputs": [
    {
     "data": {
      "text/plain": "ChatCompletionMessage(content=None, role='assistant', function_call=None, tool_calls=[ChatCompletionMessageToolCall(id='call_L3K2NkHaIyrcDcstnXWbMK41', function=Function(arguments='{\"description\":\"Coffee expense\",\"gross_expense\":5.99,\"tax_rate\":0.19}', name='add_expense'), type='function')])"
     },
     "execution_count": 24,
     "metadata": {},
     "output_type": "execute_result"
    }
   ],
   "source": [
    "response_message"
   ],
   "metadata": {
    "collapsed": false,
    "ExecuteTime": {
     "end_time": "2024-03-06T08:53:35.236558Z",
     "start_time": "2024-03-06T08:53:35.229330Z"
    }
   },
   "id": "8a5daed14fcde55c",
   "execution_count": 24
  },
  {
   "cell_type": "code",
   "outputs": [
    {
     "data": {
      "text/plain": "{'description': 'Coffee expense',\n 'gross_expense': 5.99,\n 'tax_rate': 0.19,\n 'date': '2022-10-10'}"
     },
     "execution_count": 40,
     "metadata": {},
     "output_type": "execute_result"
    }
   ],
   "source": [
    "import json\n",
    "\n",
    "args_str = response_message.tool_calls[0].function.arguments\n",
    "args_str = '{\"description\":\"Coffee expense\",\"gross_expense\":5.99,\"tax_rate\":0.19, \"date\":\"2022-10-10\"}'\n",
    "args = json.loads(args_str)\n",
    "args"
   ],
   "metadata": {
    "collapsed": false,
    "ExecuteTime": {
     "end_time": "2024-03-06T10:03:06.664084Z",
     "start_time": "2024-03-06T10:03:06.656285Z"
    }
   },
   "id": "b0cc38925004493",
   "execution_count": 40
  },
  {
   "cell_type": "code",
   "outputs": [],
   "source": [
    "tool_call = tool_calls[0]\n",
    "tool_call_message = {\n",
    "                    \"tool_call_id\": tool_call.id,\n",
    "                    \"role\": \"tool\",\n",
    "                    \"name\": tool_call.function.name,\n",
    "                    \"content\": \"The net expense and gross expense should not be the same if a tax rate is provided. Please provide the correct net expense or gross expense.\"\n",
    "                }"
   ],
   "metadata": {
    "collapsed": false,
    "ExecuteTime": {
     "end_time": "2024-03-05T17:27:06.118336Z",
     "start_time": "2024-03-05T17:27:06.113959Z"
    }
   },
   "id": "a5cf037adfba21c1",
   "execution_count": 25
  },
  {
   "cell_type": "code",
   "outputs": [
    {
     "data": {
      "text/plain": "ChatCompletionMessage(content=None, role='assistant', function_call=None, tool_calls=[ChatCompletionMessageToolCall(id='call_Zz2CrJhDzIss09OrPAXL4uZ3', function=Function(arguments='{\"description\":\"Coffee expense\",\"net_expense\":5.99,\"gross_expense\":7.13,\"tax_rate\":0.19,\"date\":\"2023-10-16\"}', name='add_expense'), type='function')])"
     },
     "execution_count": 27,
     "metadata": {},
     "output_type": "execute_result"
    }
   ],
   "source": [
    "response_2 = client.chat.completions.create(\n",
    "    model=model_name,\n",
    "    messages=messages + [response_message, tool_call_message],\n",
    "    tools=[db_tool, missing_info, report_tool],\n",
    "    tool_choice=\"auto\"\n",
    ")\n",
    "\n",
    "response_2.choices[0].message"
   ],
   "metadata": {
    "collapsed": false,
    "ExecuteTime": {
     "end_time": "2024-03-05T17:28:22.633359Z",
     "start_time": "2024-03-05T17:28:21.456588Z"
    }
   },
   "id": "7458aaec92d2bb7a",
   "execution_count": 27
  },
  {
   "cell_type": "code",
   "outputs": [
    {
     "data": {
      "text/plain": "ChatCompletion(id='chatcmpl-8zSsO4UMkcpFZlTQwVEPEaLgfJFsz', choices=[Choice(finish_reason='tool_calls', index=0, logprobs=None, message=ChatCompletionMessage(content=None, role='assistant', function_call=None, tool_calls=[ChatCompletionMessageToolCall(id='call_Zz2CrJhDzIss09OrPAXL4uZ3', function=Function(arguments='{\"description\":\"Coffee expense\",\"net_expense\":5.99,\"gross_expense\":7.13,\"tax_rate\":0.19,\"date\":\"2023-10-16\"}', name='add_expense'), type='function')]))], created=1709659700, model='gpt-3.5-turbo-0125', object='chat.completion', system_fingerprint='fp_2b778c6b35', usage=CompletionUsage(completion_tokens=48, prompt_tokens=361, total_tokens=409))"
     },
     "execution_count": 28,
     "metadata": {},
     "output_type": "execute_result"
    }
   ],
   "source": [
    "response_2"
   ],
   "metadata": {
    "collapsed": false,
    "ExecuteTime": {
     "end_time": "2024-03-05T17:28:41.847433Z",
     "start_time": "2024-03-05T17:28:41.842211Z"
    }
   },
   "id": "abc82af82f422a48",
   "execution_count": 28
  },
  {
   "cell_type": "code",
   "outputs": [
    {
     "data": {
      "text/plain": "ChatCompletion(id='chatcmpl-8zSqIawSA9OtMsLoqylbdehFtOYQI', choices=[Choice(finish_reason='tool_calls', index=0, logprobs=None, message=ChatCompletionMessage(content=None, role='assistant', function_call=None, tool_calls=[ChatCompletionMessageToolCall(id='call_7qC42fEXA3EIinIBNQEyuFgF', function=Function(arguments='{\"description\":\"Coffee expense\",\"net_expense\":5.99,\"gross_expense\":0,\"tax_rate\":0.19,\"date\":\"2023-10-16\"}', name='add_expense'), type='function')]))], created=1709659570, model='gpt-3.5-turbo-0125', object='chat.completion', system_fingerprint='fp_2b778c6b35', usage=CompletionUsage(completion_tokens=46, prompt_tokens=278, total_tokens=324))"
     },
     "execution_count": 29,
     "metadata": {},
     "output_type": "execute_result"
    }
   ],
   "source": [
    "response"
   ],
   "metadata": {
    "collapsed": false,
    "ExecuteTime": {
     "end_time": "2024-03-05T17:29:27.771051Z",
     "start_time": "2024-03-05T17:29:27.765936Z"
    }
   },
   "id": "7cd854b993bee80f",
   "execution_count": 29
  },
  {
   "cell_type": "code",
   "outputs": [
    {
     "data": {
      "text/plain": "[{'type': 'function',\n  'function': {'name': 'add_expense',\n   'description': '',\n   'parameters': {'type': 'object',\n    'properties': {'description': {'type': 'string'},\n     'net_expense': {'type': 'number'},\n     'gross_expense': {'type': 'number'},\n     'tax_rate': {'type': 'number'},\n     'date': {'type': 'string', 'format': 'date-time'}},\n    'required': ['description',\n     'net_expense',\n     'gross_expense',\n     'tax_rate',\n     'date']}}},\n {'type': 'function',\n  'function': {'name': 'report_missing',\n   'description': '',\n   'parameters': {'type': 'object',\n    'properties': {'missing_fields': {'type': 'array',\n      'items': {'type': 'string'}}},\n    'required': ['missing_fields']}}},\n {'type': 'function',\n  'function': {'name': 'report_result',\n   'description': '',\n   'parameters': {'type': 'object',\n    'properties': {'result': {'type': 'string'}},\n    'required': ['result']}}}]"
     },
     "execution_count": 35,
     "metadata": {},
     "output_type": "execute_result"
    }
   ],
   "source": [
    "tools = [db_tool, missing_info, report_tool]\n",
    "\n",
    "tools"
   ],
   "metadata": {
    "collapsed": false,
    "ExecuteTime": {
     "end_time": "2024-03-05T17:40:52.219781Z",
     "start_time": "2024-03-05T17:40:52.214874Z"
    }
   },
   "id": "7dc73efde9df9dca",
   "execution_count": 35
  },
  {
   "cell_type": "code",
   "outputs": [],
   "source": [
    "check_prompt = \"\"\"You are responsible to verify the action of an assistant based on the the chat history of a user and the assistant. Your role is to verify the assistant's actions and report any mistakes.\n",
    "\n",
    "The assistant should complete a task given by the user using a set of specialized tools. The assistant tends to hallucinate and make mistakes. He might pass parameters to a tool that were not mentioned in the chat_history or use the wrong tool for the task. \n",
    "Verify if the assistant choice the correct tool for the task and if the tool was used correctly.\n",
    "\n",
    "Check each input parameter the assistant used and verify if it was mentioned in the chat history.\n",
    "\"\"\"\n",
    "\n",
    "user_message_tmpl = \"Here is the chat history: {chat_history}\\nHere are the tools the assistant can choose from: {tools}\"\n",
    "assistant_action_tmpl = \"The assistant used the {tool} tool with the following parameters: {parameters}\"\n",
    "\n",
    "\n"
   ],
   "metadata": {
    "collapsed": false,
    "ExecuteTime": {
     "end_time": "2024-03-05T17:49:01.213335Z",
     "start_time": "2024-03-05T17:49:01.209016Z"
    }
   },
   "id": "593cabe7d13f3c4c",
   "execution_count": 50
  },
  {
   "cell_type": "code",
   "outputs": [],
   "source": [
    "example_response = {\"verified_action\":False, \"reason\": \"The date of the expense is not mentioned in the chat history. Instead the assistant should have used get_current_date tool to get the current date. The gross expense is not passed correctly the assitant could calculate it using the net_expense and the tax_rate.\"}\n",
    "\n",
    "\n",
    "import json\n",
    "response_check.choices[0].message.tool_calls[0].function.arguments = json.dumps(example_response)\n",
    "example_response = response_check.choices[0].message.tool_calls[0].function.arguments"
   ],
   "metadata": {
    "collapsed": false
   },
   "id": "d6f690f7c4769d6a"
  },
  {
   "cell_type": "code",
   "outputs": [],
   "source": [
    "history = [{\"role\": \"user\", \"content\": \"I have spend 5.99 $ for a coffee today, please track my expense. The tax rate is 0.19.\"}]\n",
    "user_check_message = user_message_tmpl.format(chat_history=history, tools=tools)\n",
    "assistant_action = assistant_action_tmpl.format(tool=tool_calls[0].function.name, parameters= tool_calls[0].function.arguments)\n"
   ],
   "metadata": {
    "collapsed": false,
    "ExecuteTime": {
     "end_time": "2024-03-05T17:49:02.788117Z",
     "start_time": "2024-03-05T17:49:02.782600Z"
    }
   },
   "id": "9bfbf92febf6d701",
   "execution_count": 51
  },
  {
   "cell_type": "code",
   "outputs": [],
   "source": [
    "class validate_action(BaseModel):\n",
    "    verified_action: bool\n",
    "    reason: str\n",
    "    \n",
    "    \n",
    "validate_action_tool = convert_to_openai_tool(validate_action)\n",
    "\n",
    "\n",
    "response_check = client.chat.completions.create(\n",
    "    model=model_name,\n",
    "    messages=[{\"role\": \"system\", \"content\": check_prompt}, {\"role\": \"user\", \"content\": user_check_message, \"name\": \"example_user\"}, {\"role\": \"user\", \"content\": assistant_action, \"name\": \"example_user\"}, {\"role\": \"assistant\", \"content\": example_response, \"name\": \"example_assistant\"}, ],\n",
    "    tools=[validate_action_tool],\n",
    "    tool_choice=\"auto\"\n",
    ")"
   ],
   "metadata": {
    "collapsed": false,
    "ExecuteTime": {
     "end_time": "2024-03-05T17:49:05.309174Z",
     "start_time": "2024-03-05T17:49:03.636044Z"
    }
   },
   "id": "94d2ce3f9940e9c4",
   "execution_count": 52
  },
  {
   "cell_type": "code",
   "outputs": [
    {
     "data": {
      "text/plain": "'The assistant used the add_expense tool with the following parameters: {\"description\":\"Coffee expense\",\"net_expense\":5.99,\"gross_expense\":null,\"tax_rate\":0.19,\"date\":\"2023-10-05T00:00:00Z\"}'"
     },
     "execution_count": 55,
     "metadata": {},
     "output_type": "execute_result"
    }
   ],
   "source": [
    "assistant_action"
   ],
   "metadata": {
    "collapsed": false,
    "ExecuteTime": {
     "end_time": "2024-03-05T17:57:00.281078Z",
     "start_time": "2024-03-05T17:57:00.274691Z"
    }
   },
   "id": "9b5053aeb0c6bbbc",
   "execution_count": 55
  },
  {
   "cell_type": "code",
   "outputs": [
    {
     "data": {
      "text/plain": "'{\"verified_action\":true,\"reason\":\"The assistant correctly used the add_expense tool with the provided parameters based on the user\\'s request to track the coffee expense with the tax rate.\"}'"
     },
     "execution_count": 57,
     "metadata": {},
     "output_type": "execute_result"
    }
   ],
   "source": [
    "response_check.choices[0].message.tool_calls[0].function.arguments"
   ],
   "metadata": {
    "collapsed": false,
    "ExecuteTime": {
     "end_time": "2024-03-05T17:58:51.161477Z",
     "start_time": "2024-03-05T17:58:51.155952Z"
    }
   },
   "id": "cda2267b0bd19320",
   "execution_count": 57
  },
  {
   "cell_type": "code",
   "outputs": [],
   "source": [
    "example_response = {\"verified_action\":False, \"reason\": \"The date of the expense is not mentioned in the chat history. Instead the assistant should have used get_current_date tool to get the current date. The gross expense is not passed correctly the assitant could calculate it using the net_expense and the tax_rate.\"}\n",
    "\n",
    "\n",
    "import json\n",
    "response_check.choices[0].message.tool_calls[0].function.arguments = json.dumps(example_response)\n",
    "example_response = response_check.choices[0].message.tool_calls[0].function.arguments"
   ],
   "metadata": {
    "collapsed": false,
    "ExecuteTime": {
     "end_time": "2024-03-05T17:59:58.373475Z",
     "start_time": "2024-03-05T17:59:58.368533Z"
    }
   },
   "id": "e89ae99b29bf9e67",
   "execution_count": 58
  },
  {
   "cell_type": "code",
   "outputs": [],
   "source": [],
   "metadata": {
    "collapsed": false,
    "ExecuteTime": {
     "end_time": "2024-03-05T18:00:13.379032Z",
     "start_time": "2024-03-05T18:00:13.374506Z"
    }
   },
   "id": "c5dcb0baa2c4c0dc",
   "execution_count": 59
  },
  {
   "cell_type": "code",
   "outputs": [
    {
     "name": "stdout",
     "output_type": "stream",
     "text": [
      "['Add', 'D', 'B', 'Entry']\n"
     ]
    },
    {
     "data": {
      "text/plain": "['Add', 'DB', 'Entry']"
     },
     "execution_count": 31,
     "metadata": {},
     "output_type": "execute_result"
    }
   ],
   "source": [
    "import re\n",
    "string = \"AddDBEntry\"\n",
    "\n",
    "def split_on_capital_case(s):\n",
    "    \"\"\"Split a string on capital case letters.\n",
    "    \n",
    "    If multiple capital case letters are together, they are considered as one word.\n",
    "    \"\"\"\n",
    "    matches = re.findall(r'[A-Z][a-z]*', s)\n",
    "    result = []\n",
    "    temp = ''\n",
    "    for match in matches:\n",
    "        if len(match) == 1:\n",
    "            temp += match\n",
    "        else:\n",
    "            if temp:\n",
    "                result.append(temp)\n",
    "                temp = ''\n",
    "            result.append(match)\n",
    "    if temp:\n",
    "        result.append(temp)\n",
    "    return result\n",
    "\n",
    "split_on_capital_case(string)"
   ],
   "metadata": {
    "collapsed": false,
    "ExecuteTime": {
     "end_time": "2024-03-06T09:05:33.201221Z",
     "start_time": "2024-03-06T09:05:33.193365Z"
    }
   },
   "id": "dc6e763e872edf4e",
   "execution_count": 31
  },
  {
   "cell_type": "code",
   "outputs": [],
   "source": [],
   "metadata": {
    "collapsed": false
   },
   "id": "764afa616a7e7b07"
  }
 ],
 "metadata": {
  "kernelspec": {
   "display_name": "Python 3",
   "language": "python",
   "name": "python3"
  },
  "language_info": {
   "codemirror_mode": {
    "name": "ipython",
    "version": 2
   },
   "file_extension": ".py",
   "mimetype": "text/x-python",
   "name": "python",
   "nbconvert_exporter": "python",
   "pygments_lexer": "ipython2",
   "version": "2.7.6"
  }
 },
 "nbformat": 4,
 "nbformat_minor": 5
}
