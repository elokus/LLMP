{
 "cells": [
  {
   "cell_type": "code",
   "execution_count": 1,
   "id": "initial_id",
   "metadata": {
    "collapsed": true,
    "ExecuteTime": {
     "end_time": "2024-03-10T09:38:56.107189Z",
     "start_time": "2024-03-10T09:38:55.330960Z"
    }
   },
   "outputs": [],
   "source": [
    "from typing import Optional\n",
    "from llmp_agent.convert import convert_to_openai_tool, split_on_capital_case\n",
    "from pydantic.v1 import BaseModel, validator\n",
    "from datetime import datetime\n",
    "\n",
    "from llmp_agent.tool_agent import BaseTool, OpenAIAgent, ToolResult\n",
    "\n",
    "\n",
    "class AddExpense(BaseModel):\n",
    "    description: str\n",
    "    net_expense: float\n",
    "    gross_expense: float\n",
    "    tax_rate: float\n",
    "    date: datetime\n",
    "    \n",
    "    @validator(\"date\", pre=True)\n",
    "    def parse_date(cls, v):\n",
    "        if isinstance(v, str):\n",
    "            for format in [\"%Y-%m-%d %H:%M:%S\", \"%Y-%m-%d %H:%M:%S.%f\", \"%Y-%m-%d\"]:\n",
    "                try:\n",
    "                    return datetime.strptime(v, format)\n",
    "                except:\n",
    "                    pass\n",
    "        return v\n",
    "    \n",
    "    \n",
    "    \n",
    "def add_expense(description: str, net_expense: float, gross_expense: float, tax_rate: float, date: datetime):\n",
    "    if tax_rate > 0 and net_expense == gross_expense:\n",
    "        return ToolResult(content=\"The net and gross expense are the same, but the tax rate is greater than 0. Please provide the correct net and gross expense.\", success=False)\n",
    "    if tax_rate > 0 and not gross_expense:\n",
    "        return ToolResult(content=\"The tax rate is greater than 0, but the gross expense is not provided. Please provide the gross expense.\", success=False)\n",
    "    return f\"Successfully added expense to database. Description: {description}, Net Expense: {net_expense}, Gross Expense: {gross_expense}, Tax Rate: {tax_rate}, Date: {date}\"\n",
    "    \n",
    "class Report(BaseModel):\n",
    "    result: str\n",
    "\n",
    "def get_current_date(input: Optional[str] = None):\n",
    "    return datetime.now().strftime(\"%Y-%m-%d\")\n",
    "    \n",
    "db_tool = BaseTool.from_pydantic(AddExpense, add_expense)\n",
    "report_tool = BaseTool.from_pydantic(Report)\n",
    "date_tool = BaseTool.from_function(get_current_date)\n"
   ]
  },
  {
   "cell_type": "code",
   "outputs": [
    {
     "data": {
      "text/plain": "OutputModel(lines=[IOLine(key='input', type='Optional[str]', rule=None, options=None, multiple_select=False, default=None, placeholder=['input'], multiline=False, custom_value_template=None, hidden=False, description=None)])"
     },
     "execution_count": 2,
     "metadata": {},
     "output_type": "execute_result"
    }
   ],
   "source": [
    "date_tool.model"
   ],
   "metadata": {
    "collapsed": false,
    "ExecuteTime": {
     "end_time": "2024-03-10T09:38:56.115188Z",
     "start_time": "2024-03-10T09:38:56.108254Z"
    }
   },
   "id": "20043c646032ab76",
   "execution_count": 2
  },
  {
   "cell_type": "code",
   "outputs": [
    {
     "data": {
      "text/plain": "{'type': 'function',\n 'function': {'name': 'get_current_date_tool',\n  'description': '',\n  'parameters': {'type': 'object',\n   'properties': {'input': {'type': 'string'}},\n   'required': []}}}"
     },
     "execution_count": 3,
     "metadata": {},
     "output_type": "execute_result"
    }
   ],
   "source": [
    "date_tool.openai_tool"
   ],
   "metadata": {
    "collapsed": false,
    "ExecuteTime": {
     "end_time": "2024-03-10T09:38:56.801397Z",
     "start_time": "2024-03-10T09:38:56.795528Z"
    }
   },
   "id": "88b8d0066ea7c6aa",
   "execution_count": 3
  },
  {
   "cell_type": "code",
   "outputs": [
    {
     "name": "stdout",
     "output_type": "stream",
     "text": [
      "\u001B[32mINFO: Running AgentOrchestor with {'input': 'I have spend 5.99 $ for a coffee today, please track my expense. The tax rate is 0.19.'}\u001B[0m\n",
      "\u001B[35mTool Call: Name: get_current_date_tool\n",
      "Args: {}\u001B[0m\n",
      "\u001B[33mTool Result: content='2024-03-10' success=True metrics=None\u001B[0m\n",
      "\u001B[35mTool Call: Name: add_expense_tool\n",
      "Args: {'description': 'Coffee purchase', 'net_expense': 5.99, 'gross_expense': 5.99, 'tax_rate': 0.19, 'date': '2024-03-10'}\u001B[0m\n",
      "\u001B[33mTool Result: content='The net and gross expense are the same, but the tax rate is greater than 0. Please provide the correct net and gross expense.' success=False metrics=None\u001B[0m\n",
      "\u001B[35mTool Call: Name: get_current_date_tool\n",
      "Args: {}\u001B[0m\n",
      "\u001B[33mTool Result: content='2024-03-10' success=True metrics=None\u001B[0m\n",
      "\u001B[35mTool Call: Name: add_expense_tool\n",
      "Args: {'description': 'Coffee purchase', 'net_expense': 5.99, 'gross_expense': 7.13, 'tax_rate': 0.19, 'date': '2024-03-10'}\u001B[0m\n",
      "\u001B[33mTool Result: content='Successfully added expense to database. Description: Coffee purchase, Net Expense: 5.99, Gross Expense: 7.13, Tax Rate: 0.19, Date: 2024-03-10' success=True metrics=None\u001B[0m\n",
      "\u001B[35mTool Call: Name: report_tool\n",
      "Args: {'result': 'Expense for the coffee purchase has been successfully tracked.'}\u001B[0m\n",
      "\u001B[33mTool Result: content='Expense for the coffee purchase has been successfully tracked.' success=True metrics=None\u001B[0m\n",
      "\u001B[32mFinal Result: Expense for the coffee purchase has been successfully tracked.\u001B[0m\n"
     ]
    },
    {
     "data": {
      "text/plain": "'Expense for the coffee purchase has been successfully tracked.'"
     },
     "execution_count": 4,
     "metadata": {},
     "output_type": "execute_result"
    }
   ],
   "source": [
    "agent = OpenAIAgent(tools=[db_tool, report_tool, date_tool])\n",
    "agent.run(input=\"I have spend 5.99 $ for a coffee today, please track my expense. The tax rate is 0.19.\")"
   ],
   "metadata": {
    "collapsed": false,
    "ExecuteTime": {
     "end_time": "2024-03-10T09:39:03.851042Z",
     "start_time": "2024-03-10T09:38:58.570796Z"
    }
   },
   "id": "c4a2ce3cf0dce086",
   "execution_count": 4
  },
  {
   "cell_type": "code",
   "outputs": [
    {
     "data": {
      "text/plain": "2236"
     },
     "execution_count": 3,
     "metadata": {},
     "output_type": "execute_result"
    }
   ],
   "source": [
    "agent.token_usage"
   ],
   "metadata": {
    "collapsed": false,
    "ExecuteTime": {
     "end_time": "2024-03-06T11:51:37.642079Z",
     "start_time": "2024-03-06T11:51:37.636408Z"
    }
   },
   "id": "83bdf3723e917c5c",
   "execution_count": 3
  },
  {
   "cell_type": "code",
   "outputs": [
    {
     "data": {
      "text/plain": "[]"
     },
     "execution_count": 3,
     "metadata": {},
     "output_type": "execute_result"
    }
   ],
   "source": [
    "from structgenie.components.validation import Validator\n",
    "\n",
    "validator = Validator.from_pydantic(GetCurrentDate)\n",
    "\n",
    "validator.validate({})"
   ],
   "metadata": {
    "collapsed": false,
    "ExecuteTime": {
     "end_time": "2024-03-06T11:42:36.201696Z",
     "start_time": "2024-03-06T11:42:36.196439Z"
    }
   },
   "id": "4a09df4f745ac187",
   "execution_count": 3
  },
  {
   "cell_type": "code",
   "outputs": [
    {
     "data": {
      "text/plain": "{'input': {'type': 'str',\n  'rule': None,\n  'options': None,\n  'multiple_select': False,\n  'default': None,\n  'multiline': False,\n  'hidden': False,\n  'description': None}}"
     },
     "execution_count": 3,
     "metadata": {},
     "output_type": "execute_result"
    }
   ],
   "source": [
    "validator.validation_config"
   ],
   "metadata": {
    "collapsed": false,
    "ExecuteTime": {
     "end_time": "2024-03-06T11:39:55.096389Z",
     "start_time": "2024-03-06T11:39:55.090169Z"
    }
   },
   "id": "dcf35cb40d85f615",
   "execution_count": 3
  },
  {
   "cell_type": "code",
   "outputs": [
    {
     "data": {
      "text/plain": "OutputModel(lines=[IOLine(key='input', type='Optional[str]', rule=None, options=None, multiple_select=False, default=None, placeholder=['input'], multiline=False, custom_value_template=None, hidden=False, description=None)])"
     },
     "execution_count": 2,
     "metadata": {},
     "output_type": "execute_result"
    }
   ],
   "source": [
    "from structgenie.components.input_output import OutputModel\n",
    "\n",
    "output = OutputModel.from_pydantic(GetCurrentDate)\n",
    "output"
   ],
   "metadata": {
    "collapsed": false,
    "ExecuteTime": {
     "end_time": "2024-03-06T11:42:31.390814Z",
     "start_time": "2024-03-06T11:42:31.383111Z"
    }
   },
   "id": "b5dffbd21a7e3655",
   "execution_count": 2
  },
  {
   "cell_type": "code",
   "outputs": [
    {
     "data": {
      "text/plain": "{'title': 'GetCurrentDate',\n 'type': 'object',\n 'properties': {'input': {'title': 'Input', 'type': 'string'}}}"
     },
     "execution_count": 7,
     "metadata": {},
     "output_type": "execute_result"
    }
   ],
   "source": [
    "GetCurrentDate.schema()"
   ],
   "metadata": {
    "collapsed": false,
    "ExecuteTime": {
     "end_time": "2024-03-06T11:41:46.408895Z",
     "start_time": "2024-03-06T11:41:46.403984Z"
    }
   },
   "id": "5ac85afb6992c461",
   "execution_count": 7
  },
  {
   "cell_type": "code",
   "outputs": [
    {
     "data": {
      "text/plain": "{'title': 'GetCurrentDate',\n 'type': 'object',\n 'properties': {'input_x': {'title': 'Input X', 'type': 'string'}}}"
     },
     "execution_count": 22,
     "metadata": {},
     "output_type": "execute_result"
    }
   ],
   "source": [
    "class GetCurrentDate(BaseModel):\n",
    "    input_x: Optional[str] = None\n",
    "    \n",
    "class GetCurrentDateOptional(BaseModel):\n",
    "    input: str = None\n",
    "    current: GetCurrentDate = None\n",
    "\n",
    "GetCurrentDate.schema()"
   ],
   "metadata": {
    "collapsed": false,
    "ExecuteTime": {
     "end_time": "2024-03-06T11:37:27.536286Z",
     "start_time": "2024-03-06T11:37:27.529050Z"
    }
   },
   "id": "4d50d8dacd0a3ea6",
   "execution_count": 22
  },
  {
   "cell_type": "code",
   "outputs": [
    {
     "data": {
      "text/plain": "{'title': 'GetCurrentDateOptional',\n 'type': 'object',\n 'properties': {'input': {'title': 'Input', 'type': 'string'},\n  'current': {'$ref': '#/definitions/GetCurrentDate'}},\n 'definitions': {'GetCurrentDate': {'title': 'GetCurrentDate',\n   'type': 'object',\n   'properties': {'input_x': {'title': 'Input X', 'type': 'string'}}}}}"
     },
     "execution_count": 23,
     "metadata": {},
     "output_type": "execute_result"
    }
   ],
   "source": [
    "GetCurrentDateOptional.schema()"
   ],
   "metadata": {
    "collapsed": false,
    "ExecuteTime": {
     "end_time": "2024-03-06T11:37:28.347063Z",
     "start_time": "2024-03-06T11:37:28.340259Z"
    }
   },
   "id": "c8bb875e80c0795c",
   "execution_count": 23
  },
  {
   "cell_type": "code",
   "outputs": [
    {
     "data": {
      "text/plain": "True"
     },
     "execution_count": 15,
     "metadata": {},
     "output_type": "execute_result"
    }
   ],
   "source": [
    "x = None\n",
    "\n",
    "isinstance(x, Optional[str])"
   ],
   "metadata": {
    "collapsed": false,
    "ExecuteTime": {
     "end_time": "2024-03-06T11:35:43.946867Z",
     "start_time": "2024-03-06T11:35:43.941488Z"
    }
   },
   "id": "e5ef2956a06d1c99",
   "execution_count": 15
  },
  {
   "cell_type": "code",
   "outputs": [
    {
     "data": {
      "text/plain": "{'BLACK': '\\x1b[30m',\n 'BLUE': '\\x1b[34m',\n 'CYAN': '\\x1b[36m',\n 'GREEN': '\\x1b[32m',\n 'LIGHTBLACK_EX': '\\x1b[90m',\n 'LIGHTBLUE_EX': '\\x1b[94m',\n 'LIGHTCYAN_EX': '\\x1b[96m',\n 'LIGHTGREEN_EX': '\\x1b[92m',\n 'LIGHTMAGENTA_EX': '\\x1b[95m',\n 'LIGHTRED_EX': '\\x1b[91m',\n 'LIGHTWHITE_EX': '\\x1b[97m',\n 'LIGHTYELLOW_EX': '\\x1b[93m',\n 'MAGENTA': '\\x1b[35m',\n 'RED': '\\x1b[31m',\n 'RESET': '\\x1b[39m',\n 'WHITE': '\\x1b[37m',\n 'YELLOW': '\\x1b[33m'}"
     },
     "execution_count": 10,
     "metadata": {},
     "output_type": "execute_result"
    }
   ],
   "source": [
    "from colorama import Fore\n",
    "\n",
    "Fore.__dict__"
   ],
   "metadata": {
    "collapsed": false,
    "ExecuteTime": {
     "end_time": "2024-03-06T11:45:10.528058Z",
     "start_time": "2024-03-06T11:45:10.523098Z"
    }
   },
   "id": "14559b6fafd68b10",
   "execution_count": 10
  },
  {
   "cell_type": "code",
   "outputs": [
    {
     "name": "stdout",
     "output_type": "stream",
     "text": [
      "lines=[IOLine(key='location', type='str', rule=None, options=None, multiple_select=False, default=None, placeholder=['location'], multiline=False, custom_value_template=None, hidden=False, description=None), IOLine(key='date', type='date', rule=None, options=None, multiple_select=False, default=None, placeholder=['date'], multiline=False, custom_value_template=None, hidden=False, description=None)]\n"
     ]
    }
   ],
   "source": [
    "import inspect\n",
    "from datetime import date\n",
    "from typing import List\n",
    "from structgenie.components.input_output.line import IOLine\n",
    "from structgenie.components.input_output.output_model import OutputModel\n",
    "\n",
    "def get_weather(location: str, date: date):\n",
    "    pass  # function implementation\n",
    "\n",
    "def create_output_model_from_function(func):\n",
    "    sig = inspect.signature(func)\n",
    "    lines = []\n",
    "    for name, param in sig.parameters.items():\n",
    "        if param.annotation is not param.empty:\n",
    "            default = param.default if param.default is not param.empty else None\n",
    "            line = IOLine(key=name, type=param.annotation.__name__, default=default)\n",
    "            lines.append(line)\n",
    "    return OutputModel(lines=lines)\n",
    "\n",
    "output_model = create_output_model_from_function(get_weather)\n",
    "print(output_model)"
   ],
   "metadata": {
    "collapsed": false,
    "ExecuteTime": {
     "end_time": "2024-03-10T08:36:14.275383Z",
     "start_time": "2024-03-10T08:36:14.127950Z"
    }
   },
   "id": "947f0f5878238223",
   "execution_count": 1
  },
  {
   "cell_type": "code",
   "outputs": [
    {
     "name": "stdout",
     "output_type": "stream",
     "text": [
      "lines=[IOLine(key='location', type='str', rule=None, options=None, multiple_select=False, default='San Francisco', placeholder=['location'], multiline=False, custom_value_template=None, hidden=False, description=None), IOLine(key='date', type='date', rule=None, options=None, multiple_select=False, default=None, placeholder=['date'], multiline=False, custom_value_template=None, hidden=False, description=None), IOLine(key='weather_type', type='str', rule=None, options=['Sunny', 'Rainy', 'Cloudy'], multiple_select=False, default='Sunny', placeholder=['weather_type'], multiline=False, custom_value_template=None, hidden=False, description=None)]\n"
     ]
    }
   ],
   "source": [
    "import inspect\n",
    "import datetime\n",
    "from typing import List, get_args, Literal\n",
    "from structgenie.components.input_output.line import IOLine\n",
    "from structgenie.components.input_output.output_model import OutputModel\n",
    "\n",
    "def get_weather(location: str = \"San Francisco\", date: datetime.date = None, weather_type: Literal['Sunny', 'Rainy', 'Cloudy'] = 'Sunny'):\n",
    "    \"\"\"Get the weather for a location and date.\n",
    "    \n",
    "    Args:\n",
    "        location (str): The location to get the weather for.\n",
    "        date (date): The date to get the weather for.\n",
    "        weather_type (Literal['Sunny', 'Rainy', 'Cloudy']): The type of weather to get.\n",
    "    \"\"\"\n",
    "    pass  # function implementation\n",
    "\n",
    "def create_output_model_from_function(func):\n",
    "    sig = inspect.signature(func)\n",
    "    lines = []\n",
    "    for name, param in sig.parameters.items():\n",
    "        if param.annotation is not param.empty:\n",
    "            default = param.default if param.default is not param.empty else None\n",
    "            options = None\n",
    "            type_ = param.annotation.__name__\n",
    "            if getattr(param.annotation, '__origin__', None) == Literal:\n",
    "                options = get_args(param.annotation)\n",
    "                type_ = \"string\"\n",
    "            line = IOLine(key=name, type=type_, default=default, options=options)\n",
    "            lines.append(line)\n",
    "    return OutputModel(lines=lines)\n",
    "\n",
    "output_model = create_output_model_from_function(get_weather)\n",
    "print(output_model)"
   ],
   "metadata": {
    "collapsed": false,
    "ExecuteTime": {
     "end_time": "2024-03-10T09:12:06.450534Z",
     "start_time": "2024-03-10T09:12:06.442823Z"
    }
   },
   "id": "fae1b725291c26e8",
   "execution_count": 23
  },
  {
   "cell_type": "code",
   "outputs": [
    {
     "name": "stdout",
     "output_type": "stream",
     "text": [
      "Optional\n",
      "date\n",
      "Literal\n",
      "lines=[IOLine(key='location', type='Optional', rule=None, options=None, multiple_select=False, default='San Francisco', placeholder=['location'], multiline=False, custom_value_template=None, hidden=False, description='The location to get the weather for.'), IOLine(key='date', type='date', rule=None, options=None, multiple_select=False, default=None, placeholder=['date'], multiline=False, custom_value_template=None, hidden=False, description='The date to get the weather for.'), IOLine(key='weather_type', type='str', rule=None, options=['Sunny', 'Rainy', 'Cloudy'], multiple_select=False, default='Sunny', placeholder=['weather_type'], multiline=False, custom_value_template=None, hidden=False, description='The type of weather to get.')]\n"
     ]
    }
   ],
   "source": [
    "import inspect\n",
    "import datetime\n",
    "from typing import List, get_args, Literal\n",
    "from structgenie.components.input_output.line import IOLine\n",
    "from structgenie.components.input_output.output_model import OutputModel\n",
    "\n",
    "def get_weather(location: Optional[str] = \"San Francisco\", date: datetime.date = None, weather_type: Literal['Sunny', 'Rainy', 'Cloudy'] = 'Sunny'):\n",
    "    \"\"\"Get the weather for a location and date.\n",
    "    \n",
    "    Args:\n",
    "        location (str): The location to get the weather for.\n",
    "        date (date): The date to get the weather for.\n",
    "        weather_type (Literal['Sunny', 'Rainy', 'Cloudy']): The type of weather to get.\n",
    "    \"\"\"\n",
    "    pass  # function implementation\n",
    "\n",
    "def create_output_model_from_function(func):\n",
    "    sig = inspect.signature(func)\n",
    "    lines = []\n",
    "    docstring = inspect.getdoc(func)\n",
    "    doclines = docstring.split('\\n')\n",
    "    descriptions = {}\n",
    "    for line in doclines:\n",
    "        if ': ' in line:\n",
    "            key, description = line.split(': ', 1)\n",
    "            if \"(\" in key:\n",
    "                key = key.split(\"(\")[0]\n",
    "            descriptions[key.strip()] = description.strip()\n",
    "\n",
    "    for name, param in sig.parameters.items():\n",
    "        if param.annotation is not param.empty:\n",
    "            default = param.default if param.default is not param.empty else None\n",
    "            options = None\n",
    "            type_ = param.annotation.__name__\n",
    "            print(type_)\n",
    "            if getattr(param.annotation, '__origin__', None) == Literal:\n",
    "                options = get_args(param.annotation)\n",
    "                type_ = \"string\"\n",
    "            description = descriptions.get(name, None)\n",
    "            line = IOLine(key=name, type=type_, default=default, options=options, description=description)\n",
    "            lines.append(line)\n",
    "    return OutputModel(lines=lines)\n",
    "\n",
    "output_model = create_output_model_from_function(get_weather)\n",
    "print(output_model)"
   ],
   "metadata": {
    "collapsed": false,
    "ExecuteTime": {
     "end_time": "2024-03-10T09:28:57.380476Z",
     "start_time": "2024-03-10T09:28:57.370004Z"
    }
   },
   "id": "caec1f3a8dafa70e",
   "execution_count": 14
  },
  {
   "cell_type": "code",
   "outputs": [
    {
     "data": {
      "text/plain": "<Signature (location: Optional[str] = 'San Francisco', date: datetime.date = None, weather_type: Literal['Sunny', 'Rainy', 'Cloudy'] = 'Sunny')>"
     },
     "execution_count": 16,
     "metadata": {},
     "output_type": "execute_result"
    }
   ],
   "source": [
    "sig = inspect.signature(get_weather)\n",
    "sig"
   ],
   "metadata": {
    "collapsed": false,
    "ExecuteTime": {
     "end_time": "2024-03-10T09:30:04.269227Z",
     "start_time": "2024-03-10T09:30:04.264064Z"
    }
   },
   "id": "6c8a0262a5cf0929",
   "execution_count": 16
  },
  {
   "cell_type": "code",
   "outputs": [
    {
     "name": "stdout",
     "output_type": "stream",
     "text": [
      "location typing.Optional[str]\n",
      "Optional\n",
      "date <class 'datetime.date'>\n",
      "date\n",
      "weather_type typing.Literal['Sunny', 'Rainy', 'Cloudy']\n",
      "Literal\n"
     ]
    }
   ],
   "source": [
    "for name, param in sig.parameters.items():\n",
    "    print(name, param.annotation)\n",
    "    print(param.annotation.__name__)\n",
    "    "
   ],
   "metadata": {
    "collapsed": false,
    "ExecuteTime": {
     "end_time": "2024-03-10T09:30:40.181062Z",
     "start_time": "2024-03-10T09:30:40.176630Z"
    }
   },
   "id": "baa6754221dff4a2",
   "execution_count": 19
  },
  {
   "cell_type": "code",
   "outputs": [
    {
     "data": {
      "text/plain": "'Literal'"
     },
     "execution_count": 23,
     "metadata": {},
     "output_type": "execute_result"
    }
   ],
   "source": [
    "param = sig.parameters['weather_type']\n",
    "\n",
    "param.annotation.__name__"
   ],
   "metadata": {
    "collapsed": false,
    "ExecuteTime": {
     "end_time": "2024-03-10T09:31:56.032198Z",
     "start_time": "2024-03-10T09:31:56.027215Z"
    }
   },
   "id": "1385f760072b4f10",
   "execution_count": 23
  },
  {
   "cell_type": "code",
   "outputs": [
    {
     "data": {
      "text/plain": "{'type': 'object',\n 'properties': {'location': {'type': 'str'},\n  'date': {'type': 'str'},\n  'weather_type': {'type': 'str'}},\n 'required': ['location', 'date', 'weather_type']}"
     },
     "execution_count": 18,
     "metadata": {},
     "output_type": "execute_result"
    }
   ],
   "source": [
    "def to_parameters_dict(self) -> dict:\n",
    "    properties = {}\n",
    "    for line in self.lines:\n",
    "        properties[line.key] = {'type': line.type}\n",
    "        if line.type == 'datetime':\n",
    "            properties[line.key]['format'] = 'date-time'\n",
    "            \n",
    "    required = [line.key for line in self.lines if line.default is None or not \"Optional\" in line.type]\n",
    "    parameters = {'type': 'object', 'properties': properties, \"required\": required}\n",
    "    return parameters\n",
    "\n",
    "\n",
    "to_parameters_dict(output_model)\n",
    "\n"
   ],
   "metadata": {
    "collapsed": false,
    "ExecuteTime": {
     "end_time": "2024-03-10T09:08:24.644726Z",
     "start_time": "2024-03-10T09:08:24.637434Z"
    }
   },
   "id": "818a90b87077bf55",
   "execution_count": 18
  },
  {
   "cell_type": "code",
   "outputs": [],
   "source": [],
   "metadata": {
    "collapsed": false
   },
   "id": "a0ed041828d329be"
  }
 ],
 "metadata": {
  "kernelspec": {
   "display_name": "Python 3",
   "language": "python",
   "name": "python3"
  },
  "language_info": {
   "codemirror_mode": {
    "name": "ipython",
    "version": 2
   },
   "file_extension": ".py",
   "mimetype": "text/x-python",
   "name": "python",
   "nbconvert_exporter": "python",
   "pygments_lexer": "ipython2",
   "version": "2.7.6"
  }
 },
 "nbformat": 4,
 "nbformat_minor": 5
}
