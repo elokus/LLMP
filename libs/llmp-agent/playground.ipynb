{
 "cells": [
  {
   "cell_type": "code",
   "execution_count": null,
   "id": "initial_id",
   "metadata": {
    "collapsed": true
   },
   "outputs": [],
   "source": []
  },
  {
   "cell_type": "code",
   "outputs": [
    {
     "name": "stdout",
     "output_type": "stream",
     "text": [
      "Multiply two numbers together.\n",
      "\n",
      "    Args:\n",
      "        a (int): The first number.\n",
      "        b (int): The second number.\n",
      "        c (int, optional): An optional third number. Defaults to None.\n",
      "\n",
      "    Returns:\n",
      "        int: The product of the two numbers.\n",
      "    \n"
     ]
    }
   ],
   "source": [
    "from typing import Optional\n",
    "\n",
    "\n",
    "def multiply(a: int, b: int, c: Optional[int]) -> int:\n",
    "    \"\"\"Multiply two numbers together.\n",
    "\n",
    "    Args:\n",
    "        a (int): The first number.\n",
    "        b (int): The second number.\n",
    "        c (int, optional): An optional third number. Defaults to None.\n",
    "\n",
    "    Returns:\n",
    "        int: The product of the two numbers.\n",
    "    \"\"\"\n",
    "    return a * b\n",
    "\n",
    "\n",
    "docstring = multiply.__doc__\n",
    "print(docstring)"
   ],
   "metadata": {
    "collapsed": false,
    "ExecuteTime": {
     "end_time": "2024-02-29T10:39:06.931581Z",
     "start_time": "2024-02-29T10:39:06.925305Z"
    }
   },
   "id": "1a2dab8f5adac967",
   "execution_count": 4
  },
  {
   "cell_type": "code",
   "outputs": [],
   "source": [
    "import re\n",
    "\n",
    "def parse_docstring(docstring: str) -> dict:\n",
    "    \"\"\"Parse a docstring into its components.\n",
    "\n",
    "    Args:\n",
    "        docstring (str): The docstring to parse.\n",
    "\n",
    "    Returns:\n",
    "        dict: The parsed docstring. The keys are \"short_description\", \"args\", and \"returns\".\n",
    "    \"\"\"\n",
    "    # Split the docstring into its components\n",
    "    parts = re.split(r\"\\n\\s*\\n\", docstring.strip(), maxsplit=3)\n",
    "\n",
    "    # Extract the short description\n",
    "    short_description = parts[0].strip()\n",
    "\n",
    "    # Extract the arguments and return value\n",
    "    args = re.findall(r\"Args:\\n\\s*(\\w+) \\((\\w+)\\): (.+)\", parts[1])\n",
    "    returns = re.findall(r\"Returns:\\n\\s*(\\w+): (.+)\", parts[2])\n",
    "\n",
    "    # Return the parsed docstring\n",
    "    return {\n",
    "        \"short_description\": short_description,\n",
    "        \"args\": args,\n",
    "        \"returns\": returns\n",
    "    }\n",
    "\n",
    "parsed = parse_docstring(docstring)"
   ],
   "metadata": {
    "collapsed": false,
    "ExecuteTime": {
     "end_time": "2024-02-29T10:31:08.332084700Z",
     "start_time": "2024-02-29T10:31:08.319318400Z"
    }
   },
   "id": "214f8006431bf438",
   "execution_count": 2
  },
  {
   "cell_type": "code",
   "outputs": [
    {
     "name": "stdout",
     "output_type": "stream",
     "text": [
      "{'short_description': 'Multiply two numbers together.', 'args': [('a', 'int', 'The first number.')], 'returns': [('int', 'The product of the two numbers.')]}\n"
     ]
    }
   ],
   "source": [
    "print(parsed)"
   ],
   "metadata": {
    "collapsed": false,
    "ExecuteTime": {
     "end_time": "2024-02-29T10:31:10.620080400Z",
     "start_time": "2024-02-29T10:31:10.608205800Z"
    }
   },
   "id": "538569beb92a2a40",
   "execution_count": 3
  },
  {
   "cell_type": "code",
   "outputs": [
    {
     "name": "stdout",
     "output_type": "stream",
     "text": [
      "{'short_description': 'Multiply two numbers together.', 'args': [('a', 'int', 'The first number.'), ('b', 'int', 'The second number.'), ('c', 'int, optional', 'An optional third number. Defaults to None.')], 'returns': [('int', 'The product of the two numbers.')]}\n"
     ]
    }
   ],
   "source": [
    "import re\n",
    "\n",
    "\n",
    "def parse_docstring(docstring: str) -> dict:\n",
    "    \"\"\"Parse a docstring into its components.\n",
    "\n",
    "    Args:\n",
    "        docstring (str): The docstring to parse.\n",
    "\n",
    "    Returns:\n",
    "        dict: The parsed docstring. The keys are \"short_description\", \"args\", and \"returns\".\n",
    "    \"\"\"\n",
    "    # Split the docstring into its components\n",
    "    parts = re.split(r\"\\n\\s*\\n\", docstring.strip(), maxsplit=3)\n",
    "\n",
    "    # Extract the short description\n",
    "    short_description = parts[0].strip()\n",
    "\n",
    "    # Extract the arguments and return value\n",
    "    if len(parts) == 1:\n",
    "        return {\n",
    "            \"short_description\": short_description,\n",
    "            \"args\": [],\n",
    "            \"returns\": []\n",
    "        }\n",
    "    else:\n",
    "        try:\n",
    "            if \"Args:\" in parts[1]:\n",
    "                args = re.findall(r\"(\\w+) \\((.*)\\): (.+)\", parts[1])\n",
    "            else:\n",
    "                args = []\n",
    "        except:\n",
    "            args = []\n",
    "            \n",
    "        try:\n",
    "            returns = re.findall(r\"Returns:\\n\\s*(\\w+): (.+)\", parts[2])\n",
    "        except:\n",
    "            returns = []\n",
    "\n",
    "    # Return the parsed docstring\n",
    "    return {\n",
    "        \"short_description\": short_description,\n",
    "        \"args\": args,\n",
    "        \"returns\": returns\n",
    "    }\n",
    "\n",
    "parsed = parse_docstring(docstring)\n",
    "\n",
    "print(parsed)"
   ],
   "metadata": {
    "collapsed": false,
    "ExecuteTime": {
     "end_time": "2024-02-29T11:19:15.434532Z",
     "start_time": "2024-02-29T11:19:15.427789Z"
    }
   },
   "id": "c2b2821c72858d89",
   "execution_count": 15
  },
  {
   "cell_type": "code",
   "outputs": [
    {
     "data": {
      "text/plain": "'GET_DB_USER'"
     },
     "execution_count": 9,
     "metadata": {},
     "output_type": "execute_result"
    }
   ],
   "source": [
    "name = \"get_db_user\"\n",
    "\n",
    "name.upper()"
   ],
   "metadata": {
    "collapsed": false,
    "ExecuteTime": {
     "end_time": "2024-02-29T10:54:28.300516Z",
     "start_time": "2024-02-29T10:54:28.294081Z"
    }
   },
   "id": "7b8834c83d1157dd",
   "execution_count": 9
  },
  {
   "cell_type": "code",
   "outputs": [
    {
     "data": {
      "text/plain": "'\\x1b[31m'"
     },
     "execution_count": 13,
     "metadata": {},
     "output_type": "execute_result"
    }
   ],
   "source": [
    "from colorama import Fore\n",
    "\n",
    "name = \"red\"\n",
    "Fore.__dict__[name.upper()]"
   ],
   "metadata": {
    "collapsed": false,
    "ExecuteTime": {
     "end_time": "2024-02-29T11:11:47.383331Z",
     "start_time": "2024-02-29T11:11:47.378083Z"
    }
   },
   "id": "fd895f4ad196b40e",
   "execution_count": 13
  },
  {
   "cell_type": "code",
   "outputs": [],
   "source": [
    "def colorize(name: str) -> str:\n",
    "    \"\"\"Colorize a name.\n",
    "    \"\"\"\n",
    "    return Fore.__dict__[name.upper()]\n",
    "\n",
    "parsed = parse_docstring(colorize.__doc__)"
   ],
   "metadata": {
    "collapsed": false,
    "ExecuteTime": {
     "end_time": "2024-02-29T11:19:18.670127Z",
     "start_time": "2024-02-29T11:19:18.665621Z"
    }
   },
   "id": "ac7ef34c56781c10",
   "execution_count": 16
  },
  {
   "cell_type": "code",
   "outputs": [
    {
     "data": {
      "text/plain": "{'short_description': 'Colorize a name.', 'args': [], 'returns': []}"
     },
     "execution_count": 17,
     "metadata": {},
     "output_type": "execute_result"
    }
   ],
   "source": [
    "parsed"
   ],
   "metadata": {
    "collapsed": false,
    "ExecuteTime": {
     "end_time": "2024-02-29T11:19:21.358628Z",
     "start_time": "2024-02-29T11:19:21.352426Z"
    }
   },
   "id": "72332b20e0419355",
   "execution_count": 17
  },
  {
   "cell_type": "code",
   "outputs": [
    {
     "data": {
      "text/plain": "datetime.datetime"
     },
     "execution_count": 18,
     "metadata": {},
     "output_type": "execute_result"
    }
   ],
   "source": [
    "from datetime import datetime\n",
    "\n",
    "date = datetime.now()\n",
    "\n",
    "type(date)"
   ],
   "metadata": {
    "collapsed": false,
    "ExecuteTime": {
     "end_time": "2024-02-29T12:59:50.830107Z",
     "start_time": "2024-02-29T12:59:50.812283Z"
    }
   },
   "id": "cd41b418a6220d53",
   "execution_count": 18
  },
  {
   "cell_type": "code",
   "outputs": [],
   "source": [
    "from pydantic.v1 import BaseModel, Field\n",
    "from structgenie.components.input_output import OutputModel\n",
    "\n",
    "class OutputSchema(BaseModel):\n",
    "    description: str = Field(description=\"The description of the expense or what the amount was spend for.\")\n",
    "    net_amount: float\n",
    "    gross_amount: float\n",
    "    tax_rate: float\n",
    "    date: datetime\n",
    "    \n",
    "\n",
    "output_model = OutputModel.from_pydantic(OutputSchema)"
   ],
   "metadata": {
    "collapsed": false,
    "ExecuteTime": {
     "end_time": "2024-02-29T13:05:08.742911Z",
     "start_time": "2024-02-29T13:05:08.737199Z"
    }
   },
   "id": "69e8281d67b79858",
   "execution_count": 24
  },
  {
   "cell_type": "code",
   "outputs": [
    {
     "data": {
      "text/plain": "OutputModel(lines=[IOLine(key='description', type='str', rule=None, options=None, multiple_select=False, default=None, placeholder=['description'], multiline=False, custom_value_template=None, hidden=False, description='The description of the expense or what the amount was spend for.'), IOLine(key='net_amount', type='float', rule=None, options=None, multiple_select=False, default=None, placeholder=['net_amount'], multiline=False, custom_value_template=None, hidden=False, description=None), IOLine(key='gross_amount', type='float', rule=None, options=None, multiple_select=False, default=None, placeholder=['gross_amount'], multiline=False, custom_value_template=None, hidden=False, description=None), IOLine(key='tax_rate', type='float', rule=None, options=None, multiple_select=False, default=None, placeholder=['tax_rate'], multiline=False, custom_value_template=None, hidden=False, description=None), IOLine(key='date', type='str', rule=None, options=None, multiple_select=False, default=None, placeholder=['date'], multiline=False, custom_value_template=None, hidden=False, description=None)])"
     },
     "execution_count": 25,
     "metadata": {},
     "output_type": "execute_result"
    }
   ],
   "source": [
    "output_model"
   ],
   "metadata": {
    "collapsed": false,
    "ExecuteTime": {
     "end_time": "2024-02-29T13:05:09.741890Z",
     "start_time": "2024-02-29T13:05:09.736612Z"
    }
   },
   "id": "24f946cea9bbecdb",
   "execution_count": 25
  },
  {
   "cell_type": "code",
   "outputs": [
    {
     "data": {
      "text/plain": "'{\"title\": \"OutputSchema\", \"type\": \"object\", \"properties\": {\"description\": {\"title\": \"Description\", \"description\": \"The description of the expense or what the amount was spend for.\", \"type\": \"string\"}, \"net_amount\": {\"title\": \"Net Amount\", \"type\": \"number\"}, \"gross_amount\": {\"title\": \"Gross Amount\", \"type\": \"number\"}, \"tax_rate\": {\"title\": \"Tax Rate\", \"type\": \"number\"}, \"date\": {\"title\": \"Date\", \"type\": \"string\", \"format\": \"date-time\"}}, \"required\": [\"description\", \"net_amount\", \"gross_amount\", \"tax_rate\", \"date\"]}'"
     },
     "execution_count": 26,
     "metadata": {},
     "output_type": "execute_result"
    }
   ],
   "source": [
    "OutputSchema.schema_json()"
   ],
   "metadata": {
    "collapsed": false,
    "ExecuteTime": {
     "end_time": "2024-02-29T13:05:10.033875Z",
     "start_time": "2024-02-29T13:05:10.027377Z"
    }
   },
   "id": "4475a02b621d74f2",
   "execution_count": 26
  },
  {
   "cell_type": "code",
   "outputs": [
    {
     "ename": "ValueError",
     "evalue": "unconverted data remains:  00:00:00",
     "output_type": "error",
     "traceback": [
      "\u001B[1;31m---------------------------------------------------------------------------\u001B[0m",
      "\u001B[1;31mValueError\u001B[0m                                Traceback (most recent call last)",
      "Cell \u001B[1;32mIn[29], line 3\u001B[0m\n\u001B[0;32m      1\u001B[0m date_str \u001B[38;5;241m=\u001B[39m \u001B[38;5;124m'\u001B[39m\u001B[38;5;124m2021-10-10 00:00:00\u001B[39m\u001B[38;5;124m'\u001B[39m\n\u001B[1;32m----> 3\u001B[0m date \u001B[38;5;241m=\u001B[39m \u001B[43mdatetime\u001B[49m\u001B[38;5;241;43m.\u001B[39;49m\u001B[43mstrptime\u001B[49m\u001B[43m(\u001B[49m\u001B[43mdate_str\u001B[49m\u001B[43m,\u001B[49m\u001B[43m \u001B[49m\u001B[38;5;124;43m\"\u001B[39;49m\u001B[38;5;124;43m%\u001B[39;49m\u001B[38;5;124;43mY-\u001B[39;49m\u001B[38;5;124;43m%\u001B[39;49m\u001B[38;5;124;43mm-\u001B[39;49m\u001B[38;5;132;43;01m%d\u001B[39;49;00m\u001B[38;5;124;43m\"\u001B[39;49m\u001B[43m)\u001B[49m\n\u001B[0;32m      5\u001B[0m \u001B[38;5;28misinstance\u001B[39m(date, datetime)\n",
      "File \u001B[1;32m~\\AppData\\Local\\Programs\\Python\\Python311\\Lib\\_strptime.py:568\u001B[0m, in \u001B[0;36m_strptime_datetime\u001B[1;34m(cls, data_string, format)\u001B[0m\n\u001B[0;32m    565\u001B[0m \u001B[38;5;28;01mdef\u001B[39;00m \u001B[38;5;21m_strptime_datetime\u001B[39m(\u001B[38;5;28mcls\u001B[39m, data_string, \u001B[38;5;28mformat\u001B[39m\u001B[38;5;241m=\u001B[39m\u001B[38;5;124m\"\u001B[39m\u001B[38;5;132;01m%a\u001B[39;00m\u001B[38;5;124m \u001B[39m\u001B[38;5;124m%\u001B[39m\u001B[38;5;124mb \u001B[39m\u001B[38;5;132;01m%d\u001B[39;00m\u001B[38;5;124m \u001B[39m\u001B[38;5;124m%\u001B[39m\u001B[38;5;124mH:\u001B[39m\u001B[38;5;124m%\u001B[39m\u001B[38;5;124mM:\u001B[39m\u001B[38;5;124m%\u001B[39m\u001B[38;5;124mS \u001B[39m\u001B[38;5;124m%\u001B[39m\u001B[38;5;124mY\u001B[39m\u001B[38;5;124m\"\u001B[39m):\n\u001B[0;32m    566\u001B[0m \u001B[38;5;250m    \u001B[39m\u001B[38;5;124;03m\"\"\"Return a class cls instance based on the input string and the\u001B[39;00m\n\u001B[0;32m    567\u001B[0m \u001B[38;5;124;03m    format string.\"\"\"\u001B[39;00m\n\u001B[1;32m--> 568\u001B[0m     tt, fraction, gmtoff_fraction \u001B[38;5;241m=\u001B[39m \u001B[43m_strptime\u001B[49m\u001B[43m(\u001B[49m\u001B[43mdata_string\u001B[49m\u001B[43m,\u001B[49m\u001B[43m \u001B[49m\u001B[38;5;28;43mformat\u001B[39;49m\u001B[43m)\u001B[49m\n\u001B[0;32m    569\u001B[0m     tzname, gmtoff \u001B[38;5;241m=\u001B[39m tt[\u001B[38;5;241m-\u001B[39m\u001B[38;5;241m2\u001B[39m:]\n\u001B[0;32m    570\u001B[0m     args \u001B[38;5;241m=\u001B[39m tt[:\u001B[38;5;241m6\u001B[39m] \u001B[38;5;241m+\u001B[39m (fraction,)\n",
      "File \u001B[1;32m~\\AppData\\Local\\Programs\\Python\\Python311\\Lib\\_strptime.py:352\u001B[0m, in \u001B[0;36m_strptime\u001B[1;34m(data_string, format)\u001B[0m\n\u001B[0;32m    349\u001B[0m     \u001B[38;5;28;01mraise\u001B[39;00m \u001B[38;5;167;01mValueError\u001B[39;00m(\u001B[38;5;124m\"\u001B[39m\u001B[38;5;124mtime data \u001B[39m\u001B[38;5;132;01m%r\u001B[39;00m\u001B[38;5;124m does not match format \u001B[39m\u001B[38;5;132;01m%r\u001B[39;00m\u001B[38;5;124m\"\u001B[39m \u001B[38;5;241m%\u001B[39m\n\u001B[0;32m    350\u001B[0m                      (data_string, \u001B[38;5;28mformat\u001B[39m))\n\u001B[0;32m    351\u001B[0m \u001B[38;5;28;01mif\u001B[39;00m \u001B[38;5;28mlen\u001B[39m(data_string) \u001B[38;5;241m!=\u001B[39m found\u001B[38;5;241m.\u001B[39mend():\n\u001B[1;32m--> 352\u001B[0m     \u001B[38;5;28;01mraise\u001B[39;00m \u001B[38;5;167;01mValueError\u001B[39;00m(\u001B[38;5;124m\"\u001B[39m\u001B[38;5;124munconverted data remains: \u001B[39m\u001B[38;5;132;01m%s\u001B[39;00m\u001B[38;5;124m\"\u001B[39m \u001B[38;5;241m%\u001B[39m\n\u001B[0;32m    353\u001B[0m                       data_string[found\u001B[38;5;241m.\u001B[39mend():])\n\u001B[0;32m    355\u001B[0m iso_year \u001B[38;5;241m=\u001B[39m year \u001B[38;5;241m=\u001B[39m \u001B[38;5;28;01mNone\u001B[39;00m\n\u001B[0;32m    356\u001B[0m month \u001B[38;5;241m=\u001B[39m day \u001B[38;5;241m=\u001B[39m \u001B[38;5;241m1\u001B[39m\n",
      "\u001B[1;31mValueError\u001B[0m: unconverted data remains:  00:00:00"
     ]
    }
   ],
   "source": [
    "date_str = '2021-10-10 00:00:00'\n",
    "\n",
    "date = datetime.strptime(date_str, \"%Y-%m-%d %H:%M:%S\")\n",
    "\n",
    "isinstance(date, datetime)"
   ],
   "metadata": {
    "collapsed": false,
    "ExecuteTime": {
     "end_time": "2024-02-29T13:10:27.665505Z",
     "start_time": "2024-02-29T13:10:27.582889Z"
    }
   },
   "id": "98b54f68054ddc6e",
   "execution_count": 29
  },
  {
   "cell_type": "code",
   "outputs": [
    {
     "data": {
      "text/plain": "{'date': datetime.date(2021, 10, 10),\n 'description': 'The description of the expense or what the amount was spend for.'}"
     },
     "execution_count": 33,
     "metadata": {},
     "output_type": "execute_result"
    }
   ],
   "source": [
    "from yaml import safe_load\n",
    "\n",
    "\n",
    "string = \"\"\"\n",
    "date: 2021-10-10\n",
    "description: The description of the expense or what the amount was spend for.\"\"\"\n",
    "\n",
    "data = safe_load(string)\n",
    "data"
   ],
   "metadata": {
    "collapsed": false,
    "ExecuteTime": {
     "end_time": "2024-02-29T13:59:58.661658Z",
     "start_time": "2024-02-29T13:59:58.655455Z"
    }
   },
   "id": "564a128cd4515903",
   "execution_count": 33
  },
  {
   "cell_type": "code",
   "outputs": [
    {
     "data": {
      "text/plain": "'this is a 2021-10-10'"
     },
     "execution_count": 34,
     "metadata": {},
     "output_type": "execute_result"
    }
   ],
   "source": [
    "f\"this is a {data['date']}\""
   ],
   "metadata": {
    "collapsed": false,
    "ExecuteTime": {
     "end_time": "2024-02-29T13:59:59.612572Z",
     "start_time": "2024-02-29T13:59:59.606702Z"
    }
   },
   "id": "b2b92fed4f984f0c",
   "execution_count": 34
  },
  {
   "cell_type": "code",
   "outputs": [
    {
     "data": {
      "text/plain": "datetime.date(2021, 10, 10)"
     },
     "execution_count": 36,
     "metadata": {},
     "output_type": "execute_result"
    }
   ],
   "source": [
    "data['date']"
   ],
   "metadata": {
    "collapsed": false,
    "ExecuteTime": {
     "end_time": "2024-02-29T14:00:06.896323Z",
     "start_time": "2024-02-29T14:00:06.891163Z"
    }
   },
   "id": "6ae8dc2f6d3a29e0",
   "execution_count": 36
  },
  {
   "cell_type": "markdown",
   "source": [
    "# Test Agent Orchestration"
   ],
   "metadata": {
    "collapsed": false
   },
   "id": "4d8975ba033d2f89"
  },
  {
   "cell_type": "code",
   "outputs": [
    {
     "name": "stdout",
     "output_type": "stream",
     "text": [
      "Job name 'add_expense_to_db' already exists. Using name 'add_expense_to_db_v1' instead.\n",
      "Job name 'check_input_data' already exists. Using name 'check_input_data_v1' instead.\n",
      "Job name 'add_revenue_to_db' already exists. Using name 'add_revenue_to_db_v1' instead.\n",
      "Job with identical InputModel and OutputModel already exists. Using existing check_input_data_v1 instead.\n"
     ]
    }
   ],
   "source": [
    "# tool 1 add Expense db\n",
    "\n",
    "from datetime import datetime\n",
    "from scripts.agent import SingleToolAgent, DummyAgent\n",
    "from pydantic.v1 import BaseModel, Field\n",
    "\n",
    "\n",
    "class OutputSchemaExpense(BaseModel):\n",
    "    description: str = Field(description=\"The description of the expense or what the amount was spend for.\")\n",
    "    net_expense: float\n",
    "    gross_expense: float\n",
    "    tax_rate: float\n",
    "    date: datetime\n",
    "\n",
    "def add_expense_to_db(description: str, net_expense: int, gross_expense: int, tax_rate: float, **kwargs) -> str:\n",
    "    \"\"\"Add an expense to the database.\"\"\"\n",
    "    return f\"Successfully added to database: {description}, {net_expense}, {gross_expense}, {tax_rate}\"\n",
    "\n",
    "agent_exense_db = SingleToolAgent.prepare_job(add_expense_to_db, OutputSchemaExpense, verbose=0, description=\"Useful to add an expense to the database. Information needed: description, net_expense, gross_expense, tax_rate, date.\")\n",
    "\n",
    "\n",
    "# tool 2 add Revenue db\n",
    "class OutputSchemaRevenue(BaseModel):\n",
    "    description: str = Field(description=\"The description of the revenue or what the amount was spend for.\")\n",
    "    net_revenue: float\n",
    "    gross_revenue: float\n",
    "    tax_rate: float\n",
    "    date: datetime\n",
    "    \n",
    "def add_revenue_to_db(description: str, net_revenue: int, gross_revenue: int, tax_rate: float, **kwargs) -> str:\n",
    "    \"\"\"Add a revenue to the database.\"\"\"\n",
    "    return f\"Successfully added revenue to database: {description}, {net_revenue}, {gross_revenue}, {tax_rate}\"\n",
    "\n",
    "agent_revenue_db = SingleToolAgent.prepare_job(add_revenue_to_db, OutputSchemaRevenue, verbose=0, description=\"Useful to add a revenue to the database. Information needed: description, net_revenue, gross_revenue, tax_rate, date.\")\n",
    "\n",
    "# tool 3 get_cureent_date\n",
    "\n",
    "def get_current_date(*args, **kwargs) -> str:\n",
    "    \"\"\"Get the current date.\"\"\"\n",
    "    return f\"Today is {datetime.now()}\"\n",
    "\n",
    "agent_current_date = DummyAgent.prepare_job(get_current_date, verbose=0, description=\"Useful to get the current date. No information needed.\")"
   ],
   "metadata": {
    "collapsed": false,
    "ExecuteTime": {
     "end_time": "2024-03-04T07:07:52.854988Z",
     "start_time": "2024-03-04T07:07:50.460936Z"
    }
   },
   "id": "34c10c690400d46b",
   "execution_count": 1
  },
  {
   "cell_type": "code",
   "outputs": [
    {
     "name": "stdout",
     "output_type": "stream",
     "text": [
      "Job with identical InputModel and OutputModel already exists. Using existing orchester_agent_v4 instead.\n",
      "Job with identical InputModel and OutputModel already exists. Using existing orchester_agent_intermediate_v1 instead.\n",
      "Job with identical InputModel and OutputModel already exists. Using existing orchester_agent_missing_params_v2 instead.\n"
     ]
    }
   ],
   "source": [
    "from scripts.multi_agent import AgentOrchestor\n",
    "\n",
    "orchestrator = AgentOrchestor.prepare_agent(\n",
    "    tools=[agent_exense_db, agent_revenue_db, agent_current_date],\n",
    ")"
   ],
   "metadata": {
    "collapsed": false,
    "ExecuteTime": {
     "end_time": "2024-03-04T07:08:54.915807Z",
     "start_time": "2024-03-04T07:08:54.902874Z"
    }
   },
   "id": "fc9a066d42c57ed5",
   "execution_count": 6
  },
  {
   "cell_type": "code",
   "outputs": [
    {
     "name": "stderr",
     "output_type": "stream",
     "text": [
      "WARNING - Format Inputs (Pre) -  \n",
      "2024-03-04 08:08:56,460 WARNING console_logger: Format Inputs (Pre)\n",
      "WARNING - Prompt -  \n",
      "2024-03-04 08:08:56,464 WARNING console_logger: Prompt\n",
      "WARNING - Execution -  \n",
      "2024-03-04 08:08:58,476 WARNING console_logger: Execution\n",
      "WARNING - Output Parsing -  \n",
      "2024-03-04 08:08:58,478 WARNING console_logger: Output Parsing\n"
     ]
    },
    {
     "name": "stdout",
     "output_type": "stream",
     "text": [
      "\u001B[33mPlan: {'thought': 'The task requires tracking an expense with specific information such as description, net expense, gross expense, tax rate, and date.', 'tool': 'add_expense_to_db', 'tool_input': {'description': 'Coffee', 'net_expense': 5.99, 'gross_expense': 7.1379, 'tax_rate': 0.19, 'date': '2022-10-19'}}\u001B[0m\n"
     ]
    },
    {
     "name": "stderr",
     "output_type": "stream",
     "text": [
      "WARNING - Format Inputs (Pre) -  \n",
      "2024-03-04 08:09:00,863 WARNING console_logger: Format Inputs (Pre)\n",
      "WARNING - Prompt -  \n",
      "2024-03-04 08:09:00,865 WARNING console_logger: Prompt\n"
     ]
    },
    {
     "name": "stdout",
     "output_type": "stream",
     "text": [
      "\u001B[33mTool Result: event='add_expense_to_db' content='Successfully added to database: Coffee, 5.99, 7.1379, 0.19' success=True\u001B[0m\n"
     ]
    },
    {
     "name": "stderr",
     "output_type": "stream",
     "text": [
      "WARNING - Execution -  \n",
      "2024-03-04 08:09:03,685 WARNING console_logger: Execution\n",
      "WARNING - Output Parsing -  \n",
      "2024-03-04 08:09:03,687 WARNING console_logger: Output Parsing\n"
     ]
    },
    {
     "name": "stdout",
     "output_type": "stream",
     "text": [
      "\u001B[33mPlan: {'thought': 'Considering that the expense information has been successfully added to the database, the next step is to report the results of the task, highlighting the key outcomes and relevant details.', 'tool': 'report_tool', 'tool_input': 'Provide a comprehensive summary of the results, detailing the completion of tracking the expense for the coffee. Emphasize the key outcomes, any significant findings, and the overall conclusion.'}\u001B[0m\n",
      "\u001B[32mFinal Result: event='report_tool' content='Provide a comprehensive summary of the results, detailing the completion of tracking the expense for the coffee. Emphasize the key outcomes, any significant findings, and the overall conclusion.' success=True\u001B[0m\n",
      "\u001B[32mFinal Result: Provide a comprehensive summary of the results, detailing the completion of tracking the expense for the coffee. Emphasize the key outcomes, any significant findings, and the overall conclusion.\u001B[0m\n"
     ]
    }
   ],
   "source": [
    "orchestrator.verbose = 1\n",
    "orchestrator.memory = []\n",
    "result, rm = orchestrator.run(task = \"I have spend 5.99 $ for a coffee today, please track my expense. The tax rate is 0.19.\")"
   ],
   "metadata": {
    "collapsed": false,
    "ExecuteTime": {
     "end_time": "2024-03-04T07:09:03.695049Z",
     "start_time": "2024-03-04T07:08:56.457847Z"
    }
   },
   "id": "27b0a21b6d0887a5",
   "execution_count": 7
  },
  {
   "cell_type": "code",
   "outputs": [
    {
     "data": {
      "text/plain": "{'execution_time': 74.97105407714844,\n 'token_usage': 36366,\n 'model_name': 'gpt-3.5-turbo-0125',\n 'model_config': {},\n 'errors': [\"ParsingPartialError( Error while parsing output for key 'Missing parameters'.\\nOutput: \\nMissing parameters:\\n- `current date` )\",\n  'EngineRunError(run_num: 0/4  | Reason: ParsingError)',\n  \"ParsingPartialError( Error while parsing output for key 'Missing parameters'.\\nOutput: \\nMissing parameters:\\n- `current date` )\",\n  'EngineRunError(run_num: 1/4  | Reason: ParsingError)',\n  \"ValidationKeyError( Keys ['thought', 'tool', 'tool_input'] not in output )\",\n  'EngineRunError(run_num: 0/4  | Reason: ValidationError)',\n  \"ParsingPartialError( Error while parsing output for key 'Missing parameters'.\\nOutput: \\nMissing parameters:\\n- `current date` )\",\n  'EngineRunError(run_num: 0/4  | Reason: ParsingError)',\n  \"ParsingPartialError( Error while parsing output for key 'Missing parameters'.\\nOutput: \\nMissing parameters:\\n- `current date` )\",\n  'EngineRunError(run_num: 1/4  | Reason: ParsingError)']}"
     },
     "execution_count": 18,
     "metadata": {},
     "output_type": "execute_result"
    }
   ],
   "source": [
    "rm"
   ],
   "metadata": {
    "collapsed": false,
    "ExecuteTime": {
     "end_time": "2024-03-03T09:03:31.903648Z",
     "start_time": "2024-03-03T09:03:31.897676Z"
    }
   },
   "id": "d03fd1b2359e2283",
   "execution_count": 18
  },
  {
   "cell_type": "code",
   "outputs": [],
   "source": [
    "import unicodedata\n",
    "unicodestr = \"\"\"Plan: {'thought': \"The initial tool selection was incorrect. The correct tool for this task is 'add\\xa0expense\\xa0to\\xa0db', which can add an expense to the database along with the tax rate.\", 'tool': 'add\\xa0expense\\xa0to\\xa0db', 'tool_input': '{\"description\": \"Coffee\", \"net_expense\": 5.99, \"tax\\xa0rate\": 0.19, \"date\": \"$(get\\xa0current\\xa0date)\"}'}\"\"\"\n",
    "\n",
    "new_str = unicodestr\n",
    "new_str = new_str.replace(\"\\xa0\", \"_\")"
   ],
   "metadata": {
    "collapsed": false,
    "ExecuteTime": {
     "end_time": "2024-03-03T07:48:01.746879Z",
     "start_time": "2024-03-03T07:48:01.743044Z"
    }
   },
   "id": "f1577d5a504cd580",
   "execution_count": 17
  },
  {
   "cell_type": "code",
   "outputs": [
    {
     "name": "stdout",
     "output_type": "stream",
     "text": [
      "Plan: {'thought': \"The initial tool selection was incorrect. The correct tool for this task is 'add_expense_to_db', which can add an expense to the database along with the tax rate.\", 'tool': 'add_expense_to_db', 'tool_input': '{\"description\": \"Coffee\", \"net_expense\": 5.99, \"tax_rate\": 0.19, \"date\": \"$(get_current_date)\"}'}\n"
     ]
    }
   ],
   "source": [
    "print(new_str)"
   ],
   "metadata": {
    "collapsed": false,
    "ExecuteTime": {
     "end_time": "2024-03-03T07:48:02.259652Z",
     "start_time": "2024-03-03T07:48:02.256719Z"
    }
   },
   "id": "d237d8adba7d827b",
   "execution_count": 18
  },
  {
   "cell_type": "code",
   "outputs": [
    {
     "data": {
      "text/plain": "'Plan: {\\'thought\\': \"The initial tool selection was incorrect. The correct tool for this task is \\'add\\xa0expense\\xa0to\\xa0db\\', which can add an expense to the database along with the tax rate.\", \\'tool\\': \\'add\\xa0expense\\xa0to\\xa0db\\', \\'tool_input\\': \\'{\"description\": \"Coffee\", \"net_expense\": 5.99, \"tax\\xa0rate\": 0.19, \"date\": \"$(get\\xa0current\\xa0date)\"}\\'}'"
     },
     "execution_count": 19,
     "metadata": {},
     "output_type": "execute_result"
    }
   ],
   "source": [
    "unicodestr"
   ],
   "metadata": {
    "collapsed": false,
    "ExecuteTime": {
     "end_time": "2024-03-03T07:48:15.717435Z",
     "start_time": "2024-03-03T07:48:15.712894Z"
    }
   },
   "id": "90bf1c4f78262765",
   "execution_count": 19
  },
  {
   "cell_type": "code",
   "outputs": [
    {
     "name": "stdout",
     "output_type": "stream",
     "text": [
      "\u001B[33mAction: {'thought': 'I will use the addexpensetodbagent to add the expense of 5.99 $ for a coffee to the database.', 'assigned_agent': 'addexpensetodbagent', 'instruction': 'Add the following expense to the database:\\nDescription: Coffee\\nNet Expense: $5.99\\nGross Expense: $5.99\\nTax Rate: 0%\\nDate: [Current Date]\\n```'}\u001B[0m\n",
      "\u001B[33mTool Result: event='addexpensetodbagent' content=\"Can not execute the task because of missing parameters: ['date']\"\u001B[0m\n"
     ]
    },
    {
     "data": {
      "text/plain": "StepResult(event='addexpensetodbagent', content=\"Can not execute the task because of missing parameters: ['date']\")"
     },
     "execution_count": 10,
     "metadata": {},
     "output_type": "execute_result"
    }
   ],
   "source": [
    "orchestrator.verbose = True\n",
    "\n",
    "input_data = {\n",
    "    \"agents\": orchestrator.prepare_agent_dict(),\n",
    "    \"task\": \"I have spend 5.99 $ for a coffee today.\"\n",
    "}\n",
    "\n",
    "orchestrator.run_step(input_data)"
   ],
   "metadata": {
    "collapsed": false,
    "ExecuteTime": {
     "end_time": "2024-03-02T06:08:54.845378Z",
     "start_time": "2024-03-02T06:08:52.294177Z"
    }
   },
   "id": "7b4ea532bf454324",
   "execution_count": 10
  },
  {
   "cell_type": "code",
   "outputs": [],
   "source": [
    "orchestrator.memory"
   ],
   "metadata": {
    "collapsed": false,
    "ExecuteTime": {
     "end_time": "2024-03-02T06:07:03.749135Z",
     "start_time": "2024-03-02T06:07:03.745329Z"
    }
   },
   "id": "52337e9767f249a",
   "execution_count": 4
  },
  {
   "cell_type": "code",
   "outputs": [
    {
     "name": "stdout",
     "output_type": "stream",
     "text": [
      "{'type': 'string'}\n",
      "list\n",
      "Job with identical InputModel and OutputModel already exists. Using existing orchester_agent_missing_params instead.\n"
     ]
    }
   ],
   "source": [
    "from llmp.services.job_manager import JobManager\n",
    "from pydantic.v1 import BaseModel\n",
    "\n",
    "MISSING_PARAMS = \"\"\"You instructed an agent to complete a task, but you did not provide all the necessary information for the agent to complete the task.\n",
    "You have a set of tools at your disposal, and you can use them to gather the missing information.\n",
    "Decide if you are able to gather the missing information using the tools provided to you.\n",
    "If you are not able to gather the missing information, you should report the missing information to the responsible person.\n",
    "\"\"\"\n",
    "\n",
    "class InputSchemaMissingParams(BaseModel):\n",
    "    failed_instruction: str\n",
    "    issue: str\n",
    "    tools: list[str]\n",
    "    \n",
    "    \n",
    "class ActionSchema(BaseModel):\n",
    "    thought: str\n",
    "    assigned_agent: str\n",
    "    instruction: str\n",
    "\n",
    "job_manager = JobManager()\n",
    "\n",
    "job_missing_params = job_manager.create_job(\n",
    "    job_name=\"orchester_agent_missing_params\",\n",
    "    input_model=InputSchemaMissingParams,\n",
    "    output_model=ActionSchema,\n",
    "    instruction=MISSING_PARAMS,\n",
    ")"
   ],
   "metadata": {
    "collapsed": false,
    "ExecuteTime": {
     "end_time": "2024-03-02T06:43:30.752324Z",
     "start_time": "2024-03-02T06:43:30.741543Z"
    }
   },
   "id": "38d691e2117ac461",
   "execution_count": 6
  },
  {
   "cell_type": "code",
   "outputs": [],
   "source": [
    "input_dict = {\n",
    "    \"failed_instruction\": \"Add the following expense to the database:\\nDescription: Coffee\\nNet Expense: $5.99\\nGross Expense: $5.99\\nTax Rate: 0%\\nDate: [Current Date]\\n```\",\n",
    "    \"issue\": \"Can not execute the task because of missing parameters: ['date']\",\n",
    "    \"tools\": orchestrator.prepare_agent_dict()\n",
    "}\n",
    "\n",
    "result, rm = job_manager.generate_output(job_missing_params, input_dict)"
   ],
   "metadata": {
    "collapsed": false,
    "ExecuteTime": {
     "end_time": "2024-03-02T06:43:33.323932Z",
     "start_time": "2024-03-02T06:43:31.903598Z"
    }
   },
   "id": "88ed92cdf433a1d9",
   "execution_count": 7
  },
  {
   "cell_type": "code",
   "outputs": [
    {
     "data": {
      "text/plain": "{'thought': \"I can use the 'getcurrentdateagent' tool to retrieve the current date and complete the task.\",\n 'assigned_agent': 'getcurrentdateagent',\n 'instruction': 'Retrieve the current date to add it to the expense information and then proceed to add the expense to the database.'}"
     },
     "execution_count": 8,
     "metadata": {},
     "output_type": "execute_result"
    }
   ],
   "source": [
    "result"
   ],
   "metadata": {
    "collapsed": false,
    "ExecuteTime": {
     "end_time": "2024-03-02T06:43:36.697028Z",
     "start_time": "2024-03-02T06:43:36.686952Z"
    }
   },
   "id": "a9da6ec2607c0551",
   "execution_count": 8
  },
  {
   "cell_type": "code",
   "outputs": [
    {
     "data": {
      "text/plain": "['Report', 'Agent', 'Dummy', 'D', 'B']"
     },
     "execution_count": 12,
     "metadata": {},
     "output_type": "execute_result"
    }
   ],
   "source": [
    "import re\n",
    "string = \"ReportAgent\"\n",
    "sting_2 = \"ReportAgentDummyDB\"\n",
    "\n",
    "# split the string by upper case\n",
    "re.findall(r'[A-Z][a-z]*', sting_2)"
   ],
   "metadata": {
    "collapsed": false,
    "ExecuteTime": {
     "end_time": "2024-03-02T07:20:49.296437Z",
     "start_time": "2024-03-02T07:20:49.291833Z"
    }
   },
   "id": "cf38e3a919213b76",
   "execution_count": 12
  },
  {
   "cell_type": "markdown",
   "source": [
    "# Medical"
   ],
   "metadata": {
    "collapsed": false
   },
   "id": "a51c2e3dd32440b7"
  },
  {
   "cell_type": "code",
   "outputs": [],
   "source": [
    "brief = \"\"\"\n",
    "Arztbrief für Schlaganfallpatient\n",
    "\n",
    "Freitext:\n",
    "Angehörige: Frau: Eleonora Müller Tel. 0123-4567890\n",
    "Tochter: Katharina Burgwardt Tel. 0123-4567891\n",
    "\n",
    "Diagnose:\n",
    "Akuter ischämischer Schlaganfall im Versorgungsgebiet der linken mittleren zerebralen Arterie.\n",
    "\n",
    "Anamnese:\n",
    "Herr Müller, ein 64-jähriger Patient, wurde notfallmäßig eingeliefert nach plötzlichem Auftreten von Schwäche in der rechten Körperhälfte und Sprachstörungen, etwa zwei Stunden vor der Aufnahme. Er ist bekannter Hypertoniker, Raucher und berichtet über eine familiäre Prädisposition für kardiovaskuläre Erkrankungen. Keine vorherigen ähnlichen Episoden oder neurologischen Ausfälle.\n",
    "\n",
    "Untersuchungsbefund:\n",
    "Bei der klinischen Untersuchung zeigte sich eine Hemiparese der rechten Seite mit einer Kraft von 3/5 in Arm und Bein, aphasische Sprachstörungen und eine leichte Gesichtsasymmetrie. Bewusstseinsklar, orientiert, keine akuten kognitiven Defizite.\n",
    "\n",
    "Weitere Befunde:\n",
    "\n",
    "CT des Gehirns: Nachweis eines ischämischen Schlaganfalls im Bereich der linken mittleren zerebralen Arterie ohne Anzeichen einer Blutung.\n",
    "Nach Eintreffen im Krankenhaus und Bestätigung der Diagnose mittels CT wurde Herr Müller für eine intravenöse Thrombolyse ausgewählt und diese innerhalb des 4,5-Stunden-Zeitfensters erfolgreich durchgeführt. Im Anschluss erfolgte die Verlegung auf die Stroke Unit zur intensiven Überwachung und Beginn der Sekundärprävention, inklusive Blutdruckeinstellung, antithrombotischer Therapie mit Acetylsalicylsäure und Statintherapie zur Senkung des LDL-Cholesterins. Frührehabilitative Maßnahmen, einschließlich Physiotherapie und Logopädie, wurden initiiert, um die motorischen Funktionen und Sprachfähigkeiten zu verbessern.\n",
    "\n",
    "Empfehlungen zur Nachsorge:\n",
    "Herr Müller wird dringend empfohlen, das Rauchen einzustellen und regelmäßige körperliche Aktivitäten in seinen Alltag zu integrieren. Weiterhin sind regelmäßige Kontrollen des Blutdrucks und des Lipidprofils erforderlich, um das Risiko eines erneuten Schlaganfalls zu minimieren. Eine enge neurologische Nachbetreuung ist zur Anpassung der medikamentösen Therapie und zur Überwachung des Rehabilitationsfortschritts angezeigt.\"\"\""
   ],
   "metadata": {
    "collapsed": false,
    "ExecuteTime": {
     "end_time": "2024-03-03T18:28:31.849456Z",
     "start_time": "2024-03-03T18:28:31.843474Z"
    }
   },
   "id": "a7e580e9a793038c",
   "execution_count": 2
  },
  {
   "cell_type": "code",
   "outputs": [],
   "source": [
    "from pydantic.v1 import BaseModel, Field\n",
    "\n",
    "class Extraction(BaseModel):\n",
    "    thrombolyse_durchgefuehrt: bool\n",
    "    thrombolyse_zeitfenster: str\n",
    "    schlaganfall_lokalisation: str\n",
    "    blutung: bool\n",
    "    ist_raucher: bool\n",
    "    zusammenfassung_anamnese: str\n",
    "    EEG_durchgefuehrt: bool\n",
    "    MRT_durchgefuehrt: bool\n",
    "    \n",
    "    \n",
    "from structgenie.components.input_output import OutputModel\n",
    "\n",
    "schema = OutputModel.from_pydantic(Extraction).template_schema\n"
   ],
   "metadata": {
    "collapsed": false,
    "ExecuteTime": {
     "end_time": "2024-03-03T18:30:53.175823Z",
     "start_time": "2024-03-03T18:30:53.169112Z"
    }
   },
   "id": "8614275da298ed54",
   "execution_count": 4
  },
  {
   "cell_type": "code",
   "outputs": [],
   "source": [
    "from typing import Optional\n",
    "\n",
    "from llmp.services.program import Program\n",
    "\n",
    "class CheckInputDataInput(BaseModel):\n",
    "    text: str\n",
    "    parameter: str\n",
    "\n",
    "\n",
    "class CheckInputDataOutput(BaseModel):\n",
    "    information_sufficient: bool\n",
    "    missing_parameters: list\n",
    "    reason: str\n",
    "\n",
    "\n",
    "program_missing = Program(\n",
    "    signature=\"check_missing\",\n",
    "    instruction=\"Verify if all parameters are present in the input text or if some are missing\",\n",
    "    input_model=CheckInputDataInput,\n",
    "    output_model=CheckInputDataOutput\n",
    "    )"
   ],
   "metadata": {
    "collapsed": false,
    "ExecuteTime": {
     "end_time": "2024-03-03T18:28:36.914572Z",
     "start_time": "2024-03-03T18:28:33.945892Z"
    }
   },
   "id": "db310288b7693067",
   "execution_count": 3
  },
  {
   "cell_type": "code",
   "outputs": [
    {
     "data": {
      "text/plain": "'Thrombolyse durchgefuehrt: <bool>\\nThrombolyse zeitfenster: <str>\\nSchlaganfall lokalisation: <str>\\nBlutung: <bool>\\nIst raucher: <bool>\\nZusammenfassung anamnese: <str>\\nEeg durchgefuehrt: <bool>\\nMrt durchgefuehrt: <bool>'"
     },
     "execution_count": 6,
     "metadata": {},
     "output_type": "execute_result"
    }
   ],
   "source": [
    "schema"
   ],
   "metadata": {
    "collapsed": false,
    "ExecuteTime": {
     "end_time": "2024-03-03T18:31:04.159796Z",
     "start_time": "2024-03-03T18:31:04.152231Z"
    }
   },
   "id": "9be640a075833ac8",
   "execution_count": 6
  },
  {
   "cell_type": "code",
   "outputs": [
    {
     "data": {
      "text/plain": "{'information_sufficient': False,\n 'missing_parameters': ['Thrombolyse durchgefuehrt: <bool>',\n  'Thrombolyse zeitfenster: <str>',\n  'Blutung: <bool>',\n  'Zusammenfassung anamnese: <str>',\n  'Eeg durchgefuehrt: <bool>',\n  'Mrt durchgefuehrt: <bool>'],\n 'reason': 'Parameters related to thrombolysis, bleeding, summary of anamnesis, EEG and MRI are missing in the text.'}"
     },
     "execution_count": 7,
     "metadata": {},
     "output_type": "execute_result"
    }
   ],
   "source": [
    "program_missing({\n",
    "    \"text\":brief,\n",
    "    \"parameter\":schema\n",
    "})"
   ],
   "metadata": {
    "collapsed": false,
    "ExecuteTime": {
     "end_time": "2024-03-03T18:31:11.201243Z",
     "start_time": "2024-03-03T18:31:08.543463Z"
    }
   },
   "id": "a966529a86f96032",
   "execution_count": 7
  },
  {
   "cell_type": "code",
   "outputs": [],
   "source": [],
   "metadata": {
    "collapsed": false
   },
   "id": "218ae4ed0c426bf0"
  }
 ],
 "metadata": {
  "kernelspec": {
   "display_name": "Python 3",
   "language": "python",
   "name": "python3"
  },
  "language_info": {
   "codemirror_mode": {
    "name": "ipython",
    "version": 2
   },
   "file_extension": ".py",
   "mimetype": "text/x-python",
   "name": "python",
   "nbconvert_exporter": "python",
   "pygments_lexer": "ipython2",
   "version": "2.7.6"
  }
 },
 "nbformat": 4,
 "nbformat_minor": 5
}
