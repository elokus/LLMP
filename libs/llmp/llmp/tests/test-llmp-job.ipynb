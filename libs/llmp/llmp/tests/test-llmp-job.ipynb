{
 "cells": [
  {
   "cell_type": "markdown",
   "source": [
    "How to find a Job from database"
   ],
   "metadata": {
    "collapsed": false
   },
   "id": "e8adae4af833e5a"
  },
  {
   "cell_type": "code",
   "execution_count": 4,
   "id": "initial_id",
   "metadata": {
    "collapsed": true,
    "ExecuteTime": {
     "end_time": "2023-10-10T09:49:45.264712500Z",
     "start_time": "2023-10-10T09:49:45.173666900Z"
    }
   },
   "outputs": [],
   "source": [
    "from typing import Literal\n",
    "from pydantic import BaseModel\n",
    "description = \"Define the data types needed to create a output product. Using the output description and provided data sources, decide on the types of data to be used.\"\n",
    "\n",
    "class Input(BaseModel):\n",
    "    description: str\n",
    "    sources: list[Literal[\"internal\", \"external\"]]\n",
    "    \n",
    "class Output(BaseModel):\n",
    "    external_types: list[Literal['numeric/tabular data', 'textual data', 'multimedia data', 'code', None]]\n",
    "    internal_types: list[Literal['numeric/tabular data', 'textual data', 'multimedia data', 'code', None]]\n",
    "    \n",
    "    \n",
    "input_example = [\n",
    "    Input(\n",
    "        description=\"A research paper on the effects of climate change on agriculture to be written\",\n",
    "        sources=[\"external\"]\n",
    "    ),\n",
    "    Input(\n",
    "        description=\"An internal report on the effects of climate change on agriculture to be written\",\n",
    "        sources=[\"internal\", \"external\"]\n",
    "    )\n",
    "    ]\n",
    "\n",
    "output_example = [\n",
    "    Output(\n",
    "        external_types=[\"numeric/tabular data\", \"textual data\"],\n",
    "        internal_types=[]\n",
    "    ),\n",
    "    Output(\n",
    "        external_types=[\"numeric/tabular data\", \"textual data\"],\n",
    "        internal_types=[\"numeric/tabular data\", \"textual data\"]\n",
    "    )\n",
    "    ]"
   ]
  },
  {
   "cell_type": "code",
   "execution_count": 5,
   "outputs": [
    {
     "data": {
      "text/plain": "JobRecord(idx='28b29c66fe9543e9a16aa25a1be22922', job_name='define data types', version=0, is_explicit=False, input_model=InputModel(lines=[IOLine(key='description', type='str', rule=None, options=None, multiple_select=False, default=None, placeholder=['description'], multiline=False, custom_value_template=None), IOLine(key='sources', type='list[str]', rule=None, options=['internal', 'external'], multiple_select=True, default=None, placeholder=['sources'], multiline=False, custom_value_template=None)]), output_model=OutputModel(lines=[IOLine(key='external_types', type='list[str]', rule=None, options=['numeric/tabular data', 'textual data', 'multimedia data', 'code'], multiple_select=True, default=None, placeholder=['external_types'], multiline=False, custom_value_template=None), IOLine(key='internal_types', type='list[str]', rule=None, options=['numeric/tabular data', 'textual data', 'multimedia data', 'code'], multiple_select=True, default=None, placeholder=['internal_types'], multiline=False, custom_value_template=None)]), example_records=[ExampleRecord(idx='828284c89f564648a02e8b0581af3f45', example=Example(input={'description': 'A research paper on the effects of climate change on agriculture to be written', 'sources': ['external']}, output={'external_types': ['numeric/tabular data', 'textual data'], 'internal_types': []}), version=0, version_history={}, gen_event_id=None, verification_type=<VerificationType.HUMAN_VERIFIED: 5>, reliability=1.0), ExampleRecord(idx='756a92d9a8ae46eaaf390aaa8423d9ef', example=Example(input={'description': 'An internal report on the effects of climate change on agriculture to be written', 'sources': ['internal', 'external']}, output={'external_types': ['numeric/tabular data', 'textual data'], 'internal_types': ['numeric/tabular data', 'textual data']}), version=0, version_history={}, gen_event_id=None, verification_type=<VerificationType.HUMAN_VERIFIED: 5>, reliability=1.0)], instruction='Define the data types needed to create a output product. Using the output description and provided data sources, decide on the types of data to be used.', metrics=None, version_history={}, generation_log=[], event_log=[])"
     },
     "execution_count": 5,
     "metadata": {},
     "output_type": "execute_result"
    }
   ],
   "source": [
    "from llmp.components.job_manager import JobManager\n",
    "\n",
    "\n",
    "job_manager = JobManager()\n",
    "\n",
    "job_manager.create_job( \"define data types\", description=description, input_examples=input_example, output_examples=output_example)"
   ],
   "metadata": {
    "collapsed": false,
    "ExecuteTime": {
     "end_time": "2023-10-10T09:49:45.546447400Z",
     "start_time": "2023-10-10T09:49:45.188983600Z"
    }
   },
   "id": "c8b70ff9ab751e5"
  },
  {
   "cell_type": "code",
   "execution_count": 6,
   "outputs": [
    {
     "ename": "FileNotFoundError",
     "evalue": "[Errno 2] No such file or directory: './data/jobs/fa53d7c7db4b4fd4b7c1eab7b98f188b/metadata.json'",
     "output_type": "error",
     "traceback": [
      "\u001B[1;31m---------------------------------------------------------------------------\u001B[0m",
      "\u001B[1;31mFileNotFoundError\u001B[0m                         Traceback (most recent call last)",
      "Cell \u001B[1;32mIn[6], line 5\u001B[0m\n\u001B[0;32m      1\u001B[0m \u001B[38;5;28;01mimport\u001B[39;00m \u001B[38;5;21;01mjson\u001B[39;00m\n\u001B[0;32m      3\u001B[0m path \u001B[38;5;241m=\u001B[39m \u001B[38;5;124m\"\u001B[39m\u001B[38;5;124m./data/jobs/fa53d7c7db4b4fd4b7c1eab7b98f188b/metadata.json\u001B[39m\u001B[38;5;124m\"\u001B[39m\n\u001B[1;32m----> 5\u001B[0m json\u001B[38;5;241m.\u001B[39mload(\u001B[38;5;28;43mopen\u001B[39;49m\u001B[43m(\u001B[49m\u001B[43mpath\u001B[49m\u001B[43m)\u001B[49m)\n",
      "File \u001B[1;32m~\\miniconda3\\envs\\detectron39\\Lib\\site-packages\\IPython\\core\\interactiveshell.py:284\u001B[0m, in \u001B[0;36m_modified_open\u001B[1;34m(file, *args, **kwargs)\u001B[0m\n\u001B[0;32m    277\u001B[0m \u001B[38;5;28;01mif\u001B[39;00m file \u001B[38;5;129;01min\u001B[39;00m {\u001B[38;5;241m0\u001B[39m, \u001B[38;5;241m1\u001B[39m, \u001B[38;5;241m2\u001B[39m}:\n\u001B[0;32m    278\u001B[0m     \u001B[38;5;28;01mraise\u001B[39;00m \u001B[38;5;167;01mValueError\u001B[39;00m(\n\u001B[0;32m    279\u001B[0m         \u001B[38;5;124mf\u001B[39m\u001B[38;5;124m\"\u001B[39m\u001B[38;5;124mIPython won\u001B[39m\u001B[38;5;124m'\u001B[39m\u001B[38;5;124mt let you open fd=\u001B[39m\u001B[38;5;132;01m{\u001B[39;00mfile\u001B[38;5;132;01m}\u001B[39;00m\u001B[38;5;124m by default \u001B[39m\u001B[38;5;124m\"\u001B[39m\n\u001B[0;32m    280\u001B[0m         \u001B[38;5;124m\"\u001B[39m\u001B[38;5;124mas it is likely to crash IPython. If you know what you are doing, \u001B[39m\u001B[38;5;124m\"\u001B[39m\n\u001B[0;32m    281\u001B[0m         \u001B[38;5;124m\"\u001B[39m\u001B[38;5;124myou can use builtins\u001B[39m\u001B[38;5;124m'\u001B[39m\u001B[38;5;124m open.\u001B[39m\u001B[38;5;124m\"\u001B[39m\n\u001B[0;32m    282\u001B[0m     )\n\u001B[1;32m--> 284\u001B[0m \u001B[38;5;28;01mreturn\u001B[39;00m \u001B[43mio_open\u001B[49m\u001B[43m(\u001B[49m\u001B[43mfile\u001B[49m\u001B[43m,\u001B[49m\u001B[43m \u001B[49m\u001B[38;5;241;43m*\u001B[39;49m\u001B[43margs\u001B[49m\u001B[43m,\u001B[49m\u001B[43m \u001B[49m\u001B[38;5;241;43m*\u001B[39;49m\u001B[38;5;241;43m*\u001B[39;49m\u001B[43mkwargs\u001B[49m\u001B[43m)\u001B[49m\n",
      "\u001B[1;31mFileNotFoundError\u001B[0m: [Errno 2] No such file or directory: './data/jobs/fa53d7c7db4b4fd4b7c1eab7b98f188b/metadata.json'"
     ]
    }
   ],
   "source": [
    "import json\n",
    "\n",
    "path = \"./data/jobs/fa53d7c7db4b4fd4b7c1eab7b98f188b/metadata.json\"\n",
    "\n",
    "json.load(open(path))"
   ],
   "metadata": {
    "collapsed": false,
    "ExecuteTime": {
     "end_time": "2023-10-10T09:49:45.562068500Z",
     "start_time": "2023-10-10T09:49:45.208787800Z"
    }
   },
   "id": "74111f29bf594c3a"
  },
  {
   "cell_type": "code",
   "execution_count": null,
   "outputs": [],
   "source": [
    "from llmp.components.job_manager import JobManager\n",
    "from llmp.components.generator.input_generator import InputGenerator\n",
    "import os\n",
    "\n",
    "\n",
    "\n",
    "job_manager = JobManager()\n",
    "job = job_manager.get_job('4af86a438f79472097a90e454ff4f53c')"
   ],
   "metadata": {
    "collapsed": false,
    "ExecuteTime": {
     "start_time": "2023-10-10T09:49:45.282415300Z"
    }
   },
   "id": "c389dd0b72c72edd"
  },
  {
   "cell_type": "code",
   "execution_count": null,
   "outputs": [],
   "source": [
    "job.example_records"
   ],
   "metadata": {
    "collapsed": false,
    "ExecuteTime": {
     "start_time": "2023-10-10T09:49:45.282415300Z"
    }
   },
   "id": "62d35048b8cde9f9"
  },
  {
   "cell_type": "code",
   "execution_count": null,
   "outputs": [],
   "source": [
    "from llmp.components.generator.input_generator import InputGenerator\n",
    "import os\n",
    "\n",
    "\n",
    "input_generator = InputGenerator()\n",
    "output = input_generator.generate(job, debug=True)\n",
    "print(output)"
   ],
   "metadata": {
    "collapsed": false,
    "ExecuteTime": {
     "start_time": "2023-10-10T09:49:45.282415300Z"
    }
   },
   "id": "3c5dd42f866b42dd"
  },
  {
   "cell_type": "code",
   "execution_count": null,
   "outputs": [],
   "source": [
    "output = [{'description': 'A user manual for a new software application to be created',\n",
    "  'sources': ['internal']},\n",
    " {'description': \"A presentation on the company's financial performance to be prepared\",\n",
    "  'sources': ['internal', 'external']},\n",
    " {'description': 'A training guide for new employees to be developed',\n",
    "  'sources': ['internal']},\n",
    " {'description': 'A business proposal for a new project to be drafted',\n",
    "  'sources': ['internal', 'external']},\n",
    " {'description': 'A marketing campaign plan for a new product launch to be created',\n",
    "  'sources': ['internal', 'external']},\n",
    " {'description': 'A project timeline for a construction project to be established',\n",
    "  'sources': ['internal']},\n",
    " {'description': 'A social media content calendar for a marketing campaign to be developed',\n",
    "  'sources': ['internal']},\n",
    " {'description': 'A code documentation for a software library to be written',\n",
    "  'sources': ['internal', 'external']},\n",
    " {'description': 'A report on customer feedback analysis to be prepared',\n",
    "  'sources': ['internal']},\n",
    " {'description': 'A strategic plan for company growth to be formulated',\n",
    "  'sources': ['internal', 'external']},\n",
    " {'description': 'A financial forecast for the next quarter to be created',\n",
    "  'sources': ['internal']},\n",
    " {'description': 'A survey questionnaire for market research to be designed',\n",
    "  'sources': ['external']},\n",
    " {'description': 'A troubleshooting guide for a software application to be developed',\n",
    "  'sources': ['internal']},\n",
    " {'description': 'An inventory management system for a retail store to be designed',\n",
    "  'sources': ['internal']},\n",
    " {'description': 'A safety protocol for a manufacturing facility to be established',\n",
    "  'sources': ['internal']},\n",
    " {'description': 'A customer satisfaction survey to be conducted',\n",
    "  'sources': ['external']},\n",
    " {'description': 'A performance evaluation form for employees to be designed',\n",
    "  'sources': ['internal']},\n",
    " {'description': 'A product packaging design for a new product to be created',\n",
    "  'sources': ['internal', 'external']},\n",
    " {'description': 'An employee handbook for a company to be written',\n",
    "  'sources': ['internal']},\n",
    " {'description': 'A market analysis report to be prepared',\n",
    "  'sources': ['external']}]"
   ],
   "metadata": {
    "collapsed": false,
    "ExecuteTime": {
     "start_time": "2023-10-10T09:49:45.282415300Z"
    }
   },
   "id": "9704d6afaaf846de"
  },
  {
   "cell_type": "code",
   "execution_count": null,
   "outputs": [],
   "source": [
    "from structgenie.validation.validator import Validator\n",
    "\n",
    "validator = Validator.from_output_model(job.input_model)"
   ],
   "metadata": {
    "collapsed": false,
    "ExecuteTime": {
     "start_time": "2023-10-10T09:49:45.282415300Z"
    }
   },
   "id": "430de9c504a6cfa5"
  },
  {
   "cell_type": "code",
   "execution_count": null,
   "outputs": [],
   "source": [
    "validator.validation_config"
   ],
   "metadata": {
    "collapsed": false,
    "ExecuteTime": {
     "start_time": "2023-10-10T09:49:45.296427500Z"
    }
   },
   "id": "aec5077a16541b97"
  },
  {
   "cell_type": "markdown",
   "source": [
    "# Generate Outputs"
   ],
   "metadata": {
    "collapsed": false
   },
   "id": "a262226313941a0d"
  },
  {
   "cell_type": "code",
   "execution_count": null,
   "outputs": [],
   "source": [
    "from llmp.components.generator.major_vote_generator import MajorVoteGenerator\n",
    "\n",
    "\n",
    "mvgen = MajorVoteGenerator()\n",
    "for input_ in output:\n",
    "    output = mvgen.generate(job, inputs=input_, debug=True)\n",
    "    job.add_example(input_example=input_, output_example=output)"
   ],
   "metadata": {
    "collapsed": false,
    "ExecuteTime": {
     "start_time": "2023-10-10T09:49:45.296427500Z"
    }
   },
   "id": "823ed317694bf2ca"
  },
  {
   "cell_type": "code",
   "execution_count": null,
   "outputs": [],
   "source": [
    "output"
   ],
   "metadata": {
    "collapsed": false,
    "ExecuteTime": {
     "start_time": "2023-10-10T09:49:45.296427500Z"
    }
   },
   "id": "e25f8d3a1006adb6"
  },
  {
   "cell_type": "code",
   "execution_count": null,
   "outputs": [],
   "source": [
    "job.save()"
   ],
   "metadata": {
    "collapsed": false,
    "ExecuteTime": {
     "start_time": "2023-10-10T09:49:45.296427500Z"
    }
   },
   "id": "5dcf4ebf987291b1"
  },
  {
   "cell_type": "code",
   "execution_count": null,
   "outputs": [],
   "source": [
    "from structgenie.templates import extract_sections\n",
    "\n",
    "sections = extract_sections(job.to_template())"
   ],
   "metadata": {
    "collapsed": false,
    "ExecuteTime": {
     "start_time": "2023-10-10T09:49:45.374574100Z"
    }
   },
   "id": "8d74eb67a3ca758c"
  },
  {
   "cell_type": "code",
   "execution_count": null,
   "outputs": [],
   "source": [
    "from structgenie.input_output import load_input_model\n",
    "\n",
    "load_input_model(sections)"
   ],
   "metadata": {
    "collapsed": false,
    "ExecuteTime": {
     "start_time": "2023-10-10T09:49:45.374574100Z"
    }
   },
   "id": "4379d07fdc44e938"
  },
  {
   "cell_type": "code",
   "execution_count": null,
   "outputs": [],
   "source": [
    "sections.get(\"input_schema\")"
   ],
   "metadata": {
    "collapsed": false,
    "ExecuteTime": {
     "start_time": "2023-10-10T09:49:45.374574100Z"
    }
   },
   "id": "61892a4ce06e6f33"
  },
  {
   "cell_type": "code",
   "execution_count": null,
   "outputs": [],
   "source": [
    "from llmp.components.job_manager import JobManager\n",
    "\n",
    "\n",
    "job_manager = JobManager()\n",
    "job_manager.update_job(job)"
   ],
   "metadata": {
    "collapsed": false,
    "ExecuteTime": {
     "start_time": "2023-10-10T09:49:45.374574100Z"
    }
   },
   "id": "8092f83efc3a19e9"
  },
  {
   "cell_type": "code",
   "execution_count": null,
   "outputs": [],
   "source": [
    "job.idx = str(job.idx)"
   ],
   "metadata": {
    "collapsed": false,
    "ExecuteTime": {
     "start_time": "2023-10-10T09:49:45.374574100Z"
    }
   },
   "id": "9c55121c5a187758"
  },
  {
   "cell_type": "code",
   "execution_count": null,
   "outputs": [],
   "source": [
    "import json\n",
    "from uuid import UUID\n",
    "\n",
    "\n",
    "class UUIDEncoder(json.JSONEncoder):\n",
    "    def default(self, obj):\n",
    "        if isinstance(obj, UUID):\n",
    "            # if the obj is uuid, we simply return the value of uuid\n",
    "            return obj.hex\n",
    "        return json.JSONEncoder.default(self, obj)"
   ],
   "metadata": {
    "collapsed": false,
    "ExecuteTime": {
     "start_time": "2023-10-10T09:49:45.374574100Z"
    }
   },
   "id": "56663514558284d4"
  },
  {
   "cell_type": "code",
   "execution_count": null,
   "outputs": [],
   "source": [
    "job_dir = job._get_job_directory(job_manager.base_path)\n",
    "import json\n",
    "\n",
    "with (job_dir / \"examples.json\").open('w') as f:\n",
    "    json.dump([example.dict() for example in job.example_records], f, cls=UUIDEncoder)"
   ],
   "metadata": {
    "collapsed": false,
    "ExecuteTime": {
     "start_time": "2023-10-10T09:49:45.374574100Z"
    }
   },
   "id": "149ccc68bc53ec33"
  },
  {
   "cell_type": "code",
   "execution_count": null,
   "outputs": [],
   "source": [
    "job.save(job_manager.base_path)"
   ],
   "metadata": {
    "collapsed": false,
    "ExecuteTime": {
     "start_time": "2023-10-10T09:49:45.374574100Z"
    }
   },
   "id": "ac35f6f97d5490a1"
  },
  {
   "cell_type": "code",
   "execution_count": null,
   "outputs": [],
   "source": [
    "import itertools\n",
    "all = [1, 2, 3, 4, 5, 6, 7, 8, 9, 10, 11, 12, 13, 14, 15]\n",
    "\n",
    "combintations = [i for i in itertools.combinations(all, 2)]\n",
    "for i in combintations:\n",
    "    print(i)"
   ],
   "metadata": {
    "collapsed": false,
    "ExecuteTime": {
     "start_time": "2023-10-10T09:49:45.390197200Z"
    }
   },
   "id": "1987439f06183778"
  },
  {
   "cell_type": "code",
   "execution_count": 2,
   "outputs": [
    {
     "data": {
      "text/plain": "37"
     },
     "execution_count": 2,
     "metadata": {},
     "output_type": "execute_result"
    }
   ],
   "source": [
    "len(\"Preparing Job - Creating Test Set #5:\")"
   ],
   "metadata": {
    "collapsed": false,
    "ExecuteTime": {
     "end_time": "2023-10-12T10:39:18.713204100Z",
     "start_time": "2023-10-12T10:39:18.665601400Z"
    }
   },
   "id": "a98e11decbb581bc"
  },
  {
   "cell_type": "code",
   "execution_count": 1,
   "outputs": [],
   "source": [
    "from llmp.components.job_manager import JobManager\n",
    "import os\n",
    "job = JobManager().get_job(\"fbe99910ff1f4f4e8e87940c72980ddc\")"
   ],
   "metadata": {
    "collapsed": false,
    "ExecuteTime": {
     "end_time": "2023-10-12T10:47:46.032799300Z",
     "start_time": "2023-10-12T10:47:43.802317900Z"
    }
   },
   "id": "9505a3ab2b0aa9a1"
  },
  {
   "cell_type": "code",
   "execution_count": 2,
   "outputs": [
    {
     "name": "stderr",
     "output_type": "stream",
     "text": [
      "Testing Example Sets - Size 2/4:   0%|          | 0/3 [00:00<?, ?it/s]         \n",
      "  > Evaluating Examples                 :   0%|          | 0/15 [00:00<?, ?it/s]\u001B[A\n",
      "  > Evaluating Examples                 :   7%|▋         | 1/15 [00:05<01:19,  5.70s/it]\u001B[AUnclosed client session\n",
      "client_session: <aiohttp.client.ClientSession object at 0x000001FC5ABE5590>\n",
      "Unclosed client session\n",
      "client_session: <aiohttp.client.ClientSession object at 0x000001FC5AB316D0>\n",
      "Unclosed client session\n",
      "client_session: <aiohttp.client.ClientSession object at 0x000001FC5ABFD010>\n",
      "Unclosed client session\n",
      "client_session: <aiohttp.client.ClientSession object at 0x000001FC5ABFD750>\n",
      "Unclosed client session\n",
      "client_session: <aiohttp.client.ClientSession object at 0x000001FC5ABF6290>\n"
     ]
    },
    {
     "ename": "KeyboardInterrupt",
     "evalue": "",
     "output_type": "error",
     "traceback": [
      "\u001B[1;31m---------------------------------------------------------------------------\u001B[0m",
      "\u001B[1;31mKeyboardInterrupt\u001B[0m                         Traceback (most recent call last)",
      "Cell \u001B[1;32mIn[2], line 6\u001B[0m\n\u001B[0;32m      2\u001B[0m \u001B[38;5;28;01mimport\u001B[39;00m \u001B[38;5;21;01mos\u001B[39;00m\n\u001B[0;32m      4\u001B[0m optimizer \u001B[38;5;241m=\u001B[39m ExampleOptimizer(job, debug\u001B[38;5;241m=\u001B[39m\u001B[38;5;28;01mTrue\u001B[39;00m)\n\u001B[1;32m----> 6\u001B[0m best_option, best_metric \u001B[38;5;241m=\u001B[39m \u001B[43moptimizer\u001B[49m\u001B[38;5;241;43m.\u001B[39;49m\u001B[43moptimize\u001B[49m\u001B[43m(\u001B[49m\u001B[43m)\u001B[49m\n",
      "File \u001B[1;32m~\\Codes\\DataspellProjects\\StructGenie\\llmp\\components\\optimization\\examples.py:96\u001B[0m, in \u001B[0;36mExampleOptimizer.optimize\u001B[1;34m(self, mode, metric)\u001B[0m\n\u001B[0;32m     91\u001B[0m example_sets \u001B[38;5;241m=\u001B[39m \u001B[38;5;28mself\u001B[39m\u001B[38;5;241m.\u001B[39mexample_manager\u001B[38;5;241m.\u001B[39mget_possible_sets(\u001B[38;5;241m1\u001B[39m, exclude_ids\u001B[38;5;241m=\u001B[39mexclude_set)\n\u001B[0;32m     92\u001B[0m test_settings \u001B[38;5;241m=\u001B[39m [\n\u001B[0;32m     93\u001B[0m     {\u001B[38;5;124m\"\u001B[39m\u001B[38;5;124mexample_ids\u001B[39m\u001B[38;5;124m\"\u001B[39m: [\u001B[38;5;241m*\u001B[39mcurrent_set, \u001B[38;5;241m*\u001B[39m[e\u001B[38;5;241m.\u001B[39midx \u001B[38;5;28;01mfor\u001B[39;00m e \u001B[38;5;129;01min\u001B[39;00m example_set]]}\n\u001B[0;32m     94\u001B[0m     \u001B[38;5;28;01mfor\u001B[39;00m example_set \u001B[38;5;129;01min\u001B[39;00m example_sets\n\u001B[0;32m     95\u001B[0m ]\n\u001B[1;32m---> 96\u001B[0m result \u001B[38;5;241m=\u001B[39m \u001B[38;5;28;43mself\u001B[39;49m\u001B[38;5;241;43m.\u001B[39;49m\u001B[43mevaluate\u001B[49m\u001B[43m(\u001B[49m\u001B[43mtest_settings\u001B[49m\u001B[43m)\u001B[49m\n\u001B[0;32m     97\u001B[0m best_index \u001B[38;5;241m=\u001B[39m result\u001B[38;5;241m.\u001B[39mindex(\u001B[38;5;28mmax\u001B[39m(result, key\u001B[38;5;241m=\u001B[39m\u001B[38;5;28;01mlambda\u001B[39;00m x: x[metric]))\n\u001B[0;32m     98\u001B[0m best_setting \u001B[38;5;241m=\u001B[39m test_settings[best_index]\n",
      "File \u001B[1;32m~\\Codes\\DataspellProjects\\StructGenie\\llmp\\components\\optimization\\examples.py:121\u001B[0m, in \u001B[0;36mExampleOptimizer.evaluate\u001B[1;34m(self, job_settings, **kwargs)\u001B[0m\n\u001B[0;32m    119\u001B[0m \u001B[38;5;28;01mfor\u001B[39;00m idx, job_setting \u001B[38;5;129;01min\u001B[39;00m \u001B[38;5;28menumerate\u001B[39m(job_settings):\n\u001B[0;32m    120\u001B[0m     evaluator \u001B[38;5;241m=\u001B[39m EvaluationEngine(\u001B[38;5;28mself\u001B[39m\u001B[38;5;241m.\u001B[39mjob, \u001B[38;5;28mself\u001B[39m\u001B[38;5;241m.\u001B[39mRUN_PER_SAMPLE)\n\u001B[1;32m--> 121\u001B[0m     result \u001B[38;5;241m=\u001B[39m \u001B[43mevaluator\u001B[49m\u001B[38;5;241;43m.\u001B[39;49m\u001B[43mevaluate\u001B[49m\u001B[43m(\u001B[49m\u001B[38;5;28;43mself\u001B[39;49m\u001B[38;5;241;43m.\u001B[39;49m\u001B[43mtest_set\u001B[49m\u001B[43m,\u001B[49m\u001B[43m \u001B[49m\u001B[43mjob_setting\u001B[49m\u001B[43m)\u001B[49m\n\u001B[0;32m    122\u001B[0m     results\u001B[38;5;241m.\u001B[39mappend(result)\n\u001B[0;32m    123\u001B[0m     pbar\u001B[38;5;241m.\u001B[39mupdate(\u001B[38;5;241m1\u001B[39m)\n",
      "File \u001B[1;32m~\\Codes\\DataspellProjects\\StructGenie\\llmp\\components\\evaluation\\engine.py:24\u001B[0m, in \u001B[0;36mEvaluationEngine.evaluate\u001B[1;34m(self, records, job_settings)\u001B[0m\n\u001B[0;32m     21\u001B[0m generator \u001B[38;5;241m=\u001B[39m SequentialAsyncGenerator(\u001B[38;5;28mself\u001B[39m\u001B[38;5;241m.\u001B[39mjob, job_settings, \u001B[38;5;28mself\u001B[39m\u001B[38;5;241m.\u001B[39m_num_runs)\n\u001B[0;32m     23\u001B[0m \u001B[38;5;66;03m# generate outputs\u001B[39;00m\n\u001B[1;32m---> 24\u001B[0m results \u001B[38;5;241m=\u001B[39m \u001B[43mgenerator\u001B[49m\u001B[38;5;241;43m.\u001B[39;49m\u001B[43mgenerate\u001B[49m\u001B[43m(\u001B[49m\u001B[43minput_data\u001B[49m\u001B[38;5;241;43m=\u001B[39;49m\u001B[43m[\u001B[49m\u001B[43mrecord\u001B[49m\u001B[38;5;241;43m.\u001B[39;49m\u001B[43minput\u001B[49m\u001B[43m \u001B[49m\u001B[38;5;28;43;01mfor\u001B[39;49;00m\u001B[43m \u001B[49m\u001B[43mrecord\u001B[49m\u001B[43m \u001B[49m\u001B[38;5;129;43;01min\u001B[39;49;00m\u001B[43m \u001B[49m\u001B[43mrecords\u001B[49m\u001B[43m]\u001B[49m\u001B[43m)\u001B[49m\n\u001B[0;32m     25\u001B[0m \u001B[38;5;28;01massert\u001B[39;00m \u001B[38;5;28mlen\u001B[39m(results) \u001B[38;5;241m==\u001B[39m \u001B[38;5;28mlen\u001B[39m(records)\n\u001B[0;32m     27\u001B[0m sample_metrics \u001B[38;5;241m=\u001B[39m []\n",
      "File \u001B[1;32m~\\Codes\\DataspellProjects\\StructGenie\\llmp\\components\\generator\\concurrent.py:92\u001B[0m, in \u001B[0;36mSequentialAsyncGenerator.generate\u001B[1;34m(self, input_data, **kwargs)\u001B[0m\n\u001B[0;32m     90\u001B[0m output_metrics \u001B[38;5;241m=\u001B[39m []\n\u001B[0;32m     91\u001B[0m \u001B[38;5;28;01mfor\u001B[39;00m input_ \u001B[38;5;129;01min\u001B[39;00m input_data:\n\u001B[1;32m---> 92\u001B[0m     output_metrics\u001B[38;5;241m.\u001B[39mappend(\u001B[38;5;28;43mself\u001B[39;49m\u001B[38;5;241;43m.\u001B[39;49m\u001B[43mgenerator\u001B[49m\u001B[38;5;241;43m.\u001B[39;49m\u001B[43mgenerate\u001B[49m\u001B[43m(\u001B[49m\u001B[43minput_\u001B[49m\u001B[43m,\u001B[49m\u001B[43m \u001B[49m\u001B[38;5;241;43m*\u001B[39;49m\u001B[38;5;241;43m*\u001B[39;49m\u001B[43mkwargs\u001B[49m\u001B[43m)\u001B[49m)\n\u001B[0;32m     94\u001B[0m \u001B[38;5;28;01mreturn\u001B[39;00m output_metrics\n",
      "File \u001B[1;32m~\\Codes\\DataspellProjects\\StructGenie\\llmp\\components\\generator\\concurrent.py:47\u001B[0m, in \u001B[0;36mAsyncGenerator.generate\u001B[1;34m(self, input_data, **kwargs)\u001B[0m\n\u001B[0;32m     45\u001B[0m \u001B[38;5;250m\u001B[39m\u001B[38;5;124;03m\"\"\"Generate an output based on the job + job_setting and input data.\"\"\"\u001B[39;00m\n\u001B[0;32m     46\u001B[0m nest_asyncio\u001B[38;5;241m.\u001B[39mapply()\n\u001B[1;32m---> 47\u001B[0m results \u001B[38;5;241m=\u001B[39m \u001B[43masyncio\u001B[49m\u001B[38;5;241;43m.\u001B[39;49m\u001B[43mrun\u001B[49m\u001B[43m(\u001B[49m\u001B[38;5;28;43mself\u001B[39;49m\u001B[38;5;241;43m.\u001B[39;49m\u001B[43mrun_engines\u001B[49m\u001B[43m(\u001B[49m\u001B[43minput_data\u001B[49m\u001B[43m,\u001B[49m\u001B[43m \u001B[49m\u001B[38;5;241;43m*\u001B[39;49m\u001B[38;5;241;43m*\u001B[39;49m\u001B[43mkwargs\u001B[49m\u001B[43m)\u001B[49m\u001B[43m)\u001B[49m\n\u001B[0;32m     48\u001B[0m \u001B[38;5;28;01mreturn\u001B[39;00m results\n",
      "File \u001B[1;32m~\\miniconda3\\envs\\detectron39\\Lib\\site-packages\\nest_asyncio.py:35\u001B[0m, in \u001B[0;36m_patch_asyncio.<locals>.run\u001B[1;34m(main, debug)\u001B[0m\n\u001B[0;32m     33\u001B[0m task \u001B[38;5;241m=\u001B[39m asyncio\u001B[38;5;241m.\u001B[39mensure_future(main)\n\u001B[0;32m     34\u001B[0m \u001B[38;5;28;01mtry\u001B[39;00m:\n\u001B[1;32m---> 35\u001B[0m     \u001B[38;5;28;01mreturn\u001B[39;00m \u001B[43mloop\u001B[49m\u001B[38;5;241;43m.\u001B[39;49m\u001B[43mrun_until_complete\u001B[49m\u001B[43m(\u001B[49m\u001B[43mtask\u001B[49m\u001B[43m)\u001B[49m\n\u001B[0;32m     36\u001B[0m \u001B[38;5;28;01mfinally\u001B[39;00m:\n\u001B[0;32m     37\u001B[0m     \u001B[38;5;28;01mif\u001B[39;00m \u001B[38;5;129;01mnot\u001B[39;00m task\u001B[38;5;241m.\u001B[39mdone():\n",
      "File \u001B[1;32m~\\miniconda3\\envs\\detectron39\\Lib\\site-packages\\nest_asyncio.py:84\u001B[0m, in \u001B[0;36m_patch_loop.<locals>.run_until_complete\u001B[1;34m(self, future)\u001B[0m\n\u001B[0;32m     82\u001B[0m     f\u001B[38;5;241m.\u001B[39m_log_destroy_pending \u001B[38;5;241m=\u001B[39m \u001B[38;5;28;01mFalse\u001B[39;00m\n\u001B[0;32m     83\u001B[0m \u001B[38;5;28;01mwhile\u001B[39;00m \u001B[38;5;129;01mnot\u001B[39;00m f\u001B[38;5;241m.\u001B[39mdone():\n\u001B[1;32m---> 84\u001B[0m     \u001B[38;5;28;43mself\u001B[39;49m\u001B[38;5;241;43m.\u001B[39;49m\u001B[43m_run_once\u001B[49m\u001B[43m(\u001B[49m\u001B[43m)\u001B[49m\n\u001B[0;32m     85\u001B[0m     \u001B[38;5;28;01mif\u001B[39;00m \u001B[38;5;28mself\u001B[39m\u001B[38;5;241m.\u001B[39m_stopping:\n\u001B[0;32m     86\u001B[0m         \u001B[38;5;28;01mbreak\u001B[39;00m\n",
      "File \u001B[1;32m~\\miniconda3\\envs\\detectron39\\Lib\\site-packages\\nest_asyncio.py:107\u001B[0m, in \u001B[0;36m_patch_loop.<locals>._run_once\u001B[1;34m(self)\u001B[0m\n\u001B[0;32m    100\u001B[0m     heappop(scheduled)\n\u001B[0;32m    102\u001B[0m timeout \u001B[38;5;241m=\u001B[39m (\n\u001B[0;32m    103\u001B[0m     \u001B[38;5;241m0\u001B[39m \u001B[38;5;28;01mif\u001B[39;00m ready \u001B[38;5;129;01mor\u001B[39;00m \u001B[38;5;28mself\u001B[39m\u001B[38;5;241m.\u001B[39m_stopping\n\u001B[0;32m    104\u001B[0m     \u001B[38;5;28;01melse\u001B[39;00m \u001B[38;5;28mmin\u001B[39m(\u001B[38;5;28mmax\u001B[39m(\n\u001B[0;32m    105\u001B[0m         scheduled[\u001B[38;5;241m0\u001B[39m]\u001B[38;5;241m.\u001B[39m_when \u001B[38;5;241m-\u001B[39m \u001B[38;5;28mself\u001B[39m\u001B[38;5;241m.\u001B[39mtime(), \u001B[38;5;241m0\u001B[39m), \u001B[38;5;241m86400\u001B[39m) \u001B[38;5;28;01mif\u001B[39;00m scheduled\n\u001B[0;32m    106\u001B[0m     \u001B[38;5;28;01melse\u001B[39;00m \u001B[38;5;28;01mNone\u001B[39;00m)\n\u001B[1;32m--> 107\u001B[0m event_list \u001B[38;5;241m=\u001B[39m \u001B[38;5;28;43mself\u001B[39;49m\u001B[38;5;241;43m.\u001B[39;49m\u001B[43m_selector\u001B[49m\u001B[38;5;241;43m.\u001B[39;49m\u001B[43mselect\u001B[49m\u001B[43m(\u001B[49m\u001B[43mtimeout\u001B[49m\u001B[43m)\u001B[49m\n\u001B[0;32m    108\u001B[0m \u001B[38;5;28mself\u001B[39m\u001B[38;5;241m.\u001B[39m_process_events(event_list)\n\u001B[0;32m    110\u001B[0m end_time \u001B[38;5;241m=\u001B[39m \u001B[38;5;28mself\u001B[39m\u001B[38;5;241m.\u001B[39mtime() \u001B[38;5;241m+\u001B[39m \u001B[38;5;28mself\u001B[39m\u001B[38;5;241m.\u001B[39m_clock_resolution\n",
      "File \u001B[1;32m~\\miniconda3\\envs\\detectron39\\Lib\\selectors.py:323\u001B[0m, in \u001B[0;36mSelectSelector.select\u001B[1;34m(self, timeout)\u001B[0m\n\u001B[0;32m    321\u001B[0m ready \u001B[38;5;241m=\u001B[39m []\n\u001B[0;32m    322\u001B[0m \u001B[38;5;28;01mtry\u001B[39;00m:\n\u001B[1;32m--> 323\u001B[0m     r, w, _ \u001B[38;5;241m=\u001B[39m \u001B[38;5;28;43mself\u001B[39;49m\u001B[38;5;241;43m.\u001B[39;49m\u001B[43m_select\u001B[49m\u001B[43m(\u001B[49m\u001B[38;5;28;43mself\u001B[39;49m\u001B[38;5;241;43m.\u001B[39;49m\u001B[43m_readers\u001B[49m\u001B[43m,\u001B[49m\u001B[43m \u001B[49m\u001B[38;5;28;43mself\u001B[39;49m\u001B[38;5;241;43m.\u001B[39;49m\u001B[43m_writers\u001B[49m\u001B[43m,\u001B[49m\u001B[43m \u001B[49m\u001B[43m[\u001B[49m\u001B[43m]\u001B[49m\u001B[43m,\u001B[49m\u001B[43m \u001B[49m\u001B[43mtimeout\u001B[49m\u001B[43m)\u001B[49m\n\u001B[0;32m    324\u001B[0m \u001B[38;5;28;01mexcept\u001B[39;00m \u001B[38;5;167;01mInterruptedError\u001B[39;00m:\n\u001B[0;32m    325\u001B[0m     \u001B[38;5;28;01mreturn\u001B[39;00m ready\n",
      "File \u001B[1;32m~\\miniconda3\\envs\\detectron39\\Lib\\selectors.py:314\u001B[0m, in \u001B[0;36mSelectSelector._select\u001B[1;34m(self, r, w, _, timeout)\u001B[0m\n\u001B[0;32m    313\u001B[0m \u001B[38;5;28;01mdef\u001B[39;00m \u001B[38;5;21m_select\u001B[39m(\u001B[38;5;28mself\u001B[39m, r, w, _, timeout\u001B[38;5;241m=\u001B[39m\u001B[38;5;28;01mNone\u001B[39;00m):\n\u001B[1;32m--> 314\u001B[0m     r, w, x \u001B[38;5;241m=\u001B[39m select\u001B[38;5;241m.\u001B[39mselect(r, w, w, timeout)\n\u001B[0;32m    315\u001B[0m     \u001B[38;5;28;01mreturn\u001B[39;00m r, w \u001B[38;5;241m+\u001B[39m x, []\n",
      "\u001B[1;31mKeyboardInterrupt\u001B[0m: "
     ]
    }
   ],
   "source": [
    "from llmp.components.optimization.examples import ExampleOptimizer\n",
    "import os\n",
    "\n",
    "optimizer = ExampleOptimizer(job, debug=True)\n",
    "\n",
    "best_option, best_metric = optimizer.optimize()"
   ],
   "metadata": {
    "collapsed": false,
    "ExecuteTime": {
     "end_time": "2023-10-12T10:47:56.778482600Z",
     "start_time": "2023-10-12T10:47:46.844118900Z"
    }
   },
   "id": "d736a443da251b9e"
  },
  {
   "cell_type": "code",
   "execution_count": 3,
   "outputs": [
    {
     "data": {
      "text/plain": "0.6799999999999999"
     },
     "execution_count": 3,
     "metadata": {},
     "output_type": "execute_result"
    }
   ],
   "source": [
    "best_metric"
   ],
   "metadata": {
    "collapsed": false,
    "ExecuteTime": {
     "end_time": "2023-10-11T13:36:48.788981800Z",
     "start_time": "2023-10-11T13:36:48.741857500Z"
    }
   },
   "id": "6c07fbccb77fd1cc"
  },
  {
   "cell_type": "code",
   "execution_count": 5,
   "outputs": [
    {
     "data": {
      "text/plain": "[ExampleRecord(idx='ea207c3d2f8f4bf7b44b011d03e63960', example=Example(input={'description': 'A website content strategy to be created', 'sources': ['internal', 'external']}, output={'external_types': ['textual'], 'internal_types': ['textual']}), version=1, version_history={}, gen_event_id='7859f90e29194bc19389db8b40258612', verification_type=<VerificationType.MAJORITY_VOTE: 2>, reliability=1.0),\n ExampleRecord(idx='5c3f67e3fa9142ee9d4c1c2f79bb1970', example=Example(input={'description': 'A financial forecast for the next quarter to be created', 'sources': ['internal', 'external']}, output={'external_types': ['numeric'], 'internal_types': ['numeric']}), version=1, version_history={}, gen_event_id='89829ad1ce634488a1860f08cdd11cd6', verification_type=<VerificationType.MAJORITY_VOTE: 2>, reliability=1.0)]"
     },
     "execution_count": 5,
     "metadata": {},
     "output_type": "execute_result"
    }
   ],
   "source": [
    "def find_in_records(job, idx):\n",
    "    for example in job.example_records:\n",
    "        if example.idx == idx:\n",
    "            return example\n",
    "    return None\n",
    "\n",
    "[find_in_records(job, idx) for idx in best_option]"
   ],
   "metadata": {
    "collapsed": false,
    "ExecuteTime": {
     "end_time": "2023-10-11T12:59:58.599757200Z",
     "start_time": "2023-10-11T12:59:58.568516900Z"
    }
   },
   "id": "af19139f400c1cc0"
  },
  {
   "cell_type": "code",
   "execution_count": 9,
   "outputs": [
    {
     "name": "stdout",
     "output_type": "stream",
     "text": [
      ">>> Filling examples to 20 examples.\n",
      ">>>>\n",
      "running for set size 1/4\n"
     ]
    },
    {
     "name": "stderr",
     "output_type": "stream",
     "text": [
      "Evaluating Instructions:  33%|███▎      | 5/15 [00:08<00:16,  1.62s/it]Retrying langchain.chat_models.openai.acompletion_with_retry.<locals>._completion_with_retry in 1.0 seconds as it raised ServiceUnavailableError: The server is overloaded or not ready yet..\n",
      "Evaluating Instructions: 100%|██████████| 15/15 [00:24<00:00,  1.61s/it]\n"
     ]
    },
    {
     "name": "stdout",
     "output_type": "stream",
     "text": [
      "Best Example Set: ['6ddef8f674f44bb6a7d84c555304da11']\n",
      "Found better example set with metric:\n",
      "0.6799999999999999\n",
      "<<<<<<\n",
      ">>>>\n",
      "running for set size 2/4\n"
     ]
    },
    {
     "name": "stderr",
     "output_type": "stream",
     "text": [
      "Evaluating Instructions:  79%|███████▊  | 11/14 [00:13<00:03,  1.24s/it]Retrying langchain.chat_models.openai.acompletion_with_retry.<locals>._completion_with_retry in 1.0 seconds as it raised RateLimitError: Rate limit reached for default-gpt-3.5-turbo in organization org-QAWbEA2cQS3BuD2inlC6Xk4J on tokens per min. Limit: 90000 / min. Current: 89792 / min. Contact us through our help center at help.openai.com if you continue to have issues..\n",
      "Retrying langchain.chat_models.openai.acompletion_with_retry.<locals>._completion_with_retry in 1.0 seconds as it raised RateLimitError: Rate limit reached for default-gpt-3.5-turbo in organization org-QAWbEA2cQS3BuD2inlC6Xk4J on tokens per min. Limit: 90000 / min. Current: 89996 / min. Contact us through our help center at help.openai.com if you continue to have issues..\n",
      "Retrying langchain.chat_models.openai.acompletion_with_retry.<locals>._completion_with_retry in 1.0 seconds as it raised RateLimitError: Rate limit reached for default-gpt-3.5-turbo in organization org-QAWbEA2cQS3BuD2inlC6Xk4J on tokens per min. Limit: 90000 / min. Current: 89952 / min. Contact us through our help center at help.openai.com if you continue to have issues..\n",
      "Retrying langchain.chat_models.openai.acompletion_with_retry.<locals>._completion_with_retry in 1.0 seconds as it raised RateLimitError: Rate limit reached for default-gpt-3.5-turbo in organization org-QAWbEA2cQS3BuD2inlC6Xk4J on tokens per min. Limit: 90000 / min. Current: 89919 / min. Contact us through our help center at help.openai.com if you continue to have issues..\n",
      "Evaluating Instructions:  86%|████████▌ | 12/14 [00:15<00:03,  1.52s/it]Retrying langchain.chat_models.openai.acompletion_with_retry.<locals>._completion_with_retry in 1.0 seconds as it raised RateLimitError: Rate limit reached for default-gpt-3.5-turbo in organization org-QAWbEA2cQS3BuD2inlC6Xk4J on tokens per min. Limit: 90000 / min. Current: 89969 / min. Contact us through our help center at help.openai.com if you continue to have issues..\n",
      "Retrying langchain.chat_models.openai.acompletion_with_retry.<locals>._completion_with_retry in 1.0 seconds as it raised RateLimitError: Rate limit reached for default-gpt-3.5-turbo in organization org-QAWbEA2cQS3BuD2inlC6Xk4J on tokens per min. Limit: 90000 / min. Current: 89970 / min. Contact us through our help center at help.openai.com if you continue to have issues..\n",
      "Retrying langchain.chat_models.openai.acompletion_with_retry.<locals>._completion_with_retry in 1.0 seconds as it raised RateLimitError: Rate limit reached for default-gpt-3.5-turbo in organization org-QAWbEA2cQS3BuD2inlC6Xk4J on tokens per min. Limit: 90000 / min. Current: 89977 / min. Contact us through our help center at help.openai.com if you continue to have issues..\n",
      "Retrying langchain.chat_models.openai.acompletion_with_retry.<locals>._completion_with_retry in 1.0 seconds as it raised RateLimitError: Rate limit reached for default-gpt-3.5-turbo in organization org-QAWbEA2cQS3BuD2inlC6Xk4J on tokens per min. Limit: 90000 / min. Current: 89969 / min. Contact us through our help center at help.openai.com if you continue to have issues..\n",
      "Retrying langchain.chat_models.openai.acompletion_with_retry.<locals>._completion_with_retry in 1.0 seconds as it raised RateLimitError: Rate limit reached for default-gpt-3.5-turbo in organization org-QAWbEA2cQS3BuD2inlC6Xk4J on tokens per min. Limit: 90000 / min. Current: 89979 / min. Contact us through our help center at help.openai.com if you continue to have issues..\n",
      "Retrying langchain.chat_models.openai.acompletion_with_retry.<locals>._completion_with_retry in 1.0 seconds as it raised RateLimitError: Rate limit reached for default-gpt-3.5-turbo in organization org-QAWbEA2cQS3BuD2inlC6Xk4J on tokens per min. Limit: 90000 / min. Current: 89983 / min. Contact us through our help center at help.openai.com if you continue to have issues..\n",
      "Retrying langchain.chat_models.openai.acompletion_with_retry.<locals>._completion_with_retry in 1.0 seconds as it raised RateLimitError: Rate limit reached for default-gpt-3.5-turbo in organization org-QAWbEA2cQS3BuD2inlC6Xk4J on tokens per min. Limit: 90000 / min. Current: 89954 / min. Contact us through our help center at help.openai.com if you continue to have issues..\n",
      "Retrying langchain.chat_models.openai.acompletion_with_retry.<locals>._completion_with_retry in 1.0 seconds as it raised RateLimitError: Rate limit reached for default-gpt-3.5-turbo in organization org-QAWbEA2cQS3BuD2inlC6Xk4J on tokens per min. Limit: 90000 / min. Current: 89960 / min. Contact us through our help center at help.openai.com if you continue to have issues..\n",
      "Retrying langchain.chat_models.openai.acompletion_with_retry.<locals>._completion_with_retry in 1.0 seconds as it raised RateLimitError: Rate limit reached for default-gpt-3.5-turbo in organization org-QAWbEA2cQS3BuD2inlC6Xk4J on tokens per min. Limit: 90000 / min. Current: 89959 / min. Contact us through our help center at help.openai.com if you continue to have issues..\n",
      "Retrying langchain.chat_models.openai.acompletion_with_retry.<locals>._completion_with_retry in 1.0 seconds as it raised RateLimitError: Rate limit reached for default-gpt-3.5-turbo in organization org-QAWbEA2cQS3BuD2inlC6Xk4J on tokens per min. Limit: 90000 / min. Current: 89968 / min. Contact us through our help center at help.openai.com if you continue to have issues..\n",
      "Retrying langchain.chat_models.openai.acompletion_with_retry.<locals>._completion_with_retry in 1.0 seconds as it raised RateLimitError: Rate limit reached for default-gpt-3.5-turbo in organization org-QAWbEA2cQS3BuD2inlC6Xk4J on tokens per min. Limit: 90000 / min. Current: 89961 / min. Contact us through our help center at help.openai.com if you continue to have issues..\n",
      "Retrying langchain.chat_models.openai.acompletion_with_retry.<locals>._completion_with_retry in 1.0 seconds as it raised RateLimitError: Rate limit reached for default-gpt-3.5-turbo in organization org-QAWbEA2cQS3BuD2inlC6Xk4J on tokens per min. Limit: 90000 / min. Current: 89895 / min. Contact us through our help center at help.openai.com if you continue to have issues..\n",
      "Retrying langchain.chat_models.openai.acompletion_with_retry.<locals>._completion_with_retry in 2.0 seconds as it raised RateLimitError: Rate limit reached for default-gpt-3.5-turbo in organization org-QAWbEA2cQS3BuD2inlC6Xk4J on tokens per min. Limit: 90000 / min. Current: 89848 / min. Contact us through our help center at help.openai.com if you continue to have issues..\n",
      "Retrying langchain.chat_models.openai.acompletion_with_retry.<locals>._completion_with_retry in 2.0 seconds as it raised RateLimitError: Rate limit reached for default-gpt-3.5-turbo in organization org-QAWbEA2cQS3BuD2inlC6Xk4J on tokens per min. Limit: 90000 / min. Current: 89850 / min. Contact us through our help center at help.openai.com if you continue to have issues..\n",
      "Retrying langchain.chat_models.openai.acompletion_with_retry.<locals>._completion_with_retry in 2.0 seconds as it raised RateLimitError: Rate limit reached for default-gpt-3.5-turbo in organization org-QAWbEA2cQS3BuD2inlC6Xk4J on tokens per min. Limit: 90000 / min. Current: 89846 / min. Contact us through our help center at help.openai.com if you continue to have issues..\n",
      "Retrying langchain.chat_models.openai.acompletion_with_retry.<locals>._completion_with_retry in 2.0 seconds as it raised RateLimitError: Rate limit reached for default-gpt-3.5-turbo in organization org-QAWbEA2cQS3BuD2inlC6Xk4J on tokens per min. Limit: 90000 / min. Current: 89858 / min. Contact us through our help center at help.openai.com if you continue to have issues..\n",
      "Retrying langchain.chat_models.openai.acompletion_with_retry.<locals>._completion_with_retry in 2.0 seconds as it raised RateLimitError: Rate limit reached for default-gpt-3.5-turbo in organization org-QAWbEA2cQS3BuD2inlC6Xk4J on tokens per min. Limit: 90000 / min. Current: 89826 / min. Contact us through our help center at help.openai.com if you continue to have issues..\n",
      "Evaluating Instructions:  93%|█████████▎| 13/14 [00:20<00:02,  2.45s/it]Retrying langchain.chat_models.openai.acompletion_with_retry.<locals>._completion_with_retry in 1.0 seconds as it raised RateLimitError: Rate limit reached for default-gpt-3.5-turbo in organization org-QAWbEA2cQS3BuD2inlC6Xk4J on tokens per min. Limit: 90000 / min. Current: 89841 / min. Contact us through our help center at help.openai.com if you continue to have issues..\n",
      "Retrying langchain.chat_models.openai.acompletion_with_retry.<locals>._completion_with_retry in 1.0 seconds as it raised RateLimitError: Rate limit reached for default-gpt-3.5-turbo in organization org-QAWbEA2cQS3BuD2inlC6Xk4J on tokens per min. Limit: 90000 / min. Current: 89834 / min. Contact us through our help center at help.openai.com if you continue to have issues..\n",
      "Retrying langchain.chat_models.openai.acompletion_with_retry.<locals>._completion_with_retry in 1.0 seconds as it raised RateLimitError: Rate limit reached for default-gpt-3.5-turbo in organization org-QAWbEA2cQS3BuD2inlC6Xk4J on tokens per min. Limit: 90000 / min. Current: 89830 / min. Contact us through our help center at help.openai.com if you continue to have issues..\n",
      "Retrying langchain.chat_models.openai.acompletion_with_retry.<locals>._completion_with_retry in 1.0 seconds as it raised RateLimitError: Rate limit reached for default-gpt-3.5-turbo in organization org-QAWbEA2cQS3BuD2inlC6Xk4J on tokens per min. Limit: 90000 / min. Current: 89827 / min. Contact us through our help center at help.openai.com if you continue to have issues..\n",
      "Retrying langchain.chat_models.openai.acompletion_with_retry.<locals>._completion_with_retry in 1.0 seconds as it raised RateLimitError: Rate limit reached for default-gpt-3.5-turbo in organization org-QAWbEA2cQS3BuD2inlC6Xk4J on tokens per min. Limit: 90000 / min. Current: 89815 / min. Contact us through our help center at help.openai.com if you continue to have issues..\n",
      "Retrying langchain.chat_models.openai.acompletion_with_retry.<locals>._completion_with_retry in 1.0 seconds as it raised RateLimitError: Rate limit reached for default-gpt-3.5-turbo in organization org-QAWbEA2cQS3BuD2inlC6Xk4J on tokens per min. Limit: 90000 / min. Current: 89792 / min. Contact us through our help center at help.openai.com if you continue to have issues..\n",
      "Evaluating Instructions: 100%|██████████| 14/14 [00:22<00:00,  1.62s/it]"
     ]
    },
    {
     "name": "stdout",
     "output_type": "stream",
     "text": [
      "No better example found. Stopping.\n"
     ]
    },
    {
     "name": "stderr",
     "output_type": "stream",
     "text": [
      "\n"
     ]
    }
   ],
   "source": [
    "def find_in_records(job, idx):\n",
    "    for example in job.example_records:\n",
    "        if example.idx == idx:\n",
    "            return example\n",
    "    return None\n",
    "\n",
    "test_ids = ['918e0a4145474b0dabdc9a1527b9a111', '901f44db69db424b8960f4e6a893e645', '4efd69564f894f0ba3f0a395cd115975', '63abc8fd29d74d44a9378de16e8ad35b', '01bb09ec5b3249958341c4fe9f690e05']\n",
    "\n",
    "test_set = [find_in_records(job, idx) for idx in test_ids]\n",
    "\n",
    "from llmp.components.optimization.examples import ExampleOptimizer\n",
    "import os\n",
    "\n",
    "optimizer = ExampleOptimizer(job, debug=True, test_set=test_set)\n",
    "\n",
    "best_option, best_metric = optimizer.optimize()\n"
   ],
   "metadata": {
    "collapsed": false,
    "ExecuteTime": {
     "end_time": "2023-10-11T14:23:37.121266500Z",
     "start_time": "2023-10-11T14:22:50.281970200Z"
    }
   },
   "id": "3a5cf563d988bde9"
  },
  {
   "cell_type": "code",
   "execution_count": 8,
   "outputs": [
    {
     "data": {
      "text/plain": "ExampleRecord(idx='977cefaae1574cb08da67a52027e11a8', example=Example(input={'description': 'A customer onboarding process to be created', 'sources': ['internal']}, output={'external_types': [], 'internal_types': ['textual', 'code']}), version=1, version_history={}, gen_event_id='58e318839c0d4655b8ca990fe5571af2', verification_type=<VerificationType.MAJORITY_VOTE: 2>, reliability=0.8)"
     },
     "execution_count": 8,
     "metadata": {},
     "output_type": "execute_result"
    }
   ],
   "source": [
    "idx = \"977cefaae1574cb08da67a52027e11a8\"\n",
    "\n",
    "find_in_records(job, idx)"
   ],
   "metadata": {
    "collapsed": false,
    "ExecuteTime": {
     "end_time": "2023-10-11T14:11:07.881788200Z",
     "start_time": "2023-10-11T14:11:07.865962600Z"
    }
   },
   "id": "5219e7e0ec58908d"
  },
  {
   "cell_type": "code",
   "execution_count": 2,
   "outputs": [
    {
     "name": "stdout",
     "output_type": "stream",
     "text": [
      ">>> Filling examples to 20 examples.\n",
      ">>> Generating Instructions\n",
      "Instructions:\n",
      "0 Create a customer onboarding process. The process should include both textual and code elements. Use internal sources as references for creating the process.\n",
      "\n",
      "\n",
      "1 Design a product packaging. The design should include multimedia elements. Use internal sources as references for creating the design.\n",
      "\n",
      "\n",
      "2 Create a sales presentation for a new product. The presentation should include both textual and multimedia elements. Use both internal and external sources as references for creating the presentation.\n",
      "\n",
      "\n",
      "3 Develop a customer onboarding process. The process should include textual and code elements. Use internal sources as references for developing the process.\n",
      "\n",
      "\n",
      "4 Design a product packaging. The design should include multimedia elements. Use internal sources as references for designing the packaging.\n"
     ]
    },
    {
     "name": "stderr",
     "output_type": "stream",
     "text": [
      "Evaluating Instructions: 100%|██████████| 5/5 [00:31<00:00,  6.20s/it]\n"
     ]
    }
   ],
   "source": [
    "from llmp.components.optimization.instructions import InstructionOptimizer\n",
    "import os\n",
    "\n",
    "optimizer = InstructionOptimizer(job, debug=True)\n",
    "\n",
    "best_option, results = optimizer.optimize()"
   ],
   "metadata": {
    "collapsed": false,
    "ExecuteTime": {
     "end_time": "2023-10-11T10:17:50.712057700Z",
     "start_time": "2023-10-11T10:17:15.669736700Z"
    }
   },
   "id": "d1f14e5a8988cdb7"
  },
  {
   "cell_type": "code",
   "execution_count": 5,
   "outputs": [
    {
     "data": {
      "text/plain": "[Event(event_id='333ccdaec4d74eb38ad8017b14ced727', timestamp='20231011153238', event_type=<EventType.SAMPLE_EVAL: 'sample_evaluation'>, event_metrics={'accuracy': 0.2, 'execution_time': 0.9827353954315186, 'failure_rate': 1.0, 'token_usage': 190.0, 'num_runs': 5, 'model_name': 'gpt-3.5-turbo', 'model_config': {}, 'errors': []}, job_setting={'example_ids': ['06d3e8460f6c4050aaaf662519f1aad5']}, job_version=None, example_id='918e0a4145474b0dabdc9a1527b9a111', example_version=None, extra=None, ref_event_id=None),\n Event(event_id='d82b1985659945988769b2ce289dc506', timestamp='20231011153238', event_type=<EventType.SAMPLE_EVAL: 'sample_evaluation'>, event_metrics={'accuracy': 0.6, 'execution_time': 1.0014130115509032, 'failure_rate': 1.0, 'token_usage': 183.6, 'num_runs': 5, 'model_name': 'gpt-3.5-turbo', 'model_config': {}, 'errors': []}, job_setting={'example_ids': ['06d3e8460f6c4050aaaf662519f1aad5']}, job_version=None, example_id='901f44db69db424b8960f4e6a893e645', example_version=None, extra=None, ref_event_id=None),\n Event(event_id='d47162a9c2364d9bb3e01389d6963dd8', timestamp='20231011153238', event_type=<EventType.SAMPLE_EVAL: 'sample_evaluation'>, event_metrics={'accuracy': 0.8, 'execution_time': 1.1658451557159424, 'failure_rate': 1.2, 'token_usage': 213.8, 'num_runs': 5, 'model_name': 'gpt-3.5-turbo', 'model_config': {}, 'errors': [\"Validation failed with errors:\\nKeys ['internal_types'] not in output\\nFor output: External types:\\n- textual\\n\\n\\nParsed Output:\\n{'external_types': ['textual']}\", \"expected string or bytes-like object, got 'NotImplementedType'\"]}, job_setting={'example_ids': ['06d3e8460f6c4050aaaf662519f1aad5']}, job_version=None, example_id='4efd69564f894f0ba3f0a395cd115975', example_version=None, extra=None, ref_event_id=None),\n Event(event_id='02c5c4b963f44b519e5e2aec76b84b62', timestamp='20231011153238', event_type=<EventType.SAMPLE_EVAL: 'sample_evaluation'>, event_metrics={'accuracy': 1.0, 'execution_time': 1.014895534515381, 'failure_rate': 1.0, 'token_usage': 180.0, 'num_runs': 5, 'model_name': 'gpt-3.5-turbo', 'model_config': {}, 'errors': []}, job_setting={'example_ids': ['06d3e8460f6c4050aaaf662519f1aad5']}, job_version=None, example_id='63abc8fd29d74d44a9378de16e8ad35b', example_version=None, extra=None, ref_event_id=None),\n Event(event_id='6268997cbfb342cbab468c1d59d9cf1d', timestamp='20231011153238', event_type=<EventType.SAMPLE_EVAL: 'sample_evaluation'>, event_metrics={'accuracy': 0.0, 'execution_time': 1.1007871150970459, 'failure_rate': 1.0, 'token_usage': 177.6, 'num_runs': 5, 'model_name': 'gpt-3.5-turbo', 'model_config': {}, 'errors': []}, job_setting={'example_ids': ['06d3e8460f6c4050aaaf662519f1aad5']}, job_version=None, example_id='01bb09ec5b3249958341c4fe9f690e05', example_version=None, extra=None, ref_event_id=None),\n Event(event_id='98180c37917f4b8e8e6542ab2da6f5d0', timestamp='20231011153238', event_type=<EventType.EVAL_RUN: 'evaluation_run'>, event_metrics={'accuracy': 0.52, 'execution_time': 1.0531352424621583, 'failure_rate': 1.04, 'token_usage': 189.00000000000003, 'num_runs': 5.0, 'model_name': 'gpt-3.5-turbo', 'model_config': {}, 'errors': [\"Validation failed with errors:\\nKeys ['internal_types'] not in output\\nFor output: External types:\\n- textual\\n\\n\\nParsed Output:\\n{'external_types': ['textual']}\", \"expected string or bytes-like object, got 'NotImplementedType'\"]}, job_setting={'example_ids': ['06d3e8460f6c4050aaaf662519f1aad5']}, job_version=None, example_id=['918e0a4145474b0dabdc9a1527b9a111', '901f44db69db424b8960f4e6a893e645', '4efd69564f894f0ba3f0a395cd115975', '63abc8fd29d74d44a9378de16e8ad35b', '01bb09ec5b3249958341c4fe9f690e05'], example_version=None, extra=None, ref_event_id=None),\n Event(event_id='92dc5fdbc1c74046a5ea5c8679130215', timestamp='20231011153241', event_type=<EventType.SAMPLE_EVAL: 'sample_evaluation'>, event_metrics={'accuracy': 0.0, 'execution_time': 0.8822606563568115, 'failure_rate': 1.0, 'token_usage': 189.6, 'num_runs': 5, 'model_name': 'gpt-3.5-turbo', 'model_config': {}, 'errors': []}, job_setting={'example_ids': ['1e662887302d4109bdcf8a161ebe9fd9']}, job_version=None, example_id='918e0a4145474b0dabdc9a1527b9a111', example_version=None, extra=None, ref_event_id=None),\n Event(event_id='6dcf82f94fca4bbea6ddf456f0a292db', timestamp='20231011153241', event_type=<EventType.SAMPLE_EVAL: 'sample_evaluation'>, event_metrics={'accuracy': 0.8, 'execution_time': 0.9833902835845947, 'failure_rate': 1.0, 'token_usage': 182.4, 'num_runs': 5, 'model_name': 'gpt-3.5-turbo', 'model_config': {}, 'errors': []}, job_setting={'example_ids': ['1e662887302d4109bdcf8a161ebe9fd9']}, job_version=None, example_id='901f44db69db424b8960f4e6a893e645', example_version=None, extra=None, ref_event_id=None),\n Event(event_id='b6e3591a32a54f8bb5c118846291a648', timestamp='20231011153241', event_type=<EventType.SAMPLE_EVAL: 'sample_evaluation'>, event_metrics={'accuracy': 0.8, 'execution_time': 0.8885254383087158, 'failure_rate': 1.0, 'token_usage': 179.4, 'num_runs': 5, 'model_name': 'gpt-3.5-turbo', 'model_config': {}, 'errors': []}, job_setting={'example_ids': ['1e662887302d4109bdcf8a161ebe9fd9']}, job_version=None, example_id='4efd69564f894f0ba3f0a395cd115975', example_version=None, extra=None, ref_event_id=None),\n Event(event_id='6a70cc92ae0e459a8b9be55b10cec447', timestamp='20231011153241', event_type=<EventType.SAMPLE_EVAL: 'sample_evaluation'>, event_metrics={'accuracy': 1.0, 'execution_time': 0.819779920578003, 'failure_rate': 1.0, 'token_usage': 179.6, 'num_runs': 5, 'model_name': 'gpt-3.5-turbo', 'model_config': {}, 'errors': []}, job_setting={'example_ids': ['1e662887302d4109bdcf8a161ebe9fd9']}, job_version=None, example_id='63abc8fd29d74d44a9378de16e8ad35b', example_version=None, extra=None, ref_event_id=None),\n Event(event_id='53382d9bce74423f8ca174d8800b141b', timestamp='20231011153241', event_type=<EventType.SAMPLE_EVAL: 'sample_evaluation'>, event_metrics={'accuracy': 0.0, 'execution_time': 1.6852099418640136, 'failure_rate': 1.0, 'token_usage': 177.0, 'num_runs': 5, 'model_name': 'gpt-3.5-turbo', 'model_config': {}, 'errors': []}, job_setting={'example_ids': ['1e662887302d4109bdcf8a161ebe9fd9']}, job_version=None, example_id='01bb09ec5b3249958341c4fe9f690e05', example_version=None, extra=None, ref_event_id=None),\n Event(event_id='3bf9665f34334bea84eb77e240675911', timestamp='20231011153241', event_type=<EventType.EVAL_RUN: 'evaluation_run'>, event_metrics={'accuracy': 0.52, 'execution_time': 1.0518332481384278, 'failure_rate': 1.0, 'token_usage': 181.6, 'num_runs': 5.0, 'model_name': 'gpt-3.5-turbo', 'model_config': {}, 'errors': []}, job_setting={'example_ids': ['1e662887302d4109bdcf8a161ebe9fd9']}, job_version=None, example_id=['918e0a4145474b0dabdc9a1527b9a111', '901f44db69db424b8960f4e6a893e645', '4efd69564f894f0ba3f0a395cd115975', '63abc8fd29d74d44a9378de16e8ad35b', '01bb09ec5b3249958341c4fe9f690e05'], example_version=None, extra=None, ref_event_id=None),\n Event(event_id='1246d6b6010f44c998658e8be30e17bb', timestamp='20231011153242', event_type=<EventType.SAMPLE_EVAL: 'sample_evaluation'>, event_metrics={'accuracy': 0.2, 'execution_time': 1.0144644260406495, 'failure_rate': 1.0, 'token_usage': 190.0, 'num_runs': 5, 'model_name': 'gpt-3.5-turbo', 'model_config': {}, 'errors': []}, job_setting={'example_ids': ['238ea85e98b24fe3a7b199e7aa0726a2']}, job_version=None, example_id='918e0a4145474b0dabdc9a1527b9a111', example_version=None, extra=None, ref_event_id=None),\n Event(event_id='ff5500fd661142fbb891ea1345c2157c', timestamp='20231011153242', event_type=<EventType.SAMPLE_EVAL: 'sample_evaluation'>, event_metrics={'accuracy': 1.0, 'execution_time': 0.9029508113861084, 'failure_rate': 1.0, 'token_usage': 182.0, 'num_runs': 5, 'model_name': 'gpt-3.5-turbo', 'model_config': {}, 'errors': []}, job_setting={'example_ids': ['238ea85e98b24fe3a7b199e7aa0726a2']}, job_version=None, example_id='901f44db69db424b8960f4e6a893e645', example_version=None, extra=None, ref_event_id=None),\n Event(event_id='bd8b31af0e71420aaaf1ffdea1de24a5', timestamp='20231011153242', event_type=<EventType.SAMPLE_EVAL: 'sample_evaluation'>, event_metrics={'accuracy': 1.0, 'execution_time': 0.8519302368164062, 'failure_rate': 1.0, 'token_usage': 179.0, 'num_runs': 5, 'model_name': 'gpt-3.5-turbo', 'model_config': {}, 'errors': []}, job_setting={'example_ids': ['238ea85e98b24fe3a7b199e7aa0726a2']}, job_version=None, example_id='4efd69564f894f0ba3f0a395cd115975', example_version=None, extra=None, ref_event_id=None),\n Event(event_id='e87139cdf3df43dcb52c4ea42a7f99c9', timestamp='20231011153242', event_type=<EventType.SAMPLE_EVAL: 'sample_evaluation'>, event_metrics={'accuracy': 0.8, 'execution_time': 0.983249568939209, 'failure_rate': 1.0, 'token_usage': 180.8, 'num_runs': 5, 'model_name': 'gpt-3.5-turbo', 'model_config': {}, 'errors': []}, job_setting={'example_ids': ['238ea85e98b24fe3a7b199e7aa0726a2']}, job_version=None, example_id='63abc8fd29d74d44a9378de16e8ad35b', example_version=None, extra=None, ref_event_id=None),\n Event(event_id='c854ea4981f44d29bb197d54c19981bf', timestamp='20231011153242', event_type=<EventType.SAMPLE_EVAL: 'sample_evaluation'>, event_metrics={'accuracy': 0.0, 'execution_time': 0.9675850391387939, 'failure_rate': 1.0, 'token_usage': 177.6, 'num_runs': 5, 'model_name': 'gpt-3.5-turbo', 'model_config': {}, 'errors': []}, job_setting={'example_ids': ['238ea85e98b24fe3a7b199e7aa0726a2']}, job_version=None, example_id='01bb09ec5b3249958341c4fe9f690e05', example_version=None, extra=None, ref_event_id=None),\n Event(event_id='3724a0a4bdfb4a9bb17bbd06ea1bfd17', timestamp='20231011153242', event_type=<EventType.EVAL_RUN: 'evaluation_run'>, event_metrics={'accuracy': 0.6, 'execution_time': 0.9440360164642334, 'failure_rate': 1.0, 'token_usage': 181.88, 'num_runs': 5.0, 'model_name': 'gpt-3.5-turbo', 'model_config': {}, 'errors': []}, job_setting={'example_ids': ['238ea85e98b24fe3a7b199e7aa0726a2']}, job_version=None, example_id=['918e0a4145474b0dabdc9a1527b9a111', '901f44db69db424b8960f4e6a893e645', '4efd69564f894f0ba3f0a395cd115975', '63abc8fd29d74d44a9378de16e8ad35b', '01bb09ec5b3249958341c4fe9f690e05'], example_version=None, extra=None, ref_event_id=None),\n Event(event_id='0cbd49407efe4ef2af26eeb1d0598436', timestamp='20231011153243', event_type=<EventType.SAMPLE_EVAL: 'sample_evaluation'>, event_metrics={'accuracy': 0.2, 'execution_time': 0.8996078491210937, 'failure_rate': 1.0, 'token_usage': 190.0, 'num_runs': 5, 'model_name': 'gpt-3.5-turbo', 'model_config': {}, 'errors': []}, job_setting={'example_ids': ['5c3f67e3fa9142ee9d4c1c2f79bb1970']}, job_version=None, example_id='918e0a4145474b0dabdc9a1527b9a111', example_version=None, extra=None, ref_event_id=None),\n Event(event_id='a541f02214fd4651854ae6e6e77ac144', timestamp='20231011153243', event_type=<EventType.SAMPLE_EVAL: 'sample_evaluation'>, event_metrics={'accuracy': 1.0, 'execution_time': 0.9246912002563477, 'failure_rate': 1.0, 'token_usage': 182.0, 'num_runs': 5, 'model_name': 'gpt-3.5-turbo', 'model_config': {}, 'errors': []}, job_setting={'example_ids': ['5c3f67e3fa9142ee9d4c1c2f79bb1970']}, job_version=None, example_id='901f44db69db424b8960f4e6a893e645', example_version=None, extra=None, ref_event_id=None),\n Event(event_id='e280cbf1a75d42c7817156f0a455bfaf', timestamp='20231011153243', event_type=<EventType.SAMPLE_EVAL: 'sample_evaluation'>, event_metrics={'accuracy': 0.8, 'execution_time': 0.9246999263763428, 'failure_rate': 1.0, 'token_usage': 179.8, 'num_runs': 5, 'model_name': 'gpt-3.5-turbo', 'model_config': {}, 'errors': []}, job_setting={'example_ids': ['5c3f67e3fa9142ee9d4c1c2f79bb1970']}, job_version=None, example_id='4efd69564f894f0ba3f0a395cd115975', example_version=None, extra=None, ref_event_id=None),\n Event(event_id='7319b0d61a9543fabca836bc0b104416', timestamp='20231011153243', event_type=<EventType.SAMPLE_EVAL: 'sample_evaluation'>, event_metrics={'accuracy': 1.0, 'execution_time': 0.8559542179107666, 'failure_rate': 1.0, 'token_usage': 180.0, 'num_runs': 5, 'model_name': 'gpt-3.5-turbo', 'model_config': {}, 'errors': []}, job_setting={'example_ids': ['5c3f67e3fa9142ee9d4c1c2f79bb1970']}, job_version=None, example_id='63abc8fd29d74d44a9378de16e8ad35b', example_version=None, extra=None, ref_event_id=None),\n Event(event_id='ccf265b512004fd2b8639db8b4692dee', timestamp='20231011153243', event_type=<EventType.SAMPLE_EVAL: 'sample_evaluation'>, event_metrics={'accuracy': 0.0, 'execution_time': 0.8684455871582031, 'failure_rate': 1.0, 'token_usage': 177.0, 'num_runs': 5, 'model_name': 'gpt-3.5-turbo', 'model_config': {}, 'errors': []}, job_setting={'example_ids': ['5c3f67e3fa9142ee9d4c1c2f79bb1970']}, job_version=None, example_id='01bb09ec5b3249958341c4fe9f690e05', example_version=None, extra=None, ref_event_id=None),\n Event(event_id='1ce6fcbe27754cd99038f8fb798ee2ed', timestamp='20231011153243', event_type=<EventType.EVAL_RUN: 'evaluation_run'>, event_metrics={'accuracy': 0.6, 'execution_time': 0.8946797561645509, 'failure_rate': 1.0, 'token_usage': 181.76, 'num_runs': 5.0, 'model_name': 'gpt-3.5-turbo', 'model_config': {}, 'errors': []}, job_setting={'example_ids': ['5c3f67e3fa9142ee9d4c1c2f79bb1970']}, job_version=None, example_id=['918e0a4145474b0dabdc9a1527b9a111', '901f44db69db424b8960f4e6a893e645', '4efd69564f894f0ba3f0a395cd115975', '63abc8fd29d74d44a9378de16e8ad35b', '01bb09ec5b3249958341c4fe9f690e05'], example_version=None, extra=None, ref_event_id=None),\n Event(event_id='8034e2ba100b4b0ebd458ccc4641a493', timestamp='20231011153245', event_type=<EventType.SAMPLE_EVAL: 'sample_evaluation'>, event_metrics={'accuracy': 0.4, 'execution_time': 0.9946452140808105, 'failure_rate': 1.0, 'token_usage': 190.0, 'num_runs': 5, 'model_name': 'gpt-3.5-turbo', 'model_config': {}, 'errors': []}, job_setting={'example_ids': ['432cedfd9a86486e89b9f43e005b2512']}, job_version=None, example_id='918e0a4145474b0dabdc9a1527b9a111', example_version=None, extra=None, ref_event_id=None),\n Event(event_id='bc55301f34ae4e1b93c0b58423183e95', timestamp='20231011153245', event_type=<EventType.SAMPLE_EVAL: 'sample_evaluation'>, event_metrics={'accuracy': 0.8, 'execution_time': 0.8790897369384766, 'failure_rate': 1.0, 'token_usage': 182.4, 'num_runs': 5, 'model_name': 'gpt-3.5-turbo', 'model_config': {}, 'errors': []}, job_setting={'example_ids': ['432cedfd9a86486e89b9f43e005b2512']}, job_version=None, example_id='901f44db69db424b8960f4e6a893e645', example_version=None, extra=None, ref_event_id=None),\n Event(event_id='4432bb154343432c8b01ac6e78a73a55', timestamp='20231011153245', event_type=<EventType.SAMPLE_EVAL: 'sample_evaluation'>, event_metrics={'accuracy': 1.0, 'execution_time': 0.9020993709564209, 'failure_rate': 1.0, 'token_usage': 179.0, 'num_runs': 5, 'model_name': 'gpt-3.5-turbo', 'model_config': {}, 'errors': []}, job_setting={'example_ids': ['432cedfd9a86486e89b9f43e005b2512']}, job_version=None, example_id='4efd69564f894f0ba3f0a395cd115975', example_version=None, extra=None, ref_event_id=None),\n Event(event_id='8687c8d68a194cb6bf999ec6ece9e97d', timestamp='20231011153245', event_type=<EventType.SAMPLE_EVAL: 'sample_evaluation'>, event_metrics={'accuracy': 0.8, 'execution_time': 0.8958296775817871, 'failure_rate': 1.0, 'token_usage': 180.4, 'num_runs': 5, 'model_name': 'gpt-3.5-turbo', 'model_config': {}, 'errors': []}, job_setting={'example_ids': ['432cedfd9a86486e89b9f43e005b2512']}, job_version=None, example_id='63abc8fd29d74d44a9378de16e8ad35b', example_version=None, extra=None, ref_event_id=None),\n Event(event_id='d62ee20779b74e1882e4f0e3c3f3a6b3', timestamp='20231011153245', event_type=<EventType.SAMPLE_EVAL: 'sample_evaluation'>, event_metrics={'accuracy': 0.0, 'execution_time': 0.8802268981933594, 'failure_rate': 1.0, 'token_usage': 177.0, 'num_runs': 5, 'model_name': 'gpt-3.5-turbo', 'model_config': {}, 'errors': []}, job_setting={'example_ids': ['432cedfd9a86486e89b9f43e005b2512']}, job_version=None, example_id='01bb09ec5b3249958341c4fe9f690e05', example_version=None, extra=None, ref_event_id=None),\n Event(event_id='16546297526342428acebec69f18f547', timestamp='20231011153245', event_type=<EventType.EVAL_RUN: 'evaluation_run'>, event_metrics={'accuracy': 0.6, 'execution_time': 0.9103781795501709, 'failure_rate': 1.0, 'token_usage': 181.76, 'num_runs': 5.0, 'model_name': 'gpt-3.5-turbo', 'model_config': {}, 'errors': []}, job_setting={'example_ids': ['432cedfd9a86486e89b9f43e005b2512']}, job_version=None, example_id=['918e0a4145474b0dabdc9a1527b9a111', '901f44db69db424b8960f4e6a893e645', '4efd69564f894f0ba3f0a395cd115975', '63abc8fd29d74d44a9378de16e8ad35b', '01bb09ec5b3249958341c4fe9f690e05'], example_version=None, extra=None, ref_event_id=None),\n Event(event_id='c3e86200c97c48b9a7799837d0e786a2', timestamp='20231011153246', event_type=<EventType.SAMPLE_EVAL: 'sample_evaluation'>, event_metrics={'accuracy': 0.4, 'execution_time': 1.06363525390625, 'failure_rate': 1.0, 'token_usage': 190.4, 'num_runs': 5, 'model_name': 'gpt-3.5-turbo', 'model_config': {}, 'errors': []}, job_setting={'example_ids': ['5286e1f163d44a3ab5761830c773a155']}, job_version=None, example_id='918e0a4145474b0dabdc9a1527b9a111', example_version=None, extra=None, ref_event_id=None),\n Event(event_id='447f3282b5a44a1490fff48bc82597f9', timestamp='20231011153246', event_type=<EventType.SAMPLE_EVAL: 'sample_evaluation'>, event_metrics={'accuracy': 0.8, 'execution_time': 0.954266881942749, 'failure_rate': 1.0, 'token_usage': 182.8, 'num_runs': 5, 'model_name': 'gpt-3.5-turbo', 'model_config': {}, 'errors': []}, job_setting={'example_ids': ['5286e1f163d44a3ab5761830c773a155']}, job_version=None, example_id='901f44db69db424b8960f4e6a893e645', example_version=None, extra=None, ref_event_id=None),\n Event(event_id='3677f8ff97d74dcf8fb8a3be8af0d7b2', timestamp='20231011153246', event_type=<EventType.SAMPLE_EVAL: 'sample_evaluation'>, event_metrics={'accuracy': 1.0, 'execution_time': 0.8691450595855713, 'failure_rate': 1.0, 'token_usage': 179.0, 'num_runs': 5, 'model_name': 'gpt-3.5-turbo', 'model_config': {}, 'errors': []}, job_setting={'example_ids': ['5286e1f163d44a3ab5761830c773a155']}, job_version=None, example_id='4efd69564f894f0ba3f0a395cd115975', example_version=None, extra=None, ref_event_id=None),\n Event(event_id='99fabe9870db42f4bce80fa9cad52a09', timestamp='20231011153246', event_type=<EventType.SAMPLE_EVAL: 'sample_evaluation'>, event_metrics={'accuracy': 1.0, 'execution_time': 0.8773287296295166, 'failure_rate': 1.0, 'token_usage': 180.0, 'num_runs': 5, 'model_name': 'gpt-3.5-turbo', 'model_config': {}, 'errors': []}, job_setting={'example_ids': ['5286e1f163d44a3ab5761830c773a155']}, job_version=None, example_id='63abc8fd29d74d44a9378de16e8ad35b', example_version=None, extra=None, ref_event_id=None),\n Event(event_id='862cb6d15b414dde9f6abd34758c7332', timestamp='20231011153246', event_type=<EventType.SAMPLE_EVAL: 'sample_evaluation'>, event_metrics={'accuracy': 0.0, 'execution_time': 0.8804049015045166, 'failure_rate': 1.0, 'token_usage': 177.0, 'num_runs': 5, 'model_name': 'gpt-3.5-turbo', 'model_config': {}, 'errors': []}, job_setting={'example_ids': ['5286e1f163d44a3ab5761830c773a155']}, job_version=None, example_id='01bb09ec5b3249958341c4fe9f690e05', example_version=None, extra=None, ref_event_id=None),\n Event(event_id='53ba6fee86a34b239ba7f2d6af31a3fc', timestamp='20231011153246', event_type=<EventType.EVAL_RUN: 'evaluation_run'>, event_metrics={'accuracy': 0.64, 'execution_time': 0.9289561653137207, 'failure_rate': 1.0, 'token_usage': 181.84, 'num_runs': 5.0, 'model_name': 'gpt-3.5-turbo', 'model_config': {}, 'errors': []}, job_setting={'example_ids': ['5286e1f163d44a3ab5761830c773a155']}, job_version=None, example_id=['918e0a4145474b0dabdc9a1527b9a111', '901f44db69db424b8960f4e6a893e645', '4efd69564f894f0ba3f0a395cd115975', '63abc8fd29d74d44a9378de16e8ad35b', '01bb09ec5b3249958341c4fe9f690e05'], example_version=None, extra=None, ref_event_id=None),\n Event(event_id='91af17c590fd4ba58b34ab494bca7a5d', timestamp='20231011153247', event_type=<EventType.SAMPLE_EVAL: 'sample_evaluation'>, event_metrics={'accuracy': 0.2, 'execution_time': 1.016033411026001, 'failure_rate': 1.0, 'token_usage': 190.0, 'num_runs': 5, 'model_name': 'gpt-3.5-turbo', 'model_config': {}, 'errors': []}, job_setting={'example_ids': ['ea207c3d2f8f4bf7b44b011d03e63960']}, job_version=None, example_id='918e0a4145474b0dabdc9a1527b9a111', example_version=None, extra=None, ref_event_id=None),\n Event(event_id='050b350f32d64931ba66c170f0cb184b', timestamp='20231011153247', event_type=<EventType.SAMPLE_EVAL: 'sample_evaluation'>, event_metrics={'accuracy': 0.8, 'execution_time': 1.0098196506500243, 'failure_rate': 1.0, 'token_usage': 182.4, 'num_runs': 5, 'model_name': 'gpt-3.5-turbo', 'model_config': {}, 'errors': []}, job_setting={'example_ids': ['ea207c3d2f8f4bf7b44b011d03e63960']}, job_version=None, example_id='901f44db69db424b8960f4e6a893e645', example_version=None, extra=None, ref_event_id=None),\n Event(event_id='a145ac58158a4373a5ed591978ddd7c6', timestamp='20231011153247', event_type=<EventType.SAMPLE_EVAL: 'sample_evaluation'>, event_metrics={'accuracy': 1.0, 'execution_time': 0.9723368167877198, 'failure_rate': 1.0, 'token_usage': 179.0, 'num_runs': 5, 'model_name': 'gpt-3.5-turbo', 'model_config': {}, 'errors': []}, job_setting={'example_ids': ['ea207c3d2f8f4bf7b44b011d03e63960']}, job_version=None, example_id='4efd69564f894f0ba3f0a395cd115975', example_version=None, extra=None, ref_event_id=None),\n Event(event_id='4af5f35d3b8d4037b71f2e47f0d78635', timestamp='20231011153247', event_type=<EventType.SAMPLE_EVAL: 'sample_evaluation'>, event_metrics={'accuracy': 1.0, 'execution_time': 0.9254540920257568, 'failure_rate': 1.0, 'token_usage': 180.0, 'num_runs': 5, 'model_name': 'gpt-3.5-turbo', 'model_config': {}, 'errors': []}, job_setting={'example_ids': ['ea207c3d2f8f4bf7b44b011d03e63960']}, job_version=None, example_id='63abc8fd29d74d44a9378de16e8ad35b', example_version=None, extra=None, ref_event_id=None),\n Event(event_id='f7b8d326703b42e6a51722cf360c1763', timestamp='20231011153247', event_type=<EventType.SAMPLE_EVAL: 'sample_evaluation'>, event_metrics={'accuracy': 0.0, 'execution_time': 0.9785894393920899, 'failure_rate': 1.0, 'token_usage': 177.0, 'num_runs': 5, 'model_name': 'gpt-3.5-turbo', 'model_config': {}, 'errors': []}, job_setting={'example_ids': ['ea207c3d2f8f4bf7b44b011d03e63960']}, job_version=None, example_id='01bb09ec5b3249958341c4fe9f690e05', example_version=None, extra=None, ref_event_id=None),\n Event(event_id='219297e86348453584486d1265a179c3', timestamp='20231011153247', event_type=<EventType.EVAL_RUN: 'evaluation_run'>, event_metrics={'accuracy': 0.6, 'execution_time': 0.9804466819763185, 'failure_rate': 1.0, 'token_usage': 181.68, 'num_runs': 5.0, 'model_name': 'gpt-3.5-turbo', 'model_config': {}, 'errors': []}, job_setting={'example_ids': ['ea207c3d2f8f4bf7b44b011d03e63960']}, job_version=None, example_id=['918e0a4145474b0dabdc9a1527b9a111', '901f44db69db424b8960f4e6a893e645', '4efd69564f894f0ba3f0a395cd115975', '63abc8fd29d74d44a9378de16e8ad35b', '01bb09ec5b3249958341c4fe9f690e05'], example_version=None, extra=None, ref_event_id=None),\n Event(event_id='8a0cddd5d06344758a7b218f09bd255f', timestamp='20231011153248', event_type=<EventType.SAMPLE_EVAL: 'sample_evaluation'>, event_metrics={'accuracy': 0.2, 'execution_time': 0.7957743167877197, 'failure_rate': 1.0, 'token_usage': 189.0, 'num_runs': 5, 'model_name': 'gpt-3.5-turbo', 'model_config': {}, 'errors': []}, job_setting={'example_ids': ['6ddef8f674f44bb6a7d84c555304da11']}, job_version=None, example_id='918e0a4145474b0dabdc9a1527b9a111', example_version=None, extra=None, ref_event_id=None),\n Event(event_id='7cae08b8d26e4517b1bb06d170da0bf1', timestamp='20231011153248', event_type=<EventType.SAMPLE_EVAL: 'sample_evaluation'>, event_metrics={'accuracy': 0.4, 'execution_time': 1.0478942394256592, 'failure_rate': 1.0, 'token_usage': 183.2, 'num_runs': 5, 'model_name': 'gpt-3.5-turbo', 'model_config': {}, 'errors': []}, job_setting={'example_ids': ['6ddef8f674f44bb6a7d84c555304da11']}, job_version=None, example_id='901f44db69db424b8960f4e6a893e645', example_version=None, extra=None, ref_event_id=None),\n Event(event_id='57b3a86d625142f68ae6760f34d4f95f', timestamp='20231011153248', event_type=<EventType.SAMPLE_EVAL: 'sample_evaluation'>, event_metrics={'accuracy': 1.0, 'execution_time': 0.9541179656982421, 'failure_rate': 1.0, 'token_usage': 179.0, 'num_runs': 5, 'model_name': 'gpt-3.5-turbo', 'model_config': {}, 'errors': []}, job_setting={'example_ids': ['6ddef8f674f44bb6a7d84c555304da11']}, job_version=None, example_id='4efd69564f894f0ba3f0a395cd115975', example_version=None, extra=None, ref_event_id=None),\n Event(event_id='2772de0f8bb340669dd0c75547dd8af6', timestamp='20231011153248', event_type=<EventType.SAMPLE_EVAL: 'sample_evaluation'>, event_metrics={'accuracy': 1.0, 'execution_time': 0.7455430507659913, 'failure_rate': 1.0, 'token_usage': 180.0, 'num_runs': 5, 'model_name': 'gpt-3.5-turbo', 'model_config': {}, 'errors': []}, job_setting={'example_ids': ['6ddef8f674f44bb6a7d84c555304da11']}, job_version=None, example_id='63abc8fd29d74d44a9378de16e8ad35b', example_version=None, extra=None, ref_event_id=None),\n Event(event_id='d69fe2c3f92243e2b56914989f5cbe37', timestamp='20231011153248', event_type=<EventType.SAMPLE_EVAL: 'sample_evaluation'>, event_metrics={'accuracy': 0.0, 'execution_time': 0.7658427715301513, 'failure_rate': 1.0, 'token_usage': 177.0, 'num_runs': 5, 'model_name': 'gpt-3.5-turbo', 'model_config': {}, 'errors': []}, job_setting={'example_ids': ['6ddef8f674f44bb6a7d84c555304da11']}, job_version=None, example_id='01bb09ec5b3249958341c4fe9f690e05', example_version=None, extra=None, ref_event_id=None),\n Event(event_id='9db70b9087df4dac8c882b1fd3e0fec1', timestamp='20231011153248', event_type=<EventType.EVAL_RUN: 'evaluation_run'>, event_metrics={'accuracy': 0.52, 'execution_time': 0.8618344688415526, 'failure_rate': 1.0, 'token_usage': 181.64000000000001, 'num_runs': 5.0, 'model_name': 'gpt-3.5-turbo', 'model_config': {}, 'errors': []}, job_setting={'example_ids': ['6ddef8f674f44bb6a7d84c555304da11']}, job_version=None, example_id=['918e0a4145474b0dabdc9a1527b9a111', '901f44db69db424b8960f4e6a893e645', '4efd69564f894f0ba3f0a395cd115975', '63abc8fd29d74d44a9378de16e8ad35b', '01bb09ec5b3249958341c4fe9f690e05'], example_version=None, extra=None, ref_event_id=None),\n Event(event_id='3f429948895248e88bb3925c9da1ad72', timestamp='20231011153251', event_type=<EventType.SAMPLE_EVAL: 'sample_evaluation'>, event_metrics={'accuracy': 0.4, 'execution_time': 1.016618537902832, 'failure_rate': 1.0, 'token_usage': 190.8, 'num_runs': 5, 'model_name': 'gpt-3.5-turbo', 'model_config': {}, 'errors': []}, job_setting={'example_ids': ['9ac773f174bd46f08dfe03b2f3372ce6']}, job_version=None, example_id='918e0a4145474b0dabdc9a1527b9a111', example_version=None, extra=None, ref_event_id=None),\n Event(event_id='076a5de4d6444d139b92934c7494f9f3', timestamp='20231011153251', event_type=<EventType.SAMPLE_EVAL: 'sample_evaluation'>, event_metrics={'accuracy': 0.6, 'execution_time': 1.3038177013397216, 'failure_rate': 1.0, 'token_usage': 183.2, 'num_runs': 5, 'model_name': 'gpt-3.5-turbo', 'model_config': {}, 'errors': []}, job_setting={'example_ids': ['9ac773f174bd46f08dfe03b2f3372ce6']}, job_version=None, example_id='901f44db69db424b8960f4e6a893e645', example_version=None, extra=None, ref_event_id=None),\n Event(event_id='0446c346d3ec4340886bd89dc15e0bbe', timestamp='20231011153251', event_type=<EventType.SAMPLE_EVAL: 'sample_evaluation'>, event_metrics={'accuracy': 1.0, 'execution_time': 0.8979417324066162, 'failure_rate': 1.0, 'token_usage': 179.0, 'num_runs': 5, 'model_name': 'gpt-3.5-turbo', 'model_config': {}, 'errors': []}, job_setting={'example_ids': ['9ac773f174bd46f08dfe03b2f3372ce6']}, job_version=None, example_id='4efd69564f894f0ba3f0a395cd115975', example_version=None, extra=None, ref_event_id=None),\n Event(event_id='a33159ac77e44b549e7234aeeba8e34a', timestamp='20231011153251', event_type=<EventType.SAMPLE_EVAL: 'sample_evaluation'>, event_metrics={'accuracy': 1.0, 'execution_time': 0.8822819709777832, 'failure_rate': 1.0, 'token_usage': 180.0, 'num_runs': 5, 'model_name': 'gpt-3.5-turbo', 'model_config': {}, 'errors': []}, job_setting={'example_ids': ['9ac773f174bd46f08dfe03b2f3372ce6']}, job_version=None, example_id='63abc8fd29d74d44a9378de16e8ad35b', example_version=None, extra=None, ref_event_id=None),\n Event(event_id='68eab1a24e5f4c58b79beb698f34857c', timestamp='20231011153251', event_type=<EventType.SAMPLE_EVAL: 'sample_evaluation'>, event_metrics={'accuracy': 0.0, 'execution_time': 0.8710947513580323, 'failure_rate': 1.0, 'token_usage': 177.0, 'num_runs': 5, 'model_name': 'gpt-3.5-turbo', 'model_config': {}, 'errors': []}, job_setting={'example_ids': ['9ac773f174bd46f08dfe03b2f3372ce6']}, job_version=None, example_id='01bb09ec5b3249958341c4fe9f690e05', example_version=None, extra=None, ref_event_id=None),\n Event(event_id='55351139f52548bf94130b11966e7992', timestamp='20231011153251', event_type=<EventType.EVAL_RUN: 'evaluation_run'>, event_metrics={'accuracy': 0.6, 'execution_time': 0.994350938796997, 'failure_rate': 1.0, 'token_usage': 182.0, 'num_runs': 5.0, 'model_name': 'gpt-3.5-turbo', 'model_config': {}, 'errors': []}, job_setting={'example_ids': ['9ac773f174bd46f08dfe03b2f3372ce6']}, job_version=None, example_id=['918e0a4145474b0dabdc9a1527b9a111', '901f44db69db424b8960f4e6a893e645', '4efd69564f894f0ba3f0a395cd115975', '63abc8fd29d74d44a9378de16e8ad35b', '01bb09ec5b3249958341c4fe9f690e05'], example_version=None, extra=None, ref_event_id=None),\n Event(event_id='27a5c14e9d07417a828c7c4cb00c06a3', timestamp='20231011153252', event_type=<EventType.SAMPLE_EVAL: 'sample_evaluation'>, event_metrics={'accuracy': 0.0, 'execution_time': 0.9177640438079834, 'failure_rate': 1.0, 'token_usage': 189.0, 'num_runs': 5, 'model_name': 'gpt-3.5-turbo', 'model_config': {}, 'errors': []}, job_setting={'example_ids': ['70f017c35a824692a55a4574b41ed517']}, job_version=None, example_id='918e0a4145474b0dabdc9a1527b9a111', example_version=None, extra=None, ref_event_id=None),\n Event(event_id='7a9d22df4f99425da73266115f95e633', timestamp='20231011153252', event_type=<EventType.SAMPLE_EVAL: 'sample_evaluation'>, event_metrics={'accuracy': 0.8, 'execution_time': 0.9446773529052734, 'failure_rate': 1.0, 'token_usage': 182.0, 'num_runs': 5, 'model_name': 'gpt-3.5-turbo', 'model_config': {}, 'errors': []}, job_setting={'example_ids': ['70f017c35a824692a55a4574b41ed517']}, job_version=None, example_id='901f44db69db424b8960f4e6a893e645', example_version=None, extra=None, ref_event_id=None),\n Event(event_id='eaa3615eec6343ee998cab04e8e921ec', timestamp='20231011153252', event_type=<EventType.SAMPLE_EVAL: 'sample_evaluation'>, event_metrics={'accuracy': 1.0, 'execution_time': 0.9966404914855957, 'failure_rate': 1.0, 'token_usage': 179.0, 'num_runs': 5, 'model_name': 'gpt-3.5-turbo', 'model_config': {}, 'errors': []}, job_setting={'example_ids': ['70f017c35a824692a55a4574b41ed517']}, job_version=None, example_id='4efd69564f894f0ba3f0a395cd115975', example_version=None, extra=None, ref_event_id=None),\n Event(event_id='649749926ca948609817eddb1000d611', timestamp='20231011153252', event_type=<EventType.SAMPLE_EVAL: 'sample_evaluation'>, event_metrics={'accuracy': 1.0, 'execution_time': 0.994693374633789, 'failure_rate': 1.0, 'token_usage': 180.0, 'num_runs': 5, 'model_name': 'gpt-3.5-turbo', 'model_config': {}, 'errors': []}, job_setting={'example_ids': ['70f017c35a824692a55a4574b41ed517']}, job_version=None, example_id='63abc8fd29d74d44a9378de16e8ad35b', example_version=None, extra=None, ref_event_id=None),\n Event(event_id='4792022557d34f12922a95d0ec712ea9', timestamp='20231011153252', event_type=<EventType.SAMPLE_EVAL: 'sample_evaluation'>, event_metrics={'accuracy': 0.0, 'execution_time': 0.8196125030517578, 'failure_rate': 1.0, 'token_usage': 177.0, 'num_runs': 5, 'model_name': 'gpt-3.5-turbo', 'model_config': {}, 'errors': []}, job_setting={'example_ids': ['70f017c35a824692a55a4574b41ed517']}, job_version=None, example_id='01bb09ec5b3249958341c4fe9f690e05', example_version=None, extra=None, ref_event_id=None),\n Event(event_id='648c28d20995466b80714fda2acec148', timestamp='20231011153252', event_type=<EventType.EVAL_RUN: 'evaluation_run'>, event_metrics={'accuracy': 0.5599999999999999, 'execution_time': 0.9346775531768798, 'failure_rate': 1.0, 'token_usage': 181.4, 'num_runs': 5.0, 'model_name': 'gpt-3.5-turbo', 'model_config': {}, 'errors': []}, job_setting={'example_ids': ['70f017c35a824692a55a4574b41ed517']}, job_version=None, example_id=['918e0a4145474b0dabdc9a1527b9a111', '901f44db69db424b8960f4e6a893e645', '4efd69564f894f0ba3f0a395cd115975', '63abc8fd29d74d44a9378de16e8ad35b', '01bb09ec5b3249958341c4fe9f690e05'], example_version=None, extra=None, ref_event_id=None),\n Event(event_id='7505bec627b5400aa0e6184c62e35950', timestamp='20231011153253', event_type=<EventType.SAMPLE_EVAL: 'sample_evaluation'>, event_metrics={'accuracy': 0.4, 'execution_time': 0.9053470611572265, 'failure_rate': 1.0, 'token_usage': 190.4, 'num_runs': 5, 'model_name': 'gpt-3.5-turbo', 'model_config': {}, 'errors': []}, job_setting={'example_ids': ['977cefaae1574cb08da67a52027e11a8']}, job_version=None, example_id='918e0a4145474b0dabdc9a1527b9a111', example_version=None, extra=None, ref_event_id=None),\n Event(event_id='0d69dcf1cda646bb861a3a9786b3772b', timestamp='20231011153253', event_type=<EventType.SAMPLE_EVAL: 'sample_evaluation'>, event_metrics={'accuracy': 1.0, 'execution_time': 0.8878419399261475, 'failure_rate': 1.0, 'token_usage': 182.0, 'num_runs': 5, 'model_name': 'gpt-3.5-turbo', 'model_config': {}, 'errors': []}, job_setting={'example_ids': ['977cefaae1574cb08da67a52027e11a8']}, job_version=None, example_id='901f44db69db424b8960f4e6a893e645', example_version=None, extra=None, ref_event_id=None),\n Event(event_id='bb0102a955be4e0089cb8e81084b5b83', timestamp='20231011153253', event_type=<EventType.SAMPLE_EVAL: 'sample_evaluation'>, event_metrics={'accuracy': 0.8, 'execution_time': 0.9696293830871582, 'failure_rate': 1.0, 'token_usage': 179.8, 'num_runs': 5, 'model_name': 'gpt-3.5-turbo', 'model_config': {}, 'errors': []}, job_setting={'example_ids': ['977cefaae1574cb08da67a52027e11a8']}, job_version=None, example_id='4efd69564f894f0ba3f0a395cd115975', example_version=None, extra=None, ref_event_id=None),\n Event(event_id='2964e76223e44a1d9333a65a8ae8bef7', timestamp='20231011153253', event_type=<EventType.SAMPLE_EVAL: 'sample_evaluation'>, event_metrics={'accuracy': 0.8, 'execution_time': 0.987119722366333, 'failure_rate': 1.0, 'token_usage': 180.8, 'num_runs': 5, 'model_name': 'gpt-3.5-turbo', 'model_config': {}, 'errors': []}, job_setting={'example_ids': ['977cefaae1574cb08da67a52027e11a8']}, job_version=None, example_id='63abc8fd29d74d44a9378de16e8ad35b', example_version=None, extra=None, ref_event_id=None),\n Event(event_id='305537e2c3f54f7cabd006b6c70a078c', timestamp='20231011153253', event_type=<EventType.SAMPLE_EVAL: 'sample_evaluation'>, event_metrics={'accuracy': 0.0, 'execution_time': 0.7597304821014405, 'failure_rate': 1.0, 'token_usage': 177.8, 'num_runs': 5, 'model_name': 'gpt-3.5-turbo', 'model_config': {}, 'errors': []}, job_setting={'example_ids': ['977cefaae1574cb08da67a52027e11a8']}, job_version=None, example_id='01bb09ec5b3249958341c4fe9f690e05', example_version=None, extra=None, ref_event_id=None),\n Event(event_id='8270e53f4cbd4ff1b2b4adb964367762', timestamp='20231011153253', event_type=<EventType.EVAL_RUN: 'evaluation_run'>, event_metrics={'accuracy': 0.6, 'execution_time': 0.9019337177276612, 'failure_rate': 1.0, 'token_usage': 182.16, 'num_runs': 5.0, 'model_name': 'gpt-3.5-turbo', 'model_config': {}, 'errors': []}, job_setting={'example_ids': ['977cefaae1574cb08da67a52027e11a8']}, job_version=None, example_id=['918e0a4145474b0dabdc9a1527b9a111', '901f44db69db424b8960f4e6a893e645', '4efd69564f894f0ba3f0a395cd115975', '63abc8fd29d74d44a9378de16e8ad35b', '01bb09ec5b3249958341c4fe9f690e05'], example_version=None, extra=None, ref_event_id=None),\n Event(event_id='110ac594a3e7428887549deff371ada9', timestamp='20231011153254', event_type=<EventType.SAMPLE_EVAL: 'sample_evaluation'>, event_metrics={'accuracy': 0.4, 'execution_time': 0.9386403560638428, 'failure_rate': 1.0, 'token_usage': 190.2, 'num_runs': 5, 'model_name': 'gpt-3.5-turbo', 'model_config': {}, 'errors': []}, job_setting={'example_ids': ['7fa313a078c5423e956109f581f873bf']}, job_version=None, example_id='918e0a4145474b0dabdc9a1527b9a111', example_version=None, extra=None, ref_event_id=None),\n Event(event_id='6196cc8ca77242eaa1a8c14ddb031a3f', timestamp='20231011153254', event_type=<EventType.SAMPLE_EVAL: 'sample_evaluation'>, event_metrics={'accuracy': 0.8, 'execution_time': 0.9022159576416016, 'failure_rate': 1.0, 'token_usage': 182.4, 'num_runs': 5, 'model_name': 'gpt-3.5-turbo', 'model_config': {}, 'errors': []}, job_setting={'example_ids': ['7fa313a078c5423e956109f581f873bf']}, job_version=None, example_id='901f44db69db424b8960f4e6a893e645', example_version=None, extra=None, ref_event_id=None),\n Event(event_id='43b758192a3942e0a39400d79022ee30', timestamp='20231011153254', event_type=<EventType.SAMPLE_EVAL: 'sample_evaluation'>, event_metrics={'accuracy': 1.0, 'execution_time': 0.8865972042083741, 'failure_rate': 1.0, 'token_usage': 179.0, 'num_runs': 5, 'model_name': 'gpt-3.5-turbo', 'model_config': {}, 'errors': []}, job_setting={'example_ids': ['7fa313a078c5423e956109f581f873bf']}, job_version=None, example_id='4efd69564f894f0ba3f0a395cd115975', example_version=None, extra=None, ref_event_id=None),\n Event(event_id='689641cb7cad45cfa4a23fa501bfc214', timestamp='20231011153254', event_type=<EventType.SAMPLE_EVAL: 'sample_evaluation'>, event_metrics={'accuracy': 1.0, 'execution_time': 0.8469292640686035, 'failure_rate': 1.0, 'token_usage': 180.2, 'num_runs': 5, 'model_name': 'gpt-3.5-turbo', 'model_config': {}, 'errors': []}, job_setting={'example_ids': ['7fa313a078c5423e956109f581f873bf']}, job_version=None, example_id='63abc8fd29d74d44a9378de16e8ad35b', example_version=None, extra=None, ref_event_id=None),\n Event(event_id='590a2d413b5a4d26966db116ba970f2a', timestamp='20231011153254', event_type=<EventType.SAMPLE_EVAL: 'sample_evaluation'>, event_metrics={'accuracy': 0.0, 'execution_time': 0.8313044548034668, 'failure_rate': 1.0, 'token_usage': 178.4, 'num_runs': 5, 'model_name': 'gpt-3.5-turbo', 'model_config': {}, 'errors': []}, job_setting={'example_ids': ['7fa313a078c5423e956109f581f873bf']}, job_version=None, example_id='01bb09ec5b3249958341c4fe9f690e05', example_version=None, extra=None, ref_event_id=None),\n Event(event_id='85ff308debce4fa3a1dc5556d9a8fdd1', timestamp='20231011153254', event_type=<EventType.EVAL_RUN: 'evaluation_run'>, event_metrics={'accuracy': 0.64, 'execution_time': 0.8811374473571778, 'failure_rate': 1.0, 'token_usage': 182.04, 'num_runs': 5.0, 'model_name': 'gpt-3.5-turbo', 'model_config': {}, 'errors': []}, job_setting={'example_ids': ['7fa313a078c5423e956109f581f873bf']}, job_version=None, example_id=['918e0a4145474b0dabdc9a1527b9a111', '901f44db69db424b8960f4e6a893e645', '4efd69564f894f0ba3f0a395cd115975', '63abc8fd29d74d44a9378de16e8ad35b', '01bb09ec5b3249958341c4fe9f690e05'], example_version=None, extra=None, ref_event_id=None),\n Event(event_id='1f189d7db18d4b929d831f63a0ad3ccc', timestamp='20231011153255', event_type=<EventType.SAMPLE_EVAL: 'sample_evaluation'>, event_metrics={'accuracy': 0.2, 'execution_time': 0.9389787197113038, 'failure_rate': 1.0, 'token_usage': 189.6, 'num_runs': 5, 'model_name': 'gpt-3.5-turbo', 'model_config': {}, 'errors': []}, job_setting={'example_ids': ['fdf3170e32c34427ae3850f9a378b4e3']}, job_version=None, example_id='918e0a4145474b0dabdc9a1527b9a111', example_version=None, extra=None, ref_event_id=None),\n Event(event_id='252473c4fd0241ea904c8b77818501d8', timestamp='20231011153255', event_type=<EventType.SAMPLE_EVAL: 'sample_evaluation'>, event_metrics={'accuracy': 0.8, 'execution_time': 0.9295958995819091, 'failure_rate': 1.0, 'token_usage': 182.8, 'num_runs': 5, 'model_name': 'gpt-3.5-turbo', 'model_config': {}, 'errors': []}, job_setting={'example_ids': ['fdf3170e32c34427ae3850f9a378b4e3']}, job_version=None, example_id='901f44db69db424b8960f4e6a893e645', example_version=None, extra=None, ref_event_id=None),\n Event(event_id='59a0e61a819e4404911f372feb4e8f14', timestamp='20231011153255', event_type=<EventType.SAMPLE_EVAL: 'sample_evaluation'>, event_metrics={'accuracy': 1.0, 'execution_time': 0.9607765197753906, 'failure_rate': 1.0, 'token_usage': 179.0, 'num_runs': 5, 'model_name': 'gpt-3.5-turbo', 'model_config': {}, 'errors': []}, job_setting={'example_ids': ['fdf3170e32c34427ae3850f9a378b4e3']}, job_version=None, example_id='4efd69564f894f0ba3f0a395cd115975', example_version=None, extra=None, ref_event_id=None),\n Event(event_id='6cbb08277abe49939761bb1be312ccc3', timestamp='20231011153255', event_type=<EventType.SAMPLE_EVAL: 'sample_evaluation'>, event_metrics={'accuracy': 0.8, 'execution_time': 0.9202095031738281, 'failure_rate': 1.0, 'token_usage': 180.4, 'num_runs': 5, 'model_name': 'gpt-3.5-turbo', 'model_config': {}, 'errors': []}, job_setting={'example_ids': ['fdf3170e32c34427ae3850f9a378b4e3']}, job_version=None, example_id='63abc8fd29d74d44a9378de16e8ad35b', example_version=None, extra=None, ref_event_id=None),\n Event(event_id='d810555dabe54f15a19a88601317e5cb', timestamp='20231011153255', event_type=<EventType.SAMPLE_EVAL: 'sample_evaluation'>, event_metrics={'accuracy': 0.0, 'execution_time': 0.7333843231201171, 'failure_rate': 1.0, 'token_usage': 177.0, 'num_runs': 5, 'model_name': 'gpt-3.5-turbo', 'model_config': {}, 'errors': []}, job_setting={'example_ids': ['fdf3170e32c34427ae3850f9a378b4e3']}, job_version=None, example_id='01bb09ec5b3249958341c4fe9f690e05', example_version=None, extra=None, ref_event_id=None),\n Event(event_id='ed4b52dfb09a430dab9cde3f8c9caa4e', timestamp='20231011153255', event_type=<EventType.EVAL_RUN: 'evaluation_run'>, event_metrics={'accuracy': 0.5599999999999999, 'execution_time': 0.8965889930725097, 'failure_rate': 1.0, 'token_usage': 181.76, 'num_runs': 5.0, 'model_name': 'gpt-3.5-turbo', 'model_config': {}, 'errors': []}, job_setting={'example_ids': ['fdf3170e32c34427ae3850f9a378b4e3']}, job_version=None, example_id=['918e0a4145474b0dabdc9a1527b9a111', '901f44db69db424b8960f4e6a893e645', '4efd69564f894f0ba3f0a395cd115975', '63abc8fd29d74d44a9378de16e8ad35b', '01bb09ec5b3249958341c4fe9f690e05'], example_version=None, extra=None, ref_event_id=None),\n Event(event_id='73137cffd3fe4cd59edfbb117b43379d', timestamp='20231011153256', event_type=<EventType.SAMPLE_EVAL: 'sample_evaluation'>, event_metrics={'accuracy': 0.2, 'execution_time': 0.924567699432373, 'failure_rate': 1.0, 'token_usage': 189.2, 'num_runs': 5, 'model_name': 'gpt-3.5-turbo', 'model_config': {}, 'errors': []}, job_setting={'example_ids': ['f64e78a6ef9d46698fb4757183a4a0dd']}, job_version=None, example_id='918e0a4145474b0dabdc9a1527b9a111', example_version=None, extra=None, ref_event_id=None),\n Event(event_id='b517912392a24c1d9972dfa71d533cd4', timestamp='20231011153256', event_type=<EventType.SAMPLE_EVAL: 'sample_evaluation'>, event_metrics={'accuracy': 1.0, 'execution_time': 0.9483120918273926, 'failure_rate': 1.0, 'token_usage': 182.0, 'num_runs': 5, 'model_name': 'gpt-3.5-turbo', 'model_config': {}, 'errors': []}, job_setting={'example_ids': ['f64e78a6ef9d46698fb4757183a4a0dd']}, job_version=None, example_id='901f44db69db424b8960f4e6a893e645', example_version=None, extra=None, ref_event_id=None),\n Event(event_id='e504e54bd407446da6c5dfde2750b289', timestamp='20231011153256', event_type=<EventType.SAMPLE_EVAL: 'sample_evaluation'>, event_metrics={'accuracy': 0.8, 'execution_time': 0.9233188152313232, 'failure_rate': 1.0, 'token_usage': 179.4, 'num_runs': 5, 'model_name': 'gpt-3.5-turbo', 'model_config': {}, 'errors': []}, job_setting={'example_ids': ['f64e78a6ef9d46698fb4757183a4a0dd']}, job_version=None, example_id='4efd69564f894f0ba3f0a395cd115975', example_version=None, extra=None, ref_event_id=None),\n Event(event_id='5b686f786de748cb9b69d3046b571230', timestamp='20231011153256', event_type=<EventType.SAMPLE_EVAL: 'sample_evaluation'>, event_metrics={'accuracy': 0.8, 'execution_time': 0.8526997089385986, 'failure_rate': 1.0, 'token_usage': 180.4, 'num_runs': 5, 'model_name': 'gpt-3.5-turbo', 'model_config': {}, 'errors': []}, job_setting={'example_ids': ['f64e78a6ef9d46698fb4757183a4a0dd']}, job_version=None, example_id='63abc8fd29d74d44a9378de16e8ad35b', example_version=None, extra=None, ref_event_id=None),\n Event(event_id='de6f066e2a3d44378abdee739588dc6d', timestamp='20231011153256', event_type=<EventType.SAMPLE_EVAL: 'sample_evaluation'>, event_metrics={'accuracy': 0.0, 'execution_time': 0.7989354133605957, 'failure_rate': 1.0, 'token_usage': 177.0, 'num_runs': 5, 'model_name': 'gpt-3.5-turbo', 'model_config': {}, 'errors': []}, job_setting={'example_ids': ['f64e78a6ef9d46698fb4757183a4a0dd']}, job_version=None, example_id='01bb09ec5b3249958341c4fe9f690e05', example_version=None, extra=None, ref_event_id=None),\n Event(event_id='f153ea043ee742969875942070288bae', timestamp='20231011153256', event_type=<EventType.EVAL_RUN: 'evaluation_run'>, event_metrics={'accuracy': 0.5599999999999999, 'execution_time': 0.8895667457580567, 'failure_rate': 1.0, 'token_usage': 181.6, 'num_runs': 5.0, 'model_name': 'gpt-3.5-turbo', 'model_config': {}, 'errors': []}, job_setting={'example_ids': ['f64e78a6ef9d46698fb4757183a4a0dd']}, job_version=None, example_id=['918e0a4145474b0dabdc9a1527b9a111', '901f44db69db424b8960f4e6a893e645', '4efd69564f894f0ba3f0a395cd115975', '63abc8fd29d74d44a9378de16e8ad35b', '01bb09ec5b3249958341c4fe9f690e05'], example_version=None, extra=None, ref_event_id=None),\n Event(event_id='c979f0bbed2f4fbfaf32dc3edc9198fb', timestamp='20231011153257', event_type=<EventType.SAMPLE_EVAL: 'sample_evaluation'>, event_metrics={'accuracy': 0.4, 'execution_time': 0.9084680080413818, 'failure_rate': 1.0, 'token_usage': 190.8, 'num_runs': 5, 'model_name': 'gpt-3.5-turbo', 'model_config': {}, 'errors': []}, job_setting={'example_ids': ['b4d5fbd8f5074f2ca0d112acd3ece391']}, job_version=None, example_id='918e0a4145474b0dabdc9a1527b9a111', example_version=None, extra=None, ref_event_id=None),\n Event(event_id='d6d03b12eeb84dca8f262a215b3ee426', timestamp='20231011153257', event_type=<EventType.SAMPLE_EVAL: 'sample_evaluation'>, event_metrics={'accuracy': 0.6, 'execution_time': 0.8167299747467041, 'failure_rate': 1.0, 'token_usage': 183.2, 'num_runs': 5, 'model_name': 'gpt-3.5-turbo', 'model_config': {}, 'errors': []}, job_setting={'example_ids': ['b4d5fbd8f5074f2ca0d112acd3ece391']}, job_version=None, example_id='901f44db69db424b8960f4e6a893e645', example_version=None, extra=None, ref_event_id=None),\n Event(event_id='8d8285521d124f7f8fa5eeb16ddc4d24', timestamp='20231011153257', event_type=<EventType.SAMPLE_EVAL: 'sample_evaluation'>, event_metrics={'accuracy': 0.8, 'execution_time': 0.9605987071990967, 'failure_rate': 1.0, 'token_usage': 179.4, 'num_runs': 5, 'model_name': 'gpt-3.5-turbo', 'model_config': {}, 'errors': []}, job_setting={'example_ids': ['b4d5fbd8f5074f2ca0d112acd3ece391']}, job_version=None, example_id='4efd69564f894f0ba3f0a395cd115975', example_version=None, extra=None, ref_event_id=None),\n Event(event_id='fde7cb5dbfed4533af18183a3a566882', timestamp='20231011153257', event_type=<EventType.SAMPLE_EVAL: 'sample_evaluation'>, event_metrics={'accuracy': 1.0, 'execution_time': 0.9616148948669434, 'failure_rate': 1.0, 'token_usage': 180.0, 'num_runs': 5, 'model_name': 'gpt-3.5-turbo', 'model_config': {}, 'errors': []}, job_setting={'example_ids': ['b4d5fbd8f5074f2ca0d112acd3ece391']}, job_version=None, example_id='63abc8fd29d74d44a9378de16e8ad35b', example_version=None, extra=None, ref_event_id=None),\n Event(event_id='d30ed34975d44110941a210cd5170e39', timestamp='20231011153257', event_type=<EventType.SAMPLE_EVAL: 'sample_evaluation'>, event_metrics={'accuracy': 0.0, 'execution_time': 0.8220004558563232, 'failure_rate': 1.0, 'token_usage': 177.0, 'num_runs': 5, 'model_name': 'gpt-3.5-turbo', 'model_config': {}, 'errors': []}, job_setting={'example_ids': ['b4d5fbd8f5074f2ca0d112acd3ece391']}, job_version=None, example_id='01bb09ec5b3249958341c4fe9f690e05', example_version=None, extra=None, ref_event_id=None),\n Event(event_id='1340cfe3b8ac4e999eb4b1944cf1a9fc', timestamp='20231011153257', event_type=<EventType.EVAL_RUN: 'evaluation_run'>, event_metrics={'accuracy': 0.5599999999999999, 'execution_time': 0.8938824081420899, 'failure_rate': 1.0, 'token_usage': 182.07999999999998, 'num_runs': 5.0, 'model_name': 'gpt-3.5-turbo', 'model_config': {}, 'errors': []}, job_setting={'example_ids': ['b4d5fbd8f5074f2ca0d112acd3ece391']}, job_version=None, example_id=['918e0a4145474b0dabdc9a1527b9a111', '901f44db69db424b8960f4e6a893e645', '4efd69564f894f0ba3f0a395cd115975', '63abc8fd29d74d44a9378de16e8ad35b', '01bb09ec5b3249958341c4fe9f690e05'], example_version=None, extra=None, ref_event_id=None),\n Event(event_id='2210c3b09626426ba3a54b6a3e7c4132', timestamp='20231011153259', event_type=<EventType.SAMPLE_EVAL: 'sample_evaluation'>, event_metrics={'accuracy': 0.2, 'execution_time': 0.8866152763366699, 'failure_rate': 1.0, 'token_usage': 190.0, 'num_runs': 5, 'model_name': 'gpt-3.5-turbo', 'model_config': {}, 'errors': []}, job_setting={'example_ids': ['5286e1f163d44a3ab5761830c773a155', '06d3e8460f6c4050aaaf662519f1aad5']}, job_version=None, example_id='918e0a4145474b0dabdc9a1527b9a111', example_version=None, extra=None, ref_event_id=None),\n Event(event_id='c8d5526361484d268e790034da6bf0e0', timestamp='20231011153259', event_type=<EventType.SAMPLE_EVAL: 'sample_evaluation'>, event_metrics={'accuracy': 0.8, 'execution_time': 0.983441972732544, 'failure_rate': 1.0, 'token_usage': 182.0, 'num_runs': 5, 'model_name': 'gpt-3.5-turbo', 'model_config': {}, 'errors': []}, job_setting={'example_ids': ['5286e1f163d44a3ab5761830c773a155', '06d3e8460f6c4050aaaf662519f1aad5']}, job_version=None, example_id='901f44db69db424b8960f4e6a893e645', example_version=None, extra=None, ref_event_id=None),\n Event(event_id='72512dd831294c4cb658dc6978276d4c', timestamp='20231011153259', event_type=<EventType.SAMPLE_EVAL: 'sample_evaluation'>, event_metrics={'accuracy': 1.0, 'execution_time': 0.9490285873413086, 'failure_rate': 1.0, 'token_usage': 179.0, 'num_runs': 5, 'model_name': 'gpt-3.5-turbo', 'model_config': {}, 'errors': []}, job_setting={'example_ids': ['5286e1f163d44a3ab5761830c773a155', '06d3e8460f6c4050aaaf662519f1aad5']}, job_version=None, example_id='4efd69564f894f0ba3f0a395cd115975', example_version=None, extra=None, ref_event_id=None),\n Event(event_id='1a6f32214d504fb3a1d5566fa2f61f34', timestamp='20231011153259', event_type=<EventType.SAMPLE_EVAL: 'sample_evaluation'>, event_metrics={'accuracy': 0.8, 'execution_time': 0.9052667140960693, 'failure_rate': 1.0, 'token_usage': 180.8, 'num_runs': 5, 'model_name': 'gpt-3.5-turbo', 'model_config': {}, 'errors': []}, job_setting={'example_ids': ['5286e1f163d44a3ab5761830c773a155', '06d3e8460f6c4050aaaf662519f1aad5']}, job_version=None, example_id='63abc8fd29d74d44a9378de16e8ad35b', example_version=None, extra=None, ref_event_id=None),\n Event(event_id='742a872c29674c0aacb1cfa030d1b611', timestamp='20231011153259', event_type=<EventType.SAMPLE_EVAL: 'sample_evaluation'>, event_metrics={'accuracy': 0.0, 'execution_time': 0.7941368579864502, 'failure_rate': 1.0, 'token_usage': 177.0, 'num_runs': 5, 'model_name': 'gpt-3.5-turbo', 'model_config': {}, 'errors': []}, job_setting={'example_ids': ['5286e1f163d44a3ab5761830c773a155', '06d3e8460f6c4050aaaf662519f1aad5']}, job_version=None, example_id='01bb09ec5b3249958341c4fe9f690e05', example_version=None, extra=None, ref_event_id=None),\n Event(event_id='d76b4afb999441bb8711d15b19f847b3', timestamp='20231011153259', event_type=<EventType.EVAL_RUN: 'evaluation_run'>, event_metrics={'accuracy': 0.5599999999999999, 'execution_time': 0.9036978816986083, 'failure_rate': 1.0, 'token_usage': 181.76, 'num_runs': 5.0, 'model_name': 'gpt-3.5-turbo', 'model_config': {}, 'errors': []}, job_setting={'example_ids': ['5286e1f163d44a3ab5761830c773a155', '06d3e8460f6c4050aaaf662519f1aad5']}, job_version=None, example_id=['918e0a4145474b0dabdc9a1527b9a111', '901f44db69db424b8960f4e6a893e645', '4efd69564f894f0ba3f0a395cd115975', '63abc8fd29d74d44a9378de16e8ad35b', '01bb09ec5b3249958341c4fe9f690e05'], example_version=None, extra=None, ref_event_id=None),\n Event(event_id='30b0bd0a6d434c63b7b1a31ffcd21ed2', timestamp='20231011153300', event_type=<EventType.SAMPLE_EVAL: 'sample_evaluation'>, event_metrics={'accuracy': 0.2, 'execution_time': 0.9527420997619629, 'failure_rate': 1.0, 'token_usage': 190.4, 'num_runs': 5, 'model_name': 'gpt-3.5-turbo', 'model_config': {}, 'errors': []}, job_setting={'example_ids': ['5286e1f163d44a3ab5761830c773a155', '1e662887302d4109bdcf8a161ebe9fd9']}, job_version=None, example_id='918e0a4145474b0dabdc9a1527b9a111', example_version=None, extra=None, ref_event_id=None),\n Event(event_id='a59d6957ae0140d99ef7af995ed3aa0c', timestamp='20231011153300', event_type=<EventType.SAMPLE_EVAL: 'sample_evaluation'>, event_metrics={'accuracy': 0.8, 'execution_time': 0.9277385234832763, 'failure_rate': 1.0, 'token_usage': 182.4, 'num_runs': 5, 'model_name': 'gpt-3.5-turbo', 'model_config': {}, 'errors': []}, job_setting={'example_ids': ['5286e1f163d44a3ab5761830c773a155', '1e662887302d4109bdcf8a161ebe9fd9']}, job_version=None, example_id='901f44db69db424b8960f4e6a893e645', example_version=None, extra=None, ref_event_id=None),\n Event(event_id='a33a398c517e4382b06655bd52b7ce22', timestamp='20231011153300', event_type=<EventType.SAMPLE_EVAL: 'sample_evaluation'>, event_metrics={'accuracy': 0.8, 'execution_time': 0.9527361869812012, 'failure_rate': 1.0, 'token_usage': 179.4, 'num_runs': 5, 'model_name': 'gpt-3.5-turbo', 'model_config': {}, 'errors': []}, job_setting={'example_ids': ['5286e1f163d44a3ab5761830c773a155', '1e662887302d4109bdcf8a161ebe9fd9']}, job_version=None, example_id='4efd69564f894f0ba3f0a395cd115975', example_version=None, extra=None, ref_event_id=None),\n Event(event_id='eea5875f6f48409dbdcf22a8778f712f', timestamp='20231011153300', event_type=<EventType.SAMPLE_EVAL: 'sample_evaluation'>, event_metrics={'accuracy': 1.0, 'execution_time': 0.9590212345123291, 'failure_rate': 1.0, 'token_usage': 180.0, 'num_runs': 5, 'model_name': 'gpt-3.5-turbo', 'model_config': {}, 'errors': []}, job_setting={'example_ids': ['5286e1f163d44a3ab5761830c773a155', '1e662887302d4109bdcf8a161ebe9fd9']}, job_version=None, example_id='63abc8fd29d74d44a9378de16e8ad35b', example_version=None, extra=None, ref_event_id=None),\n Event(event_id='c495da8fcab842929a8c11a27a0d207e', timestamp='20231011153300', event_type=<EventType.SAMPLE_EVAL: 'sample_evaluation'>, event_metrics={'accuracy': 0.0, 'execution_time': 0.8559343338012695, 'failure_rate': 1.0, 'token_usage': 178.2, 'num_runs': 5, 'model_name': 'gpt-3.5-turbo', 'model_config': {}, 'errors': []}, job_setting={'example_ids': ['5286e1f163d44a3ab5761830c773a155', '1e662887302d4109bdcf8a161ebe9fd9']}, job_version=None, example_id='01bb09ec5b3249958341c4fe9f690e05', example_version=None, extra=None, ref_event_id=None),\n Event(event_id='7bbd060737614e9fbed6d8b32213565c', timestamp='20231011153300', event_type=<EventType.EVAL_RUN: 'evaluation_run'>, event_metrics={'accuracy': 0.5599999999999999, 'execution_time': 0.9296344757080078, 'failure_rate': 1.0, 'token_usage': 182.08, 'num_runs': 5.0, 'model_name': 'gpt-3.5-turbo', 'model_config': {}, 'errors': []}, job_setting={'example_ids': ['5286e1f163d44a3ab5761830c773a155', '1e662887302d4109bdcf8a161ebe9fd9']}, job_version=None, example_id=['918e0a4145474b0dabdc9a1527b9a111', '901f44db69db424b8960f4e6a893e645', '4efd69564f894f0ba3f0a395cd115975', '63abc8fd29d74d44a9378de16e8ad35b', '01bb09ec5b3249958341c4fe9f690e05'], example_version=None, extra=None, ref_event_id=None),\n Event(event_id='ae6be16d65324a5bb3984eb6d6224c9c', timestamp='20231011153301', event_type=<EventType.SAMPLE_EVAL: 'sample_evaluation'>, event_metrics={'accuracy': 0.2, 'execution_time': 0.8926828384399415, 'failure_rate': 1.0, 'token_usage': 189.4, 'num_runs': 5, 'model_name': 'gpt-3.5-turbo', 'model_config': {}, 'errors': []}, job_setting={'example_ids': ['5286e1f163d44a3ab5761830c773a155', '238ea85e98b24fe3a7b199e7aa0726a2']}, job_version=None, example_id='918e0a4145474b0dabdc9a1527b9a111', example_version=None, extra=None, ref_event_id=None),\n Event(event_id='8847af8f1ebe41e9b12a8a68003e8cf8', timestamp='20231011153301', event_type=<EventType.SAMPLE_EVAL: 'sample_evaluation'>, event_metrics={'accuracy': 0.8, 'execution_time': 0.8438995838165283, 'failure_rate': 1.0, 'token_usage': 182.4, 'num_runs': 5, 'model_name': 'gpt-3.5-turbo', 'model_config': {}, 'errors': []}, job_setting={'example_ids': ['5286e1f163d44a3ab5761830c773a155', '238ea85e98b24fe3a7b199e7aa0726a2']}, job_version=None, example_id='901f44db69db424b8960f4e6a893e645', example_version=None, extra=None, ref_event_id=None),\n Event(event_id='03a859809e354a24acc0e5e4a61e82cb', timestamp='20231011153301', event_type=<EventType.SAMPLE_EVAL: 'sample_evaluation'>, event_metrics={'accuracy': 1.0, 'execution_time': 0.9438671588897705, 'failure_rate': 1.0, 'token_usage': 179.0, 'num_runs': 5, 'model_name': 'gpt-3.5-turbo', 'model_config': {}, 'errors': []}, job_setting={'example_ids': ['5286e1f163d44a3ab5761830c773a155', '238ea85e98b24fe3a7b199e7aa0726a2']}, job_version=None, example_id='4efd69564f894f0ba3f0a395cd115975', example_version=None, extra=None, ref_event_id=None),\n Event(event_id='47bd8607da9b40d884bc448b879173de', timestamp='20231011153301', event_type=<EventType.SAMPLE_EVAL: 'sample_evaluation'>, event_metrics={'accuracy': 1.0, 'execution_time': 0.9126463413238526, 'failure_rate': 1.0, 'token_usage': 180.0, 'num_runs': 5, 'model_name': 'gpt-3.5-turbo', 'model_config': {}, 'errors': []}, job_setting={'example_ids': ['5286e1f163d44a3ab5761830c773a155', '238ea85e98b24fe3a7b199e7aa0726a2']}, job_version=None, example_id='63abc8fd29d74d44a9378de16e8ad35b', example_version=None, extra=None, ref_event_id=None),\n Event(event_id='6aa404ffdc8c45e7952067381bbfd0b7', timestamp='20231011153301', event_type=<EventType.SAMPLE_EVAL: 'sample_evaluation'>, event_metrics={'accuracy': 0.0, 'execution_time': 0.8157974243164062, 'failure_rate': 1.0, 'token_usage': 177.4, 'num_runs': 5, 'model_name': 'gpt-3.5-turbo', 'model_config': {}, 'errors': []}, job_setting={'example_ids': ['5286e1f163d44a3ab5761830c773a155', '238ea85e98b24fe3a7b199e7aa0726a2']}, job_version=None, example_id='01bb09ec5b3249958341c4fe9f690e05', example_version=None, extra=None, ref_event_id=None),\n Event(event_id='ced0b7d04ba74e23b1939d174f6e393f', timestamp='20231011153301', event_type=<EventType.EVAL_RUN: 'evaluation_run'>, event_metrics={'accuracy': 0.6, 'execution_time': 0.8817786693572996, 'failure_rate': 1.0, 'token_usage': 181.64, 'num_runs': 5.0, 'model_name': 'gpt-3.5-turbo', 'model_config': {}, 'errors': []}, job_setting={'example_ids': ['5286e1f163d44a3ab5761830c773a155', '238ea85e98b24fe3a7b199e7aa0726a2']}, job_version=None, example_id=['918e0a4145474b0dabdc9a1527b9a111', '901f44db69db424b8960f4e6a893e645', '4efd69564f894f0ba3f0a395cd115975', '63abc8fd29d74d44a9378de16e8ad35b', '01bb09ec5b3249958341c4fe9f690e05'], example_version=None, extra=None, ref_event_id=None),\n Event(event_id='3d4b17c12c9f48c08bd6812508696d2d', timestamp='20231011153302', event_type=<EventType.SAMPLE_EVAL: 'sample_evaluation'>, event_metrics={'accuracy': 0.4, 'execution_time': 1.022979974746704, 'failure_rate': 1.0, 'token_usage': 191.6, 'num_runs': 5, 'model_name': 'gpt-3.5-turbo', 'model_config': {}, 'errors': []}, job_setting={'example_ids': ['5286e1f163d44a3ab5761830c773a155', '5c3f67e3fa9142ee9d4c1c2f79bb1970']}, job_version=None, example_id='918e0a4145474b0dabdc9a1527b9a111', example_version=None, extra=None, ref_event_id=None),\n Event(event_id='c14bdb0edc974812b9a9b250206fad10', timestamp='20231011153302', event_type=<EventType.SAMPLE_EVAL: 'sample_evaluation'>, event_metrics={'accuracy': 1.0, 'execution_time': 0.9895777702331543, 'failure_rate': 1.0, 'token_usage': 182.0, 'num_runs': 5, 'model_name': 'gpt-3.5-turbo', 'model_config': {}, 'errors': []}, job_setting={'example_ids': ['5286e1f163d44a3ab5761830c773a155', '5c3f67e3fa9142ee9d4c1c2f79bb1970']}, job_version=None, example_id='901f44db69db424b8960f4e6a893e645', example_version=None, extra=None, ref_event_id=None),\n Event(event_id='3aaefe985d73453d9f1234c92492cee6', timestamp='20231011153302', event_type=<EventType.SAMPLE_EVAL: 'sample_evaluation'>, event_metrics={'accuracy': 1.0, 'execution_time': 0.9145978927612305, 'failure_rate': 1.0, 'token_usage': 179.0, 'num_runs': 5, 'model_name': 'gpt-3.5-turbo', 'model_config': {}, 'errors': []}, job_setting={'example_ids': ['5286e1f163d44a3ab5761830c773a155', '5c3f67e3fa9142ee9d4c1c2f79bb1970']}, job_version=None, example_id='4efd69564f894f0ba3f0a395cd115975', example_version=None, extra=None, ref_event_id=None),\n Event(event_id='62786b2596c44b12bb6163e205c5273b', timestamp='20231011153302', event_type=<EventType.SAMPLE_EVAL: 'sample_evaluation'>, event_metrics={'accuracy': 0.8, 'execution_time': 1.012575101852417, 'failure_rate': 1.0, 'token_usage': 180.8, 'num_runs': 5, 'model_name': 'gpt-3.5-turbo', 'model_config': {}, 'errors': []}, job_setting={'example_ids': ['5286e1f163d44a3ab5761830c773a155', '5c3f67e3fa9142ee9d4c1c2f79bb1970']}, job_version=None, example_id='63abc8fd29d74d44a9378de16e8ad35b', example_version=None, extra=None, ref_event_id=None),\n Event(event_id='f135fb79827d4f0c8e3c7f6a9f68460a', timestamp='20231011153302', event_type=<EventType.SAMPLE_EVAL: 'sample_evaluation'>, event_metrics={'accuracy': 0.0, 'execution_time': 0.9614524364471435, 'failure_rate': 1.0, 'token_usage': 177.0, 'num_runs': 5, 'model_name': 'gpt-3.5-turbo', 'model_config': {}, 'errors': []}, job_setting={'example_ids': ['5286e1f163d44a3ab5761830c773a155', '5c3f67e3fa9142ee9d4c1c2f79bb1970']}, job_version=None, example_id='01bb09ec5b3249958341c4fe9f690e05', example_version=None, extra=None, ref_event_id=None),\n Event(event_id='36000ff198da43cbbba53e2da1b20a27', timestamp='20231011153302', event_type=<EventType.EVAL_RUN: 'evaluation_run'>, event_metrics={'accuracy': 0.64, 'execution_time': 0.9802366352081299, 'failure_rate': 1.0, 'token_usage': 182.08, 'num_runs': 5.0, 'model_name': 'gpt-3.5-turbo', 'model_config': {}, 'errors': []}, job_setting={'example_ids': ['5286e1f163d44a3ab5761830c773a155', '5c3f67e3fa9142ee9d4c1c2f79bb1970']}, job_version=None, example_id=['918e0a4145474b0dabdc9a1527b9a111', '901f44db69db424b8960f4e6a893e645', '4efd69564f894f0ba3f0a395cd115975', '63abc8fd29d74d44a9378de16e8ad35b', '01bb09ec5b3249958341c4fe9f690e05'], example_version=None, extra=None, ref_event_id=None),\n Event(event_id='eb88d7c282b34c9aa65e6dedb5175d16', timestamp='20231011153305', event_type=<EventType.SAMPLE_EVAL: 'sample_evaluation'>, event_metrics={'accuracy': 0.2, 'execution_time': 1.2362592220306396, 'failure_rate': 1.2, 'token_usage': 227.6, 'num_runs': 5, 'model_name': 'gpt-3.5-turbo', 'model_config': {}, 'errors': [\"Validation failed with errors:\\nOutput '['internal']' does not contain one of the possible values: ['numeric', 'textual', 'multimedia', 'code']\\nFor output: External types:\\n- textual\\n- multimedia\\nInternal types:\\n- internal\\n\\n\\nParsed Output:\\n{'external_types': ['textual', 'multimedia'], 'internal_types': ['internal']}\", \"expected string or bytes-like object, got 'NotImplementedType'\"]}, job_setting={'example_ids': ['5286e1f163d44a3ab5761830c773a155', '432cedfd9a86486e89b9f43e005b2512']}, job_version=None, example_id='918e0a4145474b0dabdc9a1527b9a111', example_version=None, extra=None, ref_event_id=None),\n Event(event_id='16dacc2d98cd4c7f8d55fc0855f9833f', timestamp='20231011153305', event_type=<EventType.SAMPLE_EVAL: 'sample_evaluation'>, event_metrics={'accuracy': 0.8, 'execution_time': 0.844536018371582, 'failure_rate': 1.0, 'token_usage': 182.4, 'num_runs': 5, 'model_name': 'gpt-3.5-turbo', 'model_config': {}, 'errors': []}, job_setting={'example_ids': ['5286e1f163d44a3ab5761830c773a155', '432cedfd9a86486e89b9f43e005b2512']}, job_version=None, example_id='901f44db69db424b8960f4e6a893e645', example_version=None, extra=None, ref_event_id=None),\n Event(event_id='f8633c24abd4402cb20cec61d203c10b', timestamp='20231011153305', event_type=<EventType.SAMPLE_EVAL: 'sample_evaluation'>, event_metrics={'accuracy': 0.8, 'execution_time': 0.8931615829467774, 'failure_rate': 1.0, 'token_usage': 179.6, 'num_runs': 5, 'model_name': 'gpt-3.5-turbo', 'model_config': {}, 'errors': []}, job_setting={'example_ids': ['5286e1f163d44a3ab5761830c773a155', '432cedfd9a86486e89b9f43e005b2512']}, job_version=None, example_id='4efd69564f894f0ba3f0a395cd115975', example_version=None, extra=None, ref_event_id=None),\n Event(event_id='e40a6f4e0d7747c0b5c76f7222fb6fa2', timestamp='20231011153305', event_type=<EventType.SAMPLE_EVAL: 'sample_evaluation'>, event_metrics={'accuracy': 1.0, 'execution_time': 0.9387002944946289, 'failure_rate': 1.0, 'token_usage': 180.0, 'num_runs': 5, 'model_name': 'gpt-3.5-turbo', 'model_config': {}, 'errors': []}, job_setting={'example_ids': ['5286e1f163d44a3ab5761830c773a155', '432cedfd9a86486e89b9f43e005b2512']}, job_version=None, example_id='63abc8fd29d74d44a9378de16e8ad35b', example_version=None, extra=None, ref_event_id=None),\n Event(event_id='d9e70110107d4dc6af2e7bfff9ef5977', timestamp='20231011153305', event_type=<EventType.SAMPLE_EVAL: 'sample_evaluation'>, event_metrics={'accuracy': 0.0, 'execution_time': 0.8222510814666748, 'failure_rate': 1.0, 'token_usage': 177.4, 'num_runs': 5, 'model_name': 'gpt-3.5-turbo', 'model_config': {}, 'errors': []}, job_setting={'example_ids': ['5286e1f163d44a3ab5761830c773a155', '432cedfd9a86486e89b9f43e005b2512']}, job_version=None, example_id='01bb09ec5b3249958341c4fe9f690e05', example_version=None, extra=None, ref_event_id=None),\n Event(event_id='a41b878f47664880a682b52bac5b3cd3', timestamp='20231011153305', event_type=<EventType.EVAL_RUN: 'evaluation_run'>, event_metrics={'accuracy': 0.5599999999999999, 'execution_time': 0.9469816398620605, 'failure_rate': 1.04, 'token_usage': 189.4, 'num_runs': 5.0, 'model_name': 'gpt-3.5-turbo', 'model_config': {}, 'errors': [\"Validation failed with errors:\\nOutput '['internal']' does not contain one of the possible values: ['numeric', 'textual', 'multimedia', 'code']\\nFor output: External types:\\n- textual\\n- multimedia\\nInternal types:\\n- internal\\n\\n\\nParsed Output:\\n{'external_types': ['textual', 'multimedia'], 'internal_types': ['internal']}\", \"expected string or bytes-like object, got 'NotImplementedType'\"]}, job_setting={'example_ids': ['5286e1f163d44a3ab5761830c773a155', '432cedfd9a86486e89b9f43e005b2512']}, job_version=None, example_id=['918e0a4145474b0dabdc9a1527b9a111', '901f44db69db424b8960f4e6a893e645', '4efd69564f894f0ba3f0a395cd115975', '63abc8fd29d74d44a9378de16e8ad35b', '01bb09ec5b3249958341c4fe9f690e05'], example_version=None, extra=None, ref_event_id=None),\n Event(event_id='5856394cd88c47dca6cf9c5b834905e9', timestamp='20231011153306', event_type=<EventType.SAMPLE_EVAL: 'sample_evaluation'>, event_metrics={'accuracy': 0.2, 'execution_time': 1.0201515674591064, 'failure_rate': 1.0, 'token_usage': 189.6, 'num_runs': 5, 'model_name': 'gpt-3.5-turbo', 'model_config': {}, 'errors': []}, job_setting={'example_ids': ['5286e1f163d44a3ab5761830c773a155', 'ea207c3d2f8f4bf7b44b011d03e63960']}, job_version=None, example_id='918e0a4145474b0dabdc9a1527b9a111', example_version=None, extra=None, ref_event_id=None),\n Event(event_id='58887aee956941c7995ae1de840be911', timestamp='20231011153306', event_type=<EventType.SAMPLE_EVAL: 'sample_evaluation'>, event_metrics={'accuracy': 0.8, 'execution_time': 0.9820586681365967, 'failure_rate': 1.0, 'token_usage': 182.4, 'num_runs': 5, 'model_name': 'gpt-3.5-turbo', 'model_config': {}, 'errors': []}, job_setting={'example_ids': ['5286e1f163d44a3ab5761830c773a155', 'ea207c3d2f8f4bf7b44b011d03e63960']}, job_version=None, example_id='901f44db69db424b8960f4e6a893e645', example_version=None, extra=None, ref_event_id=None),\n Event(event_id='31dde35d220e4d97b7c6b7e508241e06', timestamp='20231011153306', event_type=<EventType.SAMPLE_EVAL: 'sample_evaluation'>, event_metrics={'accuracy': 1.0, 'execution_time': 0.9320532798767089, 'failure_rate': 1.0, 'token_usage': 179.0, 'num_runs': 5, 'model_name': 'gpt-3.5-turbo', 'model_config': {}, 'errors': []}, job_setting={'example_ids': ['5286e1f163d44a3ab5761830c773a155', 'ea207c3d2f8f4bf7b44b011d03e63960']}, job_version=None, example_id='4efd69564f894f0ba3f0a395cd115975', example_version=None, extra=None, ref_event_id=None),\n Event(event_id='b99320a42ebe494c81b3ae23b508f027', timestamp='20231011153306', event_type=<EventType.SAMPLE_EVAL: 'sample_evaluation'>, event_metrics={'accuracy': 1.0, 'execution_time': 0.9726771354675293, 'failure_rate': 1.0, 'token_usage': 180.0, 'num_runs': 5, 'model_name': 'gpt-3.5-turbo', 'model_config': {}, 'errors': []}, job_setting={'example_ids': ['5286e1f163d44a3ab5761830c773a155', 'ea207c3d2f8f4bf7b44b011d03e63960']}, job_version=None, example_id='63abc8fd29d74d44a9378de16e8ad35b', example_version=None, extra=None, ref_event_id=None),\n Event(event_id='f6355f4a946b4eb3a55658f8330b1ff7', timestamp='20231011153306', event_type=<EventType.SAMPLE_EVAL: 'sample_evaluation'>, event_metrics={'accuracy': 0.0, 'execution_time': 0.9151999473571777, 'failure_rate': 1.0, 'token_usage': 178.4, 'num_runs': 5, 'model_name': 'gpt-3.5-turbo', 'model_config': {}, 'errors': []}, job_setting={'example_ids': ['5286e1f163d44a3ab5761830c773a155', 'ea207c3d2f8f4bf7b44b011d03e63960']}, job_version=None, example_id='01bb09ec5b3249958341c4fe9f690e05', example_version=None, extra=None, ref_event_id=None),\n Event(event_id='d8da463d2d084cef8d8f6156da7c8d76', timestamp='20231011153306', event_type=<EventType.EVAL_RUN: 'evaluation_run'>, event_metrics={'accuracy': 0.6, 'execution_time': 0.9644281196594238, 'failure_rate': 1.0, 'token_usage': 181.88, 'num_runs': 5.0, 'model_name': 'gpt-3.5-turbo', 'model_config': {}, 'errors': []}, job_setting={'example_ids': ['5286e1f163d44a3ab5761830c773a155', 'ea207c3d2f8f4bf7b44b011d03e63960']}, job_version=None, example_id=['918e0a4145474b0dabdc9a1527b9a111', '901f44db69db424b8960f4e6a893e645', '4efd69564f894f0ba3f0a395cd115975', '63abc8fd29d74d44a9378de16e8ad35b', '01bb09ec5b3249958341c4fe9f690e05'], example_version=None, extra=None, ref_event_id=None),\n Event(event_id='3777ea1bbd714448886f76d9adf772b3', timestamp='20231011153307', event_type=<EventType.SAMPLE_EVAL: 'sample_evaluation'>, event_metrics={'accuracy': 0.4, 'execution_time': 0.9982606887817382, 'failure_rate': 1.0, 'token_usage': 190.4, 'num_runs': 5, 'model_name': 'gpt-3.5-turbo', 'model_config': {}, 'errors': []}, job_setting={'example_ids': ['5286e1f163d44a3ab5761830c773a155', '6ddef8f674f44bb6a7d84c555304da11']}, job_version=None, example_id='918e0a4145474b0dabdc9a1527b9a111', example_version=None, extra=None, ref_event_id=None),\n Event(event_id='dd209701296949b4bbcb69e00e3518ee', timestamp='20231011153307', event_type=<EventType.SAMPLE_EVAL: 'sample_evaluation'>, event_metrics={'accuracy': 0.6, 'execution_time': 0.8784895420074463, 'failure_rate': 1.0, 'token_usage': 183.2, 'num_runs': 5, 'model_name': 'gpt-3.5-turbo', 'model_config': {}, 'errors': []}, job_setting={'example_ids': ['5286e1f163d44a3ab5761830c773a155', '6ddef8f674f44bb6a7d84c555304da11']}, job_version=None, example_id='901f44db69db424b8960f4e6a893e645', example_version=None, extra=None, ref_event_id=None),\n Event(event_id='456489ad71624df78ae3b39737233943', timestamp='20231011153307', event_type=<EventType.SAMPLE_EVAL: 'sample_evaluation'>, event_metrics={'accuracy': 1.0, 'execution_time': 0.959691047668457, 'failure_rate': 1.0, 'token_usage': 179.0, 'num_runs': 5, 'model_name': 'gpt-3.5-turbo', 'model_config': {}, 'errors': []}, job_setting={'example_ids': ['5286e1f163d44a3ab5761830c773a155', '6ddef8f674f44bb6a7d84c555304da11']}, job_version=None, example_id='4efd69564f894f0ba3f0a395cd115975', example_version=None, extra=None, ref_event_id=None),\n Event(event_id='a956d8bc388c4a8ba049b83fdd91da47', timestamp='20231011153307', event_type=<EventType.SAMPLE_EVAL: 'sample_evaluation'>, event_metrics={'accuracy': 1.0, 'execution_time': 0.9420238971710205, 'failure_rate': 1.0, 'token_usage': 180.0, 'num_runs': 5, 'model_name': 'gpt-3.5-turbo', 'model_config': {}, 'errors': []}, job_setting={'example_ids': ['5286e1f163d44a3ab5761830c773a155', '6ddef8f674f44bb6a7d84c555304da11']}, job_version=None, example_id='63abc8fd29d74d44a9378de16e8ad35b', example_version=None, extra=None, ref_event_id=None),\n Event(event_id='30dd21a890fa4f25a8c503d15ef1a048', timestamp='20231011153307', event_type=<EventType.SAMPLE_EVAL: 'sample_evaluation'>, event_metrics={'accuracy': 0.0, 'execution_time': 0.9003238677978516, 'failure_rate': 1.0, 'token_usage': 177.8, 'num_runs': 5, 'model_name': 'gpt-3.5-turbo', 'model_config': {}, 'errors': []}, job_setting={'example_ids': ['5286e1f163d44a3ab5761830c773a155', '6ddef8f674f44bb6a7d84c555304da11']}, job_version=None, example_id='01bb09ec5b3249958341c4fe9f690e05', example_version=None, extra=None, ref_event_id=None),\n Event(event_id='6ffed2ce503b401d9a593c487e880831', timestamp='20231011153307', event_type=<EventType.EVAL_RUN: 'evaluation_run'>, event_metrics={'accuracy': 0.6, 'execution_time': 0.9357578086853028, 'failure_rate': 1.0, 'token_usage': 182.08, 'num_runs': 5.0, 'model_name': 'gpt-3.5-turbo', 'model_config': {}, 'errors': []}, job_setting={'example_ids': ['5286e1f163d44a3ab5761830c773a155', '6ddef8f674f44bb6a7d84c555304da11']}, job_version=None, example_id=['918e0a4145474b0dabdc9a1527b9a111', '901f44db69db424b8960f4e6a893e645', '4efd69564f894f0ba3f0a395cd115975', '63abc8fd29d74d44a9378de16e8ad35b', '01bb09ec5b3249958341c4fe9f690e05'], example_version=None, extra=None, ref_event_id=None),\n Event(event_id='ddfd6d243fe24324a7ef6d5b04c40e9c', timestamp='20231011153308', event_type=<EventType.SAMPLE_EVAL: 'sample_evaluation'>, event_metrics={'accuracy': 0.4, 'execution_time': 0.9158461093902588, 'failure_rate': 1.0, 'token_usage': 190.4, 'num_runs': 5, 'model_name': 'gpt-3.5-turbo', 'model_config': {}, 'errors': []}, job_setting={'example_ids': ['5286e1f163d44a3ab5761830c773a155', '9ac773f174bd46f08dfe03b2f3372ce6']}, job_version=None, example_id='918e0a4145474b0dabdc9a1527b9a111', example_version=None, extra=None, ref_event_id=None),\n Event(event_id='27f848efe1174717b247818ac3343a26', timestamp='20231011153308', event_type=<EventType.SAMPLE_EVAL: 'sample_evaluation'>, event_metrics={'accuracy': 0.6, 'execution_time': 0.9054483890533447, 'failure_rate': 1.0, 'token_usage': 182.8, 'num_runs': 5, 'model_name': 'gpt-3.5-turbo', 'model_config': {}, 'errors': []}, job_setting={'example_ids': ['5286e1f163d44a3ab5761830c773a155', '9ac773f174bd46f08dfe03b2f3372ce6']}, job_version=None, example_id='901f44db69db424b8960f4e6a893e645', example_version=None, extra=None, ref_event_id=None),\n Event(event_id='7c0a69a1bbcc44488946c4b754b7c166', timestamp='20231011153308', event_type=<EventType.SAMPLE_EVAL: 'sample_evaluation'>, event_metrics={'accuracy': 1.0, 'execution_time': 0.8294557571411133, 'failure_rate': 1.0, 'token_usage': 179.0, 'num_runs': 5, 'model_name': 'gpt-3.5-turbo', 'model_config': {}, 'errors': []}, job_setting={'example_ids': ['5286e1f163d44a3ab5761830c773a155', '9ac773f174bd46f08dfe03b2f3372ce6']}, job_version=None, example_id='4efd69564f894f0ba3f0a395cd115975', example_version=None, extra=None, ref_event_id=None),\n Event(event_id='e4f7b2c7edb74dd5b42f818463efeb58', timestamp='20231011153308', event_type=<EventType.SAMPLE_EVAL: 'sample_evaluation'>, event_metrics={'accuracy': 1.0, 'execution_time': 1.0127211570739747, 'failure_rate': 1.0, 'token_usage': 180.0, 'num_runs': 5, 'model_name': 'gpt-3.5-turbo', 'model_config': {}, 'errors': []}, job_setting={'example_ids': ['5286e1f163d44a3ab5761830c773a155', '9ac773f174bd46f08dfe03b2f3372ce6']}, job_version=None, example_id='63abc8fd29d74d44a9378de16e8ad35b', example_version=None, extra=None, ref_event_id=None),\n Event(event_id='c9e0e784b2de47d3ba900111250ea394', timestamp='20231011153308', event_type=<EventType.SAMPLE_EVAL: 'sample_evaluation'>, event_metrics={'accuracy': 0.0, 'execution_time': 0.8283991813659668, 'failure_rate': 1.0, 'token_usage': 178.4, 'num_runs': 5, 'model_name': 'gpt-3.5-turbo', 'model_config': {}, 'errors': []}, job_setting={'example_ids': ['5286e1f163d44a3ab5761830c773a155', '9ac773f174bd46f08dfe03b2f3372ce6']}, job_version=None, example_id='01bb09ec5b3249958341c4fe9f690e05', example_version=None, extra=None, ref_event_id=None),\n Event(event_id='0842d73bc1f9478b8622476eeda1e36d', timestamp='20231011153308', event_type=<EventType.EVAL_RUN: 'evaluation_run'>, event_metrics={'accuracy': 0.6, 'execution_time': 0.8983741188049317, 'failure_rate': 1.0, 'token_usage': 182.12, 'num_runs': 5.0, 'model_name': 'gpt-3.5-turbo', 'model_config': {}, 'errors': []}, job_setting={'example_ids': ['5286e1f163d44a3ab5761830c773a155', '9ac773f174bd46f08dfe03b2f3372ce6']}, job_version=None, example_id=['918e0a4145474b0dabdc9a1527b9a111', '901f44db69db424b8960f4e6a893e645', '4efd69564f894f0ba3f0a395cd115975', '63abc8fd29d74d44a9378de16e8ad35b', '01bb09ec5b3249958341c4fe9f690e05'], example_version=None, extra=None, ref_event_id=None),\n Event(event_id='72ee3230c8544707ad67fbe6b7d176d9', timestamp='20231011153309', event_type=<EventType.SAMPLE_EVAL: 'sample_evaluation'>, event_metrics={'accuracy': 0.0, 'execution_time': 0.871947193145752, 'failure_rate': 1.0, 'token_usage': 188.0, 'num_runs': 5, 'model_name': 'gpt-3.5-turbo', 'model_config': {}, 'errors': []}, job_setting={'example_ids': ['5286e1f163d44a3ab5761830c773a155', '70f017c35a824692a55a4574b41ed517']}, job_version=None, example_id='918e0a4145474b0dabdc9a1527b9a111', example_version=None, extra=None, ref_event_id=None),\n Event(event_id='5886d116973a403db6a5c2cbd08f9ce4', timestamp='20231011153309', event_type=<EventType.SAMPLE_EVAL: 'sample_evaluation'>, event_metrics={'accuracy': 0.8, 'execution_time': 0.9267063140869141, 'failure_rate': 1.0, 'token_usage': 182.4, 'num_runs': 5, 'model_name': 'gpt-3.5-turbo', 'model_config': {}, 'errors': []}, job_setting={'example_ids': ['5286e1f163d44a3ab5761830c773a155', '70f017c35a824692a55a4574b41ed517']}, job_version=None, example_id='901f44db69db424b8960f4e6a893e645', example_version=None, extra=None, ref_event_id=None),\n Event(event_id='a4131185cc62409b902ec8a9912eef0e', timestamp='20231011153309', event_type=<EventType.SAMPLE_EVAL: 'sample_evaluation'>, event_metrics={'accuracy': 1.0, 'execution_time': 1.0291077613830566, 'failure_rate': 1.0, 'token_usage': 179.0, 'num_runs': 5, 'model_name': 'gpt-3.5-turbo', 'model_config': {}, 'errors': []}, job_setting={'example_ids': ['5286e1f163d44a3ab5761830c773a155', '70f017c35a824692a55a4574b41ed517']}, job_version=None, example_id='4efd69564f894f0ba3f0a395cd115975', example_version=None, extra=None, ref_event_id=None),\n Event(event_id='073d0d345f654766911a35da96bf6b35', timestamp='20231011153309', event_type=<EventType.SAMPLE_EVAL: 'sample_evaluation'>, event_metrics={'accuracy': 0.8, 'execution_time': 0.8768618106842041, 'failure_rate': 1.0, 'token_usage': 180.8, 'num_runs': 5, 'model_name': 'gpt-3.5-turbo', 'model_config': {}, 'errors': []}, job_setting={'example_ids': ['5286e1f163d44a3ab5761830c773a155', '70f017c35a824692a55a4574b41ed517']}, job_version=None, example_id='63abc8fd29d74d44a9378de16e8ad35b', example_version=None, extra=None, ref_event_id=None),\n Event(event_id='ab3904250e464ee3b9b87f7807c3bff5', timestamp='20231011153309', event_type=<EventType.SAMPLE_EVAL: 'sample_evaluation'>, event_metrics={'accuracy': 0.0, 'execution_time': 0.7772643089294433, 'failure_rate': 1.0, 'token_usage': 177.0, 'num_runs': 5, 'model_name': 'gpt-3.5-turbo', 'model_config': {}, 'errors': []}, job_setting={'example_ids': ['5286e1f163d44a3ab5761830c773a155', '70f017c35a824692a55a4574b41ed517']}, job_version=None, example_id='01bb09ec5b3249958341c4fe9f690e05', example_version=None, extra=None, ref_event_id=None),\n Event(event_id='69a00cbae582435f913ed45b3d746aea', timestamp='20231011153309', event_type=<EventType.EVAL_RUN: 'evaluation_run'>, event_metrics={'accuracy': 0.52, 'execution_time': 0.8963774776458739, 'failure_rate': 1.0, 'token_usage': 181.44, 'num_runs': 5.0, 'model_name': 'gpt-3.5-turbo', 'model_config': {}, 'errors': []}, job_setting={'example_ids': ['5286e1f163d44a3ab5761830c773a155', '70f017c35a824692a55a4574b41ed517']}, job_version=None, example_id=['918e0a4145474b0dabdc9a1527b9a111', '901f44db69db424b8960f4e6a893e645', '4efd69564f894f0ba3f0a395cd115975', '63abc8fd29d74d44a9378de16e8ad35b', '01bb09ec5b3249958341c4fe9f690e05'], example_version=None, extra=None, ref_event_id=None),\n Event(event_id='feea8767614b44efb6248fe0b7acdac3', timestamp='20231011153311', event_type=<EventType.SAMPLE_EVAL: 'sample_evaluation'>, event_metrics={'accuracy': 0.6, 'execution_time': 1.0108796119689942, 'failure_rate': 1.0, 'token_usage': 190.4, 'num_runs': 5, 'model_name': 'gpt-3.5-turbo', 'model_config': {}, 'errors': []}, job_setting={'example_ids': ['5286e1f163d44a3ab5761830c773a155', '977cefaae1574cb08da67a52027e11a8']}, job_version=None, example_id='918e0a4145474b0dabdc9a1527b9a111', example_version=None, extra=None, ref_event_id=None),\n Event(event_id='0536371b8eb845e8909b9f08c5b855ed', timestamp='20231011153311', event_type=<EventType.SAMPLE_EVAL: 'sample_evaluation'>, event_metrics={'accuracy': 0.8, 'execution_time': 0.9265026569366455, 'failure_rate': 1.0, 'token_usage': 182.4, 'num_runs': 5, 'model_name': 'gpt-3.5-turbo', 'model_config': {}, 'errors': []}, job_setting={'example_ids': ['5286e1f163d44a3ab5761830c773a155', '977cefaae1574cb08da67a52027e11a8']}, job_version=None, example_id='901f44db69db424b8960f4e6a893e645', example_version=None, extra=None, ref_event_id=None),\n Event(event_id='e7e288703f6a43428bc1264efe5aff8c', timestamp='20231011153311', event_type=<EventType.SAMPLE_EVAL: 'sample_evaluation'>, event_metrics={'accuracy': 1.0, 'execution_time': 0.8952522277832031, 'failure_rate': 1.0, 'token_usage': 179.0, 'num_runs': 5, 'model_name': 'gpt-3.5-turbo', 'model_config': {}, 'errors': []}, job_setting={'example_ids': ['5286e1f163d44a3ab5761830c773a155', '977cefaae1574cb08da67a52027e11a8']}, job_version=None, example_id='4efd69564f894f0ba3f0a395cd115975', example_version=None, extra=None, ref_event_id=None),\n Event(event_id='a1fd0d22029c462eb9036f0a563f0081', timestamp='20231011153311', event_type=<EventType.SAMPLE_EVAL: 'sample_evaluation'>, event_metrics={'accuracy': 1.0, 'execution_time': 0.8702680110931397, 'failure_rate': 1.0, 'token_usage': 180.0, 'num_runs': 5, 'model_name': 'gpt-3.5-turbo', 'model_config': {}, 'errors': []}, job_setting={'example_ids': ['5286e1f163d44a3ab5761830c773a155', '977cefaae1574cb08da67a52027e11a8']}, job_version=None, example_id='63abc8fd29d74d44a9378de16e8ad35b', example_version=None, extra=None, ref_event_id=None),\n Event(event_id='2d3d9d0ed32d4fe0a7d48bf2d6ef005e', timestamp='20231011153311', event_type=<EventType.SAMPLE_EVAL: 'sample_evaluation'>, event_metrics={'accuracy': 0.0, 'execution_time': 0.8296436786651611, 'failure_rate': 1.0, 'token_usage': 177.0, 'num_runs': 5, 'model_name': 'gpt-3.5-turbo', 'model_config': {}, 'errors': []}, job_setting={'example_ids': ['5286e1f163d44a3ab5761830c773a155', '977cefaae1574cb08da67a52027e11a8']}, job_version=None, example_id='01bb09ec5b3249958341c4fe9f690e05', example_version=None, extra=None, ref_event_id=None),\n Event(event_id='b3ba12d7c9704874bc5885e27aa9ffc3', timestamp='20231011153311', event_type=<EventType.EVAL_RUN: 'evaluation_run'>, event_metrics={'accuracy': 0.6799999999999999, 'execution_time': 0.9065092372894286, 'failure_rate': 1.0, 'token_usage': 181.76, 'num_runs': 5.0, 'model_name': 'gpt-3.5-turbo', 'model_config': {}, 'errors': []}, job_setting={'example_ids': ['5286e1f163d44a3ab5761830c773a155', '977cefaae1574cb08da67a52027e11a8']}, job_version=None, example_id=['918e0a4145474b0dabdc9a1527b9a111', '901f44db69db424b8960f4e6a893e645', '4efd69564f894f0ba3f0a395cd115975', '63abc8fd29d74d44a9378de16e8ad35b', '01bb09ec5b3249958341c4fe9f690e05'], example_version=None, extra=None, ref_event_id=None),\n Event(event_id='778e23c0fded4ad2aeb9e820e70136d7', timestamp='20231011153312', event_type=<EventType.SAMPLE_EVAL: 'sample_evaluation'>, event_metrics={'accuracy': 0.2, 'execution_time': 0.9471762180328369, 'failure_rate': 1.0, 'token_usage': 188.8, 'num_runs': 5, 'model_name': 'gpt-3.5-turbo', 'model_config': {}, 'errors': []}, job_setting={'example_ids': ['5286e1f163d44a3ab5761830c773a155', '7fa313a078c5423e956109f581f873bf']}, job_version=None, example_id='918e0a4145474b0dabdc9a1527b9a111', example_version=None, extra=None, ref_event_id=None),\n Event(event_id='1a04f4114dac4129a20ce94d979545cc', timestamp='20231011153312', event_type=<EventType.SAMPLE_EVAL: 'sample_evaluation'>, event_metrics={'accuracy': 1.0, 'execution_time': 0.8941222190856933, 'failure_rate': 1.0, 'token_usage': 182.0, 'num_runs': 5, 'model_name': 'gpt-3.5-turbo', 'model_config': {}, 'errors': []}, job_setting={'example_ids': ['5286e1f163d44a3ab5761830c773a155', '7fa313a078c5423e956109f581f873bf']}, job_version=None, example_id='901f44db69db424b8960f4e6a893e645', example_version=None, extra=None, ref_event_id=None),\n Event(event_id='fa0d6f9f2b97449bb4b0179a0d4ff75f', timestamp='20231011153312', event_type=<EventType.SAMPLE_EVAL: 'sample_evaluation'>, event_metrics={'accuracy': 1.0, 'execution_time': 0.9253639698028564, 'failure_rate': 1.0, 'token_usage': 179.0, 'num_runs': 5, 'model_name': 'gpt-3.5-turbo', 'model_config': {}, 'errors': []}, job_setting={'example_ids': ['5286e1f163d44a3ab5761830c773a155', '7fa313a078c5423e956109f581f873bf']}, job_version=None, example_id='4efd69564f894f0ba3f0a395cd115975', example_version=None, extra=None, ref_event_id=None),\n Event(event_id='b19449d4d2a143a09685d45c1f25af5c', timestamp='20231011153312', event_type=<EventType.SAMPLE_EVAL: 'sample_evaluation'>, event_metrics={'accuracy': 1.0, 'execution_time': 0.8784952640533448, 'failure_rate': 1.0, 'token_usage': 180.0, 'num_runs': 5, 'model_name': 'gpt-3.5-turbo', 'model_config': {}, 'errors': []}, job_setting={'example_ids': ['5286e1f163d44a3ab5761830c773a155', '7fa313a078c5423e956109f581f873bf']}, job_version=None, example_id='63abc8fd29d74d44a9378de16e8ad35b', example_version=None, extra=None, ref_event_id=None),\n Event(event_id='5cb4d910ab494e678a2f5509854f419c', timestamp='20231011153312', event_type=<EventType.SAMPLE_EVAL: 'sample_evaluation'>, event_metrics={'accuracy': 0.0, 'execution_time': 0.8222776412963867, 'failure_rate': 1.0, 'token_usage': 177.0, 'num_runs': 5, 'model_name': 'gpt-3.5-turbo', 'model_config': {}, 'errors': []}, job_setting={'example_ids': ['5286e1f163d44a3ab5761830c773a155', '7fa313a078c5423e956109f581f873bf']}, job_version=None, example_id='01bb09ec5b3249958341c4fe9f690e05', example_version=None, extra=None, ref_event_id=None),\n Event(event_id='b7f0565a902f41358e085c0a279e4f73', timestamp='20231011153312', event_type=<EventType.EVAL_RUN: 'evaluation_run'>, event_metrics={'accuracy': 0.64, 'execution_time': 0.8934870624542235, 'failure_rate': 1.0, 'token_usage': 181.35999999999999, 'num_runs': 5.0, 'model_name': 'gpt-3.5-turbo', 'model_config': {}, 'errors': []}, job_setting={'example_ids': ['5286e1f163d44a3ab5761830c773a155', '7fa313a078c5423e956109f581f873bf']}, job_version=None, example_id=['918e0a4145474b0dabdc9a1527b9a111', '901f44db69db424b8960f4e6a893e645', '4efd69564f894f0ba3f0a395cd115975', '63abc8fd29d74d44a9378de16e8ad35b', '01bb09ec5b3249958341c4fe9f690e05'], example_version=None, extra=None, ref_event_id=None),\n Event(event_id='3e8ee0bb4c984fe397ed16e2ab821c27', timestamp='20231011153317', event_type=<EventType.SAMPLE_EVAL: 'sample_evaluation'>, event_metrics={'accuracy': 0.2, 'execution_time': 2.294681978225708, 'failure_rate': 1.0, 'token_usage': 189.6, 'num_runs': 5, 'model_name': 'gpt-3.5-turbo', 'model_config': {}, 'errors': []}, job_setting={'example_ids': ['5286e1f163d44a3ab5761830c773a155', 'fdf3170e32c34427ae3850f9a378b4e3']}, job_version=None, example_id='918e0a4145474b0dabdc9a1527b9a111', example_version=None, extra=None, ref_event_id=None),\n Event(event_id='c66600f7b5e74a93a6a5be1819e8b9c7', timestamp='20231011153317', event_type=<EventType.SAMPLE_EVAL: 'sample_evaluation'>, event_metrics={'accuracy': 1.0, 'execution_time': 0.8781612396240235, 'failure_rate': 1.0, 'token_usage': 182.0, 'num_runs': 5, 'model_name': 'gpt-3.5-turbo', 'model_config': {}, 'errors': []}, job_setting={'example_ids': ['5286e1f163d44a3ab5761830c773a155', 'fdf3170e32c34427ae3850f9a378b4e3']}, job_version=None, example_id='901f44db69db424b8960f4e6a893e645', example_version=None, extra=None, ref_event_id=None),\n Event(event_id='bbcda8d32dfc4f6296fd4bbd78421006', timestamp='20231011153317', event_type=<EventType.SAMPLE_EVAL: 'sample_evaluation'>, event_metrics={'accuracy': 1.0, 'execution_time': 3.6457035064697267, 'failure_rate': 1.0, 'token_usage': 179.0, 'num_runs': 5, 'model_name': 'gpt-3.5-turbo', 'model_config': {}, 'errors': []}, job_setting={'example_ids': ['5286e1f163d44a3ab5761830c773a155', 'fdf3170e32c34427ae3850f9a378b4e3']}, job_version=None, example_id='4efd69564f894f0ba3f0a395cd115975', example_version=None, extra=None, ref_event_id=None),\n Event(event_id='9f16e9c73f034077988c821d801db98b', timestamp='20231011153317', event_type=<EventType.SAMPLE_EVAL: 'sample_evaluation'>, event_metrics={'accuracy': 0.8, 'execution_time': 2.175962734222412, 'failure_rate': 1.0, 'token_usage': 180.8, 'num_runs': 5, 'model_name': 'gpt-3.5-turbo', 'model_config': {}, 'errors': []}, job_setting={'example_ids': ['5286e1f163d44a3ab5761830c773a155', 'fdf3170e32c34427ae3850f9a378b4e3']}, job_version=None, example_id='63abc8fd29d74d44a9378de16e8ad35b', example_version=None, extra=None, ref_event_id=None),\n Event(event_id='61336f179bc0471da4e43382b771d25f', timestamp='20231011153317', event_type=<EventType.SAMPLE_EVAL: 'sample_evaluation'>, event_metrics={'accuracy': 0.0, 'execution_time': 2.2665944576263426, 'failure_rate': 1.0, 'token_usage': 177.0, 'num_runs': 5, 'model_name': 'gpt-3.5-turbo', 'model_config': {}, 'errors': []}, job_setting={'example_ids': ['5286e1f163d44a3ab5761830c773a155', 'fdf3170e32c34427ae3850f9a378b4e3']}, job_version=None, example_id='01bb09ec5b3249958341c4fe9f690e05', example_version=None, extra=None, ref_event_id=None),\n Event(event_id='0f20590110e04753adfed38993990650', timestamp='20231011153317', event_type=<EventType.EVAL_RUN: 'evaluation_run'>, event_metrics={'accuracy': 0.6, 'execution_time': 2.2522207832336427, 'failure_rate': 1.0, 'token_usage': 181.68, 'num_runs': 5.0, 'model_name': 'gpt-3.5-turbo', 'model_config': {}, 'errors': []}, job_setting={'example_ids': ['5286e1f163d44a3ab5761830c773a155', 'fdf3170e32c34427ae3850f9a378b4e3']}, job_version=None, example_id=['918e0a4145474b0dabdc9a1527b9a111', '901f44db69db424b8960f4e6a893e645', '4efd69564f894f0ba3f0a395cd115975', '63abc8fd29d74d44a9378de16e8ad35b', '01bb09ec5b3249958341c4fe9f690e05'], example_version=None, extra=None, ref_event_id=None),\n Event(event_id='d2f41ffe678f486d81bf4181cfdec727', timestamp='20231011153319', event_type=<EventType.SAMPLE_EVAL: 'sample_evaluation'>, event_metrics={'accuracy': 0.4, 'execution_time': 0.9187799453735351, 'failure_rate': 1.0, 'token_usage': 190.4, 'num_runs': 5, 'model_name': 'gpt-3.5-turbo', 'model_config': {}, 'errors': []}, job_setting={'example_ids': ['5286e1f163d44a3ab5761830c773a155', 'f64e78a6ef9d46698fb4757183a4a0dd']}, job_version=None, example_id='918e0a4145474b0dabdc9a1527b9a111', example_version=None, extra=None, ref_event_id=None),\n Event(event_id='2843892b49f34d12aa00aabdbb5adb8b', timestamp='20231011153319', event_type=<EventType.SAMPLE_EVAL: 'sample_evaluation'>, event_metrics={'accuracy': 0.6, 'execution_time': 0.859398365020752, 'failure_rate': 1.0, 'token_usage': 183.2, 'num_runs': 5, 'model_name': 'gpt-3.5-turbo', 'model_config': {}, 'errors': []}, job_setting={'example_ids': ['5286e1f163d44a3ab5761830c773a155', 'f64e78a6ef9d46698fb4757183a4a0dd']}, job_version=None, example_id='901f44db69db424b8960f4e6a893e645', example_version=None, extra=None, ref_event_id=None),\n Event(event_id='74514476ec434ce1ad159a79b4d0e5b1', timestamp='20231011153319', event_type=<EventType.SAMPLE_EVAL: 'sample_evaluation'>, event_metrics={'accuracy': 1.0, 'execution_time': 1.07036452293396, 'failure_rate': 1.0, 'token_usage': 179.0, 'num_runs': 5, 'model_name': 'gpt-3.5-turbo', 'model_config': {}, 'errors': []}, job_setting={'example_ids': ['5286e1f163d44a3ab5761830c773a155', 'f64e78a6ef9d46698fb4757183a4a0dd']}, job_version=None, example_id='4efd69564f894f0ba3f0a395cd115975', example_version=None, extra=None, ref_event_id=None),\n Event(event_id='f09f48c70d724a2483868c67ae7c1690', timestamp='20231011153319', event_type=<EventType.SAMPLE_EVAL: 'sample_evaluation'>, event_metrics={'accuracy': 0.8, 'execution_time': 1.4219129085540771, 'failure_rate': 1.0, 'token_usage': 180.4, 'num_runs': 5, 'model_name': 'gpt-3.5-turbo', 'model_config': {}, 'errors': []}, job_setting={'example_ids': ['5286e1f163d44a3ab5761830c773a155', 'f64e78a6ef9d46698fb4757183a4a0dd']}, job_version=None, example_id='63abc8fd29d74d44a9378de16e8ad35b', example_version=None, extra=None, ref_event_id=None),\n Event(event_id='70cba4bfbf7545b38de73558478f4f6c', timestamp='20231011153319', event_type=<EventType.SAMPLE_EVAL: 'sample_evaluation'>, event_metrics={'accuracy': 0.0, 'execution_time': 2.1547547817230224, 'failure_rate': 1.0, 'token_usage': 178.4, 'num_runs': 5, 'model_name': 'gpt-3.5-turbo', 'model_config': {}, 'errors': []}, job_setting={'example_ids': ['5286e1f163d44a3ab5761830c773a155', 'f64e78a6ef9d46698fb4757183a4a0dd']}, job_version=None, example_id='01bb09ec5b3249958341c4fe9f690e05', example_version=None, extra=None, ref_event_id=None),\n Event(event_id='115ee374c1b342ab8d312206fff8a4c0', timestamp='20231011153319', event_type=<EventType.EVAL_RUN: 'evaluation_run'>, event_metrics={'accuracy': 0.5599999999999999, 'execution_time': 1.2850421047210694, 'failure_rate': 1.0, 'token_usage': 182.28, 'num_runs': 5.0, 'model_name': 'gpt-3.5-turbo', 'model_config': {}, 'errors': []}, job_setting={'example_ids': ['5286e1f163d44a3ab5761830c773a155', 'f64e78a6ef9d46698fb4757183a4a0dd']}, job_version=None, example_id=['918e0a4145474b0dabdc9a1527b9a111', '901f44db69db424b8960f4e6a893e645', '4efd69564f894f0ba3f0a395cd115975', '63abc8fd29d74d44a9378de16e8ad35b', '01bb09ec5b3249958341c4fe9f690e05'], example_version=None, extra=None, ref_event_id=None),\n Event(event_id='d029cc8670fd422086944428cfa8bc85', timestamp='20231011153324', event_type=<EventType.SAMPLE_EVAL: 'sample_evaluation'>, event_metrics={'accuracy': 0.4, 'execution_time': 2.050321435928345, 'failure_rate': 1.0, 'token_usage': 190.4, 'num_runs': 5, 'model_name': 'gpt-3.5-turbo', 'model_config': {}, 'errors': []}, job_setting={'example_ids': ['5286e1f163d44a3ab5761830c773a155', 'b4d5fbd8f5074f2ca0d112acd3ece391']}, job_version=None, example_id='918e0a4145474b0dabdc9a1527b9a111', example_version=None, extra=None, ref_event_id=None),\n Event(event_id='485ae55b49d74133a1596fdc0321e5c5', timestamp='20231011153324', event_type=<EventType.SAMPLE_EVAL: 'sample_evaluation'>, event_metrics={'accuracy': 0.8, 'execution_time': 2.4586228847503664, 'failure_rate': 1.0, 'token_usage': 182.4, 'num_runs': 5, 'model_name': 'gpt-3.5-turbo', 'model_config': {}, 'errors': []}, job_setting={'example_ids': ['5286e1f163d44a3ab5761830c773a155', 'b4d5fbd8f5074f2ca0d112acd3ece391']}, job_version=None, example_id='901f44db69db424b8960f4e6a893e645', example_version=None, extra=None, ref_event_id=None),\n Event(event_id='634333ecf237428ab5b0315aa4756e1a', timestamp='20231011153324', event_type=<EventType.SAMPLE_EVAL: 'sample_evaluation'>, event_metrics={'accuracy': 1.0, 'execution_time': 3.937656545639038, 'failure_rate': 1.0, 'token_usage': 178.4, 'num_runs': 5, 'model_name': 'gpt-3.5-turbo', 'model_config': {}, 'errors': []}, job_setting={'example_ids': ['5286e1f163d44a3ab5761830c773a155', 'b4d5fbd8f5074f2ca0d112acd3ece391']}, job_version=None, example_id='4efd69564f894f0ba3f0a395cd115975', example_version=None, extra=None, ref_event_id=None),\n Event(event_id='9506530ec5c245b79b4a6871d1eb88bb', timestamp='20231011153324', event_type=<EventType.SAMPLE_EVAL: 'sample_evaluation'>, event_metrics={'accuracy': 0.8, 'execution_time': 1.417061185836792, 'failure_rate': 1.0, 'token_usage': 180.2, 'num_runs': 5, 'model_name': 'gpt-3.5-turbo', 'model_config': {}, 'errors': []}, job_setting={'example_ids': ['5286e1f163d44a3ab5761830c773a155', 'b4d5fbd8f5074f2ca0d112acd3ece391']}, job_version=None, example_id='63abc8fd29d74d44a9378de16e8ad35b', example_version=None, extra=None, ref_event_id=None),\n Event(event_id='c66b5e96d40142508f25df94b767ee20', timestamp='20231011153324', event_type=<EventType.SAMPLE_EVAL: 'sample_evaluation'>, event_metrics={'accuracy': 0.0, 'execution_time': 1.6451804637908936, 'failure_rate': 1.0, 'token_usage': 177.0, 'num_runs': 5, 'model_name': 'gpt-3.5-turbo', 'model_config': {}, 'errors': []}, job_setting={'example_ids': ['5286e1f163d44a3ab5761830c773a155', 'b4d5fbd8f5074f2ca0d112acd3ece391']}, job_version=None, example_id='01bb09ec5b3249958341c4fe9f690e05', example_version=None, extra=None, ref_event_id=None),\n Event(event_id='645f2047036545f99f491030ba25fa32', timestamp='20231011153324', event_type=<EventType.EVAL_RUN: 'evaluation_run'>, event_metrics={'accuracy': 0.6, 'execution_time': 2.301768503189087, 'failure_rate': 1.0, 'token_usage': 181.68, 'num_runs': 5.0, 'model_name': 'gpt-3.5-turbo', 'model_config': {}, 'errors': []}, job_setting={'example_ids': ['5286e1f163d44a3ab5761830c773a155', 'b4d5fbd8f5074f2ca0d112acd3ece391']}, job_version=None, example_id=['918e0a4145474b0dabdc9a1527b9a111', '901f44db69db424b8960f4e6a893e645', '4efd69564f894f0ba3f0a395cd115975', '63abc8fd29d74d44a9378de16e8ad35b', '01bb09ec5b3249958341c4fe9f690e05'], example_version=None, extra=None, ref_event_id=None),\n Event(event_id='e7dc4485777a4cf89849cffe629e360f', timestamp='20231011153328', event_type=<EventType.SAMPLE_EVAL: 'sample_evaluation'>, event_metrics={'accuracy': 0.2, 'execution_time': 1.2430858612060547, 'failure_rate': 1.0, 'token_usage': 189.0, 'num_runs': 5, 'model_name': 'gpt-3.5-turbo', 'model_config': {}, 'errors': []}, job_setting={'example_ids': ['5286e1f163d44a3ab5761830c773a155', '977cefaae1574cb08da67a52027e11a8', '06d3e8460f6c4050aaaf662519f1aad5']}, job_version=None, example_id='918e0a4145474b0dabdc9a1527b9a111', example_version=None, extra=None, ref_event_id=None),\n Event(event_id='306dfce8bcf84cf6ad1cb682ff8d2c08', timestamp='20231011153328', event_type=<EventType.SAMPLE_EVAL: 'sample_evaluation'>, event_metrics={'accuracy': 0.8, 'execution_time': 0.902819299697876, 'failure_rate': 1.0, 'token_usage': 182.8, 'num_runs': 5, 'model_name': 'gpt-3.5-turbo', 'model_config': {}, 'errors': []}, job_setting={'example_ids': ['5286e1f163d44a3ab5761830c773a155', '977cefaae1574cb08da67a52027e11a8', '06d3e8460f6c4050aaaf662519f1aad5']}, job_version=None, example_id='901f44db69db424b8960f4e6a893e645', example_version=None, extra=None, ref_event_id=None),\n Event(event_id='442264544e464e4ba84b320cb4ea2633', timestamp='20231011153328', event_type=<EventType.SAMPLE_EVAL: 'sample_evaluation'>, event_metrics={'accuracy': 1.0, 'execution_time': 1.7077405452728271, 'failure_rate': 1.0, 'token_usage': 179.0, 'num_runs': 5, 'model_name': 'gpt-3.5-turbo', 'model_config': {}, 'errors': []}, job_setting={'example_ids': ['5286e1f163d44a3ab5761830c773a155', '977cefaae1574cb08da67a52027e11a8', '06d3e8460f6c4050aaaf662519f1aad5']}, job_version=None, example_id='4efd69564f894f0ba3f0a395cd115975', example_version=None, extra=None, ref_event_id=None),\n Event(event_id='edfbc186c1474af7b9b071cd9316126c', timestamp='20231011153328', event_type=<EventType.SAMPLE_EVAL: 'sample_evaluation'>, event_metrics={'accuracy': 1.0, 'execution_time': 2.0671131134033205, 'failure_rate': 1.0, 'token_usage': 180.0, 'num_runs': 5, 'model_name': 'gpt-3.5-turbo', 'model_config': {}, 'errors': []}, job_setting={'example_ids': ['5286e1f163d44a3ab5761830c773a155', '977cefaae1574cb08da67a52027e11a8', '06d3e8460f6c4050aaaf662519f1aad5']}, job_version=None, example_id='63abc8fd29d74d44a9378de16e8ad35b', example_version=None, extra=None, ref_event_id=None),\n Event(event_id='d6ce402de87e4a9ca4f8aab0f08b66f4', timestamp='20231011153328', event_type=<EventType.SAMPLE_EVAL: 'sample_evaluation'>, event_metrics={'accuracy': 0.0, 'execution_time': 1.3375072956085206, 'failure_rate': 1.0, 'token_usage': 177.0, 'num_runs': 5, 'model_name': 'gpt-3.5-turbo', 'model_config': {}, 'errors': []}, job_setting={'example_ids': ['5286e1f163d44a3ab5761830c773a155', '977cefaae1574cb08da67a52027e11a8', '06d3e8460f6c4050aaaf662519f1aad5']}, job_version=None, example_id='01bb09ec5b3249958341c4fe9f690e05', example_version=None, extra=None, ref_event_id=None),\n Event(event_id='d216661a98aa4447a73b6f7bda8de70b', timestamp='20231011153328', event_type=<EventType.EVAL_RUN: 'evaluation_run'>, event_metrics={'accuracy': 0.6, 'execution_time': 1.4516532230377197, 'failure_rate': 1.0, 'token_usage': 181.56, 'num_runs': 5.0, 'model_name': 'gpt-3.5-turbo', 'model_config': {}, 'errors': []}, job_setting={'example_ids': ['5286e1f163d44a3ab5761830c773a155', '977cefaae1574cb08da67a52027e11a8', '06d3e8460f6c4050aaaf662519f1aad5']}, job_version=None, example_id=['918e0a4145474b0dabdc9a1527b9a111', '901f44db69db424b8960f4e6a893e645', '4efd69564f894f0ba3f0a395cd115975', '63abc8fd29d74d44a9378de16e8ad35b', '01bb09ec5b3249958341c4fe9f690e05'], example_version=None, extra=None, ref_event_id=None),\n Event(event_id='a5c88792d32641278471ff5b89682592', timestamp='20231011153330', event_type=<EventType.SAMPLE_EVAL: 'sample_evaluation'>, event_metrics={'accuracy': 0.4, 'execution_time': 0.903355884552002, 'failure_rate': 1.0, 'token_usage': 190.4, 'num_runs': 5, 'model_name': 'gpt-3.5-turbo', 'model_config': {}, 'errors': []}, job_setting={'example_ids': ['5286e1f163d44a3ab5761830c773a155', '977cefaae1574cb08da67a52027e11a8', '1e662887302d4109bdcf8a161ebe9fd9']}, job_version=None, example_id='918e0a4145474b0dabdc9a1527b9a111', example_version=None, extra=None, ref_event_id=None),\n Event(event_id='ba6289124c6a48599fdd87e2f9e597e9', timestamp='20231011153330', event_type=<EventType.SAMPLE_EVAL: 'sample_evaluation'>, event_metrics={'accuracy': 1.0, 'execution_time': 0.9440582752227783, 'failure_rate': 1.0, 'token_usage': 182.0, 'num_runs': 5, 'model_name': 'gpt-3.5-turbo', 'model_config': {}, 'errors': []}, job_setting={'example_ids': ['5286e1f163d44a3ab5761830c773a155', '977cefaae1574cb08da67a52027e11a8', '1e662887302d4109bdcf8a161ebe9fd9']}, job_version=None, example_id='901f44db69db424b8960f4e6a893e645', example_version=None, extra=None, ref_event_id=None),\n Event(event_id='a2a76d7d01f841e09d644ec960d79e87', timestamp='20231011153330', event_type=<EventType.SAMPLE_EVAL: 'sample_evaluation'>, event_metrics={'accuracy': 1.0, 'execution_time': 0.8065751075744629, 'failure_rate': 1.0, 'token_usage': 179.0, 'num_runs': 5, 'model_name': 'gpt-3.5-turbo', 'model_config': {}, 'errors': []}, job_setting={'example_ids': ['5286e1f163d44a3ab5761830c773a155', '977cefaae1574cb08da67a52027e11a8', '1e662887302d4109bdcf8a161ebe9fd9']}, job_version=None, example_id='4efd69564f894f0ba3f0a395cd115975', example_version=None, extra=None, ref_event_id=None),\n Event(event_id='8dcef0fdc7fd44f5a4526c2abf3b6518', timestamp='20231011153330', event_type=<EventType.SAMPLE_EVAL: 'sample_evaluation'>, event_metrics={'accuracy': 1.0, 'execution_time': 1.0971812725067138, 'failure_rate': 1.0, 'token_usage': 180.0, 'num_runs': 5, 'model_name': 'gpt-3.5-turbo', 'model_config': {}, 'errors': []}, job_setting={'example_ids': ['5286e1f163d44a3ab5761830c773a155', '977cefaae1574cb08da67a52027e11a8', '1e662887302d4109bdcf8a161ebe9fd9']}, job_version=None, example_id='63abc8fd29d74d44a9378de16e8ad35b', example_version=None, extra=None, ref_event_id=None),\n Event(event_id='c3bab49eafb046cca6d8f770c2afe663', timestamp='20231011153330', event_type=<EventType.SAMPLE_EVAL: 'sample_evaluation'>, event_metrics={'accuracy': 0.0, 'execution_time': 1.0159548282623292, 'failure_rate': 1.0, 'token_usage': 177.0, 'num_runs': 5, 'model_name': 'gpt-3.5-turbo', 'model_config': {}, 'errors': []}, job_setting={'example_ids': ['5286e1f163d44a3ab5761830c773a155', '977cefaae1574cb08da67a52027e11a8', '1e662887302d4109bdcf8a161ebe9fd9']}, job_version=None, example_id='01bb09ec5b3249958341c4fe9f690e05', example_version=None, extra=None, ref_event_id=None),\n Event(event_id='49aa6a6c2165421996b56a1a09a90f84', timestamp='20231011153330', event_type=<EventType.EVAL_RUN: 'evaluation_run'>, event_metrics={'accuracy': 0.6799999999999999, 'execution_time': 0.9534250736236572, 'failure_rate': 1.0, 'token_usage': 181.68, 'num_runs': 5.0, 'model_name': 'gpt-3.5-turbo', 'model_config': {}, 'errors': []}, job_setting={'example_ids': ['5286e1f163d44a3ab5761830c773a155', '977cefaae1574cb08da67a52027e11a8', '1e662887302d4109bdcf8a161ebe9fd9']}, job_version=None, example_id=['918e0a4145474b0dabdc9a1527b9a111', '901f44db69db424b8960f4e6a893e645', '4efd69564f894f0ba3f0a395cd115975', '63abc8fd29d74d44a9378de16e8ad35b', '01bb09ec5b3249958341c4fe9f690e05'], example_version=None, extra=None, ref_event_id=None),\n Event(event_id='8537dc12c17d48a2a478eda167e17658', timestamp='20231011153335', event_type=<EventType.SAMPLE_EVAL: 'sample_evaluation'>, event_metrics={'accuracy': 0.2, 'execution_time': 1.1242525577545166, 'failure_rate': 1.0, 'token_usage': 189.6, 'num_runs': 5, 'model_name': 'gpt-3.5-turbo', 'model_config': {}, 'errors': []}, job_setting={'example_ids': ['5286e1f163d44a3ab5761830c773a155', '977cefaae1574cb08da67a52027e11a8', '238ea85e98b24fe3a7b199e7aa0726a2']}, job_version=None, example_id='918e0a4145474b0dabdc9a1527b9a111', example_version=None, extra=None, ref_event_id=None),\n Event(event_id='81ed20d6bf5d4e039c25fd0004c1a531', timestamp='20231011153335', event_type=<EventType.SAMPLE_EVAL: 'sample_evaluation'>, event_metrics={'accuracy': 0.8, 'execution_time': 2.2485483646392823, 'failure_rate': 1.0, 'token_usage': 182.8, 'num_runs': 5, 'model_name': 'gpt-3.5-turbo', 'model_config': {}, 'errors': []}, job_setting={'example_ids': ['5286e1f163d44a3ab5761830c773a155', '977cefaae1574cb08da67a52027e11a8', '238ea85e98b24fe3a7b199e7aa0726a2']}, job_version=None, example_id='901f44db69db424b8960f4e6a893e645', example_version=None, extra=None, ref_event_id=None),\n Event(event_id='6df562a7509f4f9ab94a0f8e1bc102be', timestamp='20231011153335', event_type=<EventType.SAMPLE_EVAL: 'sample_evaluation'>, event_metrics={'accuracy': 0.8, 'execution_time': 1.1786988735198975, 'failure_rate': 1.0, 'token_usage': 179.6, 'num_runs': 5, 'model_name': 'gpt-3.5-turbo', 'model_config': {}, 'errors': []}, job_setting={'example_ids': ['5286e1f163d44a3ab5761830c773a155', '977cefaae1574cb08da67a52027e11a8', '238ea85e98b24fe3a7b199e7aa0726a2']}, job_version=None, example_id='4efd69564f894f0ba3f0a395cd115975', example_version=None, extra=None, ref_event_id=None),\n Event(event_id='625cc4f791984604ba117cf3153dfbf3', timestamp='20231011153335', event_type=<EventType.SAMPLE_EVAL: 'sample_evaluation'>, event_metrics={'accuracy': 1.0, 'execution_time': 3.459045743942261, 'failure_rate': 1.0, 'token_usage': 180.0, 'num_runs': 5, 'model_name': 'gpt-3.5-turbo', 'model_config': {}, 'errors': []}, job_setting={'example_ids': ['5286e1f163d44a3ab5761830c773a155', '977cefaae1574cb08da67a52027e11a8', '238ea85e98b24fe3a7b199e7aa0726a2']}, job_version=None, example_id='63abc8fd29d74d44a9378de16e8ad35b', example_version=None, extra=None, ref_event_id=None),\n Event(event_id='ae197ce97a2f4c64923fc3c586cfc43e', timestamp='20231011153335', event_type=<EventType.SAMPLE_EVAL: 'sample_evaluation'>, event_metrics={'accuracy': 0.0, 'execution_time': 2.984063243865967, 'failure_rate': 1.0, 'token_usage': 177.0, 'num_runs': 5, 'model_name': 'gpt-3.5-turbo', 'model_config': {}, 'errors': []}, job_setting={'example_ids': ['5286e1f163d44a3ab5761830c773a155', '977cefaae1574cb08da67a52027e11a8', '238ea85e98b24fe3a7b199e7aa0726a2']}, job_version=None, example_id='01bb09ec5b3249958341c4fe9f690e05', example_version=None, extra=None, ref_event_id=None),\n Event(event_id='55e2696a349349e2aabd76230d4b9a0f', timestamp='20231011153335', event_type=<EventType.EVAL_RUN: 'evaluation_run'>, event_metrics={'accuracy': 0.5599999999999999, 'execution_time': 2.198921756744385, 'failure_rate': 1.0, 'token_usage': 181.8, 'num_runs': 5.0, 'model_name': 'gpt-3.5-turbo', 'model_config': {}, 'errors': []}, job_setting={'example_ids': ['5286e1f163d44a3ab5761830c773a155', '977cefaae1574cb08da67a52027e11a8', '238ea85e98b24fe3a7b199e7aa0726a2']}, job_version=None, example_id=['918e0a4145474b0dabdc9a1527b9a111', '901f44db69db424b8960f4e6a893e645', '4efd69564f894f0ba3f0a395cd115975', '63abc8fd29d74d44a9378de16e8ad35b', '01bb09ec5b3249958341c4fe9f690e05'], example_version=None, extra=None, ref_event_id=None),\n Event(event_id='8d192f639c0f402da9667b573e408b90', timestamp='20231011153337', event_type=<EventType.SAMPLE_EVAL: 'sample_evaluation'>, event_metrics={'accuracy': 0.4, 'execution_time': 0.9405368804931641, 'failure_rate': 1.0, 'token_usage': 190.4, 'num_runs': 5, 'model_name': 'gpt-3.5-turbo', 'model_config': {}, 'errors': []}, job_setting={'example_ids': ['5286e1f163d44a3ab5761830c773a155', '977cefaae1574cb08da67a52027e11a8', '5c3f67e3fa9142ee9d4c1c2f79bb1970']}, job_version=None, example_id='918e0a4145474b0dabdc9a1527b9a111', example_version=None, extra=None, ref_event_id=None),\n Event(event_id='0023ad8ac14044d7af3ca01ea7a5011d', timestamp='20231011153337', event_type=<EventType.SAMPLE_EVAL: 'sample_evaluation'>, event_metrics={'accuracy': 1.0, 'execution_time': 0.9592826843261719, 'failure_rate': 1.0, 'token_usage': 182.0, 'num_runs': 5, 'model_name': 'gpt-3.5-turbo', 'model_config': {}, 'errors': []}, job_setting={'example_ids': ['5286e1f163d44a3ab5761830c773a155', '977cefaae1574cb08da67a52027e11a8', '5c3f67e3fa9142ee9d4c1c2f79bb1970']}, job_version=None, example_id='901f44db69db424b8960f4e6a893e645', example_version=None, extra=None, ref_event_id=None),\n Event(event_id='01bea278cd8a4a3e92d3c315dc5b1409', timestamp='20231011153337', event_type=<EventType.SAMPLE_EVAL: 'sample_evaluation'>, event_metrics={'accuracy': 0.8, 'execution_time': 1.3532482147216798, 'failure_rate': 1.0, 'token_usage': 179.4, 'num_runs': 5, 'model_name': 'gpt-3.5-turbo', 'model_config': {}, 'errors': []}, job_setting={'example_ids': ['5286e1f163d44a3ab5761830c773a155', '977cefaae1574cb08da67a52027e11a8', '5c3f67e3fa9142ee9d4c1c2f79bb1970']}, job_version=None, example_id='4efd69564f894f0ba3f0a395cd115975', example_version=None, extra=None, ref_event_id=None),\n Event(event_id='723e3add7f8c4f189838ccd8b882af71', timestamp='20231011153337', event_type=<EventType.SAMPLE_EVAL: 'sample_evaluation'>, event_metrics={'accuracy': 1.0, 'execution_time': 1.1937469482421874, 'failure_rate': 1.0, 'token_usage': 180.0, 'num_runs': 5, 'model_name': 'gpt-3.5-turbo', 'model_config': {}, 'errors': []}, job_setting={'example_ids': ['5286e1f163d44a3ab5761830c773a155', '977cefaae1574cb08da67a52027e11a8', '5c3f67e3fa9142ee9d4c1c2f79bb1970']}, job_version=None, example_id='63abc8fd29d74d44a9378de16e8ad35b', example_version=None, extra=None, ref_event_id=None),\n Event(event_id='74dfcfffa9f141ff8489a6f4ac715b53', timestamp='20231011153337', event_type=<EventType.SAMPLE_EVAL: 'sample_evaluation'>, event_metrics={'accuracy': 0.0, 'execution_time': 1.3751514911651612, 'failure_rate': 1.0, 'token_usage': 178.0, 'num_runs': 5, 'model_name': 'gpt-3.5-turbo', 'model_config': {}, 'errors': []}, job_setting={'example_ids': ['5286e1f163d44a3ab5761830c773a155', '977cefaae1574cb08da67a52027e11a8', '5c3f67e3fa9142ee9d4c1c2f79bb1970']}, job_version=None, example_id='01bb09ec5b3249958341c4fe9f690e05', example_version=None, extra=None, ref_event_id=None),\n Event(event_id='45910358ec644e39837fd2424c90a5dc', timestamp='20231011153337', event_type=<EventType.EVAL_RUN: 'evaluation_run'>, event_metrics={'accuracy': 0.64, 'execution_time': 1.164393243789673, 'failure_rate': 1.0, 'token_usage': 181.95999999999998, 'num_runs': 5.0, 'model_name': 'gpt-3.5-turbo', 'model_config': {}, 'errors': []}, job_setting={'example_ids': ['5286e1f163d44a3ab5761830c773a155', '977cefaae1574cb08da67a52027e11a8', '5c3f67e3fa9142ee9d4c1c2f79bb1970']}, job_version=None, example_id=['918e0a4145474b0dabdc9a1527b9a111', '901f44db69db424b8960f4e6a893e645', '4efd69564f894f0ba3f0a395cd115975', '63abc8fd29d74d44a9378de16e8ad35b', '01bb09ec5b3249958341c4fe9f690e05'], example_version=None, extra=None, ref_event_id=None),\n Event(event_id='19c9a173ef444035929448783caf9c8c', timestamp='20231011153342', event_type=<EventType.SAMPLE_EVAL: 'sample_evaluation'>, event_metrics={'accuracy': 0.0, 'execution_time': 1.872022771835327, 'failure_rate': 1.0, 'token_usage': 188.8, 'num_runs': 5, 'model_name': 'gpt-3.5-turbo', 'model_config': {}, 'errors': []}, job_setting={'example_ids': ['5286e1f163d44a3ab5761830c773a155', '977cefaae1574cb08da67a52027e11a8', '432cedfd9a86486e89b9f43e005b2512']}, job_version=None, example_id='918e0a4145474b0dabdc9a1527b9a111', example_version=None, extra=None, ref_event_id=None),\n Event(event_id='052ddd44f4fc49f79e5869e728b49a97', timestamp='20231011153342', event_type=<EventType.SAMPLE_EVAL: 'sample_evaluation'>, event_metrics={'accuracy': 0.6, 'execution_time': 1.636056900024414, 'failure_rate': 1.0, 'token_usage': 183.2, 'num_runs': 5, 'model_name': 'gpt-3.5-turbo', 'model_config': {}, 'errors': []}, job_setting={'example_ids': ['5286e1f163d44a3ab5761830c773a155', '977cefaae1574cb08da67a52027e11a8', '432cedfd9a86486e89b9f43e005b2512']}, job_version=None, example_id='901f44db69db424b8960f4e6a893e645', example_version=None, extra=None, ref_event_id=None),\n Event(event_id='41be64fff95b4e2f8b924fd589f8ef10', timestamp='20231011153342', event_type=<EventType.SAMPLE_EVAL: 'sample_evaluation'>, event_metrics={'accuracy': 1.0, 'execution_time': 3.0996397018432615, 'failure_rate': 1.0, 'token_usage': 179.0, 'num_runs': 5, 'model_name': 'gpt-3.5-turbo', 'model_config': {}, 'errors': []}, job_setting={'example_ids': ['5286e1f163d44a3ab5761830c773a155', '977cefaae1574cb08da67a52027e11a8', '432cedfd9a86486e89b9f43e005b2512']}, job_version=None, example_id='4efd69564f894f0ba3f0a395cd115975', example_version=None, extra=None, ref_event_id=None),\n Event(event_id='0f661913ad5f40c68dd744643788dd1b', timestamp='20231011153342', event_type=<EventType.SAMPLE_EVAL: 'sample_evaluation'>, event_metrics={'accuracy': 0.8, 'execution_time': 2.777063512802124, 'failure_rate': 1.0, 'token_usage': 180.4, 'num_runs': 5, 'model_name': 'gpt-3.5-turbo', 'model_config': {}, 'errors': []}, job_setting={'example_ids': ['5286e1f163d44a3ab5761830c773a155', '977cefaae1574cb08da67a52027e11a8', '432cedfd9a86486e89b9f43e005b2512']}, job_version=None, example_id='63abc8fd29d74d44a9378de16e8ad35b', example_version=None, extra=None, ref_event_id=None),\n Event(event_id='83e8f1d96d274b25a154400dcb5e491c', timestamp='20231011153342', event_type=<EventType.SAMPLE_EVAL: 'sample_evaluation'>, event_metrics={'accuracy': 0.0, 'execution_time': 2.81272349357605, 'failure_rate': 1.0, 'token_usage': 178.0, 'num_runs': 5, 'model_name': 'gpt-3.5-turbo', 'model_config': {}, 'errors': []}, job_setting={'example_ids': ['5286e1f163d44a3ab5761830c773a155', '977cefaae1574cb08da67a52027e11a8', '432cedfd9a86486e89b9f43e005b2512']}, job_version=None, example_id='01bb09ec5b3249958341c4fe9f690e05', example_version=None, extra=None, ref_event_id=None),\n Event(event_id='0fc4c740654f4a83adf89a3bf99d4a52', timestamp='20231011153342', event_type=<EventType.EVAL_RUN: 'evaluation_run'>, event_metrics={'accuracy': 0.4800000000000001, 'execution_time': 2.439501276016235, 'failure_rate': 1.0, 'token_usage': 181.88, 'num_runs': 5.0, 'model_name': 'gpt-3.5-turbo', 'model_config': {}, 'errors': []}, job_setting={'example_ids': ['5286e1f163d44a3ab5761830c773a155', '977cefaae1574cb08da67a52027e11a8', '432cedfd9a86486e89b9f43e005b2512']}, job_version=None, example_id=['918e0a4145474b0dabdc9a1527b9a111', '901f44db69db424b8960f4e6a893e645', '4efd69564f894f0ba3f0a395cd115975', '63abc8fd29d74d44a9378de16e8ad35b', '01bb09ec5b3249958341c4fe9f690e05'], example_version=None, extra=None, ref_event_id=None),\n Event(event_id='1aa29b395b6945338257db572ce19c18', timestamp='20231011153346', event_type=<EventType.SAMPLE_EVAL: 'sample_evaluation'>, event_metrics={'accuracy': 0.0, 'execution_time': 1.2542144775390625, 'failure_rate': 1.0, 'token_usage': 189.2, 'num_runs': 5, 'model_name': 'gpt-3.5-turbo', 'model_config': {}, 'errors': []}, job_setting={'example_ids': ['5286e1f163d44a3ab5761830c773a155', '977cefaae1574cb08da67a52027e11a8', 'ea207c3d2f8f4bf7b44b011d03e63960']}, job_version=None, example_id='918e0a4145474b0dabdc9a1527b9a111', example_version=None, extra=None, ref_event_id=None),\n Event(event_id='29a4f6d096fd4eca98513cb31c6a6331', timestamp='20231011153346', event_type=<EventType.SAMPLE_EVAL: 'sample_evaluation'>, event_metrics={'accuracy': 0.6, 'execution_time': 1.3418571472167968, 'failure_rate': 1.0, 'token_usage': 182.8, 'num_runs': 5, 'model_name': 'gpt-3.5-turbo', 'model_config': {}, 'errors': []}, job_setting={'example_ids': ['5286e1f163d44a3ab5761830c773a155', '977cefaae1574cb08da67a52027e11a8', 'ea207c3d2f8f4bf7b44b011d03e63960']}, job_version=None, example_id='901f44db69db424b8960f4e6a893e645', example_version=None, extra=None, ref_event_id=None),\n Event(event_id='f0660f84159d479b990138e951a3ce44', timestamp='20231011153346', event_type=<EventType.SAMPLE_EVAL: 'sample_evaluation'>, event_metrics={'accuracy': 1.0, 'execution_time': 1.3058990478515624, 'failure_rate': 1.0, 'token_usage': 179.0, 'num_runs': 5, 'model_name': 'gpt-3.5-turbo', 'model_config': {}, 'errors': []}, job_setting={'example_ids': ['5286e1f163d44a3ab5761830c773a155', '977cefaae1574cb08da67a52027e11a8', 'ea207c3d2f8f4bf7b44b011d03e63960']}, job_version=None, example_id='4efd69564f894f0ba3f0a395cd115975', example_version=None, extra=None, ref_event_id=None),\n Event(event_id='20d859cfb4c84a8da3d3ea786e2c21c0', timestamp='20231011153346', event_type=<EventType.SAMPLE_EVAL: 'sample_evaluation'>, event_metrics={'accuracy': 1.0, 'execution_time': 1.4152492046356202, 'failure_rate': 1.0, 'token_usage': 180.0, 'num_runs': 5, 'model_name': 'gpt-3.5-turbo', 'model_config': {}, 'errors': []}, job_setting={'example_ids': ['5286e1f163d44a3ab5761830c773a155', '977cefaae1574cb08da67a52027e11a8', 'ea207c3d2f8f4bf7b44b011d03e63960']}, job_version=None, example_id='63abc8fd29d74d44a9378de16e8ad35b', example_version=None, extra=None, ref_event_id=None),\n Event(event_id='1e667a704e4747c2a6c162aec9d52e83', timestamp='20231011153346', event_type=<EventType.SAMPLE_EVAL: 'sample_evaluation'>, event_metrics={'accuracy': 0.0, 'execution_time': 2.2560160160064697, 'failure_rate': 1.0, 'token_usage': 177.0, 'num_runs': 5, 'model_name': 'gpt-3.5-turbo', 'model_config': {}, 'errors': []}, job_setting={'example_ids': ['5286e1f163d44a3ab5761830c773a155', '977cefaae1574cb08da67a52027e11a8', 'ea207c3d2f8f4bf7b44b011d03e63960']}, job_version=None, example_id='01bb09ec5b3249958341c4fe9f690e05', example_version=None, extra=None, ref_event_id=None),\n Event(event_id='a6b997ef020b4b79b3740ecaabf4fbad', timestamp='20231011153346', event_type=<EventType.EVAL_RUN: 'evaluation_run'>, event_metrics={'accuracy': 0.52, 'execution_time': 1.5146471786499025, 'failure_rate': 1.0, 'token_usage': 181.6, 'num_runs': 5.0, 'model_name': 'gpt-3.5-turbo', 'model_config': {}, 'errors': []}, job_setting={'example_ids': ['5286e1f163d44a3ab5761830c773a155', '977cefaae1574cb08da67a52027e11a8', 'ea207c3d2f8f4bf7b44b011d03e63960']}, job_version=None, example_id=['918e0a4145474b0dabdc9a1527b9a111', '901f44db69db424b8960f4e6a893e645', '4efd69564f894f0ba3f0a395cd115975', '63abc8fd29d74d44a9378de16e8ad35b', '01bb09ec5b3249958341c4fe9f690e05'], example_version=None, extra=None, ref_event_id=None),\n Event(event_id='a039109fbc5643de97e8579dfce6b827', timestamp='20231011153349', event_type=<EventType.SAMPLE_EVAL: 'sample_evaluation'>, event_metrics={'accuracy': 0.4, 'execution_time': 0.949051809310913, 'failure_rate': 1.0, 'token_usage': 190.0, 'num_runs': 5, 'model_name': 'gpt-3.5-turbo', 'model_config': {}, 'errors': []}, job_setting={'example_ids': ['5286e1f163d44a3ab5761830c773a155', '977cefaae1574cb08da67a52027e11a8', '6ddef8f674f44bb6a7d84c555304da11']}, job_version=None, example_id='918e0a4145474b0dabdc9a1527b9a111', example_version=None, extra=None, ref_event_id=None),\n Event(event_id='0546969e466548408df3d71741885190', timestamp='20231011153349', event_type=<EventType.SAMPLE_EVAL: 'sample_evaluation'>, event_metrics={'accuracy': 0.8, 'execution_time': 0.9149237155914307, 'failure_rate': 1.0, 'token_usage': 182.4, 'num_runs': 5, 'model_name': 'gpt-3.5-turbo', 'model_config': {}, 'errors': []}, job_setting={'example_ids': ['5286e1f163d44a3ab5761830c773a155', '977cefaae1574cb08da67a52027e11a8', '6ddef8f674f44bb6a7d84c555304da11']}, job_version=None, example_id='901f44db69db424b8960f4e6a893e645', example_version=None, extra=None, ref_event_id=None),\n Event(event_id='574501efbf6d4f06a1f78cacdcf39369', timestamp='20231011153349', event_type=<EventType.SAMPLE_EVAL: 'sample_evaluation'>, event_metrics={'accuracy': 1.0, 'execution_time': 0.8867741584777832, 'failure_rate': 1.0, 'token_usage': 179.0, 'num_runs': 5, 'model_name': 'gpt-3.5-turbo', 'model_config': {}, 'errors': []}, job_setting={'example_ids': ['5286e1f163d44a3ab5761830c773a155', '977cefaae1574cb08da67a52027e11a8', '6ddef8f674f44bb6a7d84c555304da11']}, job_version=None, example_id='4efd69564f894f0ba3f0a395cd115975', example_version=None, extra=None, ref_event_id=None),\n Event(event_id='149bf8fcf0a741eab353ad3b041ea1ea', timestamp='20231011153349', event_type=<EventType.SAMPLE_EVAL: 'sample_evaluation'>, event_metrics={'accuracy': 1.0, 'execution_time': 1.0836799621582032, 'failure_rate': 1.0, 'token_usage': 180.0, 'num_runs': 5, 'model_name': 'gpt-3.5-turbo', 'model_config': {}, 'errors': []}, job_setting={'example_ids': ['5286e1f163d44a3ab5761830c773a155', '977cefaae1574cb08da67a52027e11a8', '6ddef8f674f44bb6a7d84c555304da11']}, job_version=None, example_id='63abc8fd29d74d44a9378de16e8ad35b', example_version=None, extra=None, ref_event_id=None),\n Event(event_id='005f7edeaa7145a5a69ec38fd4ffbadb', timestamp='20231011153349', event_type=<EventType.SAMPLE_EVAL: 'sample_evaluation'>, event_metrics={'accuracy': 0.0, 'execution_time': 1.5712441444396972, 'failure_rate': 1.0, 'token_usage': 177.6, 'num_runs': 5, 'model_name': 'gpt-3.5-turbo', 'model_config': {}, 'errors': []}, job_setting={'example_ids': ['5286e1f163d44a3ab5761830c773a155', '977cefaae1574cb08da67a52027e11a8', '6ddef8f674f44bb6a7d84c555304da11']}, job_version=None, example_id='01bb09ec5b3249958341c4fe9f690e05', example_version=None, extra=None, ref_event_id=None),\n Event(event_id='1b4aac6cfd1e47babb62f36ddd4d6b95', timestamp='20231011153349', event_type=<EventType.EVAL_RUN: 'evaluation_run'>, event_metrics={'accuracy': 0.64, 'execution_time': 1.0811347579956057, 'failure_rate': 1.0, 'token_usage': 181.8, 'num_runs': 5.0, 'model_name': 'gpt-3.5-turbo', 'model_config': {}, 'errors': []}, job_setting={'example_ids': ['5286e1f163d44a3ab5761830c773a155', '977cefaae1574cb08da67a52027e11a8', '6ddef8f674f44bb6a7d84c555304da11']}, job_version=None, example_id=['918e0a4145474b0dabdc9a1527b9a111', '901f44db69db424b8960f4e6a893e645', '4efd69564f894f0ba3f0a395cd115975', '63abc8fd29d74d44a9378de16e8ad35b', '01bb09ec5b3249958341c4fe9f690e05'], example_version=None, extra=None, ref_event_id=None),\n Event(event_id='64c7bdb37d1940d380e99db1e91c48e5', timestamp='20231011153353', event_type=<EventType.SAMPLE_EVAL: 'sample_evaluation'>, event_metrics={'accuracy': 0.2, 'execution_time': 1.8435725212097167, 'failure_rate': 1.0, 'token_usage': 190.0, 'num_runs': 5, 'model_name': 'gpt-3.5-turbo', 'model_config': {}, 'errors': []}, job_setting={'example_ids': ['5286e1f163d44a3ab5761830c773a155', '977cefaae1574cb08da67a52027e11a8', '9ac773f174bd46f08dfe03b2f3372ce6']}, job_version=None, example_id='918e0a4145474b0dabdc9a1527b9a111', example_version=None, extra=None, ref_event_id=None),\n Event(event_id='0271dddf68e14953b79d3cf1777343c4', timestamp='20231011153353', event_type=<EventType.SAMPLE_EVAL: 'sample_evaluation'>, event_metrics={'accuracy': 1.0, 'execution_time': 2.375909662246704, 'failure_rate': 1.0, 'token_usage': 181.6, 'num_runs': 5, 'model_name': 'gpt-3.5-turbo', 'model_config': {}, 'errors': []}, job_setting={'example_ids': ['5286e1f163d44a3ab5761830c773a155', '977cefaae1574cb08da67a52027e11a8', '9ac773f174bd46f08dfe03b2f3372ce6']}, job_version=None, example_id='901f44db69db424b8960f4e6a893e645', example_version=None, extra=None, ref_event_id=None),\n Event(event_id='223d25e6c0114c6987753801958ffe79', timestamp='20231011153353', event_type=<EventType.SAMPLE_EVAL: 'sample_evaluation'>, event_metrics={'accuracy': 1.0, 'execution_time': 1.8341861724853517, 'failure_rate': 1.0, 'token_usage': 178.8, 'num_runs': 5, 'model_name': 'gpt-3.5-turbo', 'model_config': {}, 'errors': []}, job_setting={'example_ids': ['5286e1f163d44a3ab5761830c773a155', '977cefaae1574cb08da67a52027e11a8', '9ac773f174bd46f08dfe03b2f3372ce6']}, job_version=None, example_id='4efd69564f894f0ba3f0a395cd115975', example_version=None, extra=None, ref_event_id=None),\n Event(event_id='774d25c792ed414eac1642b87dddcb42', timestamp='20231011153353', event_type=<EventType.SAMPLE_EVAL: 'sample_evaluation'>, event_metrics={'accuracy': 1.0, 'execution_time': 1.649293565750122, 'failure_rate': 1.0, 'token_usage': 180.0, 'num_runs': 5, 'model_name': 'gpt-3.5-turbo', 'model_config': {}, 'errors': []}, job_setting={'example_ids': ['5286e1f163d44a3ab5761830c773a155', '977cefaae1574cb08da67a52027e11a8', '9ac773f174bd46f08dfe03b2f3372ce6']}, job_version=None, example_id='63abc8fd29d74d44a9378de16e8ad35b', example_version=None, extra=None, ref_event_id=None),\n Event(event_id='9e696b3e1946442ca6ea5777d147b652', timestamp='20231011153353', event_type=<EventType.SAMPLE_EVAL: 'sample_evaluation'>, event_metrics={'accuracy': 0.0, 'execution_time': 2.1097309589385986, 'failure_rate': 1.0, 'token_usage': 177.0, 'num_runs': 5, 'model_name': 'gpt-3.5-turbo', 'model_config': {}, 'errors': []}, job_setting={'example_ids': ['5286e1f163d44a3ab5761830c773a155', '977cefaae1574cb08da67a52027e11a8', '9ac773f174bd46f08dfe03b2f3372ce6']}, job_version=None, example_id='01bb09ec5b3249958341c4fe9f690e05', example_version=None, extra=None, ref_event_id=None),\n Event(event_id='f4c1baa510b64d8e99820102ee81f8cd', timestamp='20231011153353', event_type=<EventType.EVAL_RUN: 'evaluation_run'>, event_metrics={'accuracy': 0.64, 'execution_time': 1.9625385761260987, 'failure_rate': 1.0, 'token_usage': 181.48000000000002, 'num_runs': 5.0, 'model_name': 'gpt-3.5-turbo', 'model_config': {}, 'errors': []}, job_setting={'example_ids': ['5286e1f163d44a3ab5761830c773a155', '977cefaae1574cb08da67a52027e11a8', '9ac773f174bd46f08dfe03b2f3372ce6']}, job_version=None, example_id=['918e0a4145474b0dabdc9a1527b9a111', '901f44db69db424b8960f4e6a893e645', '4efd69564f894f0ba3f0a395cd115975', '63abc8fd29d74d44a9378de16e8ad35b', '01bb09ec5b3249958341c4fe9f690e05'], example_version=None, extra=None, ref_event_id=None),\n Event(event_id='dea1a3dcb2854d50841d05bb5e2590a5', timestamp='20231011153355', event_type=<EventType.SAMPLE_EVAL: 'sample_evaluation'>, event_metrics={'accuracy': 0.0, 'execution_time': 1.310570192337036, 'failure_rate': 1.0, 'token_usage': 189.2, 'num_runs': 5, 'model_name': 'gpt-3.5-turbo', 'model_config': {}, 'errors': []}, job_setting={'example_ids': ['5286e1f163d44a3ab5761830c773a155', '977cefaae1574cb08da67a52027e11a8', '70f017c35a824692a55a4574b41ed517']}, job_version=None, example_id='918e0a4145474b0dabdc9a1527b9a111', example_version=None, extra=None, ref_event_id=None),\n Event(event_id='8949dabf83b84d55b87fb25714bc3955', timestamp='20231011153355', event_type=<EventType.SAMPLE_EVAL: 'sample_evaluation'>, event_metrics={'accuracy': 0.8, 'execution_time': 1.485801887512207, 'failure_rate': 1.0, 'token_usage': 182.4, 'num_runs': 5, 'model_name': 'gpt-3.5-turbo', 'model_config': {}, 'errors': []}, job_setting={'example_ids': ['5286e1f163d44a3ab5761830c773a155', '977cefaae1574cb08da67a52027e11a8', '70f017c35a824692a55a4574b41ed517']}, job_version=None, example_id='901f44db69db424b8960f4e6a893e645', example_version=None, extra=None, ref_event_id=None),\n Event(event_id='1479e1b967204d0e8dd25e55ad8312ff', timestamp='20231011153355', event_type=<EventType.SAMPLE_EVAL: 'sample_evaluation'>, event_metrics={'accuracy': 1.0, 'execution_time': 1.352821159362793, 'failure_rate': 1.0, 'token_usage': 179.0, 'num_runs': 5, 'model_name': 'gpt-3.5-turbo', 'model_config': {}, 'errors': []}, job_setting={'example_ids': ['5286e1f163d44a3ab5761830c773a155', '977cefaae1574cb08da67a52027e11a8', '70f017c35a824692a55a4574b41ed517']}, job_version=None, example_id='4efd69564f894f0ba3f0a395cd115975', example_version=None, extra=None, ref_event_id=None),\n Event(event_id='7df086af093d4cabb2af673efd66ddcb', timestamp='20231011153355', event_type=<EventType.SAMPLE_EVAL: 'sample_evaluation'>, event_metrics={'accuracy': 1.0, 'execution_time': 1.0980523586273194, 'failure_rate': 1.0, 'token_usage': 180.0, 'num_runs': 5, 'model_name': 'gpt-3.5-turbo', 'model_config': {}, 'errors': []}, job_setting={'example_ids': ['5286e1f163d44a3ab5761830c773a155', '977cefaae1574cb08da67a52027e11a8', '70f017c35a824692a55a4574b41ed517']}, job_version=None, example_id='63abc8fd29d74d44a9378de16e8ad35b', example_version=None, extra=None, ref_event_id=None),\n Event(event_id='95f29dd224e844b2886b3b372ff48d06', timestamp='20231011153355', event_type=<EventType.SAMPLE_EVAL: 'sample_evaluation'>, event_metrics={'accuracy': 0.0, 'execution_time': 1.0605414867401124, 'failure_rate': 1.0, 'token_usage': 177.0, 'num_runs': 5, 'model_name': 'gpt-3.5-turbo', 'model_config': {}, 'errors': []}, job_setting={'example_ids': ['5286e1f163d44a3ab5761830c773a155', '977cefaae1574cb08da67a52027e11a8', '70f017c35a824692a55a4574b41ed517']}, job_version=None, example_id='01bb09ec5b3249958341c4fe9f690e05', example_version=None, extra=None, ref_event_id=None),\n Event(event_id='1a649538af9a48c382388f5934813871', timestamp='20231011153355', event_type=<EventType.EVAL_RUN: 'evaluation_run'>, event_metrics={'accuracy': 0.5599999999999999, 'execution_time': 1.2615574169158936, 'failure_rate': 1.0, 'token_usage': 181.52, 'num_runs': 5.0, 'model_name': 'gpt-3.5-turbo', 'model_config': {}, 'errors': []}, job_setting={'example_ids': ['5286e1f163d44a3ab5761830c773a155', '977cefaae1574cb08da67a52027e11a8', '70f017c35a824692a55a4574b41ed517']}, job_version=None, example_id=['918e0a4145474b0dabdc9a1527b9a111', '901f44db69db424b8960f4e6a893e645', '4efd69564f894f0ba3f0a395cd115975', '63abc8fd29d74d44a9378de16e8ad35b', '01bb09ec5b3249958341c4fe9f690e05'], example_version=None, extra=None, ref_event_id=None),\n Event(event_id='4ab1200b9a0247f9a14c37db3d63ce73', timestamp='20231011153400', event_type=<EventType.SAMPLE_EVAL: 'sample_evaluation'>, event_metrics={'accuracy': 0.4, 'execution_time': 0.957981538772583, 'failure_rate': 1.0, 'token_usage': 190.4, 'num_runs': 5, 'model_name': 'gpt-3.5-turbo', 'model_config': {}, 'errors': []}, job_setting={'example_ids': ['5286e1f163d44a3ab5761830c773a155', '977cefaae1574cb08da67a52027e11a8', '7fa313a078c5423e956109f581f873bf']}, job_version=None, example_id='918e0a4145474b0dabdc9a1527b9a111', example_version=None, extra=None, ref_event_id=None),\n Event(event_id='89e44fad14324838aa1d8fe9196c6ab1', timestamp='20231011153400', event_type=<EventType.SAMPLE_EVAL: 'sample_evaluation'>, event_metrics={'accuracy': 1.0, 'execution_time': 2.520251417160034, 'failure_rate': 1.0, 'token_usage': 182.0, 'num_runs': 5, 'model_name': 'gpt-3.5-turbo', 'model_config': {}, 'errors': []}, job_setting={'example_ids': ['5286e1f163d44a3ab5761830c773a155', '977cefaae1574cb08da67a52027e11a8', '7fa313a078c5423e956109f581f873bf']}, job_version=None, example_id='901f44db69db424b8960f4e6a893e645', example_version=None, extra=None, ref_event_id=None),\n Event(event_id='bfe6752681324f348f8a29a26f8d6a59', timestamp='20231011153400', event_type=<EventType.SAMPLE_EVAL: 'sample_evaluation'>, event_metrics={'accuracy': 1.0, 'execution_time': 2.8108787059783937, 'failure_rate': 1.0, 'token_usage': 179.0, 'num_runs': 5, 'model_name': 'gpt-3.5-turbo', 'model_config': {}, 'errors': []}, job_setting={'example_ids': ['5286e1f163d44a3ab5761830c773a155', '977cefaae1574cb08da67a52027e11a8', '7fa313a078c5423e956109f581f873bf']}, job_version=None, example_id='4efd69564f894f0ba3f0a395cd115975', example_version=None, extra=None, ref_event_id=None),\n Event(event_id='51c16137f4b74cc785b9b590936f1623', timestamp='20231011153400', event_type=<EventType.SAMPLE_EVAL: 'sample_evaluation'>, event_metrics={'accuracy': 1.0, 'execution_time': 2.967136859893799, 'failure_rate': 1.0, 'token_usage': 180.0, 'num_runs': 5, 'model_name': 'gpt-3.5-turbo', 'model_config': {}, 'errors': []}, job_setting={'example_ids': ['5286e1f163d44a3ab5761830c773a155', '977cefaae1574cb08da67a52027e11a8', '7fa313a078c5423e956109f581f873bf']}, job_version=None, example_id='63abc8fd29d74d44a9378de16e8ad35b', example_version=None, extra=None, ref_event_id=None),\n Event(event_id='49020a981bce4a4696661bed85e60897', timestamp='20231011153400', event_type=<EventType.SAMPLE_EVAL: 'sample_evaluation'>, event_metrics={'accuracy': 0.0, 'execution_time': 2.5719598293304444, 'failure_rate': 1.0, 'token_usage': 177.8, 'num_runs': 5, 'model_name': 'gpt-3.5-turbo', 'model_config': {}, 'errors': []}, job_setting={'example_ids': ['5286e1f163d44a3ab5761830c773a155', '977cefaae1574cb08da67a52027e11a8', '7fa313a078c5423e956109f581f873bf']}, job_version=None, example_id='01bb09ec5b3249958341c4fe9f690e05', example_version=None, extra=None, ref_event_id=None),\n Event(event_id='d3b62dfad5924502a2ade4fad7927ad2', timestamp='20231011153400', event_type=<EventType.EVAL_RUN: 'evaluation_run'>, event_metrics={'accuracy': 0.6799999999999999, 'execution_time': 2.365641670227051, 'failure_rate': 1.0, 'token_usage': 181.84, 'num_runs': 5.0, 'model_name': 'gpt-3.5-turbo', 'model_config': {}, 'errors': []}, job_setting={'example_ids': ['5286e1f163d44a3ab5761830c773a155', '977cefaae1574cb08da67a52027e11a8', '7fa313a078c5423e956109f581f873bf']}, job_version=None, example_id=['918e0a4145474b0dabdc9a1527b9a111', '901f44db69db424b8960f4e6a893e645', '4efd69564f894f0ba3f0a395cd115975', '63abc8fd29d74d44a9378de16e8ad35b', '01bb09ec5b3249958341c4fe9f690e05'], example_version=None, extra=None, ref_event_id=None),\n Event(event_id='12f103e222dc418ea44c92c88995aa8e', timestamp='20231011153402', event_type=<EventType.SAMPLE_EVAL: 'sample_evaluation'>, event_metrics={'accuracy': 0.4, 'execution_time': 1.4221978664398194, 'failure_rate': 1.0, 'token_usage': 190.8, 'num_runs': 5, 'model_name': 'gpt-3.5-turbo', 'model_config': {}, 'errors': []}, job_setting={'example_ids': ['5286e1f163d44a3ab5761830c773a155', '977cefaae1574cb08da67a52027e11a8', 'fdf3170e32c34427ae3850f9a378b4e3']}, job_version=None, example_id='918e0a4145474b0dabdc9a1527b9a111', example_version=None, extra=None, ref_event_id=None),\n Event(event_id='84213f87d280404089dd6921be090992', timestamp='20231011153402', event_type=<EventType.SAMPLE_EVAL: 'sample_evaluation'>, event_metrics={'accuracy': 0.6, 'execution_time': 1.2157949924468994, 'failure_rate': 1.0, 'token_usage': 182.8, 'num_runs': 5, 'model_name': 'gpt-3.5-turbo', 'model_config': {}, 'errors': []}, job_setting={'example_ids': ['5286e1f163d44a3ab5761830c773a155', '977cefaae1574cb08da67a52027e11a8', 'fdf3170e32c34427ae3850f9a378b4e3']}, job_version=None, example_id='901f44db69db424b8960f4e6a893e645', example_version=None, extra=None, ref_event_id=None),\n Event(event_id='9bd0a0a581214c9abc7fb6dce66c4a59', timestamp='20231011153402', event_type=<EventType.SAMPLE_EVAL: 'sample_evaluation'>, event_metrics={'accuracy': 0.6, 'execution_time': 1.2377002716064454, 'failure_rate': 1.0, 'token_usage': 180.4, 'num_runs': 5, 'model_name': 'gpt-3.5-turbo', 'model_config': {}, 'errors': []}, job_setting={'example_ids': ['5286e1f163d44a3ab5761830c773a155', '977cefaae1574cb08da67a52027e11a8', 'fdf3170e32c34427ae3850f9a378b4e3']}, job_version=None, example_id='4efd69564f894f0ba3f0a395cd115975', example_version=None, extra=None, ref_event_id=None),\n Event(event_id='de2c519b15004fb9814ada395c196b2d', timestamp='20231011153402', event_type=<EventType.SAMPLE_EVAL: 'sample_evaluation'>, event_metrics={'accuracy': 0.8, 'execution_time': 1.3784595489501954, 'failure_rate': 1.0, 'token_usage': 180.8, 'num_runs': 5, 'model_name': 'gpt-3.5-turbo', 'model_config': {}, 'errors': []}, job_setting={'example_ids': ['5286e1f163d44a3ab5761830c773a155', '977cefaae1574cb08da67a52027e11a8', 'fdf3170e32c34427ae3850f9a378b4e3']}, job_version=None, example_id='63abc8fd29d74d44a9378de16e8ad35b', example_version=None, extra=None, ref_event_id=None),\n Event(event_id='3a62fb833c0f451baa4f70a5ae45df20', timestamp='20231011153402', event_type=<EventType.SAMPLE_EVAL: 'sample_evaluation'>, event_metrics={'accuracy': 0.0, 'execution_time': 1.447200107574463, 'failure_rate': 1.0, 'token_usage': 177.6, 'num_runs': 5, 'model_name': 'gpt-3.5-turbo', 'model_config': {}, 'errors': []}, job_setting={'example_ids': ['5286e1f163d44a3ab5761830c773a155', '977cefaae1574cb08da67a52027e11a8', 'fdf3170e32c34427ae3850f9a378b4e3']}, job_version=None, example_id='01bb09ec5b3249958341c4fe9f690e05', example_version=None, extra=None, ref_event_id=None),\n Event(event_id='1a35f59eafb14ba6960a62ab65843786', timestamp='20231011153402', event_type=<EventType.EVAL_RUN: 'evaluation_run'>, event_metrics={'accuracy': 0.4800000000000001, 'execution_time': 1.3402705574035645, 'failure_rate': 1.0, 'token_usage': 182.48, 'num_runs': 5.0, 'model_name': 'gpt-3.5-turbo', 'model_config': {}, 'errors': []}, job_setting={'example_ids': ['5286e1f163d44a3ab5761830c773a155', '977cefaae1574cb08da67a52027e11a8', 'fdf3170e32c34427ae3850f9a378b4e3']}, job_version=None, example_id=['918e0a4145474b0dabdc9a1527b9a111', '901f44db69db424b8960f4e6a893e645', '4efd69564f894f0ba3f0a395cd115975', '63abc8fd29d74d44a9378de16e8ad35b', '01bb09ec5b3249958341c4fe9f690e05'], example_version=None, extra=None, ref_event_id=None),\n Event(event_id='e062ca8918d146a79a03cef9e641a5cb', timestamp='20231011153407', event_type=<EventType.SAMPLE_EVAL: 'sample_evaluation'>, event_metrics={'accuracy': 0.2, 'execution_time': 1.2731948852539063, 'failure_rate': 1.0, 'token_usage': 190.4, 'num_runs': 5, 'model_name': 'gpt-3.5-turbo', 'model_config': {}, 'errors': []}, job_setting={'example_ids': ['5286e1f163d44a3ab5761830c773a155', '977cefaae1574cb08da67a52027e11a8', 'f64e78a6ef9d46698fb4757183a4a0dd']}, job_version=None, example_id='918e0a4145474b0dabdc9a1527b9a111', example_version=None, extra=None, ref_event_id=None),\n Event(event_id='c245f4914a1945bfab2deb4372e67a54', timestamp='20231011153407', event_type=<EventType.SAMPLE_EVAL: 'sample_evaluation'>, event_metrics={'accuracy': 0.8, 'execution_time': 1.1075766563415528, 'failure_rate': 1.0, 'token_usage': 182.4, 'num_runs': 5, 'model_name': 'gpt-3.5-turbo', 'model_config': {}, 'errors': []}, job_setting={'example_ids': ['5286e1f163d44a3ab5761830c773a155', '977cefaae1574cb08da67a52027e11a8', 'f64e78a6ef9d46698fb4757183a4a0dd']}, job_version=None, example_id='901f44db69db424b8960f4e6a893e645', example_version=None, extra=None, ref_event_id=None),\n Event(event_id='9104d38f923d4eac864bf35fc7da650f', timestamp='20231011153407', event_type=<EventType.SAMPLE_EVAL: 'sample_evaluation'>, event_metrics={'accuracy': 0.8, 'execution_time': 4.004722023010254, 'failure_rate': 1.0, 'token_usage': 178.4, 'num_runs': 5, 'model_name': 'gpt-3.5-turbo', 'model_config': {}, 'errors': []}, job_setting={'example_ids': ['5286e1f163d44a3ab5761830c773a155', '977cefaae1574cb08da67a52027e11a8', 'f64e78a6ef9d46698fb4757183a4a0dd']}, job_version=None, example_id='4efd69564f894f0ba3f0a395cd115975', example_version=None, extra=None, ref_event_id=None),\n Event(event_id='f23c2c01974d4a8f89ecdf9c7ef59694', timestamp='20231011153407', event_type=<EventType.SAMPLE_EVAL: 'sample_evaluation'>, event_metrics={'accuracy': 0.8, 'execution_time': 2.932041883468628, 'failure_rate': 1.0, 'token_usage': 180.8, 'num_runs': 5, 'model_name': 'gpt-3.5-turbo', 'model_config': {}, 'errors': []}, job_setting={'example_ids': ['5286e1f163d44a3ab5761830c773a155', '977cefaae1574cb08da67a52027e11a8', 'f64e78a6ef9d46698fb4757183a4a0dd']}, job_version=None, example_id='63abc8fd29d74d44a9378de16e8ad35b', example_version=None, extra=None, ref_event_id=None),\n Event(event_id='b040458c0ae14e91b5f8bf25c23b8018', timestamp='20231011153407', event_type=<EventType.SAMPLE_EVAL: 'sample_evaluation'>, event_metrics={'accuracy': 0.0, 'execution_time': 3.4760704040527344, 'failure_rate': 1.0, 'token_usage': 177.0, 'num_runs': 5, 'model_name': 'gpt-3.5-turbo', 'model_config': {}, 'errors': []}, job_setting={'example_ids': ['5286e1f163d44a3ab5761830c773a155', '977cefaae1574cb08da67a52027e11a8', 'f64e78a6ef9d46698fb4757183a4a0dd']}, job_version=None, example_id='01bb09ec5b3249958341c4fe9f690e05', example_version=None, extra=None, ref_event_id=None),\n Event(event_id='c9e4b85058464236bc83ccfd750d134c', timestamp='20231011153407', event_type=<EventType.EVAL_RUN: 'evaluation_run'>, event_metrics={'accuracy': 0.52, 'execution_time': 2.5587211704254154, 'failure_rate': 1.0, 'token_usage': 181.8, 'num_runs': 5.0, 'model_name': 'gpt-3.5-turbo', 'model_config': {}, 'errors': []}, job_setting={'example_ids': ['5286e1f163d44a3ab5761830c773a155', '977cefaae1574cb08da67a52027e11a8', 'f64e78a6ef9d46698fb4757183a4a0dd']}, job_version=None, example_id=['918e0a4145474b0dabdc9a1527b9a111', '901f44db69db424b8960f4e6a893e645', '4efd69564f894f0ba3f0a395cd115975', '63abc8fd29d74d44a9378de16e8ad35b', '01bb09ec5b3249958341c4fe9f690e05'], example_version=None, extra=None, ref_event_id=None),\n Event(event_id='5370f17a99b840c5bb88ee81ed9659c7', timestamp='20231011153412', event_type=<EventType.SAMPLE_EVAL: 'sample_evaluation'>, event_metrics={'accuracy': 0.0, 'execution_time': 0.900438928604126, 'failure_rate': 1.0, 'token_usage': 190.0, 'num_runs': 5, 'model_name': 'gpt-3.5-turbo', 'model_config': {}, 'errors': []}, job_setting={'example_ids': ['5286e1f163d44a3ab5761830c773a155', '977cefaae1574cb08da67a52027e11a8', 'b4d5fbd8f5074f2ca0d112acd3ece391']}, job_version=None, example_id='918e0a4145474b0dabdc9a1527b9a111', example_version=None, extra=None, ref_event_id=None),\n Event(event_id='48a36d6ae58349d293f66f5fb28f5edf', timestamp='20231011153412', event_type=<EventType.SAMPLE_EVAL: 'sample_evaluation'>, event_metrics={'accuracy': 0.8, 'execution_time': 2.780528450012207, 'failure_rate': 1.0, 'token_usage': 182.8, 'num_runs': 5, 'model_name': 'gpt-3.5-turbo', 'model_config': {}, 'errors': []}, job_setting={'example_ids': ['5286e1f163d44a3ab5761830c773a155', '977cefaae1574cb08da67a52027e11a8', 'b4d5fbd8f5074f2ca0d112acd3ece391']}, job_version=None, example_id='901f44db69db424b8960f4e6a893e645', example_version=None, extra=None, ref_event_id=None),\n Event(event_id='f633554d98bc48b9b852b42e1490c244', timestamp='20231011153412', event_type=<EventType.SAMPLE_EVAL: 'sample_evaluation'>, event_metrics={'accuracy': 1.0, 'execution_time': 1.2441511154174805, 'failure_rate': 1.0, 'token_usage': 179.0, 'num_runs': 5, 'model_name': 'gpt-3.5-turbo', 'model_config': {}, 'errors': []}, job_setting={'example_ids': ['5286e1f163d44a3ab5761830c773a155', '977cefaae1574cb08da67a52027e11a8', 'b4d5fbd8f5074f2ca0d112acd3ece391']}, job_version=None, example_id='4efd69564f894f0ba3f0a395cd115975', example_version=None, extra=None, ref_event_id=None),\n Event(event_id='964118327872474cb38087b50bac3fa1', timestamp='20231011153412', event_type=<EventType.SAMPLE_EVAL: 'sample_evaluation'>, event_metrics={'accuracy': 1.0, 'execution_time': 1.907641887664795, 'failure_rate': 1.0, 'token_usage': 180.0, 'num_runs': 5, 'model_name': 'gpt-3.5-turbo', 'model_config': {}, 'errors': []}, job_setting={'example_ids': ['5286e1f163d44a3ab5761830c773a155', '977cefaae1574cb08da67a52027e11a8', 'b4d5fbd8f5074f2ca0d112acd3ece391']}, job_version=None, example_id='63abc8fd29d74d44a9378de16e8ad35b', example_version=None, extra=None, ref_event_id=None),\n Event(event_id='4ef8dcd374534646a21a518500bae5f0', timestamp='20231011153412', event_type=<EventType.SAMPLE_EVAL: 'sample_evaluation'>, event_metrics={'accuracy': 0.0, 'execution_time': 1.7451400756835938, 'failure_rate': 1.0, 'token_usage': 177.8, 'num_runs': 5, 'model_name': 'gpt-3.5-turbo', 'model_config': {}, 'errors': []}, job_setting={'example_ids': ['5286e1f163d44a3ab5761830c773a155', '977cefaae1574cb08da67a52027e11a8', 'b4d5fbd8f5074f2ca0d112acd3ece391']}, job_version=None, example_id='01bb09ec5b3249958341c4fe9f690e05', example_version=None, extra=None, ref_event_id=None),\n Event(event_id='32d1b426b4e94ecd9874366004a84ff0', timestamp='20231011153412', event_type=<EventType.EVAL_RUN: 'evaluation_run'>, event_metrics={'accuracy': 0.5599999999999999, 'execution_time': 1.7155800914764405, 'failure_rate': 1.0, 'token_usage': 181.92, 'num_runs': 5.0, 'model_name': 'gpt-3.5-turbo', 'model_config': {}, 'errors': []}, job_setting={'example_ids': ['5286e1f163d44a3ab5761830c773a155', '977cefaae1574cb08da67a52027e11a8', 'b4d5fbd8f5074f2ca0d112acd3ece391']}, job_version=None, example_id=['918e0a4145474b0dabdc9a1527b9a111', '901f44db69db424b8960f4e6a893e645', '4efd69564f894f0ba3f0a395cd115975', '63abc8fd29d74d44a9378de16e8ad35b', '01bb09ec5b3249958341c4fe9f690e05'], example_version=None, extra=None, ref_event_id=None)]"
     },
     "execution_count": 5,
     "metadata": {},
     "output_type": "execute_result"
    }
   ],
   "source": [
    "job.event_log"
   ],
   "metadata": {
    "collapsed": false,
    "ExecuteTime": {
     "end_time": "2023-10-11T14:07:41.510745200Z",
     "start_time": "2023-10-11T14:07:41.488300300Z"
    }
   },
   "id": "6a4666157b872af0"
  },
  {
   "cell_type": "code",
   "execution_count": 6,
   "outputs": [
    {
     "data": {
      "text/plain": "[]"
     },
     "execution_count": 6,
     "metadata": {},
     "output_type": "execute_result"
    }
   ],
   "source": [
    "job.generation_log"
   ],
   "metadata": {
    "collapsed": false,
    "ExecuteTime": {
     "end_time": "2023-10-11T14:09:25.465440400Z",
     "start_time": "2023-10-11T14:09:25.434089500Z"
    }
   },
   "id": "19357cd0eb0311f6"
  },
  {
   "cell_type": "code",
   "execution_count": 3,
   "outputs": [],
   "source": [
    "job.is_explicit = True"
   ],
   "metadata": {
    "collapsed": false,
    "ExecuteTime": {
     "end_time": "2023-10-11T09:52:06.602902500Z",
     "start_time": "2023-10-11T09:52:06.600207200Z"
    }
   },
   "id": "2d6cdcde952589e9"
  },
  {
   "cell_type": "code",
   "execution_count": 4,
   "outputs": [],
   "source": [
    "from llmp.components.job_manager import JobManager\n",
    "jm = JobManager()\n",
    "jm.update_job(job)"
   ],
   "metadata": {
    "collapsed": false,
    "ExecuteTime": {
     "end_time": "2023-10-11T09:52:07.711683900Z",
     "start_time": "2023-10-11T09:52:07.695775900Z"
    }
   },
   "id": "b073ad42d92c1762"
  },
  {
   "cell_type": "code",
   "execution_count": 9,
   "outputs": [
    {
     "data": {
      "text/plain": "'fbe99910ff1f4f4e8e87940c72980ddc'"
     },
     "execution_count": 9,
     "metadata": {},
     "output_type": "execute_result"
    }
   ],
   "source": [
    "job.idx"
   ],
   "metadata": {
    "collapsed": false,
    "ExecuteTime": {
     "end_time": "2023-10-11T09:44:55.552640100Z",
     "start_time": "2023-10-11T09:44:55.520926900Z"
    }
   },
   "id": "3e79337c2a22054f"
  },
  {
   "cell_type": "code",
   "execution_count": 12,
   "outputs": [],
   "source": [
    "from llmp.components.generator._prompts import EXTEND_INPUTS_TEMPLATE\n",
    "from structgenie.engine import StructGenie\n",
    "\n",
    "\n",
    "st = StructGenie.from_template(EXTEND_INPUTS_TEMPLATE, partial_output_model={\"outputs\":job.input_model}, debug=True)"
   ],
   "metadata": {
    "collapsed": false,
    "ExecuteTime": {
     "end_time": "2023-10-10T10:23:28.135486Z",
     "start_time": "2023-10-10T10:23:28.116999800Z"
    }
   },
   "id": "9b6a00cd606cdba8"
  },
  {
   "cell_type": "code",
   "execution_count": 13,
   "outputs": [
    {
     "data": {
      "text/plain": "OutputModel(lines=[IOLine(key='outputs', type='list', rule='length={num_examples}', options=None, multiple_select=False, default=None, placeholder=['outputs'], multiline=False, custom_value_template=None), IOLine(key='outputs.$description', type='str', rule=None, options=None, multiple_select=False, default=None, placeholder=['description'], multiline=False, custom_value_template=None), IOLine(key='outputs.$sources', type='list[str]', rule=None, options=['internal', 'external'], multiple_select=True, default=None, placeholder=['sources'], multiline=False, custom_value_template=None)])"
     },
     "execution_count": 13,
     "metadata": {},
     "output_type": "execute_result"
    }
   ],
   "source": [
    "st.output_model"
   ],
   "metadata": {
    "collapsed": false,
    "ExecuteTime": {
     "end_time": "2023-10-10T10:23:28.448459200Z",
     "start_time": "2023-10-10T10:23:28.430528600Z"
    }
   },
   "id": "2afef78e6f25398d"
  },
  {
   "cell_type": "code",
   "execution_count": 8,
   "outputs": [],
   "source": [
    "from structgenie.input_output import load_output_model\n",
    "\n",
    "om = load_output_model(None, output_model=st.output_model, partial_output_model=job.input_model)"
   ],
   "metadata": {
    "collapsed": false,
    "ExecuteTime": {
     "end_time": "2023-10-10T10:07:14.832368500Z",
     "start_time": "2023-10-10T10:07:14.809585600Z"
    }
   },
   "id": "f163d46e81f9bfed"
  },
  {
   "cell_type": "code",
   "execution_count": 13,
   "outputs": [
    {
     "data": {
      "text/plain": "InputModel(lines=[IOLine(key='outputs.$outputs.$outputs.$outputs.$description', type='str', rule=None, options=None, multiple_select=False, default=None, placeholder=['description'], multiline=False, custom_value_template=None), IOLine(key='outputs.$outputs.$outputs.$outputs.$sources', type='list[str]', rule=None, options=['internal', 'external'], multiple_select=True, default=None, placeholder=['sources'], multiline=False, custom_value_template=None)])"
     },
     "execution_count": 13,
     "metadata": {},
     "output_type": "execute_result"
    }
   ],
   "source": [
    "job.input_model"
   ],
   "metadata": {
    "collapsed": false,
    "ExecuteTime": {
     "end_time": "2023-10-10T10:19:58.066527400Z",
     "start_time": "2023-10-10T10:19:58.060477300Z"
    }
   },
   "id": "dba9fbd3293d8556"
  },
  {
   "cell_type": "code",
   "execution_count": 11,
   "outputs": [
    {
     "data": {
      "text/plain": "OutputModel(lines=[IOLine(key='outputs', type='list', rule='length={num_examples}', options=None, multiple_select=False, default=None, placeholder=['outputs'], multiline=False, custom_value_template=None)])"
     },
     "execution_count": 11,
     "metadata": {},
     "output_type": "execute_result"
    }
   ],
   "source": [
    "st.output_model"
   ],
   "metadata": {
    "collapsed": false,
    "ExecuteTime": {
     "end_time": "2023-10-10T10:19:36.589614400Z",
     "start_time": "2023-10-10T10:19:36.573882300Z"
    }
   },
   "id": "d18d7f68c8567918"
  },
  {
   "cell_type": "code",
   "execution_count": 12,
   "outputs": [
    {
     "data": {
      "text/plain": "InputModel(lines=[IOLine(key='outputs.$outputs.$outputs.$outputs.$description', type='str', rule=None, options=None, multiple_select=False, default=None, placeholder=['description'], multiline=False, custom_value_template=None), IOLine(key='outputs.$outputs.$outputs.$outputs.$sources', type='list[str]', rule=None, options=['internal', 'external'], multiple_select=True, default=None, placeholder=['sources'], multiline=False, custom_value_template=None)])"
     },
     "execution_count": 12,
     "metadata": {},
     "output_type": "execute_result"
    }
   ],
   "source": [
    "job.input_model"
   ],
   "metadata": {
    "collapsed": false,
    "ExecuteTime": {
     "end_time": "2023-10-10T10:19:44.010750800Z",
     "start_time": "2023-10-10T10:19:43.994701100Z"
    }
   },
   "id": "188bdd764693133f"
  },
  {
   "cell_type": "code",
   "execution_count": 7,
   "outputs": [],
   "source": [
    "from structgenie.input_output.load import add_partial_output_model\n",
    "from structgenie.validation.validator import Validator\n",
    "\n",
    "pm = add_partial_output_model(st.output_model, partial_output_model={\"outputs\": job.input_model})"
   ],
   "metadata": {
    "collapsed": false,
    "ExecuteTime": {
     "end_time": "2023-10-10T10:22:43.108764700Z",
     "start_time": "2023-10-10T10:22:43.091824200Z"
    }
   },
   "id": "69e1bf2f58033f5f"
  },
  {
   "cell_type": "code",
   "execution_count": 10,
   "outputs": [
    {
     "data": {
      "text/plain": "OutputModel(lines=[IOLine(key='outputs', type='list', rule='length={num_examples}', options=None, multiple_select=False, default=None, placeholder=['outputs'], multiline=False, custom_value_template=None), IOLine(key='outputs.$outputs.$description', type='str', rule=None, options=None, multiple_select=False, default=None, placeholder=['description'], multiline=False, custom_value_template=None), IOLine(key='outputs.$outputs.$sources', type='list[str]', rule=None, options=['internal', 'external'], multiple_select=True, default=None, placeholder=['sources'], multiline=False, custom_value_template=None)])"
     },
     "execution_count": 10,
     "metadata": {},
     "output_type": "execute_result"
    }
   ],
   "source": [
    "st.output_model"
   ],
   "metadata": {
    "collapsed": false,
    "ExecuteTime": {
     "end_time": "2023-10-10T10:22:52.981910400Z",
     "start_time": "2023-10-10T10:22:52.950095800Z"
    }
   },
   "id": "f2d830ebe8e8c9c"
  },
  {
   "cell_type": "code",
   "execution_count": 14,
   "outputs": [],
   "source": [
    "validator = Validator.from_output_model(st.output_model)"
   ],
   "metadata": {
    "collapsed": false,
    "ExecuteTime": {
     "end_time": "2023-10-10T10:23:32.362373700Z",
     "start_time": "2023-10-10T10:23:32.354714300Z"
    }
   },
   "id": "9413a72e66bac4e"
  },
  {
   "cell_type": "code",
   "execution_count": 15,
   "outputs": [
    {
     "data": {
      "text/plain": "{'outputs': {'type': 'list',\n  'rule': 'length={num_examples}',\n  'options': None,\n  'multiple_select': False,\n  'default': None,\n  'multiline': False},\n 'outputs.$description': {'type': 'str',\n  'rule': None,\n  'options': None,\n  'multiple_select': False,\n  'default': None,\n  'multiline': False},\n 'outputs.$sources': {'type': 'list[str]',\n  'rule': None,\n  'options': ['internal', 'external'],\n  'multiple_select': True,\n  'default': None,\n  'multiline': False}}"
     },
     "execution_count": 15,
     "metadata": {},
     "output_type": "execute_result"
    }
   ],
   "source": [
    "validator.validation_config"
   ],
   "metadata": {
    "collapsed": false,
    "ExecuteTime": {
     "end_time": "2023-10-10T10:23:33.602044100Z",
     "start_time": "2023-10-10T10:23:33.586457300Z"
    }
   },
   "id": "e83b6370cb71cbd5"
  },
  {
   "cell_type": "code",
   "execution_count": 17,
   "outputs": [
    {
     "name": "stdout",
     "output_type": "stream",
     "text": [
      "list\n"
     ]
    },
    {
     "data": {
      "text/plain": "True"
     },
     "execution_count": 17,
     "metadata": {},
     "output_type": "execute_result"
    }
   ],
   "source": [
    "import re\n",
    "\n",
    "\n",
    "def instance_type(type_):\n",
    "    if re.match(r\"(.*)\\[(.*)\\]\", type_):\n",
    "        if re.match(r\"(.*)\\[(.*)\\]\", type_).group(1) not in [\"Union\", \"Optional\"]:\n",
    "            return re.match(r\"(.*)\\[(.*)\\]\", type_).group(1)\n",
    "    return type_\n",
    "\n",
    "type_str = \"list[str]\"\n",
    "print(instance_type(type_str))\n",
    "\n",
    "\n",
    "isinstance([\"source\", \"external\"], eval(instance_type(type_str)))"
   ],
   "metadata": {
    "collapsed": false,
    "ExecuteTime": {
     "end_time": "2023-10-10T10:25:22.711424400Z",
     "start_time": "2023-10-10T10:25:22.680017500Z"
    }
   },
   "id": "2113806107c64f53"
  },
  {
   "cell_type": "code",
   "execution_count": 7,
   "outputs": [],
   "source": [
    "from structgenie.input_output import init_output_model\n",
    "\n",
    "\n",
    "def _partial_lines(key: str, partial_schema: str) -> list:\n",
    "    om = init_output_model(partial_schema)\n",
    "    lines = []\n",
    "    for attr in om.lines:\n",
    "        attr.key = f\"{key}.${attr.key}\"\n",
    "        lines.append(attr)\n",
    "    return lines"
   ],
   "metadata": {
    "collapsed": false,
    "ExecuteTime": {
     "end_time": "2023-10-10T10:15:29.091573100Z",
     "start_time": "2023-10-10T10:15:29.073692600Z"
    }
   },
   "id": "ab4e7e1cd2f932b0"
  },
  {
   "cell_type": "code",
   "execution_count": 8,
   "outputs": [],
   "source": [
    "partial_output_model={\"outputs\": job.input_model}\n",
    "output_model = st.output_model\n",
    "\n",
    "\n",
    "new_lines = []\n",
    "for attr in output_model.lines:\n",
    "    if attr.key in partial_output_model:\n",
    "        new_lines.append(attr)\n",
    "        new_lines.extend(_partial_lines(attr.key, partial_output_model[attr.key]))\n",
    "    else:\n",
    "        new_lines.append(attr)\n",
    "    \n",
    "    "
   ],
   "metadata": {
    "collapsed": false,
    "ExecuteTime": {
     "end_time": "2023-10-10T10:15:29.888908900Z",
     "start_time": "2023-10-10T10:15:29.872784Z"
    }
   },
   "id": "93ba76abb9af33cb"
  },
  {
   "cell_type": "code",
   "execution_count": 9,
   "outputs": [
    {
     "data": {
      "text/plain": "[IOLine(key='outputs', type='list', rule='length={num_examples}', options=None, multiple_select=False, default=None, placeholder=['outputs'], multiline=False, custom_value_template=None),\n IOLine(key='outputs.$outputs.$outputs.$outputs.$description', type='str', rule=None, options=None, multiple_select=False, default=None, placeholder=['description'], multiline=False, custom_value_template=None),\n IOLine(key='outputs.$outputs.$outputs.$outputs.$sources', type='list[str]', rule=None, options=['internal', 'external'], multiple_select=True, default=None, placeholder=['sources'], multiline=False, custom_value_template=None)]"
     },
     "execution_count": 9,
     "metadata": {},
     "output_type": "execute_result"
    }
   ],
   "source": [
    "new_lines"
   ],
   "metadata": {
    "collapsed": false,
    "ExecuteTime": {
     "end_time": "2023-10-10T10:15:37.471794300Z",
     "start_time": "2023-10-10T10:15:37.456070900Z"
    }
   },
   "id": "43b356638dc8af03"
  },
  {
   "cell_type": "code",
   "execution_count": null,
   "outputs": [],
   "source": [
    "output = [({'external_types': ['textual'], 'internal_types': ['textual', 'multimedia']},\n",
    "  {'execution_time': 0.8263273239135742,\n",
    "   'token_usage': 307,\n",
    "   'model_name': 'gpt-3.5-turbo',\n",
    "   'model_config': {},\n",
    "   'failure_rate': 1,\n",
    "   'errors': []}),\n",
    " ({'external_types': [], 'internal_types': ['textual', 'multimedia']},\n",
    "  {'execution_time': 1.0414953231811523,\n",
    "   'token_usage': 304,\n",
    "   'model_name': 'gpt-3.5-turbo',\n",
    "   'model_config': {},\n",
    "   'failure_rate': 1,\n",
    "   'errors': []}),\n",
    " ({'external_types': ['textual'], 'internal_types': ['textual', 'multimedia']},\n",
    "  {'execution_time': 1.0877337455749512,\n",
    "   'token_usage': 307,\n",
    "   'model_name': 'gpt-3.5-turbo',\n",
    "   'model_config': {},\n",
    "   'failure_rate': 1,\n",
    "   'errors': []}),\n",
    " ({'external_types': ['textual', 'multimedia'],\n",
    "   'internal_types': ['textual', 'multimedia']},\n",
    "  {'execution_time': 1.1719236373901367,\n",
    "   'token_usage': 310,\n",
    "   'model_name': 'gpt-3.5-turbo',\n",
    "   'model_config': {},\n",
    "   'failure_rate': 1,\n",
    "   'errors': []}),\n",
    " ({'external_types': ['textual'], 'internal_types': ['textual', 'multimedia']},\n",
    "  {'execution_time': 1.1568892002105713,\n",
    "   'token_usage': 307,\n",
    "   'model_name': 'gpt-3.5-turbo',\n",
    "   'model_config': {},\n",
    "   'failure_rate': 1,\n",
    "   'errors': []})]"
   ],
   "metadata": {
    "collapsed": false,
    "ExecuteTime": {
     "start_time": "2023-10-10T09:49:45.390197200Z"
    }
   },
   "id": "e9bf8775f5175ec9"
  },
  {
   "cell_type": "code",
   "execution_count": null,
   "outputs": [],
   "source": [
    "result"
   ],
   "metadata": {
    "collapsed": false,
    "ExecuteTime": {
     "start_time": "2023-10-10T09:49:45.405820700Z"
    }
   },
   "id": "28e68944f5507053"
  },
  {
   "cell_type": "code",
   "execution_count": null,
   "outputs": [],
   "source": [],
   "metadata": {
    "collapsed": false,
    "ExecuteTime": {
     "start_time": "2023-10-10T09:49:45.405820700Z"
    }
   },
   "id": "7884ae9963b65a99"
  },
  {
   "cell_type": "code",
   "execution_count": null,
   "outputs": [],
   "source": [
    "from structgenie.engine import StructGenie\n",
    "\n",
    "st = StructGenie.from_template(MAJORITY_GRADE_TEMPLATE, debug=True)"
   ],
   "metadata": {
    "collapsed": false,
    "ExecuteTime": {
     "start_time": "2023-10-10T09:49:45.405820700Z"
    }
   },
   "id": "ade0f934f8da5a7a"
  },
  {
   "cell_type": "code",
   "execution_count": null,
   "outputs": [],
   "source": [
    "inputs = {\n",
    "    \"task_instruction\": job.instruction,\n",
    "    \"task_input\": {'description': 'A social media marketing campaign to be created', 'sources': ['internal', 'external']},\n",
    "    \"task_output\": get_unique_outputs(output),\n",
    "    \"num_outputs\": len(get_unique_outputs(output))\n",
    "}\n",
    "\n",
    "result = st.run(inputs)"
   ],
   "metadata": {
    "collapsed": false,
    "ExecuteTime": {
     "start_time": "2023-10-10T09:49:45.405820700Z"
    }
   },
   "id": "e917dd2cdc8cb986"
  },
  {
   "cell_type": "code",
   "execution_count": null,
   "outputs": [],
   "source": [
    "def sort_grades(grades: list[dict]):\n",
    "    return sorted(grades, key=lambda x: x[\"grade\"], reverse=True)\n",
    "\n",
    "def find_best_outputs(grades: list[dict]):\n",
    "    best_outputs = []\n",
    "    for grade in grades:\n",
    "        if grade[\"grade\"] == grades[0][\"grade\"]:\n",
    "            best_outputs.append(grade)\n",
    "    return best_outputs\n",
    "\n",
    "best_results = find_best_outputs(sort_grades(result[\"grades\"]))\n",
    "if len(best_results) > 1:\n",
    "    indices = [r[\"index\"] for r in best_results]\n",
    "    inputs = get_unique_outputs(output)\n",
    "    best_results = [inputs[i] for i in indices]\n",
    "    \n",
    "print(best_results)\n"
   ],
   "metadata": {
    "collapsed": false,
    "ExecuteTime": {
     "start_time": "2023-10-10T09:49:45.405820700Z"
    }
   },
   "id": "a5bcd6bedf778aed"
  },
  {
   "cell_type": "code",
   "execution_count": null,
   "outputs": [],
   "source": [
    "COMPARE_AND_SELECT_TEMPLATE = \"\"\"# Instruction\n",
    "You are comparing different outputs for a given generation task. You are asked to pick the best output.\n",
    "Below you find the instruction and the input for the generation task as well as a list of existing outputs.\n",
    "Select the best option by returning the index of the best output item and a step by step reasoning for your decision.\n",
    "Do not repeat existing outputs in your response instead return the index of the existing output.\n",
    "Try to reason your decision as detailed as possible by thinking step by step in context of the task input and explain why you don't select the other options.\n",
    "  \n",
    "# Input\n",
    "TASK_INSTRUCTION: {task_instruction}\n",
    "TASK_INPUT: {task_input}\n",
    "TASK_OUTPUTS: {task_output}\n",
    "# Output\n",
    "Result: <dict>\n",
    "Result.Index: <integer>\n",
    "Result.Reasoning: <string>\n",
    "\"\"\"\n",
    "\n",
    "stc = StructGenie.from_template(COMPARE_AND_SELECT_TEMPLATE, debug=True)\n",
    "\n",
    "inputs = {\n",
    "    \"task_instruction\": job.instruction,\n",
    "    \"task_input\": {'description': 'A social media marketing campaign to be created', 'sources': ['internal', 'external']},\n",
    "    \"task_output\": [{str(i): br} for i, br in enumerate(best_results)],\n",
    "    \"num_outputs\": len(best_results)\n",
    "}\n",
    "\n",
    "result = stc.run(inputs)"
   ],
   "metadata": {
    "collapsed": false,
    "ExecuteTime": {
     "start_time": "2023-10-10T09:49:45.405820700Z"
    }
   },
   "id": "a6458388c9470708"
  },
  {
   "cell_type": "code",
   "execution_count": null,
   "outputs": [],
   "source": [
    "def get_unique_outputs(outputs: list[dict]):\n",
    "    unique_outputs = []\n",
    "    for o in output:\n",
    "        if o[0] not in unique_outputs:\n",
    "            unique_outputs.append(o[0])\n",
    "    return unique_outputs\n",
    "\n",
    "get_unique_outputs(output)"
   ],
   "metadata": {
    "collapsed": false,
    "ExecuteTime": {
     "start_time": "2023-10-10T09:49:45.405820700Z"
    }
   },
   "id": "def6ee430f3ad872"
  },
  {
   "cell_type": "code",
   "execution_count": 3,
   "outputs": [
    {
     "data": {
      "text/plain": "\"- '0': a\\n- '1': b\\n- '2': c\\n\""
     },
     "execution_count": 3,
     "metadata": {},
     "output_type": "execute_result"
    }
   ],
   "source": [
    "from structgenie.parser import dump_to_yaml_string\n",
    "\n",
    "ls = []\n",
    "for i, value in enumerate([\"a\", \"b\", \"c\"]):\n",
    "    ls.append({str(i): value})\n",
    "    \n",
    "dump_to_yaml_string(ls)"
   ],
   "metadata": {
    "collapsed": false,
    "ExecuteTime": {
     "end_time": "2023-10-11T12:23:37.566017600Z",
     "start_time": "2023-10-11T12:23:37.534750600Z"
    }
   },
   "id": "c033fae7bcae6340"
  },
  {
   "cell_type": "code",
   "execution_count": 6,
   "outputs": [
    {
     "data": {
      "text/plain": "['a', 0, 1, 2, 3, 4]"
     },
     "execution_count": 6,
     "metadata": {},
     "output_type": "execute_result"
    }
   ],
   "source": [
    "a = [\"a\"]\n",
    "b = [1, 2, 3]\n",
    "\n",
    "c = [*a, *[i for i in range(5)]]\n",
    "c"
   ],
   "metadata": {
    "collapsed": false,
    "ExecuteTime": {
     "end_time": "2023-10-11T12:47:42.395396800Z",
     "start_time": "2023-10-11T12:47:42.363690800Z"
    }
   },
   "id": "1d3508c07d670184"
  },
  {
   "cell_type": "code",
   "execution_count": null,
   "outputs": [],
   "source": [],
   "metadata": {
    "collapsed": false
   },
   "id": "4ab7cfbbd99c1584"
  }
 ],
 "metadata": {
  "kernelspec": {
   "display_name": "Python 3",
   "language": "python",
   "name": "python3"
  },
  "language_info": {
   "codemirror_mode": {
    "name": "ipython",
    "version": 2
   },
   "file_extension": ".py",
   "mimetype": "text/x-python",
   "name": "python",
   "nbconvert_exporter": "python",
   "pygments_lexer": "ipython2",
   "version": "2.7.6"
  }
 },
 "nbformat": 4,
 "nbformat_minor": 5
}
