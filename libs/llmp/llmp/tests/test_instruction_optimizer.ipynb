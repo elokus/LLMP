{
 "cells": [
  {
   "cell_type": "code",
   "execution_count": 1,
   "id": "initial_id",
   "metadata": {
    "collapsed": true,
    "ExecuteTime": {
     "end_time": "2023-10-16T13:39:01.699107800Z",
     "start_time": "2023-10-16T13:38:59.426665200Z"
    }
   },
   "outputs": [],
   "source": [
    "from llmp.services.job_storage import JobStorage\n",
    "import os\n",
    "\n",
    "job = JobStorage().get_job(\"fbe99910ff1f4f4e8e87940c72980ddc\")"
   ]
  },
  {
   "cell_type": "code",
   "execution_count": 2,
   "outputs": [
    {
     "data": {
      "text/plain": "OutputModel(lines=[IOLine(key='external_types', type='list[str]', rule=None, options=['numeric', 'textual', 'multimedia', 'code'], multiple_select=True, default=None, placeholder=['external_types'], multiline=False, custom_value_template=None), IOLine(key='internal_types', type='list[str]', rule=None, options=['numeric', 'textual', 'multimedia', 'code'], multiple_select=True, default=None, placeholder=['internal_types'], multiline=False, custom_value_template=None)])"
     },
     "execution_count": 2,
     "metadata": {},
     "output_type": "execute_result"
    }
   ],
   "source": [
    "job.output_model"
   ],
   "metadata": {
    "collapsed": false,
    "ExecuteTime": {
     "end_time": "2023-10-16T12:24:43.488378800Z",
     "start_time": "2023-10-16T12:24:43.456799Z"
    }
   },
   "id": "70fde426e297a487"
  },
  {
   "cell_type": "code",
   "execution_count": null,
   "outputs": [],
   "source": [
    "from llmp.components.example_manager import ExampleManager\n",
    "\n",
    "em = ExampleManager(job)\n",
    "\n",
    "example_set = em.get_test_set(3)"
   ],
   "metadata": {
    "collapsed": false,
    "ExecuteTime": {
     "start_time": "2023-10-16T10:20:18.783038300Z"
    }
   },
   "id": "c64b6c452ef6b322"
  },
  {
   "cell_type": "code",
   "execution_count": null,
   "outputs": [],
   "source": [
    "template = \"\"\"Create the task instruction based on the input and output example provided below. The Input and Output Object are provided as a guide to the format of the input and output objects. The input and output objects may be different for each task but will have the same keys. So you should not include any information from the example given, instead you should use the input and output keys to describe the input and output objects.\n",
    "Think step-by-step to reverse engineer the task instruction. What other inputs might look like with same keys? What is the relationship between them? What might be the right operation (label, extract, compress, generate, etc.) to get from any input with that structure to the output?\n",
    "\n",
    "Remember do not include concrete values provided in Input Object and Output Object in your instruction. Instead, use the input and output model to describe the input and output objects so that your instruction can be applied to other inputs and outputs with the same model.\n",
    "\n",
    "\n",
    "# Input\n",
    "Input Model: {inp_model}\n",
    "Output Model: {out_model}\n",
    "Example Input Object: {input_object}\n",
    "Example Output Output: {output_object}\n",
    "---\n",
    "Reasoning: <multiline>\n",
    "Instructions: <multiline>\n",
    "\"\"\""
   ],
   "metadata": {
    "collapsed": false,
    "ExecuteTime": {
     "start_time": "2023-10-16T10:20:18.788544600Z"
    }
   },
   "id": "8c2ee10f27d3b62a"
  },
  {
   "cell_type": "code",
   "execution_count": null,
   "outputs": [],
   "source": [
    "template = \"\"\"Create the task instruction based on the input and output model provided below. The models define the input and output of the task you should create the instruction for.\n",
    "Think step-by-step to reverse engineer the task instruction. What concrete inputs might look like with keys described in the input model? What is the relationship between them? What might be the right operation (label, extract, compress, generate, etc.) to get from any input with that structure to the output?\n",
    "\n",
    "\n",
    "# Input\n",
    "Input Model: {inp_model}\n",
    "Output Model: {out_model}\n",
    "---\n",
    "Reasoning: <multiline>\n",
    "Instructions: <multiline>\n",
    "\"\"\""
   ],
   "metadata": {
    "collapsed": false,
    "ExecuteTime": {
     "start_time": "2023-10-16T10:20:18.788544600Z"
    }
   },
   "id": "a191c80bcb74ab0a"
  },
  {
   "cell_type": "code",
   "execution_count": null,
   "outputs": [],
   "source": [],
   "metadata": {
    "collapsed": false,
    "ExecuteTime": {
     "start_time": "2023-10-16T10:20:18.788544600Z"
    }
   },
   "id": "539427107ec29b73"
  },
  {
   "cell_type": "code",
   "execution_count": null,
   "outputs": [],
   "source": [
    "from structgenie.engine import StructGenie\n",
    "\n",
    "\n",
    "engine = StructGenie.from_template(template, debug=True)\n",
    "engine.run(\n",
    "    dict(\n",
    "        inp_model=job.input_model.template_schema,\n",
    "        out_model=job.output_model.template_schema,\n",
    "        input_object=None, # example_set[0].input,\n",
    "        output_object=None, # example_set[0].output,\n",
    "        num=5,\n",
    "    )\n",
    ")"
   ],
   "metadata": {
    "collapsed": false,
    "ExecuteTime": {
     "start_time": "2023-10-16T10:20:18.788544600Z"
    }
   },
   "id": "4c338f46711ec177"
  },
  {
   "cell_type": "code",
   "execution_count": null,
   "outputs": [],
   "source": [
    "from structgenie.input_output.line import IOLine\n",
    "\n",
    "from structgenie.input_output import OutputModel, InputModel\n",
    "from structgenie.engine import StructGenie\n",
    "\n",
    "\n",
    "engine = StructGenie.from_template(template, debug=True)\n",
    "engine.run(\n",
    "    dict(\n",
    "        inp_model=InputModel(lines=[IOLine(key='book_title', type='str', rule=None, options=None, multiple_select=False, default=None, placeholder=['book_title'], multiline=False, custom_value_template=None), IOLine(key='book_author', type='str', rule=None, options=None, multiple_select=False, default=None, placeholder=['book_author'], multiline=False, custom_value_template=None), IOLine(key='release_year', type='int', rule=None, options=None, multiple_select=False, default=None, placeholder=['release_year'], multiline=False, custom_value_template=None)]).template_schema,\n",
    "        out_model=OutputModel(lines=[IOLine(key='genre', type='str', rule=None, options=['fiction', 'non-fiction', 'fantasy', 'sci-fi', 'romance', 'thriller', 'horror', 'history'], multiple_select=False, default=None, placeholder=['genre'], multiline=False, custom_value_template=None)]).template_schema,\n",
    "        input_object=None,\n",
    "        output_object=None,\n",
    "    )\n",
    ")"
   ],
   "metadata": {
    "collapsed": false,
    "ExecuteTime": {
     "start_time": "2023-10-16T10:20:18.788544600Z"
    }
   },
   "id": "b7ab9845e881c45b"
  },
  {
   "cell_type": "code",
   "execution_count": null,
   "outputs": [],
   "source": [
    "job.output_model.template_schema"
   ],
   "metadata": {
    "collapsed": false,
    "ExecuteTime": {
     "start_time": "2023-10-16T10:20:18.788544600Z"
    }
   },
   "id": "4e9e74833882324a"
  },
  {
   "cell_type": "code",
   "execution_count": null,
   "outputs": [],
   "source": [
    "example_set[0].input_keys"
   ],
   "metadata": {
    "collapsed": false,
    "ExecuteTime": {
     "start_time": "2023-10-16T10:20:18.788544600Z"
    }
   },
   "id": "aaaba50f10226127"
  },
  {
   "cell_type": "code",
   "execution_count": 8,
   "outputs": [],
   "source": [
    "from llmp.components.instruction.utils import generate_instruction_from_models, mutate_instruction, instruction_from_working_out, extend_instruction_by_model"
   ],
   "metadata": {
    "collapsed": false,
    "ExecuteTime": {
     "end_time": "2023-10-16T13:45:41.712407500Z",
     "start_time": "2023-10-16T13:45:41.696861Z"
    }
   },
   "id": "2b4819560ef40e18"
  },
  {
   "cell_type": "code",
   "execution_count": 6,
   "outputs": [],
   "source": [
    "from structgenie.input_output import OutputModel, InputModel\n",
    "\n",
    "from structgenie.input_output.line import IOLine\n",
    "\n",
    "input_model = InputModel(lines=[IOLine(key='book_title', type='str', rule=None, options=None, multiple_select=False, default=None, placeholder=['book_title'], multiline=False, custom_value_template=None), IOLine(key='book_author', type='str', rule=None, options=None, multiple_select=False, default=None, placeholder=['book_author'], multiline=False, custom_value_template=None), IOLine(key='release_year', type='int', rule=None, options=None, multiple_select=False, default=None, placeholder=['release_year'], multiline=False, custom_value_template=None)])\n",
    "\n",
    "output_model = OutputModel(lines=[IOLine(key='genre', type='str', rule=None, options=['fiction', 'non-fiction', 'fantasy', 'sci-fi', 'romance', 'thriller', 'horror', 'history'], multiple_select=False, default=None, placeholder=['genre'], multiline=False, custom_value_template=None)])"
   ],
   "metadata": {
    "collapsed": false,
    "ExecuteTime": {
     "end_time": "2023-10-16T13:45:15.494028900Z",
     "start_time": "2023-10-16T13:45:15.477987700Z"
    }
   },
   "id": "81e839dfbe7bb879"
  },
  {
   "cell_type": "code",
   "execution_count": 12,
   "outputs": [
    {
     "name": "stdout",
     "output_type": "stream",
     "text": [
      "\u001B[31mError while parsing output: mapping values are not allowed here\n",
      "  in \"<unicode string>\", line 1, column 50:\n",
      "     ... put model consists of three keys: 'book_title', 'book_author', a ... \n",
      "                                         ^\u001B[39m\n",
      "\u001B[31mFailed Multiline parsing\u001B[39m\n",
      "\u001B[31mError while parsing output: mapping values are not allowed here\n",
      "  in \"<unicode string>\", line 1, column 51:\n",
      "     ... k takes an input with three keys: 'book_title', 'book_author', a ... \n",
      "                                         ^\u001B[39m\n",
      "\u001B[31mFailed Multiline parsing\u001B[39m\n",
      "Based on the input/output model can you what the instruction of the task is?\n",
      "Determine the genre of a book based on its title, author, and release year.\n",
      "---\n",
      "I have lost the instruction for that task. Can you help me work out what it was?\n",
      "Extract the genre of the book based on the provided input.\n",
      "---\n",
      "Can you work out what the task should do based on the input/output model?\n",
      "Determine the genre of the book based on the given 'book_title', 'book_author', and 'release_year' information.\n",
      "---\n",
      "When presented with this input/output model what would you expect the task to do?\n",
      "Based on the given input (book title, author, and release year), determine the genre of the book.\n",
      "---\n"
     ]
    }
   ],
   "source": [
    "output = generate_instruction_from_models(input_model, output_model)\n",
    "\n",
    "for m, r in output:\n",
    "    print(m)\n",
    "    print(r)\n",
    "    print(\"---\")\n"
   ],
   "metadata": {
    "collapsed": false,
    "ExecuteTime": {
     "end_time": "2023-10-16T12:51:30.229849300Z",
     "start_time": "2023-10-16T12:51:17.819990400Z"
    }
   },
   "id": "ae23f321f81fa5bd"
  },
  {
   "cell_type": "code",
   "execution_count": 3,
   "outputs": [
    {
     "name": "stdout",
     "output_type": "stream",
     "text": [
      ">>> Placeholder map:\n",
      " {'{input}': {'inp_model': \"<'description': str>\\n<'sources': list[str]>\", 'out_model': \"External types: <list[str], options=['numeric', 'textual', 'multimedia', 'code'], multiple_select=True, multiline=False>\\nInternal types: <list[str], options=['numeric', 'textual', 'multimedia', 'code'], multiple_select=True, multiline=False>\", 'input_object': None, 'output_object': None}}\n",
      ">>> Formatted inputs:\n",
      " {'input': \"Inp model: '<''description'': str>\\n\\n  <''sources'': list[str]>'\\nOut model: 'External types: <list[str], options=[''numeric'', ''textual'', ''multimedia'',\\n  ''code''], multiple_select=True, multiline=False>\\n\\n  Internal types: <list[str], options=[''numeric'', ''textual'', ''multimedia'', ''code''],\\n  multiple_select=True, multiline=False>'\\nInput object: null\\nOutput object: null\\n\"}\n",
      ">>> Input schema:\n",
      " <'input_model': any>\n",
      "<'output_model': any>\n",
      "<'example_input_object': any>\n",
      "<'example_output_output': any>\n",
      ">>> Input model:\n",
      " lines=[IOLine(key='input_model', type='any', rule=None, options=None, multiple_select=False, default=None, placeholder=['inp_model'], multiline=False, custom_value_template=None), IOLine(key='output_model', type='any', rule=None, options=None, multiple_select=False, default=None, placeholder=['out_model'], multiline=False, custom_value_template=None), IOLine(key='example_input_object', type='any', rule=None, options=None, multiple_select=False, default=None, placeholder=['input_object'], multiline=False, custom_value_template=None), IOLine(key='example_output_output', type='any', rule=None, options=None, multiple_select=False, default=None, placeholder=['output_object'], multiline=False, custom_value_template=None)]\n",
      ">>> Inputs:\n",
      " {'input': \"Input model: '<''description'': str>\\n\\n  <''sources'': list[str]>'\\nOutput model: 'External types: <list[str], options=[''numeric'', ''textual'', ''multimedia'',\\n  ''code''], multiple_select=True, multiline=False>\\n\\n  Internal types: <list[str], options=[''numeric'', ''textual'', ''multimedia'', ''code''],\\n  multiple_select=True, multiline=False>'\\nExample input object: null\\nExample output output: null\\n\"}\n",
      "Create the task instruction based on the input and output model for the task provided below. The Input and Output Object are provided as a guide to the format of the input and output objects. The input and output objects may be different for each task but will have the same keys. So you should not include any information from the example given, instead you should use the input and output keys to describe the input and output objects.\n",
      "Think step-by-step to reverse engineer the task instruction. What other inputs might look like with same keys? What is the relationship between them? What might be the right operation (label, extract, compress, generate, etc.) to get from any input with that structure to the output?\n",
      "Please return a response in yaml format using the following schema:\n",
      "```yaml\n",
      "Reasoning: <str>\n",
      "Instruction: <str>\n",
      "\n",
      "```\n",
      "Do not include any other information or explanation to your response, \n",
      "so that your response can be parsed with yaml.safe_load().\n",
      "Remember to set the value in quotes using the Double quotation marks \n",
      "when values are multiline strings or contain ':'.\n",
      "\n",
      "\n",
      "Input model: '<''description'': str>\n",
      "\n",
      "  <''sources'': list[str]>'\n",
      "Output model: 'External types: <list[str], options=[''numeric'', ''textual'', ''multimedia'',\n",
      "  ''code''], multiple_select=True, multiline=False>\n",
      "\n",
      "  Internal types: <list[str], options=[''numeric'', ''textual'', ''multimedia'', ''code''],\n",
      "  multiple_select=True, multiline=False>'\n",
      "Example input object: null\n",
      "Example output output: null\n",
      "\n",
      ">>> Generated text:\n",
      "\n",
      "Reasoning: The task involves creating an instruction based on the input and output model provided. The input object consists of a description and a list of sources. The output object consists of two lists: external types and internal types. Both lists have the same options and properties.\n",
      "\n",
      "Instruction: Create a task instruction that takes a description and a list of sources as input. The task should generate two lists as output: external types and internal types. Both lists should have the options 'numeric', 'textual', 'multimedia', and 'code'. The user should be able to select multiple options from both lists, and the input and output objects should not allow multiline input.\n",
      "\u001B[31mError while parsing output: mapping values are not allowed here\n",
      "  in \"<unicode string>\", line 1, column 205:\n",
      "     ... put object consists of two lists: external types and internal ty ... \n",
      "                                         ^\u001B[39m\n",
      "\u001B[31mMultiline output detected. Fixing parsing error for each line separately.\u001B[39m\n",
      "\u001B[31mFailed Multiline parsing\u001B[39m\n",
      "\u001B[31mFixing parsing error for output:\n",
      "\u001B[39m\n",
      "\u001B[35mReasoning: The task involves creating an instruction based on the input and output model provided. The input object consists of a description and a list of sources. The output object consists of two lists: external types and internal types. Both lists have the same options and properties.\n",
      "\n",
      "Instruction: Create a task instruction that takes a description and a list of sources as input. The task should generate two lists as output: external types and internal types. Both lists should have the options 'numeric', 'textual', 'multimedia', and 'code'. The user should be able to select multiple options from both lists, and the input and output objects should not allow multiline input.\u001B[39m\n",
      "\u001B[32mParsing error fixed! With output:\u001B[39m\n",
      "\u001B[32m{'reasoning': 'The task involves creating an instruction based on the input and output model provided. The input object consists of a description and a list of sources. The output object consists of two lists: external types and internal types. Both lists have the same options and properties.', 'instruction': \"Create a task instruction that takes a description and a list of sources as input. The task should generate two lists as output: external types and internal types. Both lists should have the options 'numeric', 'textual', 'multimedia', and 'code'. The user should be able to select multiple options from both lists, and the input and output objects should not allow multiline input.\"}\u001B[39m\n"
     ]
    }
   ],
   "source": [
    "output = generate_instruction(job.input_model, job.output_model, debug=True)"
   ],
   "metadata": {
    "collapsed": false,
    "ExecuteTime": {
     "end_time": "2023-10-16T12:36:18.016654100Z",
     "start_time": "2023-10-16T12:36:11.575827100Z"
    }
   },
   "id": "53a1b94313874c75"
  },
  {
   "cell_type": "code",
   "execution_count": 5,
   "outputs": [],
   "source": [
    "from structgenie.engine import StructGenie\n",
    "from structgenie.input_output import InputModel, OutputModel\n",
    "\n",
    "def generate_instruction_from_models(\n",
    "        input_model: InputModel,\n",
    "        output_model: OutputModel,\n",
    "        input_object: dict = None,\n",
    "        output_object: dict = None,\n",
    "        **kwargs):\n",
    "    \"\"\"Generate an instruction for a specific job.\"\"\"\n",
    "    template = \"\"\"I have a task that takes an input and produces an output. Below you will find the input and output models for that task which define and restrict the possible input objects and the desired output object.\n",
    "{meta_instruction}\n",
    "Think step-by-step to reverse engineer the task instruction. What other inputs might look like with the mentioned keys? What is the relationship between them? What might be the right operation (label, extract, compress, generate, etc.) to get from any input object with that structure to the desired output object?\n",
    "\n",
    "\n",
    "# Input\n",
    "Input Model: {inp_model}\n",
    "Output Model: {out_model}\n",
    "---\n",
    "Reasoning: <multiline>\n",
    "Instruction: <multiline>\n",
    "\"\"\"\n",
    "    engine = StructGenie.from_template(template, prompt_kwargs={\"set_format_tags\": False}, **kwargs)\n",
    "    \n",
    "    meta_instructions = [\n",
    "        \"Based on the input/output model can you what the instruction of the task is?\",\n",
    "        \"I have lost the instruction for that task. Can you help me work out what it was?\",\n",
    "        \"Can you work out what the task should do based on the input/output model?\",\n",
    "        \"When presented with this input/output model what would you expect the task to do?\",\n",
    "    ]\n",
    "    \n",
    "    results = []\n",
    "    for meta in meta_instructions:\n",
    "        result = engine.run(\n",
    "            dict(\n",
    "                meta_instruction=meta,\n",
    "                inp_model=input_model.template_schema,\n",
    "                out_model=output_model.template_schema,\n",
    "                input_object=input_object,\n",
    "                output_object=output_object,\n",
    "            )\n",
    "        )\n",
    "        results.append((meta, result[\"instruction\"]))\n",
    "        \n",
    "\n",
    "    return results"
   ],
   "metadata": {
    "collapsed": false,
    "ExecuteTime": {
     "end_time": "2023-10-16T12:47:31.912172700Z",
     "start_time": "2023-10-16T12:47:31.907661700Z"
    }
   },
   "id": "62d0f1826320af3a"
  },
  {
   "cell_type": "code",
   "execution_count": 9,
   "outputs": [
    {
     "name": "stdout",
     "output_type": "stream",
     "text": [
      "\u001B[31mError while parsing output: mapping values are not allowed here\n",
      "  in \"<unicode string>\", line 1, column 48:\n",
      "     ... input model consists of two keys: 'description' and 'sources'. ' ... \n",
      "                                         ^\u001B[39m\n",
      "\u001B[31mFailed Multiline parsing\u001B[39m\n",
      "\u001B[31mError while parsing output: mapping values are not allowed here\n",
      "  in \"<unicode string>\", line 1, column 48:\n",
      "     ... input model consists of two keys: 'description' and 'sources'. ' ... \n",
      "                                         ^\u001B[39m\n",
      "\u001B[31mFailed Multiline parsing\u001B[39m\n",
      "\u001B[31mError while parsing output: mapping values are not allowed here\n",
      "  in \"<unicode string>\", line 1, column 48:\n",
      "     ... input model consists of two keys: 'description' and 'sources'. ' ... \n",
      "                                         ^\u001B[39m\n",
      "\u001B[31mFailed Multiline parsing\u001B[39m\n",
      "\u001B[31mError while parsing output: mapping values are not allowed here\n",
      "  in \"<unicode string>\", line 1, column 48:\n",
      "     ... input model consists of two keys: 'description' and 'sources'. ' ... \n",
      "                                         ^\u001B[39m\n",
      "\u001B[31mFailed Multiline parsing\u001B[39m\n",
      "[]\n",
      "\u001B[31mError while parsing output: mapping values are not allowed here\n",
      "  in \"<unicode string>\", line 1, column 48:\n",
      "     ... input model consists of two keys: \"description\" and \"sources\". T ... \n",
      "                                         ^\u001B[39m\n",
      "\u001B[31mFailed Multiline parsing\u001B[39m\n",
      "\u001B[31mError while parsing output: mapping values are not allowed here\n",
      "  in \"<unicode string>\", line 1, column 152:\n",
      "     ... utput that consists of two lists: one representing external type ... \n",
      "                                         ^\u001B[39m\n",
      "\u001B[31mFailed Multiline parsing\u001B[39m\n"
     ]
    }
   ],
   "source": [
    "output = generate_instruction_from_models(input_model, output_model)"
   ],
   "metadata": {
    "collapsed": false,
    "ExecuteTime": {
     "end_time": "2023-10-16T12:49:09.295683900Z",
     "start_time": "2023-10-16T12:48:36.682303100Z"
    }
   },
   "id": "8158b535a3df7f43"
  },
  {
   "cell_type": "code",
   "execution_count": 8,
   "outputs": [
    {
     "data": {
      "text/plain": "\"Create a task instruction that takes a description as input and a list of sources. The task instruction should have two types: external types and internal types. Both types should be a list of strings with the options of 'numeric', 'textual', 'multimedia', and 'code'. The external types should allow for multiple select and should not be multiline. The internal types should also allow for multiple select and should not be multiline.\""
     },
     "execution_count": 8,
     "metadata": {},
     "output_type": "execute_result"
    }
   ],
   "source": [],
   "metadata": {
    "collapsed": false,
    "ExecuteTime": {
     "end_time": "2023-10-16T12:48:25.855717100Z",
     "start_time": "2023-10-16T12:48:25.808285200Z"
    }
   },
   "id": "9daacaa4e5529bb9"
  },
  {
   "cell_type": "code",
   "execution_count": 10,
   "outputs": [
    {
     "name": "stdout",
     "output_type": "stream",
     "text": [
      "Based on the input/output model can you what the instruction of the task is?\n",
      "Transform the input object into a list of strings representing external and internal types.\n",
      "---\n",
      "I have lost the instruction for that task. Can you help me work out what it was?\n",
      "Given a description and a list of sources as input, produce a list of external and internal types. The external and internal types can be selected from the options \"numeric\", \"textual\", \"multimedia\", and \"code\". The types can be selected multiple times but cannot be multiline.\n",
      "---\n",
      "Can you work out what the task should do based on the input/output model?\n",
      "Given a description and a list of sources, generate a list of external and internal types.\n",
      "---\n",
      "When presented with this input/output model what would you expect the task to do?\n",
      "Given a description and a list of sources, generate two lists: one for external types and one for internal types. Both lists should allow multiple selections from the options 'numeric', 'textual', 'multimedia', and 'code'.\n",
      "---\n"
     ]
    }
   ],
   "source": [
    "for m, r in output:\n",
    "    print(m)\n",
    "    print(r)\n",
    "    print(\"---\")"
   ],
   "metadata": {
    "collapsed": false,
    "ExecuteTime": {
     "end_time": "2023-10-16T12:49:17.576624400Z",
     "start_time": "2023-10-16T12:49:17.560639500Z"
    }
   },
   "id": "bd2a09ae89f9ed30"
  },
  {
   "cell_type": "code",
   "execution_count": 2,
   "outputs": [
    {
     "data": {
      "text/plain": "'Determine the genre of the book based on the given information.'"
     },
     "execution_count": 2,
     "metadata": {},
     "output_type": "execute_result"
    }
   ],
   "source": [
    "input_object = dict(\n",
    "    book_title=\"The Lord of the Rings\",\n",
    "    book_author=\"J. R. R. Tolkien\",\n",
    "    release_year=1954,\n",
    ")\n",
    "output_object = dict(\n",
    "    genre=\"fantasy\",\n",
    ")\n",
    "\n",
    "instruction_from_working_out(input_object, output_object)"
   ],
   "metadata": {
    "collapsed": false,
    "ExecuteTime": {
     "end_time": "2023-10-16T12:19:19.922909600Z",
     "start_time": "2023-10-16T12:19:18.869845500Z"
    }
   },
   "id": "ce85e5201a5e391a"
  },
  {
   "cell_type": "code",
   "execution_count": 11,
   "outputs": [
    {
     "data": {
      "text/plain": "'Determine the genre of the book based on the given information. Consider the book title, author, and release year.'"
     },
     "execution_count": 11,
     "metadata": {},
     "output_type": "execute_result"
    }
   ],
   "source": [
    "extend_instruction_by_model(instruction='Determine the genre of the book based on the given information.', input_model=input_model, output_model=output_model)"
   ],
   "metadata": {
    "collapsed": false,
    "ExecuteTime": {
     "end_time": "2023-10-16T13:46:46.305687300Z",
     "start_time": "2023-10-16T13:46:44.480120100Z"
    }
   },
   "id": "6c887edb6ebcf13c"
  },
  {
   "cell_type": "code",
   "execution_count": 3,
   "outputs": [
    {
     "data": {
      "text/plain": "'Identify the internal data types for a presentation for shareholders.'"
     },
     "execution_count": 3,
     "metadata": {},
     "output_type": "execute_result"
    }
   ],
   "source": [
    "input_object = dict(\n",
    "    data_source=[\"internal\"],\n",
    "    product_description=\"A presentation for shareholders\",\n",
    ")\n",
    "output_object = dict(\n",
    "    internal_data_types=[\"financial\", \"textual\"],\n",
    "    external_data_types=[],\n",
    ")\n",
    "\n",
    "instruction_from_working_out(, output_object)"
   ],
   "metadata": {
    "collapsed": false,
    "ExecuteTime": {
     "end_time": "2023-10-16T12:22:01.355688700Z",
     "start_time": "2023-10-16T12:22:00.742427300Z"
    }
   },
   "id": "bd23b7a10668e0c"
  },
  {
   "cell_type": "code",
   "execution_count": 3,
   "outputs": [
    {
     "name": "stdout",
     "output_type": "stream",
     "text": [
      "['Retrieve the category of the novel.', 'Obtain the classification of the publication.', 'Extract the genre of the book.', 'Break down the book into its genre.', 'Describe the genre of the book, focusing on its themes, plot, and characters.', 'What is the genre of the book from the perspective of the author, critics, and readers?']\n"
     ]
    }
   ],
   "source": [
    "result = mutate_instruction('Extract the genre of the book.', num=2)\n",
    "print(result)"
   ],
   "metadata": {
    "collapsed": false,
    "ExecuteTime": {
     "end_time": "2023-10-16T10:41:42.902486300Z",
     "start_time": "2023-10-16T10:41:36.878446300Z"
    }
   },
   "id": "be7497555f23d494"
  },
  {
   "cell_type": "code",
   "execution_count": null,
   "outputs": [],
   "source": [
    "template = \"\"\"I gave a friend an instruction and some advice. They followed the instruction to get and advice to use the input and got the correct output.\n",
    "Below are the correct examples of his workings out. Can you work out what the instruction was?\n",
    "    \n",
    "# Input\n",
    "Working Out: <list, rule=(length=5)>\n",
    "---\n",
    "The Instruction was: <multiline>\n",
    "\"\"\"\n",
    "\n",
    "engine = StructGenie.from_template(template, debug=True)\n",
    "\n",
    "work_outs = [{\"input\": input_object}]"
   ],
   "metadata": {
    "collapsed": false,
    "ExecuteTime": {
     "start_time": "2023-10-16T10:20:18.804179800Z"
    }
   },
   "id": "a1883659c3e82413"
  },
  {
   "cell_type": "code",
   "execution_count": 15,
   "outputs": [],
   "source": [
    "template = \"\"\"I have a task that takes an input and produces an output. Below you will find the input and output models for that task which define and restrict the possible input objects and the desired output object.\n",
    "{meta_instruction}\n",
    "Think step-by-step to reverse engineer the task instruction. What other inputs might look like with the mentioned keys? What is the relationship between them? What might be the right operation (label, extract, compress, generate, etc.) to get from any input object with that structure to the desired output object?\n",
    "\n",
    "\n",
    "# Input\n",
    "Input Model: {inp_model}\n",
    "Output Model: {out_model}\n",
    "---\n",
    "Reasoning: <multiline>\n",
    "Instruction: <multiline>\n",
    "\"\"\"\n",
    "\n",
    "engine = StructGenie.from_template(template, debug=True)\n",
    "output_model = engine.output_model"
   ],
   "metadata": {
    "collapsed": false,
    "ExecuteTime": {
     "end_time": "2023-10-16T12:56:45.234302200Z",
     "start_time": "2023-10-16T12:56:45.228288800Z"
    }
   },
   "id": "6e8e6af182eca9cd"
  },
  {
   "cell_type": "code",
   "execution_count": 16,
   "outputs": [
    {
     "data": {
      "text/plain": "OutputModel(lines=[IOLine(key='reasoning', type='str', rule=None, options=None, multiple_select=False, default=None, placeholder=['reasoning'], multiline=True, custom_value_template=None), IOLine(key='instruction', type='str', rule=None, options=None, multiple_select=False, default=None, placeholder=['instruction'], multiline=True, custom_value_template=None)])"
     },
     "execution_count": 16,
     "metadata": {},
     "output_type": "execute_result"
    }
   ],
   "source": [
    "output_model"
   ],
   "metadata": {
    "collapsed": false,
    "ExecuteTime": {
     "end_time": "2023-10-16T12:56:47.262179500Z",
     "start_time": "2023-10-16T12:56:47.246355400Z"
    }
   },
   "id": "a105a78c016a3f52"
  },
  {
   "cell_type": "markdown",
   "source": [
    "# Multiline fix"
   ],
   "metadata": {
    "collapsed": false
   },
   "id": "dd4b0781ecf771c7"
  },
  {
   "cell_type": "code",
   "execution_count": 18,
   "outputs": [
    {
     "name": "stdout",
     "output_type": "stream",
     "text": [
      "[('reasoning', 'instruction'), ('instruction', None)]\n",
      "failed\n"
     ]
    }
   ],
   "source": [
    "from structgenie.parser.string import parse_multi_line_string\n",
    "\n",
    "text = \"\"\"\n",
    "Reasoning: The task involves creating an instruction based on the input and output model provided. The input object consists of a description and a list of sources. The output object consists of two lists: external types and internal types. Both lists have the same options and properties.\n",
    "\n",
    "Instruction: Create a task instruction that takes a description and a list of sources as input. The task should generate two lists as output: external types and internal types. Both lists should have the options 'numeric', 'textual', 'multimedia', and 'code'. The user should be able to select multiple options from both lists, and the input and output objects should not allow multiline input.\"\"\"\n",
    "\n",
    "\n",
    "if any(line.multiline for line in output_model.lines):\n",
    "    idx_keys = [(i, line.key) for i, line in enumerate(output_model.lines) if line.multiline]\n",
    "    key_pairs = []\n",
    "    for idx, key in idx_keys:\n",
    "        next_key = output_model.lines[idx + 1].key if idx + 1 < len(output_model.lines) else None\n",
    "        key_pairs.append((key, next_key))\n",
    "    try:\n",
    "        print(key_pairs)\n",
    "        result = parse_multi_line_string(text, key_pairs)\n",
    "    except Exception as e:\n",
    "        print(\"failed\")"
   ],
   "metadata": {
    "collapsed": false,
    "ExecuteTime": {
     "end_time": "2023-10-16T12:59:14.880804600Z",
     "start_time": "2023-10-16T12:59:14.880299200Z"
    }
   },
   "id": "1c1bf718a72d7d89"
  },
  {
   "cell_type": "code",
   "execution_count": 24,
   "outputs": [],
   "source": [
    "from structgenie.parser.string import format_as_key\n",
    "import re\n",
    "def extract_multiline_text(text: str, key: str, next_key: str):\n",
    "    if next_key:\n",
    "        return re.search(f\"\\n{key}:(.*)\\n{next_key}:\", text, re.DOTALL).group(1).strip()\n",
    "    return re.search(f\"\\n{key}:(.*)\", text, re.DOTALL).group(1).strip()\n",
    "\n",
    "def remove_multiline_section(text: str, key: str, next_key: str):\n",
    "    if next_key:\n",
    "        return re.sub(fr\"{key}:(.|\\n)*{next_key}:\", f\"{next_key}:\", text, re.DOTALL)\n",
    "    return re.sub(fr\"{key}:(.|\\n)*\", \"\", text, re.DOTALL)\n"
   ],
   "metadata": {
    "collapsed": false,
    "ExecuteTime": {
     "end_time": "2023-10-16T13:03:33.616245500Z",
     "start_time": "2023-10-16T13:03:33.584579300Z"
    }
   },
   "id": "e1a4f01f871f1b2"
  },
  {
   "cell_type": "code",
   "execution_count": 25,
   "outputs": [],
   "source": [
    "s = text\n",
    "d = {}\n",
    "for key, next_key in key_pairs:\n",
    "    key_ = format_as_key(key)\n",
    "    next_key_ = format_as_key(next_key) if next_key else None\n",
    "    d[key] = extract_multiline_text(s, key_, next_key_)\n",
    "    text = remove_multiline_section(text, key_, next_key_)"
   ],
   "metadata": {
    "collapsed": false,
    "ExecuteTime": {
     "end_time": "2023-10-16T13:03:34.227780100Z",
     "start_time": "2023-10-16T13:03:34.211951600Z"
    }
   },
   "id": "f214443fc7ac7217"
  },
  {
   "cell_type": "code",
   "execution_count": 26,
   "outputs": [
    {
     "data": {
      "text/plain": "'\\n'"
     },
     "execution_count": 26,
     "metadata": {},
     "output_type": "execute_result"
    }
   ],
   "source": [
    "text"
   ],
   "metadata": {
    "collapsed": false,
    "ExecuteTime": {
     "end_time": "2023-10-16T13:03:36.393229Z",
     "start_time": "2023-10-16T13:03:36.361638300Z"
    }
   },
   "id": "44635932945729e3"
  },
  {
   "cell_type": "code",
   "execution_count": 28,
   "outputs": [],
   "source": [
    "if text.strip():\n",
    "    print(\"failed\")\n",
    "    "
   ],
   "metadata": {
    "collapsed": false,
    "ExecuteTime": {
     "end_time": "2023-10-16T13:03:56.521491400Z",
     "start_time": "2023-10-16T13:03:56.514977900Z"
    }
   },
   "id": "5040f99fdc4599ab"
  },
  {
   "cell_type": "code",
   "execution_count": 1,
   "outputs": [
    {
     "ename": "NameError",
     "evalue": "name 'job' is not defined",
     "output_type": "error",
     "traceback": [
      "\u001B[1;31m---------------------------------------------------------------------------\u001B[0m",
      "\u001B[1;31mNameError\u001B[0m                                 Traceback (most recent call last)",
      "Cell \u001B[1;32mIn[1], line 1\u001B[0m\n\u001B[1;32m----> 1\u001B[0m \u001B[43mjob\u001B[49m\u001B[38;5;241m.\u001B[39minstruction\n",
      "\u001B[1;31mNameError\u001B[0m: name 'job' is not defined"
     ]
    }
   ],
   "source": [
    "job.instruction"
   ],
   "metadata": {
    "collapsed": false,
    "ExecuteTime": {
     "end_time": "2023-10-16T13:36:01.748488300Z",
     "start_time": "2023-10-16T13:36:01.480077100Z"
    }
   },
   "id": "88c28a3a2d435d8"
  },
  {
   "cell_type": "code",
   "execution_count": 3,
   "outputs": [],
   "source": [
    "job.instruction = \"Transform the input object into a list of strings representing external and internal types.\""
   ],
   "metadata": {
    "collapsed": false,
    "ExecuteTime": {
     "end_time": "2023-10-16T13:39:10.892571800Z",
     "start_time": "2023-10-16T13:39:10.892061500Z"
    }
   },
   "id": "239469d6f864138f"
  },
  {
   "cell_type": "code",
   "execution_count": 4,
   "outputs": [
    {
     "name": "stdout",
     "output_type": "stream",
     "text": [
      "\u001B[31mError while parsing output: mapping values are not allowed here\n",
      "  in \"<unicode string>\", line 3, column 298:\n",
      "     ... ld be a dictionary with two keys: \"External types\" and \"Internal ... \n",
      "                                         ^\u001B[39m\n",
      "\u001B[31mFailed Multiline parsing\u001B[39m\n",
      "\u001B[31mError while parsing output: while parsing a block mapping\n",
      "  in \"<unicode string>\", line 1, column 1:\n",
      "    Reasoning: \"The task is to conve ... \n",
      "    ^\n",
      "expected <block end>, but found '<scalar>'\n",
      "  in \"<unicode string>\", line 3, column 174:\n",
      "     ...  should be a dictionary with a \"description\" key and a \"sources\" ... \n",
      "                                         ^\u001B[39m\n",
      "\u001B[31mFailed Multiline parsing\u001B[39m\n",
      "\u001B[31mError while parsing output: mapping values are not allowed here\n",
      "  in \"<unicode string>\", line 1, column 78:\n",
      "     ...  input object has two attributes: \"description\" (a string) and \" ... \n",
      "                                         ^\u001B[39m\n",
      "\u001B[31mFailed Multiline parsing\u001B[39m\n"
     ]
    }
   ],
   "source": [
    "from llmp.components.instruction.mutation import InstructionMutation\n",
    "\n",
    "mutations = InstructionMutation(job).run()"
   ],
   "metadata": {
    "collapsed": false,
    "ExecuteTime": {
     "end_time": "2023-10-16T13:39:46.246070100Z",
     "start_time": "2023-10-16T13:39:12.032238800Z"
    }
   },
   "id": "4f9e4c1846a2266f"
  },
  {
   "cell_type": "code",
   "execution_count": 5,
   "outputs": [
    {
     "data": {
      "text/plain": "['Convert the given object into a collection of strings that represent both external and internal types. The input object should be a dictionary with a \"description\" key and a \"sources\" key, both of which should be strings. The output object should be a dictionary with two keys: \"External types\" and \"Internal types\". Both keys should have values that are lists of strings. The possible values for the lists are \"numeric\", \"textual\", \"multimedia\", and \"code\". The lists can have multiple selections and should not be multiline.',\n 'Generate a list of strings that describe the external and internal types of the input object.',\n 'Transform the input object into a list of strings representing external types. The input object should have a description string and a list of sources. The output object should be a list of strings representing external types, with options for numeric, textual, multimedia, and code types, and the ability to select multiple types.',\n 'Transform the input object into a list of strings representing internal types. Select from the options \"numeric\", \"textual\", \"multimedia\", and \"code\" to represent the internal types.',\n 'Describe X, focusing on its physical features, historical significance, and cultural relevance.',\n 'What is the impact of X on Y from the perspective of A, B, and C? Please provide a description of the sources used.']"
     },
     "execution_count": 5,
     "metadata": {},
     "output_type": "execute_result"
    }
   ],
   "source": [
    "mutations"
   ],
   "metadata": {
    "collapsed": false,
    "ExecuteTime": {
     "end_time": "2023-10-16T13:39:52.178513500Z",
     "start_time": "2023-10-16T13:39:52.147131200Z"
    }
   },
   "id": "146e47b5365f4658"
  },
  {
   "cell_type": "code",
   "execution_count": null,
   "outputs": [],
   "source": [],
   "metadata": {
    "collapsed": false
   },
   "id": "71d53bead5ccb2c0"
  }
 ],
 "metadata": {
  "kernelspec": {
   "display_name": "Python 3",
   "language": "python",
   "name": "python3"
  },
  "language_info": {
   "codemirror_mode": {
    "name": "ipython",
    "version": 2
   },
   "file_extension": ".py",
   "mimetype": "text/x-python",
   "name": "python",
   "nbconvert_exporter": "python",
   "pygments_lexer": "ipython2",
   "version": "2.7.6"
  }
 },
 "nbformat": 4,
 "nbformat_minor": 5
}
