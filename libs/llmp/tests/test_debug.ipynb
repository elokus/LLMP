{
 "cells": [
  {
   "cell_type": "code",
   "execution_count": 1,
   "id": "initial_id",
   "metadata": {
    "collapsed": true,
    "ExecuteTime": {
     "end_time": "2024-03-04T06:43:49.058714Z",
     "start_time": "2024-03-04T06:43:46.820439Z"
    }
   },
   "outputs": [],
   "source": [
    "from pydantic.v1 import BaseModel\n",
    "from typing import Literal\n",
    "from llmp.components.settings.program_settings import ProgramSettings\n",
    "from llmp.services.job_manager import JobManager\n",
    "\n",
    "\n",
    "class InputObject(BaseModel):\n",
    "    book_title: str\n",
    "    book_author: str\n",
    "    release_year: int\n",
    "\n",
    "class OutputObject(BaseModel):\n",
    "    genre: Literal[\"fiction\", \"non-fiction\", \"fantasy\", \"sci-fi\", \"romance\", \"thriller\", \"horror\", \"other\"]\n",
    "\n",
    "\n",
    "job_manager =  JobManager()\n",
    "\n",
    "config = ProgramSettings()"
   ]
  },
  {
   "cell_type": "code",
   "outputs": [
    {
     "name": "stdout",
     "output_type": "stream",
     "text": [
      "Job with identical InputModel and OutputModel already exists. Using existing Book to Genre instead.\n"
     ]
    }
   ],
   "source": [
    "job = job_manager.create_job(\n",
    "    \"Book to Genre\",\n",
    "    input_model=InputObject,\n",
    "    output_model=OutputObject,\n",
    "    config=config.dict()\n",
    ")"
   ],
   "metadata": {
    "collapsed": false,
    "ExecuteTime": {
     "end_time": "2024-03-04T06:44:05.741562Z",
     "start_time": "2024-03-04T06:44:05.729905Z"
    }
   },
   "id": "2e11f3e01c13e17",
   "execution_count": 2
  },
  {
   "cell_type": "code",
   "outputs": [
    {
     "data": {
      "text/plain": "'Categorize the book based on its content into one of the provided genre options.'"
     },
     "execution_count": 4,
     "metadata": {},
     "output_type": "execute_result"
    }
   ],
   "source": [
    "job.instruction"
   ],
   "metadata": {
    "collapsed": false,
    "ExecuteTime": {
     "end_time": "2024-03-04T06:44:27.467419Z",
     "start_time": "2024-03-04T06:44:27.459362Z"
    }
   },
   "id": "d8d1f2f6eb72b539",
   "execution_count": 4
  },
  {
   "cell_type": "code",
   "outputs": [],
   "source": [
    "retrieved_job = job_manager.get_job_by_input_output_model(\n",
    "        InputObject, OutputObject, config=config.dict()\n",
    "    )"
   ],
   "metadata": {
    "collapsed": false,
    "ExecuteTime": {
     "end_time": "2024-03-04T06:44:55.206594Z",
     "start_time": "2024-03-04T06:44:55.200765Z"
    }
   },
   "id": "a5b8910fb7eff80c",
   "execution_count": 6
  },
  {
   "cell_type": "code",
   "outputs": [
    {
     "data": {
      "text/plain": "'Categorize the book based on its content into one of the provided genre options.'"
     },
     "execution_count": 7,
     "metadata": {},
     "output_type": "execute_result"
    }
   ],
   "source": [
    "retrieved_job.instruction"
   ],
   "metadata": {
    "collapsed": false,
    "ExecuteTime": {
     "end_time": "2024-03-04T06:44:58.767210Z",
     "start_time": "2024-03-04T06:44:58.761946Z"
    }
   },
   "id": "f9113ae5a191cc28",
   "execution_count": 7
  },
  {
   "cell_type": "code",
   "outputs": [],
   "source": [
    "from llmp.services.program import Program\n",
    "\n",
    "program = Program(\"test_job\")"
   ],
   "metadata": {
    "collapsed": false,
    "ExecuteTime": {
     "end_time": "2024-03-04T06:46:08.601688Z",
     "start_time": "2024-03-04T06:46:08.595191Z"
    }
   },
   "id": "90b773118128ff2",
   "execution_count": 8
  },
  {
   "cell_type": "code",
   "outputs": [
    {
     "data": {
      "text/plain": "False"
     },
     "execution_count": 19,
     "metadata": {},
     "output_type": "execute_result"
    }
   ],
   "source": [
    "program._load_by_signature(\"test_signature\") is True"
   ],
   "metadata": {
    "collapsed": false,
    "ExecuteTime": {
     "end_time": "2024-03-04T06:48:08.039649Z",
     "start_time": "2024-03-04T06:48:08.032902Z"
    }
   },
   "id": "adfb62e856d98335",
   "execution_count": 19
  },
  {
   "cell_type": "code",
   "outputs": [
    {
     "data": {
      "text/plain": "'Book to Genre'"
     },
     "execution_count": 15,
     "metadata": {},
     "output_type": "execute_result"
    }
   ],
   "source": [
    "retrieved_job.job_name"
   ],
   "metadata": {
    "collapsed": false,
    "ExecuteTime": {
     "end_time": "2024-03-04T06:47:13.452535Z",
     "start_time": "2024-03-04T06:47:13.446686Z"
    }
   },
   "id": "7a97648895376821",
   "execution_count": 15
  },
  {
   "cell_type": "code",
   "outputs": [],
   "source": [],
   "metadata": {
    "collapsed": false
   },
   "id": "3bda77971c5c5ecd"
  }
 ],
 "metadata": {
  "kernelspec": {
   "display_name": "Python 3",
   "language": "python",
   "name": "python3"
  },
  "language_info": {
   "codemirror_mode": {
    "name": "ipython",
    "version": 2
   },
   "file_extension": ".py",
   "mimetype": "text/x-python",
   "name": "python",
   "nbconvert_exporter": "python",
   "pygments_lexer": "ipython2",
   "version": "2.7.6"
  }
 },
 "nbformat": 4,
 "nbformat_minor": 5
}
