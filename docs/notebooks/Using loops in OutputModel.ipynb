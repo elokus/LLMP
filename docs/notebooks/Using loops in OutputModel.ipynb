{
 "cells": [
  {
   "cell_type": "markdown",
   "source": [
    "# Using for iterator in Output Models\n",
    "\n",
    "When generating structured outputs their may be the case where need a list of structured outputs based on the input given. The most common solution for this case is to run a task prompt multiple times for each input item. However, this can be inefficient and time consuming. To solve this problem, we can use the for iterator in the output model to generate a list of structured outputs based on the input given.\n",
    "\n",
    "\n",
    "## Preparing the Input List\n",
    "\n",
    "We will use our previous InputObject (Book) and generate a list of sequels by passing an BaseModel with \"sequels: list[str]\" as attribute."
   ],
   "metadata": {
    "collapsed": false
   },
   "id": "e542c3727fec4c6"
  },
  {
   "cell_type": "code",
   "execution_count": 1,
   "id": "initial_id",
   "metadata": {
    "collapsed": true,
    "ExecuteTime": {
     "end_time": "2023-10-20T13:23:17.295458800Z",
     "start_time": "2023-10-20T13:23:12.534396600Z"
    }
   },
   "outputs": [
    {
     "name": "stdout",
     "output_type": "stream",
     "text": [
      "Running instruction generation from scratch.\n",
      "=== Format Inputs (Pre) ===\n",
      "Prompt: I have a task that takes an input and produces an output. Below you will find the input and output models for that task which define and restrict the possible input objects and the desired output object.\n",
      "I have lost the instruction for that task. Can you help me work out what it was?\n",
      "Think step-by-step to reverse engineer the task instruction. What other inputs might look like with the mentioned keys? What is the relationship between them? What might be the right operation (label, extract, compress, generate, etc.) to get from any input object with that structure to the desired output object?\n",
      "Please return a response in yaml format using the following schema:\n",
      "```yaml\n",
      "Reasoning: <str>\n",
      "Instruction: <str>\n",
      "\n",
      "```\n",
      "Do not include any other information or explanation to your response, \n",
      "so that your response can be parsed with yaml.safe_load().\n",
      "Remember to set the value in quotes using the Double quotation marks \n",
      "when values are multiline strings or contain ':'.\n",
      "\n",
      "\n",
      "{input}\n",
      "\n",
      "Inputs: {'inp_model': \"<'book_title': str>\\n<'book_author': str>\\n<'release_year': int>\", 'out_model': 'Sequels: <list[str], multiline=False>'}\n",
      "Keyargs: {}\n",
      "=== Format Inputs ===\n",
      "Placeholder map: {'{input}': {'inp_model': \"<'book_title': str>\\n<'book_author': str>\\n<'release_year': int>\", 'out_model': 'Sequels: <list[str], multiline=False>'}}\n",
      "Formatted inputs: {'input': \"Inp model: '<''book_title'': str>\\n\\n  <''book_author'': str>\\n\\n  <''release_year'': int>'\\nOut model: 'Sequels: <list[str], multiline=False>'\\n\"}\n",
      "Input schema: <'input_model': any>\n",
      "<'output_model': any>\n",
      "Input model: lines=[IOLine(key='input_model', type='any', rule=None, options=None, multiple_select=False, default=None, placeholder=['inp_model'], multiline=False, custom_value_template=None), IOLine(key='output_model', type='any', rule=None, options=None, multiple_select=False, default=None, placeholder=['out_model'], multiline=False, custom_value_template=None)]\n",
      "=== Prompt ===\n",
      "Formatted prompt: I have a task that takes an input and produces an output. Below you will find the input and output models for that task which define and restrict the possible input objects and the desired output object.\n",
      "I have lost the instruction for that task. Can you help me work out what it was?\n",
      "Think step-by-step to reverse engineer the task instruction. What other inputs might look like with the mentioned keys? What is the relationship between them? What might be the right operation (label, extract, compress, generate, etc.) to get from any input object with that structure to the desired output object?\n",
      "Please return a response in yaml format using the following schema:\n",
      "```yaml\n",
      "Reasoning: <str>\n",
      "Instruction: <str>\n",
      "\n",
      "```\n",
      "Do not include any other information or explanation to your response, \n",
      "so that your response can be parsed with yaml.safe_load().\n",
      "Remember to set the value in quotes using the Double quotation marks \n",
      "when values are multiline strings or contain ':'.\n",
      "\n",
      "\n",
      "Input model: '<''book_title'': str>\n",
      "\n",
      "  <''book_author'': str>\n",
      "\n",
      "  <''release_year'': int>'\n",
      "Output model: 'Sequels: <list[str], multiline=False>'\n",
      "\n",
      "=== Execution ===\n",
      "Generation output: Reasoning: The task involves taking an input object with three keys - 'book_title', 'book_author', and 'release_year' - and producing an output object that is a list of strings representing sequels to the given book.\n",
      "\n",
      "Instruction: Given a book's title, author, and release year, generate a list of sequels to the book.\n",
      "Run metrics: {'execution_time': 2.8112709522247314, 'token_usage': 317, 'model_name': 'gpt-3.5-turbo', 'model_config': {}}\n",
      "=== Output Parsing ===\n",
      "Parsed output: {'reasoning': \"The task involves taking an input object with three keys - 'book_title', 'book_author', and 'release_year' - and producing an output object that is a list of strings representing sequels to the given book.\", 'instruction': \"Given a book's title, author, and release year, generate a list of sequels to the book.\"}\n",
      "Error log: []\n"
     ]
    }
   ],
   "source": [
    "from typing import Literal\n",
    "from pydantic import BaseModel\n",
    "from llmp.services.program import Program\n",
    "\n",
    "\n",
    "class BookInput(BaseModel):\n",
    "    book_title: str\n",
    "    book_author: str\n",
    "    release_year: int\n",
    "    \n",
    "class SequalOutput(BaseModel):\n",
    "    sequels: list[str]\n",
    "    \n",
    "\n",
    "program = Program(\"gen sequels\", BookInput, SequalOutput, debug=True)"
   ]
  },
  {
   "cell_type": "code",
   "execution_count": 2,
   "outputs": [
    {
     "name": "stdout",
     "output_type": "stream",
     "text": [
      "['Harry Potter and the Chamber of Secrets', 'Harry Potter and the Prisoner of Azkaban', 'Harry Potter and the Goblet of Fire', 'Harry Potter and the Order of the Phoenix', 'Harry Potter and the Half-Blood Prince', 'Harry Potter and the Deathly Hallows']\n"
     ]
    }
   ],
   "source": [
    "input_data={\n",
    "    \"book_title\": \"Harry Potter\",\n",
    "    \"book_author\": \"J. K. Rowling\",\n",
    "    \"release_year\": 1997\n",
    "}\n",
    "\n",
    "output = program(input_data)\n",
    "\n",
    "print(output.sequels)"
   ],
   "metadata": {
    "collapsed": false,
    "ExecuteTime": {
     "end_time": "2023-10-20T13:24:16.806734400Z",
     "start_time": "2023-10-20T13:24:14.032179700Z"
    }
   },
   "id": "18d55f23221e2e47"
  },
  {
   "cell_type": "markdown",
   "source": [
    "## Iterating over the Input List"
   ],
   "metadata": {
    "collapsed": false
   },
   "id": "a261194c34acf1e3"
  },
  {
   "cell_type": "code",
   "execution_count": 3,
   "outputs": [],
   "source": [
    "from pydantic import Field\n",
    "\n",
    "\n",
    "class InputObject(BaseModel):\n",
    "    book_list: list[str]\n",
    "    \n",
    "    \n",
    "class OutputObject(BaseModel):\n",
    "    book_data: list[BookInput] = Field(rule=\"for each $book in {book_list}\")\n",
    "    \n",
    "    \n",
    "program_iter = Program(\"gen sequels data\", InputObject, OutputObject)   "
   ],
   "metadata": {
    "collapsed": false,
    "ExecuteTime": {
     "end_time": "2023-10-20T13:24:30.191476100Z",
     "start_time": "2023-10-20T13:24:26.613973400Z"
    }
   },
   "id": "576a3a201baa06cc"
  },
  {
   "cell_type": "code",
   "execution_count": 4,
   "outputs": [
    {
     "name": "stdout",
     "output_type": "stream",
     "text": [
      "[{'book_title': 'Harry Potter and the Chamber of Secrets', 'book_author': 'J.K. Rowling', 'release_year': 1998}, {'book_title': 'Harry Potter and the Prisoner of Azkaban', 'book_author': 'J.K. Rowling', 'release_year': 1999}, {'book_title': 'Harry Potter and the Goblet of Fire', 'book_author': 'J.K. Rowling', 'release_year': 2000}, {'book_title': 'Harry Potter and the Order of the Phoenix', 'book_author': 'J.K. Rowling', 'release_year': 2003}, {'book_title': 'Harry Potter and the Half-Blood Prince', 'book_author': 'J.K. Rowling', 'release_year': 2005}, {'book_title': 'Harry Potter and the Deathly Hallows', 'book_author': 'J.K. Rowling', 'release_year': 2007}]\n"
     ]
    }
   ],
   "source": [
    "result = program_iter({\"book_list\": output.sequels})\n",
    "\n",
    "print(result.book_data)"
   ],
   "metadata": {
    "collapsed": false,
    "ExecuteTime": {
     "end_time": "2023-10-20T13:24:42.544180Z",
     "start_time": "2023-10-20T13:24:36.656394600Z"
    }
   },
   "id": "8389170ea1e11bd"
  },
  {
   "cell_type": "code",
   "execution_count": 5,
   "outputs": [
    {
     "data": {
      "text/plain": "\"Given a list of book titles, create a list of dictionaries where each dictionary represents a book and contains the book's title, author, and release year.\""
     },
     "execution_count": 5,
     "metadata": {},
     "output_type": "execute_result"
    }
   ],
   "source": [
    "program_iter.job.instruction"
   ],
   "metadata": {
    "collapsed": false,
    "ExecuteTime": {
     "end_time": "2023-10-20T13:25:25.644976Z",
     "start_time": "2023-10-20T13:25:25.613224300Z"
    }
   },
   "id": "f0771ca1b4b7b499"
  },
  {
   "cell_type": "code",
   "execution_count": 8,
   "outputs": [
    {
     "name": "stdout",
     "output_type": "stream",
     "text": [
      "Given a list of book titles, create a list of dictionaries where each dictionary represents a book and contains the book title, author, and release year.\n",
      "# Format instructions\n",
      "\n",
      "Please return a response in yaml format using the following schema:\n",
      "```yaml\n",
      "Book data:\n",
      "- book_title: <str>\n",
      "  book_author: <str>\n",
      "  release_year: <int>\n",
      "- book_title: <str>\n",
      "  book_author: <str>\n",
      "  release_year: <int>\n",
      "- book_title: <str>\n",
      "  book_author: <str>\n",
      "  release_year: <int>\n",
      "- book_title: <str>\n",
      "  book_author: <str>\n",
      "  release_year: <int>\n",
      "- book_title: <str>\n",
      "  book_author: <str>\n",
      "  release_year: <int>\n",
      "- book_title: <str>\n",
      "  book_author: <str>\n",
      "  release_year: <int>\n",
      "\n",
      "```\n",
      "Do not include any other information or explanation to your response, \n",
      "so that your response can be parsed with yaml.safe_load().\n",
      "Remember to set the value in quotes using the Double quotation marks \n",
      "when values are multiline strings or contain ':'.\n",
      "\n",
      "\n",
      "\n",
      "\n",
      "{input}\n"
     ]
    }
   ],
   "source": [
    "from llmp.data_model.job_record import load_engine_from_job\n",
    "\n",
    "engine = load_engine_from_job(program.job)\n",
    "\n",
    "template = \"{format_instruction}\"\n",
    "\n",
    "print(engine.prompt_builder.build(book_list=output.sequels))"
   ],
   "metadata": {
    "collapsed": false,
    "ExecuteTime": {
     "end_time": "2023-10-19T14:38:05.167011800Z",
     "start_time": "2023-10-19T14:38:05.143113500Z"
    }
   },
   "id": "f1cb433ae2f0a3bc"
  },
  {
   "cell_type": "code",
   "execution_count": 4,
   "outputs": [
    {
     "name": "stdout",
     "output_type": "stream",
     "text": [
      "[\"Validation failed with errors:\\nKeys ['book_title', 'book_author'] not in output\\nKeys ['book_title', 'book_author'] not in output\\nKeys ['book_title', 'book_author'] not in output\\nKeys ['book_title', 'book_author'] not in output\\nKeys ['book_title', 'book_author'] not in output\\nKeys ['book_title', 'book_author'] not in output\\nFor output: Book data:\\n- title: Harry Potter and the Chamber of Secrets\\n  author: J.K. Rowling\\n  release_year: 1998\\n- title: Harry Potter and the Prisoner of Azkaban\\n  author: J.K. Rowling\\n  release_year: 1999\\n- title: Harry Potter and the Goblet of Fire\\n  author: J.K. Rowling\\n  release_year: 2000\\n- title: Harry Potter and the Order of the Phoenix\\n  author: J.K. Rowling\\n  release_year: 2003\\n- title: Harry Potter and the Half-Blood Prince\\n  author: J.K. Rowling\\n  release_year: 2005\\n- title: Harry Potter and the Deathly Hallows\\n  author: J.K. Rowling\\n  release_year: 2007\\n\\n\\nParsed Output:\\n{'book_data': [{'title': 'Harry Potter and the Chamber of Secrets', 'author': 'J.K. Rowling', 'release_year': 1998}, {'title': 'Harry Potter and the Prisoner of Azkaban', 'author': 'J.K. Rowling', 'release_year': 1999}, {'title': 'Harry Potter and the Goblet of Fire', 'author': 'J.K. Rowling', 'release_year': 2000}, {'title': 'Harry Potter and the Order of the Phoenix', 'author': 'J.K. Rowling', 'release_year': 2003}, {'title': 'Harry Potter and the Half-Blood Prince', 'author': 'J.K. Rowling', 'release_year': 2005}, {'title': 'Harry Potter and the Deathly Hallows', 'author': 'J.K. Rowling', 'release_year': 2007}]}\", \"expected string or bytes-like object, got 'NotImplementedType'\", \"Validation failed with errors:\\nKeys ['book_title', 'book_author'] not in output\\nKeys ['book_title', 'book_author'] not in output\\nKeys ['book_title', 'book_author'] not in output\\nKeys ['book_title', 'book_author'] not in output\\nKeys ['book_title', 'book_author'] not in output\\nKeys ['book_title', 'book_author'] not in output\\nFor output: Book data:\\n- title: Harry Potter and the Chamber of Secrets\\n  author: J.K. Rowling\\n  release_year: 1998\\n- title: Harry Potter and the Prisoner of Azkaban\\n  author: J.K. Rowling\\n  release_year: 1999\\n- title: Harry Potter and the Goblet of Fire\\n  author: J.K. Rowling\\n  release_year: 2000\\n- title: Harry Potter and the Order of the Phoenix\\n  author: J.K. Rowling\\n  release_year: 2003\\n- title: Harry Potter and the Half-Blood Prince\\n  author: J.K. Rowling\\n  release_year: 2005\\n- title: Harry Potter and the Deathly Hallows\\n  author: J.K. Rowling\\n  release_year: 2007\\n\\n\\nParsed Output:\\n{'book_data': [{'title': 'Harry Potter and the Chamber of Secrets', 'author': 'J.K. Rowling', 'release_year': 1998}, {'title': 'Harry Potter and the Prisoner of Azkaban', 'author': 'J.K. Rowling', 'release_year': 1999}, {'title': 'Harry Potter and the Goblet of Fire', 'author': 'J.K. Rowling', 'release_year': 2000}, {'title': 'Harry Potter and the Order of the Phoenix', 'author': 'J.K. Rowling', 'release_year': 2003}, {'title': 'Harry Potter and the Half-Blood Prince', 'author': 'J.K. Rowling', 'release_year': 2005}, {'title': 'Harry Potter and the Deathly Hallows', 'author': 'J.K. Rowling', 'release_year': 2007}]}\", \"expected string or bytes-like object, got 'NotImplementedType'\", \"Validation failed with errors:\\nKeys ['book_title', 'book_author'] not in output\\nKeys ['book_title', 'book_author'] not in output\\nKeys ['book_title', 'book_author'] not in output\\nKeys ['book_title', 'book_author'] not in output\\nKeys ['book_title', 'book_author'] not in output\\nKeys ['book_title', 'book_author'] not in output\\nFor output: Book data:\\n- title: Harry Potter and the Chamber of Secrets\\n  author: J.K. Rowling\\n  release_year: 1998\\n- title: Harry Potter and the Prisoner of Azkaban\\n  author: J.K. Rowling\\n  release_year: 1999\\n- title: Harry Potter and the Goblet of Fire\\n  author: J.K. Rowling\\n  release_year: 2000\\n- title: Harry Potter and the Order of the Phoenix\\n  author: J.K. Rowling\\n  release_year: 2003\\n- title: Harry Potter and the Half-Blood Prince\\n  author: J.K. Rowling\\n  release_year: 2005\\n- title: Harry Potter and the Deathly Hallows\\n  author: J.K. Rowling\\n  release_year: 2007\\n\\n\\nParsed Output:\\n{'book_data': [{'title': 'Harry Potter and the Chamber of Secrets', 'author': 'J.K. Rowling', 'release_year': 1998}, {'title': 'Harry Potter and the Prisoner of Azkaban', 'author': 'J.K. Rowling', 'release_year': 1999}, {'title': 'Harry Potter and the Goblet of Fire', 'author': 'J.K. Rowling', 'release_year': 2000}, {'title': 'Harry Potter and the Order of the Phoenix', 'author': 'J.K. Rowling', 'release_year': 2003}, {'title': 'Harry Potter and the Half-Blood Prince', 'author': 'J.K. Rowling', 'release_year': 2005}, {'title': 'Harry Potter and the Deathly Hallows', 'author': 'J.K. Rowling', 'release_year': 2007}]}\"]\n"
     ]
    },
    {
     "ename": "ValidationError",
     "evalue": "Validation failed with errors:\nKeys ['book_title', 'book_author'] not in output\nKeys ['book_title', 'book_author'] not in output\nKeys ['book_title', 'book_author'] not in output\nKeys ['book_title', 'book_author'] not in output\nKeys ['book_title', 'book_author'] not in output\nKeys ['book_title', 'book_author'] not in output\nFor output: Book data:\n- title: Harry Potter and the Chamber of Secrets\n  author: J.K. Rowling\n  release_year: 1998\n- title: Harry Potter and the Prisoner of Azkaban\n  author: J.K. Rowling\n  release_year: 1999\n- title: Harry Potter and the Goblet of Fire\n  author: J.K. Rowling\n  release_year: 2000\n- title: Harry Potter and the Order of the Phoenix\n  author: J.K. Rowling\n  release_year: 2003\n- title: Harry Potter and the Half-Blood Prince\n  author: J.K. Rowling\n  release_year: 2005\n- title: Harry Potter and the Deathly Hallows\n  author: J.K. Rowling\n  release_year: 2007\n\n\nParsed Output:\n{'book_data': [{'title': 'Harry Potter and the Chamber of Secrets', 'author': 'J.K. Rowling', 'release_year': 1998}, {'title': 'Harry Potter and the Prisoner of Azkaban', 'author': 'J.K. Rowling', 'release_year': 1999}, {'title': 'Harry Potter and the Goblet of Fire', 'author': 'J.K. Rowling', 'release_year': 2000}, {'title': 'Harry Potter and the Order of the Phoenix', 'author': 'J.K. Rowling', 'release_year': 2003}, {'title': 'Harry Potter and the Half-Blood Prince', 'author': 'J.K. Rowling', 'release_year': 2005}, {'title': 'Harry Potter and the Deathly Hallows', 'author': 'J.K. Rowling', 'release_year': 2007}]}",
     "output_type": "error",
     "traceback": [
      "\u001B[1;31m---------------------------------------------------------------------------\u001B[0m",
      "\u001B[1;31mValidationError\u001B[0m                           Traceback (most recent call last)",
      "Cell \u001B[1;32mIn[4], line 1\u001B[0m\n\u001B[1;32m----> 1\u001B[0m result \u001B[38;5;241m=\u001B[39m \u001B[43mprogram\u001B[49m\u001B[43m(\u001B[49m\u001B[43m{\u001B[49m\u001B[38;5;124;43m\"\u001B[39;49m\u001B[38;5;124;43mbook_list\u001B[39;49m\u001B[38;5;124;43m\"\u001B[39;49m\u001B[43m:\u001B[49m\u001B[43m \u001B[49m\u001B[43moutput\u001B[49m\u001B[38;5;241;43m.\u001B[39;49m\u001B[43msequels\u001B[49m\u001B[43m}\u001B[49m\u001B[43m)\u001B[49m\n\u001B[0;32m      3\u001B[0m \u001B[38;5;28mprint\u001B[39m(result\u001B[38;5;241m.\u001B[39mbook_data)\n",
      "File \u001B[1;32m~\\Codes\\LLMP\\libs\\llmp\\services\\program.py:109\u001B[0m, in \u001B[0;36mProgram.__call__\u001B[1;34m(self, input_data, auto_optimize, log_action, **kwargs)\u001B[0m\n\u001B[0;32m    106\u001B[0m     is_first_run \u001B[38;5;241m=\u001B[39m \u001B[38;5;28;01mTrue\u001B[39;00m\n\u001B[0;32m    107\u001B[0m     generator_type \u001B[38;5;241m=\u001B[39m \u001B[38;5;124m\"\u001B[39m\u001B[38;5;124mconsensus\u001B[39m\u001B[38;5;124m\"\u001B[39m\n\u001B[1;32m--> 109\u001B[0m output \u001B[38;5;241m=\u001B[39m \u001B[38;5;28;43mself\u001B[39;49m\u001B[38;5;241;43m.\u001B[39;49m\u001B[43mjob_manager\u001B[49m\u001B[38;5;241;43m.\u001B[39;49m\u001B[43mgenerate_output\u001B[49m\u001B[43m(\u001B[49m\u001B[38;5;28;43mself\u001B[39;49m\u001B[38;5;241;43m.\u001B[39;49m\u001B[43mjob\u001B[49m\u001B[43m,\u001B[49m\u001B[43m \u001B[49m\u001B[43minput_data\u001B[49m\u001B[43m,\u001B[49m\u001B[43m \u001B[49m\u001B[43mgenerator_type\u001B[49m\u001B[38;5;241;43m=\u001B[39;49m\u001B[43mgenerator_type\u001B[49m\u001B[43m,\u001B[49m\u001B[43m \u001B[49m\u001B[38;5;241;43m*\u001B[39;49m\u001B[38;5;241;43m*\u001B[39;49m\u001B[43mkwargs\u001B[49m\u001B[43m)\u001B[49m\n\u001B[0;32m    111\u001B[0m \u001B[38;5;28;01mif\u001B[39;00m is_first_run:\n\u001B[0;32m    112\u001B[0m     \u001B[38;5;28mself\u001B[39m\u001B[38;5;241m.\u001B[39mjob_manager\u001B[38;5;241m.\u001B[39moptimize_job(\u001B[38;5;28mself\u001B[39m\u001B[38;5;241m.\u001B[39mjob, mode\u001B[38;5;241m=\u001B[39m\u001B[38;5;124m\"\u001B[39m\u001B[38;5;124mall\u001B[39m\u001B[38;5;124m\"\u001B[39m)\n",
      "File \u001B[1;32m~\\Codes\\LLMP\\libs\\llmp\\services\\job_manager.py:81\u001B[0m, in \u001B[0;36mJobManager.generate_output\u001B[1;34m(self, job, input_data, generator_type, **kwargs)\u001B[0m\n\u001B[0;32m     79\u001B[0m \u001B[38;5;250m\u001B[39m\u001B[38;5;124;03m\"\"\"Generate output for a specific input.\"\"\"\u001B[39;00m\n\u001B[0;32m     80\u001B[0m generator \u001B[38;5;241m=\u001B[39m load_generator_cls(generator_type\u001B[38;5;241m=\u001B[39mgenerator_type)(job, \u001B[38;5;241m*\u001B[39m\u001B[38;5;241m*\u001B[39mkwargs)\n\u001B[1;32m---> 81\u001B[0m result, run_metrics \u001B[38;5;241m=\u001B[39m \u001B[43mgenerator\u001B[49m\u001B[38;5;241;43m.\u001B[39;49m\u001B[43mgenerate\u001B[49m\u001B[43m(\u001B[49m\u001B[43minput_data\u001B[49m\u001B[43m,\u001B[49m\u001B[43m \u001B[49m\u001B[38;5;241;43m*\u001B[39;49m\u001B[38;5;241;43m*\u001B[39;49m\u001B[43mkwargs\u001B[49m\u001B[43m)\u001B[49m\n\u001B[0;32m     82\u001B[0m event_metric \u001B[38;5;241m=\u001B[39m {\n\u001B[0;32m     83\u001B[0m     \u001B[38;5;124m\"\u001B[39m\u001B[38;5;124mverification_type\u001B[39m\u001B[38;5;124m\"\u001B[39m: generator\u001B[38;5;241m.\u001B[39mverification_type,\n\u001B[0;32m     84\u001B[0m     \u001B[38;5;241m*\u001B[39m\u001B[38;5;241m*\u001B[39mrun_metrics,\n\u001B[0;32m     85\u001B[0m     \u001B[38;5;241m*\u001B[39m\u001B[38;5;241m*\u001B[39mkwargs\n\u001B[0;32m     86\u001B[0m }\n\u001B[0;32m     87\u001B[0m job\u001B[38;5;241m.\u001B[39mlog_generation(input_data, result, event_metric)\n",
      "File \u001B[1;32m~\\Codes\\LLMP\\libs\\llmp\\components\\generator\\simple.py:24\u001B[0m, in \u001B[0;36mGenerator.generate\u001B[1;34m(self, input_data, **kwargs)\u001B[0m\n\u001B[0;32m     21\u001B[0m \u001B[38;5;250m\u001B[39m\u001B[38;5;124;03m\"\"\"Generate an output based on the job and input data.\"\"\"\u001B[39;00m\n\u001B[0;32m     23\u001B[0m engine \u001B[38;5;241m=\u001B[39m load_engine_from_job(\u001B[38;5;28mself\u001B[39m\u001B[38;5;241m.\u001B[39mjob, \u001B[38;5;28mself\u001B[39m\u001B[38;5;241m.\u001B[39m_job_settings, \u001B[38;5;241m*\u001B[39m\u001B[38;5;241m*\u001B[39m\u001B[38;5;28mself\u001B[39m\u001B[38;5;241m.\u001B[39m_engine_kwargs)\n\u001B[1;32m---> 24\u001B[0m output, run_metrics \u001B[38;5;241m=\u001B[39m \u001B[43mengine\u001B[49m\u001B[38;5;241;43m.\u001B[39;49m\u001B[43mrun\u001B[49m\u001B[43m(\u001B[49m\u001B[43minput_data\u001B[49m\u001B[43m,\u001B[49m\u001B[43m \u001B[49m\u001B[38;5;241;43m*\u001B[39;49m\u001B[38;5;241;43m*\u001B[39;49m\u001B[43mkwargs\u001B[49m\u001B[43m)\u001B[49m\n\u001B[0;32m     25\u001B[0m \u001B[38;5;28;01mreturn\u001B[39;00m output, run_metrics\n",
      "File \u001B[1;32m~\\AppData\\Local\\pypoetry\\Cache\\virtualenvs\\llmp-l_UTfyBq-py3.11\\Lib\\site-packages\\structgenie\\engine\\genie.py:274\u001B[0m, in \u001B[0;36mStructGenie.run\u001B[1;34m(self, inputs, **kwargs)\u001B[0m\n\u001B[0;32m    272\u001B[0m \u001B[38;5;28;01mif\u001B[39;00m n_run \u001B[38;5;241m>\u001B[39m \u001B[38;5;28mself\u001B[39m\u001B[38;5;241m.\u001B[39mmax_retries:\n\u001B[0;32m    273\u001B[0m     \u001B[38;5;28mprint\u001B[39m(\u001B[38;5;28mself\u001B[39m\u001B[38;5;241m.\u001B[39mrun_metrics[\u001B[38;5;124m\"\u001B[39m\u001B[38;5;124merrors\u001B[39m\u001B[38;5;124m\"\u001B[39m])\n\u001B[1;32m--> 274\u001B[0m     \u001B[38;5;28;01mraise\u001B[39;00m e\n",
      "File \u001B[1;32m~\\AppData\\Local\\pypoetry\\Cache\\virtualenvs\\llmp-l_UTfyBq-py3.11\\Lib\\site-packages\\structgenie\\engine\\genie.py:258\u001B[0m, in \u001B[0;36mStructGenie.run\u001B[1;34m(self, inputs, **kwargs)\u001B[0m\n\u001B[0;32m    256\u001B[0m \u001B[38;5;28;01mwhile\u001B[39;00m n_run \u001B[38;5;241m<\u001B[39m\u001B[38;5;241m=\u001B[39m \u001B[38;5;28mself\u001B[39m\u001B[38;5;241m.\u001B[39mmax_retries:\n\u001B[0;32m    257\u001B[0m     \u001B[38;5;28;01mtry\u001B[39;00m:\n\u001B[1;32m--> 258\u001B[0m         output \u001B[38;5;241m=\u001B[39m \u001B[38;5;28;43mself\u001B[39;49m\u001B[38;5;241;43m.\u001B[39;49m\u001B[43m_run\u001B[49m\u001B[43m(\u001B[49m\u001B[43minputs\u001B[49m\u001B[43m,\u001B[49m\u001B[43m \u001B[49m\u001B[38;5;28;43mself\u001B[39;49m\u001B[38;5;241;43m.\u001B[39;49m\u001B[43mlast_error\u001B[49m\u001B[43m,\u001B[49m\u001B[43m \u001B[49m\u001B[38;5;241;43m*\u001B[39;49m\u001B[38;5;241;43m*\u001B[39;49m\u001B[43mkwargs\u001B[49m\u001B[43m)\u001B[49m\n\u001B[0;32m    259\u001B[0m         \u001B[38;5;28;01mif\u001B[39;00m \u001B[38;5;28mself\u001B[39m\u001B[38;5;241m.\u001B[39mreturn_metrics:\n\u001B[0;32m    260\u001B[0m             \u001B[38;5;28;01mreturn\u001B[39;00m output, \u001B[38;5;28mself\u001B[39m\u001B[38;5;241m.\u001B[39mrun_metrics\n",
      "File \u001B[1;32m~\\AppData\\Local\\pypoetry\\Cache\\virtualenvs\\llmp-l_UTfyBq-py3.11\\Lib\\site-packages\\structgenie\\engine\\genie.py:312\u001B[0m, in \u001B[0;36mStructGenie._run\u001B[1;34m(self, inputs, error, **kwargs)\u001B[0m\n\u001B[0;32m    310\u001B[0m output \u001B[38;5;241m=\u001B[39m \u001B[38;5;28mself\u001B[39m\u001B[38;5;241m.\u001B[39mparse_output(text, inputs)\n\u001B[0;32m    311\u001B[0m \u001B[38;5;66;03m# validate\u001B[39;00m\n\u001B[1;32m--> 312\u001B[0m \u001B[38;5;28;43mself\u001B[39;49m\u001B[38;5;241;43m.\u001B[39;49m\u001B[43mvalidate_output\u001B[49m\u001B[43m(\u001B[49m\u001B[43moutput\u001B[49m\u001B[43m,\u001B[49m\u001B[43m \u001B[49m\u001B[43minputs\u001B[49m\u001B[43m)\u001B[49m\n\u001B[0;32m    314\u001B[0m \u001B[38;5;28;01mreturn\u001B[39;00m output\n",
      "File \u001B[1;32m~\\AppData\\Local\\pypoetry\\Cache\\virtualenvs\\llmp-l_UTfyBq-py3.11\\Lib\\site-packages\\structgenie\\engine\\genie.py:459\u001B[0m, in \u001B[0;36mStructGenie.validate_output\u001B[1;34m(self, output, inputs)\u001B[0m\n\u001B[0;32m    457\u001B[0m validation_errors \u001B[38;5;241m=\u001B[39m \u001B[38;5;28mself\u001B[39m\u001B[38;5;241m.\u001B[39mvalidator\u001B[38;5;241m.\u001B[39mvalidate(output, inputs)\n\u001B[0;32m    458\u001B[0m \u001B[38;5;28;01mif\u001B[39;00m validation_errors:\n\u001B[1;32m--> 459\u001B[0m     \u001B[38;5;28;01mraise\u001B[39;00m ValidationError(\u001B[38;5;124mf\u001B[39m\u001B[38;5;124m\"\u001B[39m\u001B[38;5;124mValidation failed with errors:\u001B[39m\u001B[38;5;130;01m\\n\u001B[39;00m\u001B[38;5;132;01m{\u001B[39;00mvalidation_errors\u001B[38;5;132;01m}\u001B[39;00m\u001B[38;5;124m\"\u001B[39m, output)\n",
      "\u001B[1;31mValidationError\u001B[0m: Validation failed with errors:\nKeys ['book_title', 'book_author'] not in output\nKeys ['book_title', 'book_author'] not in output\nKeys ['book_title', 'book_author'] not in output\nKeys ['book_title', 'book_author'] not in output\nKeys ['book_title', 'book_author'] not in output\nKeys ['book_title', 'book_author'] not in output\nFor output: Book data:\n- title: Harry Potter and the Chamber of Secrets\n  author: J.K. Rowling\n  release_year: 1998\n- title: Harry Potter and the Prisoner of Azkaban\n  author: J.K. Rowling\n  release_year: 1999\n- title: Harry Potter and the Goblet of Fire\n  author: J.K. Rowling\n  release_year: 2000\n- title: Harry Potter and the Order of the Phoenix\n  author: J.K. Rowling\n  release_year: 2003\n- title: Harry Potter and the Half-Blood Prince\n  author: J.K. Rowling\n  release_year: 2005\n- title: Harry Potter and the Deathly Hallows\n  author: J.K. Rowling\n  release_year: 2007\n\n\nParsed Output:\n{'book_data': [{'title': 'Harry Potter and the Chamber of Secrets', 'author': 'J.K. Rowling', 'release_year': 1998}, {'title': 'Harry Potter and the Prisoner of Azkaban', 'author': 'J.K. Rowling', 'release_year': 1999}, {'title': 'Harry Potter and the Goblet of Fire', 'author': 'J.K. Rowling', 'release_year': 2000}, {'title': 'Harry Potter and the Order of the Phoenix', 'author': 'J.K. Rowling', 'release_year': 2003}, {'title': 'Harry Potter and the Half-Blood Prince', 'author': 'J.K. Rowling', 'release_year': 2005}, {'title': 'Harry Potter and the Deathly Hallows', 'author': 'J.K. Rowling', 'release_year': 2007}]}"
     ]
    }
   ],
   "source": [
    "result = program({\"book_list\": output.sequels})\n",
    "\n",
    "print(result.book_data)"
   ],
   "metadata": {
    "collapsed": false,
    "ExecuteTime": {
     "end_time": "2023-10-17T13:13:04.122758900Z",
     "start_time": "2023-10-17T13:12:43.109456100Z"
    }
   },
   "id": "5a41f3462cfd3004"
  },
  {
   "cell_type": "code",
   "execution_count": 5,
   "outputs": [
    {
     "ename": "NameError",
     "evalue": "name 'result' is not defined",
     "output_type": "error",
     "traceback": [
      "\u001B[1;31m---------------------------------------------------------------------------\u001B[0m",
      "\u001B[1;31mNameError\u001B[0m                                 Traceback (most recent call last)",
      "Cell \u001B[1;32mIn[5], line 1\u001B[0m\n\u001B[1;32m----> 1\u001B[0m \u001B[43mresult\u001B[49m\u001B[38;5;241m.\u001B[39mbook_data[\u001B[38;5;241m0\u001B[39m]\n",
      "\u001B[1;31mNameError\u001B[0m: name 'result' is not defined"
     ]
    }
   ],
   "source": [],
   "metadata": {
    "collapsed": false,
    "ExecuteTime": {
     "end_time": "2023-10-17T13:14:22.991241700Z",
     "start_time": "2023-10-17T13:14:22.968536200Z"
    }
   },
   "id": "e3265ce238a99776"
  },
  {
   "cell_type": "code",
   "execution_count": null,
   "outputs": [],
   "source": [],
   "metadata": {
    "collapsed": false
   },
   "id": "23f1aa4715a8109d"
  }
 ],
 "metadata": {
  "kernelspec": {
   "display_name": "Python 3",
   "language": "python",
   "name": "python3"
  },
  "language_info": {
   "codemirror_mode": {
    "name": "ipython",
    "version": 2
   },
   "file_extension": ".py",
   "mimetype": "text/x-python",
   "name": "python",
   "nbconvert_exporter": "python",
   "pygments_lexer": "ipython2",
   "version": "2.7.6"
  }
 },
 "nbformat": 4,
 "nbformat_minor": 5
}
