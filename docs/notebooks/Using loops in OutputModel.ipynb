{
 "cells": [
  {
   "cell_type": "markdown",
   "source": [
    "# Using for iterator in Output Models\n",
    "\n",
    "When generating structured outputs their may be the case where need a list of structured outputs based on the input given. The most common solution for this case is to run a task prompt multiple times for each input item. However, this can be inefficient and time consuming. To solve this problem, we can use the for iterator in the output model to generate a list of structured outputs based on the input given.\n",
    "\n",
    "\n",
    "## Preparing the Input List\n",
    "\n",
    "We will use our previous InputObject (Book) and generate a list of sequels by passing an BaseModel with \"sequels: list[str]\" as attribute."
   ],
   "metadata": {
    "collapsed": false
   },
   "id": "e542c3727fec4c6"
  },
  {
   "cell_type": "code",
   "execution_count": 1,
   "id": "initial_id",
   "metadata": {
    "collapsed": true,
    "ExecuteTime": {
     "end_time": "2023-11-07T18:46:49.558700700Z",
     "start_time": "2023-11-07T18:46:47.652758700Z"
    }
   },
   "outputs": [],
   "source": [
    "from typing import Literal\n",
    "from pydantic import BaseModel\n",
    "import pydantic\n",
    "from llmp.services.program import Program\n",
    "\n",
    "\n",
    "class BookInput(BaseModel):\n",
    "    book_title: str\n",
    "    book_author: str\n",
    "    release_year: int\n",
    "    \n",
    "class SequalOutput(BaseModel):\n",
    "    sequels: list[str]\n",
    "    \n",
    "\n",
    "program = Program(\"gen sequels\", BookInput, SequalOutput)"
   ]
  },
  {
   "cell_type": "code",
   "execution_count": 2,
   "outputs": [
    {
     "name": "stdout",
     "output_type": "stream",
     "text": [
      "['Harry Potter and the Chamber of Secrets', 'Harry Potter and the Prisoner of Azkaban', 'Harry Potter and the Goblet of Fire', 'Harry Potter and the Order of the Phoenix', 'Harry Potter and the Half-Blood Prince', 'Harry Potter and the Deathly Hallows']\n"
     ]
    }
   ],
   "source": [
    "input_data={\n",
    "    \"book_title\": \"Harry Potter\",\n",
    "    \"book_author\": \"J. K. Rowling\",\n",
    "    \"release_year\": 1997\n",
    "}\n",
    "\n",
    "output = program(input_data)\n",
    "\n",
    "print(output.sequels)"
   ],
   "metadata": {
    "collapsed": false,
    "ExecuteTime": {
     "end_time": "2023-11-07T17:04:20.140311800Z",
     "start_time": "2023-11-07T17:04:16.870589100Z"
    }
   },
   "id": "18d55f23221e2e47"
  },
  {
   "cell_type": "markdown",
   "source": [
    "## Iterating over the Input List"
   ],
   "metadata": {
    "collapsed": false
   },
   "id": "a261194c34acf1e3"
  },
  {
   "cell_type": "code",
   "execution_count": 2,
   "outputs": [],
   "source": [
    "from pydantic import Field\n",
    "from llmp.services.program import Program\n",
    "\n",
    "\n",
    "class InputObject(BaseModel):\n",
    "    book_list: list[str]\n",
    "    \n",
    "    \n",
    "class OutputObject(BaseModel):\n",
    "    book_data: list[BookInput] = Field(rule=\"for each $book in {book_list}\")\n",
    "    \n",
    "    \n",
    "program_iter = Program(\"gen sequels data\", InputObject, OutputObject)   "
   ],
   "metadata": {
    "collapsed": false,
    "ExecuteTime": {
     "end_time": "2023-11-07T18:46:56.236642700Z",
     "start_time": "2023-11-07T18:46:56.229172500Z"
    }
   },
   "id": "576a3a201baa06cc"
  },
  {
   "cell_type": "code",
   "execution_count": 4,
   "outputs": [
    {
     "name": "stdout",
     "output_type": "stream",
     "text": [
      "[{'book_title': 'Harry Potter and the Chamber of Secrets', 'book_author': 'J.K. Rowling', 'release_year': 1998}, {'book_title': 'Harry Potter and the Prisoner of Azkaban', 'book_author': 'J.K. Rowling', 'release_year': 1999}, {'book_title': 'Harry Potter and the Goblet of Fire', 'book_author': 'J.K. Rowling', 'release_year': 2000}, {'book_title': 'Harry Potter and the Order of the Phoenix', 'book_author': 'J.K. Rowling', 'release_year': 2003}, {'book_title': 'Harry Potter and the Half-Blood Prince', 'book_author': 'J.K. Rowling', 'release_year': 2005}, {'book_title': 'Harry Potter and the Deathly Hallows', 'book_author': 'J.K. Rowling', 'release_year': 2007}]\n"
     ]
    }
   ],
   "source": [
    "result = program_iter({\"book_list\": output.sequels})\n",
    "\n",
    "print(result.book_data)"
   ],
   "metadata": {
    "collapsed": false,
    "ExecuteTime": {
     "end_time": "2023-11-07T17:04:45.971978800Z",
     "start_time": "2023-11-07T17:04:40.805895600Z"
    }
   },
   "id": "8389170ea1e11bd"
  },
  {
   "cell_type": "code",
   "execution_count": 10,
   "outputs": [
    {
     "name": "stdout",
     "output_type": "stream",
     "text": [
      "[{'book_author': 'J.K. Rowling',\n",
      "  'book_title': 'Harry Potter and the Chamber of Secrets',\n",
      "  'release_year': 1998},\n",
      " {'book_author': 'J.K. Rowling',\n",
      "  'book_title': 'Harry Potter and the Prisoner of Azkaban',\n",
      "  'release_year': 1999},\n",
      " {'book_author': 'J.K. Rowling',\n",
      "  'book_title': 'Harry Potter and the Goblet of Fire',\n",
      "  'release_year': 2000},\n",
      " {'book_author': 'J.K. Rowling',\n",
      "  'book_title': 'Harry Potter and the Order of the Phoenix',\n",
      "  'release_year': 2003},\n",
      " {'book_author': 'J.K. Rowling',\n",
      "  'book_title': 'Harry Potter and the Half-Blood Prince',\n",
      "  'release_year': 2005},\n",
      " {'book_author': 'J.K. Rowling',\n",
      "  'book_title': 'Harry Potter and the Deathly Hallows',\n",
      "  'release_year': 2007}]\n"
     ]
    }
   ],
   "source": [
    "import pprint\n",
    "\n",
    "pprint.pprint(result.book_data)"
   ],
   "metadata": {
    "collapsed": false,
    "ExecuteTime": {
     "end_time": "2023-11-07T18:15:01.075946800Z",
     "start_time": "2023-11-07T18:15:01.075946800Z"
    }
   },
   "id": "acfee7c1eeb197ee"
  },
  {
   "cell_type": "code",
   "execution_count": 5,
   "outputs": [
    {
     "data": {
      "text/plain": "'Given a list of book titles, create a list of dictionaries where each dictionary represents a book and includes the title, author, and release year.'"
     },
     "execution_count": 5,
     "metadata": {},
     "output_type": "execute_result"
    }
   ],
   "source": [
    "program_iter.job.instruction"
   ],
   "metadata": {
    "collapsed": false,
    "ExecuteTime": {
     "end_time": "2023-11-07T17:04:55.756322100Z",
     "start_time": "2023-11-07T17:04:55.724781600Z"
    }
   },
   "id": "f0771ca1b4b7b499"
  },
  {
   "cell_type": "code",
   "execution_count": 9,
   "outputs": [
    {
     "data": {
      "text/plain": "\"Given the input of a book's title, author, and release year, generate a list of sequels to the book.\""
     },
     "execution_count": 9,
     "metadata": {},
     "output_type": "execute_result"
    }
   ],
   "source": [
    "program.job.instruction"
   ],
   "metadata": {
    "collapsed": false,
    "ExecuteTime": {
     "end_time": "2023-11-07T17:43:14.832177800Z",
     "start_time": "2023-11-07T17:43:14.827019800Z"
    }
   },
   "id": "68799afa21023f25"
  },
  {
   "cell_type": "code",
   "execution_count": null,
   "outputs": [],
   "source": [],
   "metadata": {
    "collapsed": false
   },
   "id": "fd694ea2c7777cd3"
  },
  {
   "cell_type": "code",
   "execution_count": 8,
   "outputs": [
    {
     "name": "stdout",
     "output_type": "stream",
     "text": [
      "Given a list of book titles, create a list of dictionaries where each dictionary represents a book and includes the title, author, and release year.\n",
      "# Format instructions\n",
      "\n",
      "Please return a response in yaml format using the following schema:\n",
      "```yaml\n",
      "Book data:\n",
      "- book_title: <str>\n",
      "  book_author: <str>\n",
      "  release_year: <int>\n",
      "- book_title: <str>\n",
      "  book_author: <str>\n",
      "  release_year: <int>\n",
      "- book_title: <str>\n",
      "  book_author: <str>\n",
      "  release_year: <int>\n",
      "- book_title: <str>\n",
      "  book_author: <str>\n",
      "  release_year: <int>\n",
      "- book_title: <str>\n",
      "  book_author: <str>\n",
      "  release_year: <int>\n",
      "- book_title: <str>\n",
      "  book_author: <str>\n",
      "  release_year: <int>\n",
      "\n",
      "```\n",
      "Do not include any other information or explanation to your response, \n",
      "so that your response can be parsed with yaml.safe_load().\n",
      "Remember to set the value in quotes using the Double quotation marks \n",
      "when values are multiline strings or contain ':'.\n",
      "\n",
      "\n",
      "\n",
      "\n",
      "{input}\n"
     ]
    }
   ],
   "source": [
    "from llmp.data_model.job_record import load_engine_from_job\n",
    "\n",
    "engine = load_engine_from_job(program_iter.job)\n",
    "\n",
    "print(engine.prompt_builder.build(book_list=output.sequels))"
   ],
   "metadata": {
    "collapsed": false,
    "ExecuteTime": {
     "end_time": "2023-11-07T17:06:32.377710400Z",
     "start_time": "2023-11-07T17:06:32.372199300Z"
    }
   },
   "id": "f1cb433ae2f0a3bc"
  },
  {
   "cell_type": "code",
   "execution_count": 6,
   "outputs": [
    {
     "name": "stdout",
     "output_type": "stream",
     "text": [
      "[Event(event_id='c944cc828f224390929ed251c21ad381', timestamp='20231107180433', event_type=<EventType.JOB_CREATION: 'job_creation'>, event_metrics=None, job_setting={'instruction': None, 'example_id': []}, job_version=0, example_id=None, example_version=None, extra=None, ref_event_id=None),\n",
      " Event(event_id='907ed5df08ed4d45ba6169b8db4a0f2a', timestamp='20231107180445', event_type=<EventType.GENERATION: 'generation'>, event_metrics={'verification_type': 1, 'execution_time': 10.300012111663818, 'token_usage': 988, 'model_name': 'gpt-3.5-turbo', 'model_config': {}, 'failure_rate': 1, 'errors': []}, job_setting=None, job_version=None, example_id=None, example_version=None, extra=None, ref_event_id=None)]\n"
     ]
    }
   ],
   "source": [
    "import pprint\n",
    "pprint.pprint(program_iter.event_log())"
   ],
   "metadata": {
    "collapsed": false,
    "ExecuteTime": {
     "end_time": "2023-11-07T18:49:55.893350600Z",
     "start_time": "2023-11-07T18:49:55.846437300Z"
    }
   },
   "id": "bfcb755302447db6"
  },
  {
   "cell_type": "code",
   "execution_count": 5,
   "outputs": [
    {
     "name": "stdout",
     "output_type": "stream",
     "text": [
      "[{'event_id': '907ed5df08ed4d45ba6169b8db4a0f2a',\n",
      "  'input': {'book_list': ['Harry Potter and the Chamber of Secrets',\n",
      "                          'Harry Potter and the Prisoner of Azkaban',\n",
      "                          'Harry Potter and the Goblet of Fire',\n",
      "                          'Harry Potter and the Order of the Phoenix',\n",
      "                          'Harry Potter and the Half-Blood Prince',\n",
      "                          'Harry Potter and the Deathly Hallows']},\n",
      "  'output': {'book_data': [{'book_author': 'J.K. Rowling',\n",
      "                            'book_title': 'Harry Potter and the Chamber of '\n",
      "                                          'Secrets',\n",
      "                            'release_year': 1998},\n",
      "                           {'book_author': 'J.K. Rowling',\n",
      "                            'book_title': 'Harry Potter and the Prisoner of '\n",
      "                                          'Azkaban',\n",
      "                            'release_year': 1999},\n",
      "                           {'book_author': 'J.K. Rowling',\n",
      "                            'book_title': 'Harry Potter and the Goblet of Fire',\n",
      "                            'release_year': 2000},\n",
      "                           {'book_author': 'J.K. Rowling',\n",
      "                            'book_title': 'Harry Potter and the Order of the '\n",
      "                                          'Phoenix',\n",
      "                            'release_year': 2003},\n",
      "                           {'book_author': 'J.K. Rowling',\n",
      "                            'book_title': 'Harry Potter and the Half-Blood '\n",
      "                                          'Prince',\n",
      "                            'release_year': 2005},\n",
      "                           {'book_author': 'J.K. Rowling',\n",
      "                            'book_title': 'Harry Potter and the Deathly '\n",
      "                                          'Hallows',\n",
      "                            'release_year': 2007}]}}]\n"
     ]
    }
   ],
   "source": [
    "pprint.pprint(program_iter.generation_log())"
   ],
   "metadata": {
    "collapsed": false,
    "ExecuteTime": {
     "end_time": "2023-11-07T18:48:17.983628600Z",
     "start_time": "2023-11-07T18:48:17.979257300Z"
    }
   },
   "id": "163f9fe263395a2e"
  },
  {
   "cell_type": "code",
   "execution_count": 7,
   "outputs": [
    {
     "data": {
      "text/plain": "'0efcb34c3d7b42ee81fd72a062694640'"
     },
     "execution_count": 7,
     "metadata": {},
     "output_type": "execute_result"
    }
   ],
   "source": [
    "program_iter.job.idx"
   ],
   "metadata": {
    "collapsed": false,
    "ExecuteTime": {
     "end_time": "2023-11-07T18:43:54.885254500Z",
     "start_time": "2023-11-07T18:43:54.869530800Z"
    }
   },
   "id": "a63b1ebaf5a24623"
  },
  {
   "cell_type": "code",
   "execution_count": 9,
   "outputs": [
    {
     "data": {
      "text/plain": "[Event(event_id='c944cc828f224390929ed251c21ad381', timestamp='20231107180433', event_type=<EventType.JOB_CREATION: 'job_creation'>, event_metrics=None, job_setting={'instruction': None, 'example_id': []}, job_version=0, example_id=None, example_version=None, extra=None, ref_event_id=None),\n Event(event_id='907ed5df08ed4d45ba6169b8db4a0f2a', timestamp='20231107180445', event_type=<EventType.GENERATION: 'generation'>, event_metrics={'verification_type': 1, 'execution_time': 10.300012111663818, 'token_usage': 988, 'model_name': 'gpt-3.5-turbo', 'model_config': {}, 'failure_rate': 1, 'errors': []}, job_setting=None, job_version=None, example_id=None, example_version=None, extra=None, ref_event_id=None)]"
     },
     "execution_count": 9,
     "metadata": {},
     "output_type": "execute_result"
    }
   ],
   "source": [
    "from llmp.services.job_storage import JobStorage\n",
    "\n",
    "JobStorage().load_event_log(program_iter.job)"
   ],
   "metadata": {
    "collapsed": false,
    "ExecuteTime": {
     "end_time": "2023-11-07T18:45:45.673045100Z",
     "start_time": "2023-11-07T18:45:45.663300500Z"
    }
   },
   "id": "f1cb7dc561b78bc6"
  },
  {
   "cell_type": "code",
   "execution_count": null,
   "outputs": [],
   "source": [],
   "metadata": {
    "collapsed": false
   },
   "id": "30e2052ac22156da"
  }
 ],
 "metadata": {
  "kernelspec": {
   "display_name": "Python 3",
   "language": "python",
   "name": "python3"
  },
  "language_info": {
   "codemirror_mode": {
    "name": "ipython",
    "version": 2
   },
   "file_extension": ".py",
   "mimetype": "text/x-python",
   "name": "python",
   "nbconvert_exporter": "python",
   "pygments_lexer": "ipython2",
   "version": "2.7.6"
  }
 },
 "nbformat": 4,
 "nbformat_minor": 5
}
