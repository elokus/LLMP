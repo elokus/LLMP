{
 "cells": [
  {
   "cell_type": "markdown",
   "source": [
    "# How to initialize a llmp job\n",
    "\n",
    "When dealing with large language models in programming projects it is common challenge to get reliable outputs from the model. By carefully crafting prompts for different tasks, generating and selecting few shots examples and tuning the temperature and top_k parameters, it is possible to get good results. However, this process is time-consuming and requires a lot of manual work. While developing a project it is a hurdle that forces you to leave the flowstate and contradicts the idea of fast iteration.\n",
    "\n",
    "While using LLM for text generation and creative tasks may be sufficient with long/short form text outputs, for programming tasks the output requires a more structured type reliable format. To integrate LLM generation tasks in a programming project without leaving the development flowstate, we want to reduce the time spent on prompt engineering as much as possible. A LLMP unit of work (Job) is therefore reduced to the minimal generative effort needed to define the task. Simply by defining the input and the output model of the task. The initialization event will then handle further example generation, instruction generation and run an optimization process to craft a reliable prompt from it. Each Job is stored under the default or custom job directory and can be reused within your project by referencing the job id or (optional) job name.\n",
    "\n",
    "To initalize a Job we have different possibilites that we want to present in the following Notebooks:\n",
    "1. Initialize a Job by defining the input and output model\n",
    "2. Initialize a Job \n",
    " \n",
    "   "
   ],
   "metadata": {
    "collapsed": false
   },
   "id": "1f3aed8f025d0826"
  },
  {
   "cell_type": "markdown",
   "source": [
    "# Define Input and Output Model using Pydantic\n",
    "\n",
    "For our example we will define a Job for simple labeling task. Where we want to define the genre of a book. To define the possible Labels we will use a Enum class from the standard library. To define the input and output model we will use Pydantic."
   ],
   "metadata": {
    "collapsed": false
   },
   "id": "f89acf6ca980e33f"
  },
  {
   "cell_type": "code",
   "execution_count": 2,
   "id": "initial_id",
   "metadata": {
    "collapsed": true,
    "ExecuteTime": {
     "end_time": "2023-10-19T14:24:50.347406Z",
     "start_time": "2023-10-19T14:24:46.451303900Z"
    }
   },
   "outputs": [
    {
     "name": "stdout",
     "output_type": "stream",
     "text": [
      "Job name 'Book to Genre' already exists. Using 'Book to Genre_v2' instead.\n"
     ]
    }
   ],
   "source": [
    "from typing import Literal\n",
    "from pydantic import BaseModel\n",
    "from llmp.services.program import Program\n",
    "\n",
    "\n",
    "\n",
    "class InputObject(BaseModel):\n",
    "    book_title: str\n",
    "    book_author: str\n",
    "    release_year: int\n",
    "    \n",
    "class OutputObject(BaseModel):\n",
    "    genre: Literal[\"fiction\", \"non-fiction\", \"fantasy\", \"sci-fi\", \"romance\", \"thriller\", \"horror\", \"other\"]\n",
    "\n",
    "\n",
    "# Initialize a job\n",
    "program = Program(\"Book to Genre\", input_model=InputObject, output_model=OutputObject)\n",
    "\n",
    "# load a job\n",
    "# program = Program(\"Book to Genre\")\n"
   ]
  },
  {
   "cell_type": "code",
   "execution_count": null,
   "outputs": [],
   "source": [],
   "metadata": {
    "collapsed": false
   },
   "id": "cd0b44bec95d1f0b"
  },
  {
   "cell_type": "code",
   "execution_count": 3,
   "outputs": [
    {
     "data": {
      "text/plain": "{'genre': 'fantasy'}"
     },
     "execution_count": 3,
     "metadata": {},
     "output_type": "execute_result"
    }
   ],
   "source": [
    "input_data={\n",
    "    \"book_title\": \"The Lord of the Rings\",\n",
    "    \"book_author\": \"J. R. R. Tolkien\",\n",
    "    \"release_year\": 1954\n",
    "}\n",
    "program(input_data=input_data)"
   ],
   "metadata": {
    "collapsed": false,
    "ExecuteTime": {
     "end_time": "2023-10-19T14:24:55.859943400Z",
     "start_time": "2023-10-19T14:24:54.726262700Z"
    }
   },
   "id": "6f3ac408f5baacd2"
  },
  {
   "cell_type": "markdown",
   "source": [
    "Despite defining an Enum class we can also set options via Field or use the Literal type. The following example shows how to define the same OutputModel using Field and Literal."
   ],
   "metadata": {
    "collapsed": false
   },
   "id": "30c5fbaf8cbbc967"
  },
  {
   "cell_type": "markdown",
   "source": [
    "Let's define a new program"
   ],
   "metadata": {
    "collapsed": false
   },
   "id": "189c2b8af73d58e4"
  },
  {
   "cell_type": "code",
   "execution_count": 1,
   "outputs": [
    {
     "ename": "NameError",
     "evalue": "name 'BaseModel' is not defined",
     "output_type": "error",
     "traceback": [
      "\u001B[1;31m---------------------------------------------------------------------------\u001B[0m",
      "\u001B[1;31mNameError\u001B[0m                                 Traceback (most recent call last)",
      "Cell \u001B[1;32mIn[1], line 4\u001B[0m\n\u001B[0;32m      1\u001B[0m \u001B[38;5;28;01mfrom\u001B[39;00m \u001B[38;5;21;01mtyping\u001B[39;00m \u001B[38;5;28;01mimport\u001B[39;00m Optional\n\u001B[1;32m----> 4\u001B[0m \u001B[38;5;28;01mclass\u001B[39;00m \u001B[38;5;21;01mInputObject\u001B[39;00m(\u001B[43mBaseModel\u001B[49m):\n\u001B[0;32m      5\u001B[0m     book_title: \u001B[38;5;28mstr\u001B[39m\n\u001B[0;32m      6\u001B[0m     book_author: \u001B[38;5;28mstr\u001B[39m\n",
      "\u001B[1;31mNameError\u001B[0m: name 'BaseModel' is not defined"
     ]
    }
   ],
   "source": [
    "from typing import Optional\n",
    "\n",
    "\n",
    "class InputObject(BaseModel):\n",
    "    book_title: str\n",
    "    book_author: str\n",
    "    release_year: int\n",
    "    \n",
    "class OutputObject(BaseModel):\n",
    "    genre: Literal[\"fiction\", \"non-fiction\", \"fantasy\", \"sci-fi\", \"romance\", \"thriller\", \"horror\", \"other\"]\n",
    "    has_sequal: bool\n",
    "    sequal_name: Optional[str] = \"None\"\n",
    "\n",
    "\n",
    "# Initialize a job\n",
    "program = Program(\"Book to Genre/Sequal\", input_model=InputObject, output_model=OutputObject)\n",
    "\n",
    "# load a job\n",
    "#program = Program(\"Book to Genre/Sequal\")"
   ],
   "metadata": {
    "collapsed": false,
    "ExecuteTime": {
     "end_time": "2023-10-17T13:12:10.214647200Z",
     "start_time": "2023-10-17T13:12:09.933643300Z"
    }
   },
   "id": "5a9df36f56daa74"
  },
  {
   "cell_type": "code",
   "execution_count": 26,
   "outputs": [
    {
     "data": {
      "text/plain": "[{'event_id': '6eee28be26ef44b68a7085418e8964e7',\n  'input': {'book_title': 'The Bible',\n   'book_author': 'Johannes Gutenberg',\n   'release_year': 1450},\n  'output': {'genre': 'non-fiction',\n   'has_sequal': False,\n   'sequal_name': 'None'}},\n {'event_id': '9a1109c8b8fd46a0a2195a8c2dce0d63',\n  'input': {'book_title': 'Harry Potter',\n   'book_author': 'J. K. Rowling',\n   'release_year': 1997},\n  'output': {'genre': 'fantasy',\n   'has_sequal': True,\n   'sequal_name': 'Harry Potter and the Chamber of Secrets'}}]"
     },
     "execution_count": 26,
     "metadata": {},
     "output_type": "execute_result"
    }
   ],
   "source": [
    "program.job.generation_log"
   ],
   "metadata": {
    "collapsed": false,
    "ExecuteTime": {
     "end_time": "2023-10-16T14:45:21.243068300Z",
     "start_time": "2023-10-16T14:45:21.227751500Z"
    }
   },
   "id": "fb2370e967f850c5"
  },
  {
   "cell_type": "code",
   "execution_count": null,
   "outputs": [],
   "source": [],
   "metadata": {
    "collapsed": false
   },
   "id": "92cb7d1497c2f0c7"
  },
  {
   "cell_type": "code",
   "execution_count": 4,
   "outputs": [
    {
     "name": "stdout",
     "output_type": "stream",
     "text": [
      "The book Harry Potter and the Chamber of Secrets is a sequal to Harry Potter\n"
     ]
    }
   ],
   "source": [
    "input_data={\n",
    "    \"book_title\": \"Harry Potter\",\n",
    "    \"book_author\": \"J. K. Rowling\",\n",
    "    \"release_year\": 1997\n",
    "}\n",
    "result = program(input_data=input_data)\n",
    "\n",
    "\n",
    "if result.has_sequal:\n",
    "    print(f\"The book {result.sequal_name} is a sequal to {input_data['book_title']}\")\n",
    "else:\n",
    "    print(f\"The book {input_data['book_title']} has no sequal\")"
   ],
   "metadata": {
    "collapsed": false,
    "ExecuteTime": {
     "end_time": "2023-10-17T12:41:56.350010800Z",
     "start_time": "2023-10-17T12:41:53.729224800Z"
    }
   },
   "id": "a054bf79be5ebd61"
  },
  {
   "cell_type": "markdown",
   "source": [],
   "metadata": {
    "collapsed": false
   },
   "id": "80cea4d12a14f6b9"
  },
  {
   "cell_type": "code",
   "execution_count": null,
   "outputs": [],
   "source": [
    "\n",
    "    "
   ],
   "metadata": {
    "collapsed": false
   },
   "id": "73e7f7c0870c8d87"
  },
  {
   "cell_type": "code",
   "execution_count": 7,
   "outputs": [
    {
     "ename": "FileNotFoundError",
     "evalue": "[Errno 2] No such file or directory: 'data\\\\test\\\\test.json'",
     "output_type": "error",
     "traceback": [
      "\u001B[1;31m---------------------------------------------------------------------------\u001B[0m",
      "\u001B[1;31mFileNotFoundError\u001B[0m                         Traceback (most recent call last)",
      "Cell \u001B[1;32mIn[7], line 12\u001B[0m\n\u001B[0;32m      6\u001B[0m \u001B[38;5;28;01mimport\u001B[39;00m \u001B[38;5;21;01mjson\u001B[39;00m\n\u001B[0;32m      8\u001B[0m data \u001B[38;5;241m=\u001B[39m {\n\u001B[0;32m      9\u001B[0m     \u001B[38;5;124m\"\u001B[39m\u001B[38;5;124mtest\u001B[39m\u001B[38;5;124m\"\u001B[39m: \u001B[38;5;124m\"\u001B[39m\u001B[38;5;124mtest\u001B[39m\u001B[38;5;124m\"\u001B[39m\n\u001B[0;32m     10\u001B[0m }\n\u001B[1;32m---> 12\u001B[0m \u001B[38;5;28;01mwith\u001B[39;00m \u001B[43mfile\u001B[49m\u001B[38;5;241;43m.\u001B[39;49m\u001B[43mopen\u001B[49m\u001B[43m(\u001B[49m\u001B[43mmode\u001B[49m\u001B[38;5;241;43m=\u001B[39;49m\u001B[38;5;124;43m\"\u001B[39;49m\u001B[38;5;124;43mx\u001B[39;49m\u001B[38;5;124;43m\"\u001B[39;49m\u001B[43m)\u001B[49m \u001B[38;5;28;01mas\u001B[39;00m f:\n\u001B[0;32m     13\u001B[0m     data \u001B[38;5;241m=\u001B[39m json\u001B[38;5;241m.\u001B[39mdump(f)\n",
      "File \u001B[1;32m~\\miniconda3\\envs\\detectron39\\Lib\\pathlib.py:1044\u001B[0m, in \u001B[0;36mPath.open\u001B[1;34m(self, mode, buffering, encoding, errors, newline)\u001B[0m\n\u001B[0;32m   1042\u001B[0m \u001B[38;5;28;01mif\u001B[39;00m \u001B[38;5;124m\"\u001B[39m\u001B[38;5;124mb\u001B[39m\u001B[38;5;124m\"\u001B[39m \u001B[38;5;129;01mnot\u001B[39;00m \u001B[38;5;129;01min\u001B[39;00m mode:\n\u001B[0;32m   1043\u001B[0m     encoding \u001B[38;5;241m=\u001B[39m io\u001B[38;5;241m.\u001B[39mtext_encoding(encoding)\n\u001B[1;32m-> 1044\u001B[0m \u001B[38;5;28;01mreturn\u001B[39;00m io\u001B[38;5;241m.\u001B[39mopen(\u001B[38;5;28mself\u001B[39m, mode, buffering, encoding, errors, newline)\n",
      "\u001B[1;31mFileNotFoundError\u001B[0m: [Errno 2] No such file or directory: 'data\\\\test\\\\test.json'"
     ]
    }
   ],
   "source": [
    "from pathlib import Path\n",
    "base_path = \"data/test\"\n",
    "\n",
    "file = Path(base_path) / \"test.json\"\n",
    "\n",
    "import json\n",
    "\n",
    "data = {\n",
    "    \"test\": \"test\"\n",
    "}\n",
    "\n",
    "with file.open(mode=\"x\") as f:\n",
    "    data = json.dump(f)"
   ],
   "metadata": {
    "collapsed": false,
    "ExecuteTime": {
     "end_time": "2023-10-16T14:24:53.073946Z",
     "start_time": "2023-10-16T14:24:53.040411500Z"
    }
   },
   "id": "c186e592ac46ea7f"
  },
  {
   "cell_type": "code",
   "execution_count": 8,
   "outputs": [
    {
     "data": {
      "text/plain": "'data\\\\test\\\\test.json'"
     },
     "execution_count": 8,
     "metadata": {},
     "output_type": "execute_result"
    }
   ],
   "source": [
    "str(file)"
   ],
   "metadata": {
    "collapsed": false,
    "ExecuteTime": {
     "end_time": "2023-10-16T14:25:03.000589100Z",
     "start_time": "2023-10-16T14:25:02.984875Z"
    }
   },
   "id": "12c80e825ee22776"
  },
  {
   "cell_type": "code",
   "execution_count": null,
   "outputs": [],
   "source": [],
   "metadata": {
    "collapsed": false
   },
   "id": "6807f93792464441"
  }
 ],
 "metadata": {
  "kernelspec": {
   "display_name": "Python 3",
   "language": "python",
   "name": "python3"
  },
  "language_info": {
   "codemirror_mode": {
    "name": "ipython",
    "version": 2
   },
   "file_extension": ".py",
   "mimetype": "text/x-python",
   "name": "python",
   "nbconvert_exporter": "python",
   "pygments_lexer": "ipython2",
   "version": "2.7.6"
  }
 },
 "nbformat": 4,
 "nbformat_minor": 5
}
