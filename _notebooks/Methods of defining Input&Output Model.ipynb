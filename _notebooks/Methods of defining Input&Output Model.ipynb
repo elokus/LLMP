{
 "cells": [
  {
   "cell_type": "markdown",
   "source": [],
   "metadata": {
    "collapsed": false
   },
   "id": "b9eec74bac4889eb"
  },
  {
   "cell_type": "code",
   "execution_count": null,
   "id": "initial_id",
   "metadata": {
    "collapsed": true
   },
   "outputs": [],
   "source": [
    "from pydantic import Field\n",
    "\n",
    "from typing import Literal\n",
    "from enum import Enum\n",
    "from pydantic import BaseModel\n",
    "\n",
    "class GenreType(str, Enum):\n",
    "    fiction = \"fiction\"\n",
    "    non_fiction = \"non-fiction\"\n",
    "    fantasy = \"fantasy\"\n",
    "    sci_fi = \"sci-fi\"\n",
    "    romance = \"romance\"\n",
    "    thriller = \"thriller\"\n",
    "    horror = \"horror\"\n",
    "    history = \"history\"\n",
    "\n",
    "    \n",
    "class OutputObject1(BaseModel):\n",
    "    genre: GenreType\n",
    "\n",
    "\n",
    "# Using Field(options=[])\n",
    "class OutputObject2(BaseModel):\n",
    "    genre: str = Field(options=[\"fiction\", \"non-fiction\", \"fantasy\", \"sci-fi\", \"romance\", \"thriller\", \"horror\", \"mystery\", \"biography\", \"history\", \"poetry\", \"children's\", \"young adult\", \"self-help\", \"other\"])\n",
    "    \n",
    "# Using Literal\n",
    "class OutputObject3(BaseModel):\n",
    "    genre: Literal[\"fiction\", \"non-fiction\", \"fantasy\", \"sci-fi\", \"romance\", \"thriller\", \"horror\", \"mystery\", \"biography\", \"history\", \"poetry\", \"children's\", \"young adult\", \"self-help\", \"other\"]\n",
    "    \n",
    "# Using Field with placeholder:\n",
    "class OutputObject4(BaseModel):\n",
    "    genre: str = Field(options=\"{genre_list}\")\n",
    "    \n"
   ]
  }
 ],
 "metadata": {
  "kernelspec": {
   "display_name": "Python 3",
   "language": "python",
   "name": "python3"
  },
  "language_info": {
   "codemirror_mode": {
    "name": "ipython",
    "version": 2
   },
   "file_extension": ".py",
   "mimetype": "text/x-python",
   "name": "python",
   "nbconvert_exporter": "python",
   "pygments_lexer": "ipython2",
   "version": "2.7.6"
  }
 },
 "nbformat": 4,
 "nbformat_minor": 5
}
